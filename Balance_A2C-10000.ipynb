{
 "cells": [
  {
   "cell_type": "code",
   "execution_count": 1,
   "metadata": {},
   "outputs": [],
   "source": [
    "from model import *\n",
    "from A2C_agent import *\n",
    "from pokemon_env import *\n",
    "\n",
    "from itertools import count\n",
    "\n",
    "import torch\n",
    "import numpy as np\n",
    "import matplotlib.pyplot as plt"
   ]
  },
  {
   "cell_type": "markdown",
   "metadata": {},
   "source": [
    "Load the Pokemon embeddings."
   ]
  },
  {
   "cell_type": "code",
   "execution_count": 2,
   "metadata": {},
   "outputs": [],
   "source": [
    "df = pd.read_csv('Data/pokemon_small_embeddings.csv')"
   ]
  },
  {
   "cell_type": "code",
   "execution_count": 3,
   "metadata": {},
   "outputs": [
    {
     "data": {
      "text/html": [
       "<div>\n",
       "<style scoped>\n",
       "    .dataframe tbody tr th:only-of-type {\n",
       "        vertical-align: middle;\n",
       "    }\n",
       "\n",
       "    .dataframe tbody tr th {\n",
       "        vertical-align: top;\n",
       "    }\n",
       "\n",
       "    .dataframe thead th {\n",
       "        text-align: right;\n",
       "    }\n",
       "</style>\n",
       "<table border=\"1\" class=\"dataframe\">\n",
       "  <thead>\n",
       "    <tr style=\"text-align: right;\">\n",
       "      <th></th>\n",
       "      <th>Pokemon</th>\n",
       "      <th>feature0</th>\n",
       "      <th>feature1</th>\n",
       "      <th>feature2</th>\n",
       "      <th>feature3</th>\n",
       "      <th>feature4</th>\n",
       "      <th>feature5</th>\n",
       "      <th>feature6</th>\n",
       "      <th>feature7</th>\n",
       "      <th>feature8</th>\n",
       "      <th>...</th>\n",
       "      <th>feature22</th>\n",
       "      <th>feature23</th>\n",
       "      <th>feature24</th>\n",
       "      <th>feature25</th>\n",
       "      <th>feature26</th>\n",
       "      <th>feature27</th>\n",
       "      <th>feature28</th>\n",
       "      <th>feature29</th>\n",
       "      <th>feature30</th>\n",
       "      <th>feature31</th>\n",
       "    </tr>\n",
       "  </thead>\n",
       "  <tbody>\n",
       "    <tr>\n",
       "      <th>0</th>\n",
       "      <td>Bulbasaur</td>\n",
       "      <td>0.176876</td>\n",
       "      <td>0.024490</td>\n",
       "      <td>-0.506288</td>\n",
       "      <td>-1.252504</td>\n",
       "      <td>-1.479394</td>\n",
       "      <td>1.013380</td>\n",
       "      <td>1.186356</td>\n",
       "      <td>-1.309221</td>\n",
       "      <td>1.224058</td>\n",
       "      <td>...</td>\n",
       "      <td>-1.324177</td>\n",
       "      <td>0.834712</td>\n",
       "      <td>0.291582</td>\n",
       "      <td>-1.020162</td>\n",
       "      <td>-0.139150</td>\n",
       "      <td>2.126306</td>\n",
       "      <td>0.675927</td>\n",
       "      <td>1.204275</td>\n",
       "      <td>-0.110007</td>\n",
       "      <td>0.995182</td>\n",
       "    </tr>\n",
       "    <tr>\n",
       "      <th>1</th>\n",
       "      <td>Horsea</td>\n",
       "      <td>0.501605</td>\n",
       "      <td>-0.052334</td>\n",
       "      <td>-0.721622</td>\n",
       "      <td>-0.284430</td>\n",
       "      <td>0.922716</td>\n",
       "      <td>-1.268923</td>\n",
       "      <td>-1.893838</td>\n",
       "      <td>1.799177</td>\n",
       "      <td>0.071109</td>\n",
       "      <td>...</td>\n",
       "      <td>-1.853872</td>\n",
       "      <td>-1.109036</td>\n",
       "      <td>-0.516887</td>\n",
       "      <td>0.947678</td>\n",
       "      <td>0.320083</td>\n",
       "      <td>-0.539939</td>\n",
       "      <td>-1.217310</td>\n",
       "      <td>1.309489</td>\n",
       "      <td>-0.147258</td>\n",
       "      <td>-0.549346</td>\n",
       "    </tr>\n",
       "    <tr>\n",
       "      <th>2</th>\n",
       "      <td>Diglett</td>\n",
       "      <td>1.861715</td>\n",
       "      <td>0.625864</td>\n",
       "      <td>-0.376933</td>\n",
       "      <td>-0.962984</td>\n",
       "      <td>0.403147</td>\n",
       "      <td>0.963874</td>\n",
       "      <td>-1.215075</td>\n",
       "      <td>0.217034</td>\n",
       "      <td>-1.531598</td>\n",
       "      <td>...</td>\n",
       "      <td>-0.855032</td>\n",
       "      <td>-1.204082</td>\n",
       "      <td>2.021872</td>\n",
       "      <td>-1.172745</td>\n",
       "      <td>1.038530</td>\n",
       "      <td>0.759718</td>\n",
       "      <td>0.589223</td>\n",
       "      <td>0.217444</td>\n",
       "      <td>0.830931</td>\n",
       "      <td>-0.650673</td>\n",
       "    </tr>\n",
       "    <tr>\n",
       "      <th>3</th>\n",
       "      <td>Machop</td>\n",
       "      <td>-1.734448</td>\n",
       "      <td>0.911212</td>\n",
       "      <td>-0.010313</td>\n",
       "      <td>-1.150018</td>\n",
       "      <td>1.822839</td>\n",
       "      <td>-0.357089</td>\n",
       "      <td>0.690320</td>\n",
       "      <td>1.004881</td>\n",
       "      <td>-1.336256</td>\n",
       "      <td>...</td>\n",
       "      <td>1.821585</td>\n",
       "      <td>-0.924511</td>\n",
       "      <td>-0.581103</td>\n",
       "      <td>0.388137</td>\n",
       "      <td>0.542195</td>\n",
       "      <td>0.449241</td>\n",
       "      <td>-0.308982</td>\n",
       "      <td>-0.519000</td>\n",
       "      <td>0.895490</td>\n",
       "      <td>0.852862</td>\n",
       "    </tr>\n",
       "    <tr>\n",
       "      <th>4</th>\n",
       "      <td>Jynx</td>\n",
       "      <td>0.169774</td>\n",
       "      <td>-0.317828</td>\n",
       "      <td>2.083888</td>\n",
       "      <td>-0.104059</td>\n",
       "      <td>-0.441825</td>\n",
       "      <td>0.482504</td>\n",
       "      <td>-1.483912</td>\n",
       "      <td>0.656665</td>\n",
       "      <td>1.013320</td>\n",
       "      <td>...</td>\n",
       "      <td>0.250018</td>\n",
       "      <td>-0.571366</td>\n",
       "      <td>-1.275405</td>\n",
       "      <td>0.946374</td>\n",
       "      <td>0.116125</td>\n",
       "      <td>-1.345630</td>\n",
       "      <td>0.936227</td>\n",
       "      <td>1.057473</td>\n",
       "      <td>0.486862</td>\n",
       "      <td>-1.238626</td>\n",
       "    </tr>\n",
       "  </tbody>\n",
       "</table>\n",
       "<p>5 rows × 33 columns</p>\n",
       "</div>"
      ],
      "text/plain": [
       "     Pokemon  feature0  feature1  feature2  feature3  feature4  feature5  \\\n",
       "0  Bulbasaur  0.176876  0.024490 -0.506288 -1.252504 -1.479394  1.013380   \n",
       "1     Horsea  0.501605 -0.052334 -0.721622 -0.284430  0.922716 -1.268923   \n",
       "2    Diglett  1.861715  0.625864 -0.376933 -0.962984  0.403147  0.963874   \n",
       "3     Machop -1.734448  0.911212 -0.010313 -1.150018  1.822839 -0.357089   \n",
       "4       Jynx  0.169774 -0.317828  2.083888 -0.104059 -0.441825  0.482504   \n",
       "\n",
       "   feature6  feature7  feature8  ...  feature22  feature23  feature24  \\\n",
       "0  1.186356 -1.309221  1.224058  ...  -1.324177   0.834712   0.291582   \n",
       "1 -1.893838  1.799177  0.071109  ...  -1.853872  -1.109036  -0.516887   \n",
       "2 -1.215075  0.217034 -1.531598  ...  -0.855032  -1.204082   2.021872   \n",
       "3  0.690320  1.004881 -1.336256  ...   1.821585  -0.924511  -0.581103   \n",
       "4 -1.483912  0.656665  1.013320  ...   0.250018  -0.571366  -1.275405   \n",
       "\n",
       "   feature25  feature26  feature27  feature28  feature29  feature30  feature31  \n",
       "0  -1.020162  -0.139150   2.126306   0.675927   1.204275  -0.110007   0.995182  \n",
       "1   0.947678   0.320083  -0.539939  -1.217310   1.309489  -0.147258  -0.549346  \n",
       "2  -1.172745   1.038530   0.759718   0.589223   0.217444   0.830931  -0.650673  \n",
       "3   0.388137   0.542195   0.449241  -0.308982  -0.519000   0.895490   0.852862  \n",
       "4   0.946374   0.116125  -1.345630   0.936227   1.057473   0.486862  -1.238626  \n",
       "\n",
       "[5 rows x 33 columns]"
      ]
     },
     "execution_count": 3,
     "metadata": {},
     "output_type": "execute_result"
    }
   ],
   "source": [
    "df.head()"
   ]
  },
  {
   "cell_type": "markdown",
   "metadata": {},
   "source": [
    "Create the environment, and get the intial state s0 using a pool containing Charmander, and Bulbasaur."
   ]
  },
  {
   "cell_type": "code",
   "execution_count": 4,
   "metadata": {},
   "outputs": [
    {
     "name": "stdout",
     "output_type": "stream",
     "text": [
      "[0.5, -0.5]\n"
     ]
    }
   ],
   "source": [
    "env = PokemonEnv(num_battles=10, deterministic=False)\n",
    "pool = ['Charmander','Bulbasaur']\n",
    "env.build_pool(pool)\n",
    "state = env.reset()\n",
    "print(state)"
   ]
  },
  {
   "cell_type": "markdown",
   "metadata": {},
   "source": [
    "Simulate a battle using this pool."
   ]
  },
  {
   "cell_type": "code",
   "execution_count": 5,
   "metadata": {},
   "outputs": [
    {
     "name": "stdout",
     "output_type": "stream",
     "text": [
      "Round 0\n",
      "Charmander vs. Bulbasaur\n",
      "Bulbasaur used tackle\n",
      "It did normal damage...\n",
      "Charmander used ember\n",
      "Its super effective!...\n",
      "Bulbasaur used tackle\n",
      "It did normal damage...\n",
      "Charmander used ember\n",
      "Its super effective!...\n",
      "Charmander won!\n",
      "\n",
      "Round 1\n",
      "Charmander vs. Bulbasaur\n",
      "Bulbasaur used tackle\n",
      "It did normal damage...\n",
      "Charmander used ember\n",
      "Its super effective!...\n",
      "Bulbasaur used tackle\n",
      "It did normal damage...\n",
      "Charmander used ember\n",
      "Its super effective!...\n",
      "Charmander won!\n",
      "\n",
      "Round 2\n",
      "Charmander vs. Bulbasaur\n",
      "Charmander used ember\n",
      "Its super effective!...\n",
      "Bulbasaur used tackle\n",
      "It did normal damage...\n",
      "Charmander used ember\n",
      "Its super effective!...\n",
      "Charmander won!\n",
      "\n",
      "Round 3\n",
      "Charmander vs. Bulbasaur\n",
      "Charmander used ember\n",
      "Its super effective!...\n",
      "Bulbasaur used tackle\n",
      "It did normal damage...\n",
      "Charmander used ember\n",
      "Its super effective!...\n",
      "Charmander won!\n",
      "\n",
      "Round 4\n",
      "Charmander vs. Bulbasaur\n",
      "Charmander used ember\n",
      "Its super effective!...\n",
      "Bulbasaur used tackle\n",
      "It did normal damage...\n",
      "Charmander used ember\n",
      "Its super effective!...\n",
      "Charmander won!\n",
      "\n",
      "Round 5\n",
      "Charmander vs. Bulbasaur\n",
      "Charmander used ember\n",
      "Its super effective!...\n",
      "Bulbasaur used tackle\n",
      "It did normal damage...\n",
      "Charmander used ember\n",
      "Its super effective!...\n",
      "Charmander won!\n",
      "\n",
      "Round 6\n",
      "Charmander vs. Bulbasaur\n",
      "Bulbasaur used tackle\n",
      "It did normal damage...\n",
      "Charmander used ember\n",
      "Its super effective!...\n",
      "Bulbasaur used tackle\n",
      "It did normal damage...\n",
      "Charmander used ember\n",
      "Its super effective!...\n",
      "Charmander won!\n",
      "\n",
      "Round 7\n",
      "Charmander vs. Bulbasaur\n",
      "Bulbasaur used tackle\n",
      "It did normal damage...\n",
      "Charmander used ember\n",
      "Its super effective!...\n",
      "Bulbasaur used tackle\n",
      "It did normal damage...\n",
      "Charmander used ember\n",
      "Its super effective!...\n",
      "Charmander won!\n",
      "\n",
      "Round 8\n",
      "Charmander vs. Bulbasaur\n",
      "Charmander used ember\n",
      "Its super effective!...\n",
      "Bulbasaur used tackle\n",
      "It did normal damage...\n",
      "Charmander used ember\n",
      "Its super effective!...\n",
      "Charmander won!\n",
      "\n",
      "Round 9\n",
      "Charmander vs. Bulbasaur\n",
      "Charmander used ember\n",
      "Its super effective!...\n",
      "Bulbasaur used tackle\n",
      "It did normal damage...\n",
      "Charmander used ember\n",
      "Its super effective!...\n",
      "Charmander won!\n",
      "\n",
      "Charmander: 1.0\n",
      "Bulbasaur: 0.0\n"
     ]
    },
    {
     "data": {
      "text/plain": [
       "(-1.0, [0.5, -0.5])"
      ]
     },
     "execution_count": 5,
     "metadata": {},
     "output_type": "execute_result"
    }
   ],
   "source": [
    "env.battle(render=True)"
   ]
  },
  {
   "cell_type": "markdown",
   "metadata": {},
   "source": [
    "Define our Actor and Critic models as well as our A2C agent."
   ]
  },
  {
   "cell_type": "code",
   "execution_count": 6,
   "metadata": {},
   "outputs": [],
   "source": [
    "embedding_size = 32\n",
    "\n",
    "num_pokemon = len(env.pool)\n",
    "num_types = len(env.types)\n",
    "num_moves = len(env.moves)\n",
    "\n",
    "actor_model = Actor(num_pokemon*embedding_size,[128,64,32],[num_types-1,num_types,num_moves-1,num_moves])\n",
    "critic_model = Critic(num_pokemon*embedding_size,[128,64,32],[num_types-1,num_types,num_moves-1,num_moves])\n",
    "agent = ActorCritic_OneStep(env, df, actor_model, critic_model, .001, .001, .99)"
   ]
  },
  {
   "cell_type": "markdown",
   "metadata": {},
   "source": [
    "Create a predetermined pool for initialization, but train using a random pool."
   ]
  },
  {
   "cell_type": "code",
   "execution_count": 7,
   "metadata": {},
   "outputs": [
    {
     "name": "stderr",
     "output_type": "stream",
     "text": [
      "100%|██████████████████████████████████████████████████████████████████████████| 10000/10000 [8:15:10<00:00,  2.97s/it]\n"
     ]
    }
   ],
   "source": [
    "pools = [['Charmander','Bulbasaur'],['Bulbasaur','Charmander'],\n",
    "        ['Squirtle','Pikachu'],['Pikachu','Squirtle'],\n",
    "        ['Pidgey','Lapras'],['Lapras','Pidgey'],\n",
    "        ['Ekans','Diglett'],['Diglett','Ekans']]\n",
    "\n",
    "rewards, avg_rewards = agent.learn_task(pools, n_episodes = 10000, use_random_pool=True)"
   ]
  },
  {
   "cell_type": "code",
   "execution_count": 8,
   "metadata": {},
   "outputs": [
    {
     "data": {
      "text/plain": [
       "[<matplotlib.lines.Line2D at 0x1ebae29a6a0>]"
      ]
     },
     "execution_count": 8,
     "metadata": {},
     "output_type": "execute_result"
    },
    {
     "data": {
      "image/png": "[encoded data removed]",
      "text/plain": [
       "<Figure size 432x288 with 1 Axes>"
      ]
     },
     "metadata": {
      "needs_background": "light"
     },
     "output_type": "display_data"
    }
   ],
   "source": [
    "plt.plot(rewards)"
   ]
  },
  {
   "cell_type": "code",
   "execution_count": 9,
   "metadata": {},
   "outputs": [
    {
     "data": {
      "text/plain": [
       "[<matplotlib.lines.Line2D at 0x1eba1ddf520>]"
      ]
     },
     "execution_count": 9,
     "metadata": {},
     "output_type": "execute_result"
    },
    {
     "data": {
      "image/png": "[encoded data removed]",
      "text/plain": [
       "<Figure size 432x288 with 1 Axes>"
      ]
     },
     "metadata": {
      "needs_background": "light"
     },
     "output_type": "display_data"
    }
   ],
   "source": [
    "plt.plot(avg_rewards)"
   ]
  },
  {
   "cell_type": "markdown",
   "metadata": {},
   "source": [
    "Print the agent-generated Pokemon for each matchup:"
   ]
  },
  {
   "cell_type": "code",
   "execution_count": 10,
   "metadata": {},
   "outputs": [
    {
     "name": "stdout",
     "output_type": "stream",
     "text": [
      "-0.6666666666666667\n",
      "['poison', 'normal']\n",
      "tackle\n",
      "low kick\n",
      "dragon rage\n",
      "poison sting\n"
     ]
    }
   ],
   "source": [
    "reward, arrelle = agent.generate_arrelle(['Bulbasaur','Charmander'])\n",
    "\n",
    "print(reward)\n",
    "print(arrelle.types)\n",
    "print(arrelle.moves[0].name)\n",
    "print(arrelle.moves[1].name)\n",
    "print(arrelle.moves[2].name)\n",
    "print(arrelle.moves[3].name)"
   ]
  },
  {
   "cell_type": "code",
   "execution_count": 11,
   "metadata": {},
   "outputs": [
    {
     "name": "stdout",
     "output_type": "stream",
     "text": [
      "-0.5333333333333333\n",
      "['ghost', 'normal']\n",
      "tackle\n",
      "low kick\n",
      "dragon rage\n",
      "poison sting\n"
     ]
    }
   ],
   "source": [
    "reward, arrelle = agent.generate_arrelle(['Squirtle','Pikachu'])\n",
    "\n",
    "print(reward)\n",
    "print(arrelle.types)\n",
    "print(arrelle.moves[0].name)\n",
    "print(arrelle.moves[1].name)\n",
    "print(arrelle.moves[2].name)\n",
    "print(arrelle.moves[3].name)"
   ]
  },
  {
   "cell_type": "code",
   "execution_count": 12,
   "metadata": {},
   "outputs": [
    {
     "name": "stdout",
     "output_type": "stream",
     "text": [
      "-0.26666666666666666\n",
      "['ghost', 'normal']\n",
      "tackle\n",
      "low kick\n",
      "dragon rage\n",
      "poison sting\n"
     ]
    }
   ],
   "source": [
    "reward, arrelle = agent.generate_arrelle(['Pidgey','Lapras'])\n",
    "\n",
    "print(reward)\n",
    "print(arrelle.types)\n",
    "print(arrelle.moves[0].name)\n",
    "print(arrelle.moves[1].name)\n",
    "print(arrelle.moves[2].name)\n",
    "print(arrelle.moves[3].name)"
   ]
  },
  {
   "cell_type": "code",
   "execution_count": 13,
   "metadata": {},
   "outputs": [
    {
     "name": "stdout",
     "output_type": "stream",
     "text": [
      "-0.6666666666666667\n",
      "['ghost', 'normal']\n",
      "tackle\n",
      "low kick\n",
      "dragon rage\n",
      "poison sting\n"
     ]
    }
   ],
   "source": [
    "reward, arrelle = agent.generate_arrelle(['Ekans','Diglett'])\n",
    "\n",
    "print(reward)\n",
    "print(arrelle.types)\n",
    "print(arrelle.moves[0].name)\n",
    "print(arrelle.moves[1].name)\n",
    "print(arrelle.moves[2].name)\n",
    "print(arrelle.moves[3].name)"
   ]
  },
  {
   "cell_type": "code",
   "execution_count": null,
   "metadata": {},
   "outputs": [],
   "source": []
  }
 ],
 "metadata": {
  "kernelspec": {
   "display_name": "Python 3",
   "language": "python",
   "name": "python3"
  },
  "language_info": {
   "codemirror_mode": {
    "name": "ipython",
    "version": 3
   },
   "file_extension": ".py",
   "mimetype": "text/x-python",
   "name": "python",
   "nbconvert_exporter": "python",
   "pygments_lexer": "ipython3",
   "version": "3.8.5"
  }
 },
 "nbformat": 4,
 "nbformat_minor": 1
}
