{
 "cells": [
  {
   "cell_type": "code",
   "execution_count": 1,
   "metadata": {},
   "outputs": [],
   "source": [
    "import torch\n",
    "import torch.nn as nn\n",
    "\n",
    "import random\n",
    "import numpy as np\n",
    "import pandas as pd\n",
    "from tqdm import tqdm\n",
    "import matplotlib.pyplot as plt"
   ]
  },
  {
   "cell_type": "markdown",
   "metadata": {},
   "source": [
    "Code based on solution for Pytorch's Word2Vec tutorial:\n",
    "https://pytorch.org/tutorials/beginner/nlp/word_embeddings_tutorial.html#sphx-glr-beginner-nlp-word-embeddings-tutorial-py\n",
    "https://github.com/FraLotito/pytorch-continuous-bag-of-words/blob/master/cbow.py"
   ]
  },
  {
   "cell_type": "code",
   "execution_count": 2,
   "metadata": {},
   "outputs": [
    {
     "data": {
      "text/plain": [
       "device(type='cuda')"
      ]
     },
     "execution_count": 2,
     "metadata": {},
     "output_type": "execute_result"
    }
   ],
   "source": [
    "device = torch.device(\"cuda\" if torch.cuda.is_available() else \"cpu\")\n",
    "device"
   ]
  },
  {
   "cell_type": "markdown",
   "metadata": {},
   "source": [
    "Define the CBOW network."
   ]
  },
  {
   "cell_type": "code",
   "execution_count": 3,
   "metadata": {},
   "outputs": [],
   "source": [
    "class CBOW(torch.nn.Module):\n",
    "    def __init__(self, vocab_size, embedding_dim):\n",
    "        super(CBOW, self).__init__()\n",
    "        self.embeddings = nn.Embedding(vocab_size, embedding_dim)\n",
    "        self.linear1 = nn.Linear(embedding_dim, 128)\n",
    "        self.activation_function1 = nn.ReLU()\n",
    "        self.linear2 = nn.Linear(128, vocab_size)\n",
    "        self.activation_function2 = nn.LogSoftmax(dim = -1)\n",
    "        \n",
    "    def forward(self, inputs):\n",
    "        embeds = sum(self.embeddings(inputs)).view(1,-1)\n",
    "        out = self.linear1(embeds)\n",
    "        out = self.activation_function1(out)\n",
    "        out = self.linear2(out)\n",
    "        out = self.activation_function2(out)\n",
    "        return out\n",
    "\n",
    "    def get_word_embedding(self, word):\n",
    "        word = torch.tensor([word_to_ix[word]]).to(device)\n",
    "        return self.embeddings(word).view(1,-1)"
   ]
  },
  {
   "cell_type": "markdown",
   "metadata": {},
   "source": [
    "Define a helper function for creating context tensors."
   ]
  },
  {
   "cell_type": "code",
   "execution_count": 4,
   "metadata": {},
   "outputs": [],
   "source": [
    "def make_context_vector(context, word_to_ix):\n",
    "    idxs = [word_to_ix[w] for w in context]\n",
    "    return torch.tensor(idxs, dtype=torch.long).to(device)"
   ]
  },
  {
   "cell_type": "markdown",
   "metadata": {},
   "source": [
    "Load our corpus of battle data."
   ]
  },
  {
   "cell_type": "code",
   "execution_count": 5,
   "metadata": {},
   "outputs": [],
   "source": [
    "df = pd.read_csv('Data/battle_meta_small_winner.csv')"
   ]
  },
  {
   "cell_type": "code",
   "execution_count": 6,
   "metadata": {},
   "outputs": [
    {
     "data": {
      "text/html": [
       "<div>\n",
       "<style scoped>\n",
       "    .dataframe tbody tr th:only-of-type {\n",
       "        vertical-align: middle;\n",
       "    }\n",
       "\n",
       "    .dataframe tbody tr th {\n",
       "        vertical-align: top;\n",
       "    }\n",
       "\n",
       "    .dataframe thead th {\n",
       "        text-align: right;\n",
       "    }\n",
       "</style>\n",
       "<table border=\"1\" class=\"dataframe\">\n",
       "  <thead>\n",
       "    <tr style=\"text-align: right;\">\n",
       "      <th></th>\n",
       "      <th>Pokemon1</th>\n",
       "      <th>Pokemon2</th>\n",
       "      <th>Winner</th>\n",
       "    </tr>\n",
       "  </thead>\n",
       "  <tbody>\n",
       "    <tr>\n",
       "      <th>0</th>\n",
       "      <td>Mankey</td>\n",
       "      <td>Machop</td>\n",
       "      <td>Mankey</td>\n",
       "    </tr>\n",
       "    <tr>\n",
       "      <th>1</th>\n",
       "      <td>Squirtle</td>\n",
       "      <td>Abra</td>\n",
       "      <td>Abra</td>\n",
       "    </tr>\n",
       "    <tr>\n",
       "      <th>2</th>\n",
       "      <td>Sandshrew</td>\n",
       "      <td>Abra</td>\n",
       "      <td>Sandshrew</td>\n",
       "    </tr>\n",
       "    <tr>\n",
       "      <th>3</th>\n",
       "      <td>Charmander</td>\n",
       "      <td>Tauros</td>\n",
       "      <td>Tauros</td>\n",
       "    </tr>\n",
       "    <tr>\n",
       "      <th>4</th>\n",
       "      <td>Squirtle</td>\n",
       "      <td>Clefairy</td>\n",
       "      <td>Squirtle</td>\n",
       "    </tr>\n",
       "    <tr>\n",
       "      <th>...</th>\n",
       "      <td>...</td>\n",
       "      <td>...</td>\n",
       "      <td>...</td>\n",
       "    </tr>\n",
       "    <tr>\n",
       "      <th>350995</th>\n",
       "      <td>Grimer</td>\n",
       "      <td>Horsea</td>\n",
       "      <td>Horsea</td>\n",
       "    </tr>\n",
       "    <tr>\n",
       "      <th>350996</th>\n",
       "      <td>Pikachu</td>\n",
       "      <td>Omanyte</td>\n",
       "      <td>Pikachu</td>\n",
       "    </tr>\n",
       "    <tr>\n",
       "      <th>350997</th>\n",
       "      <td>Charmander</td>\n",
       "      <td>Jigglypuff</td>\n",
       "      <td>Charmander</td>\n",
       "    </tr>\n",
       "    <tr>\n",
       "      <th>350998</th>\n",
       "      <td>Slowpoke</td>\n",
       "      <td>Gastly</td>\n",
       "      <td>Gastly</td>\n",
       "    </tr>\n",
       "    <tr>\n",
       "      <th>350999</th>\n",
       "      <td>Diglett</td>\n",
       "      <td>Horsea</td>\n",
       "      <td>Horsea</td>\n",
       "    </tr>\n",
       "  </tbody>\n",
       "</table>\n",
       "<p>351000 rows × 3 columns</p>\n",
       "</div>"
      ],
      "text/plain": [
       "          Pokemon1    Pokemon2      Winner\n",
       "0           Mankey      Machop      Mankey\n",
       "1         Squirtle        Abra        Abra\n",
       "2        Sandshrew        Abra   Sandshrew\n",
       "3       Charmander      Tauros      Tauros\n",
       "4         Squirtle    Clefairy    Squirtle\n",
       "...            ...         ...         ...\n",
       "350995      Grimer      Horsea      Horsea\n",
       "350996     Pikachu     Omanyte     Pikachu\n",
       "350997  Charmander  Jigglypuff  Charmander\n",
       "350998    Slowpoke      Gastly      Gastly\n",
       "350999     Diglett      Horsea      Horsea\n",
       "\n",
       "[351000 rows x 3 columns]"
      ]
     },
     "execution_count": 6,
     "metadata": {},
     "output_type": "execute_result"
    }
   ],
   "source": [
    "df"
   ]
  },
  {
   "cell_type": "markdown",
   "metadata": {},
   "source": [
    "Parse corpus and create dictionarys for converting words to indexes."
   ]
  },
  {
   "cell_type": "code",
   "execution_count": 7,
   "metadata": {},
   "outputs": [],
   "source": [
    "vocab = set(np.concatenate([df['Pokemon1'].to_numpy(), df['Pokemon2'].to_numpy()]))\n",
    "vocab_size = len(vocab)\n",
    "\n",
    "word_to_ix = {word:ix for ix, word in enumerate(vocab)}\n",
    "ix_to_word = {ix:word for ix, word in enumerate(vocab)}"
   ]
  },
  {
   "cell_type": "markdown",
   "metadata": {},
   "source": [
    "Create a dataset for context and targets."
   ]
  },
  {
   "cell_type": "code",
   "execution_count": 8,
   "metadata": {},
   "outputs": [],
   "source": [
    "data = []\n",
    "for i in range(len(df['Pokemon1'])):\n",
    "    pokemon1 = df['Pokemon1'][i]\n",
    "    pokemon2 = df['Pokemon2'][i]\n",
    "    \n",
    "    context = [pokemon1, pokemon2]\n",
    "    target = df['Winner'][i]\n",
    "    \n",
    "    data.append((context, target))"
   ]
  },
  {
   "cell_type": "code",
   "execution_count": 9,
   "metadata": {
    "scrolled": false
   },
   "outputs": [
    {
     "data": {
      "text/plain": [
       "[(['Mankey', 'Machop'], 'Mankey'),\n",
       " (['Squirtle', 'Abra'], 'Abra'),\n",
       " (['Sandshrew', 'Abra'], 'Sandshrew'),\n",
       " (['Charmander', 'Tauros'], 'Tauros'),\n",
       " (['Squirtle', 'Clefairy'], 'Squirtle'),\n",
       " (['Bulbasaur', 'Sandshrew'], 'Bulbasaur'),\n",
       " (['Charmander', 'Squirtle'], 'Squirtle'),\n",
       " (['Pidgey', 'Lapras'], 'Lapras'),\n",
       " (['Dratini', 'Mankey'], 'Mankey'),\n",
       " (['Charmander', 'Cubone'], 'Charmander'),\n",
       " (['Meowth', 'Lapras'], 'Lapras'),\n",
       " (['Bulbasaur', 'Pidgey'], 'Pidgey'),\n",
       " (['Jigglypuff', 'Zubat'], 'Zubat'),\n",
       " (['Zubat', 'Grimer'], 'Zubat'),\n",
       " (['Dratini', 'Machop'], 'Dratini'),\n",
       " (['Ekans', 'Tauros'], 'Ekans'),\n",
       " (['Machop', 'Cubone'], 'Machop'),\n",
       " (['Squirtle', 'Horsea'], 'Squirtle'),\n",
       " (['Meowth', 'Gastly'], 'Meowth'),\n",
       " (['Clefairy', 'Tauros'], 'Tauros'),\n",
       " (['Bulbasaur', 'Mankey'], 'Bulbasaur'),\n",
       " (['Sandshrew', 'Lapras'], 'Lapras'),\n",
       " (['Bulbasaur', 'Cubone'], 'Bulbasaur'),\n",
       " (['Rattata', 'Meowth'], 'Rattata'),\n",
       " (['Poliwag', 'Abra'], 'Poliwag'),\n",
       " (['Dratini', 'Abra'], 'Abra'),\n",
       " (['Charmander', 'Mankey'], 'Charmander'),\n",
       " (['Squirtle', 'Mankey'], 'Mankey'),\n",
       " (['Pikachu', 'Jynx'], 'Jynx'),\n",
       " (['Diglett', 'Lapras'], 'Lapras'),\n",
       " (['Jigglypuff', 'Horsea'], 'Horsea'),\n",
       " (['Slowpoke', 'Tauros'], 'Tauros'),\n",
       " (['Charmander', 'Clefairy'], 'Charmander'),\n",
       " (['Machop', 'Tauros'], 'Machop'),\n",
       " (['Jigglypuff', 'Clefairy'], 'Jigglypuff'),\n",
       " (['Poliwag', 'Cubone'], 'Poliwag'),\n",
       " (['Pikachu', 'Horsea'], 'Pikachu'),\n",
       " (['Pidgey', 'Diglett'], 'Pidgey'),\n",
       " (['Dratini', 'Slowpoke'], 'Dratini'),\n",
       " (['Squirtle', 'Diglett'], 'Squirtle'),\n",
       " (['Pikachu', 'Clefairy'], 'Pikachu'),\n",
       " (['Zubat', 'Horsea'], 'Zubat'),\n",
       " (['Jigglypuff', 'Cubone'], 'Jigglypuff'),\n",
       " (['Tauros', 'Omanyte'], 'Omanyte'),\n",
       " (['Abra', 'Cubone'], 'Abra'),\n",
       " (['Diglett', 'Slowpoke'], 'Slowpoke'),\n",
       " (['Rattata', 'Jynx'], 'Rattata'),\n",
       " (['Rattata', 'Poliwag'], 'Rattata'),\n",
       " (['Squirtle', 'Omanyte'], 'Squirtle'),\n",
       " (['Slowpoke', 'Gastly'], 'Gastly'),\n",
       " (['Sandshrew', 'Jigglypuff'], 'Jigglypuff'),\n",
       " (['Poliwag', 'Clefairy'], 'Poliwag'),\n",
       " (['Grimer', 'Cubone'], 'Cubone'),\n",
       " (['Cubone', 'Tauros'], 'Tauros'),\n",
       " (['Squirtle', 'Ekans'], 'Ekans'),\n",
       " (['Pidgey', 'Dratini'], 'Pidgey'),\n",
       " (['Squirtle', 'Pidgey'], 'Pidgey'),\n",
       " (['Ekans', 'Sandshrew'], 'Sandshrew'),\n",
       " (['Zubat', 'Gastly'], 'Zubat'),\n",
       " (['Horsea', 'Omanyte'], 'Horsea'),\n",
       " (['Charmander', 'Slowpoke'], 'Slowpoke'),\n",
       " (['Squirtle', 'Dratini'], 'Dratini'),\n",
       " (['Grimer', 'Lapras'], 'Lapras'),\n",
       " (['Dratini', 'Meowth'], 'Meowth'),\n",
       " (['Pikachu', 'Grimer'], 'Grimer'),\n",
       " (['Charmander', 'Jigglypuff'], 'Jigglypuff'),\n",
       " (['Grimer', 'Tauros'], 'Tauros'),\n",
       " (['Squirtle', 'Zubat'], 'Squirtle'),\n",
       " (['Diglett', 'Meowth'], 'Diglett'),\n",
       " (['Squirtle', 'Grimer'], 'Squirtle'),\n",
       " (['Diglett', 'Machop'], 'Machop'),\n",
       " (['Poliwag', 'Jynx'], 'Jynx'),\n",
       " (['Clefairy', 'Mankey'], 'Mankey'),\n",
       " (['Dratini', 'Gastly'], 'Dratini'),\n",
       " (['Bulbasaur', 'Omanyte'], 'Bulbasaur'),\n",
       " (['Dratini', 'Clefairy'], 'Clefairy'),\n",
       " (['Grimer', 'Omanyte'], 'Grimer'),\n",
       " (['Diglett', 'Grimer'], 'Diglett'),\n",
       " (['Jigglypuff', 'Grimer'], 'Jigglypuff'),\n",
       " (['Diglett', 'Poliwag'], 'Poliwag'),\n",
       " (['Charmander', 'Diglett'], 'Diglett'),\n",
       " (['Zubat', 'Jynx'], 'Zubat'),\n",
       " (['Jigglypuff', 'Omanyte'], 'Omanyte'),\n",
       " (['Mankey', 'Slowpoke'], 'Slowpoke'),\n",
       " (['Jigglypuff', 'Poliwag'], 'Jigglypuff'),\n",
       " (['Rattata', 'Abra'], 'Rattata'),\n",
       " (['Bulbasaur', 'Grimer'], 'Bulbasaur'),\n",
       " (['Pikachu', 'Jigglypuff'], 'Pikachu'),\n",
       " (['Ekans', 'Abra'], 'Abra'),\n",
       " (['Mankey', 'Jynx'], 'Jynx'),\n",
       " (['Squirtle', 'Jynx'], 'Jynx'),\n",
       " (['Ekans', 'Slowpoke'], 'Slowpoke'),\n",
       " (['Dratini', 'Tauros'], 'Tauros'),\n",
       " (['Bulbasaur', 'Abra'], 'Abra'),\n",
       " (['Sandshrew', 'Meowth'], 'Meowth'),\n",
       " (['Poliwag', 'Omanyte'], 'Poliwag'),\n",
       " (['Pidgey', 'Sandshrew'], 'Pidgey'),\n",
       " (['Pikachu', 'Poliwag'], 'Pikachu'),\n",
       " (['Charmander', 'Poliwag'], 'Poliwag'),\n",
       " (['Charmander', 'Lapras'], 'Lapras'),\n",
       " (['Pikachu', 'Gastly'], 'Gastly'),\n",
       " (['Pidgey', 'Jigglypuff'], 'Pidgey'),\n",
       " (['Tauros', 'Jynx'], 'Jynx'),\n",
       " (['Pidgey', 'Grimer'], 'Pidgey'),\n",
       " (['Zubat', 'Machop'], 'Zubat'),\n",
       " (['Cubone', 'Lapras'], 'Lapras'),\n",
       " (['Slowpoke', 'Grimer'], 'Slowpoke'),\n",
       " (['Poliwag', 'Meowth'], 'Poliwag'),\n",
       " (['Sandshrew', 'Slowpoke'], 'Slowpoke'),\n",
       " (['Diglett', 'Mankey'], 'Diglett'),\n",
       " (['Grimer', 'Horsea'], 'Horsea'),\n",
       " (['Poliwag', 'Zubat'], 'Zubat'),\n",
       " (['Omanyte', 'Gastly'], 'Omanyte'),\n",
       " (['Horsea', 'Lapras'], 'Lapras'),\n",
       " (['Ekans', 'Jynx'], 'Jynx'),\n",
       " (['Abra', 'Mankey'], 'Abra'),\n",
       " (['Ekans', 'Meowth'], 'Meowth'),\n",
       " (['Ekans', 'Zubat'], 'Zubat'),\n",
       " (['Zubat', 'Lapras'], 'Lapras'),\n",
       " (['Pidgey', 'Omanyte'], 'Omanyte'),\n",
       " (['Rattata', 'Zubat'], 'Zubat'),\n",
       " (['Clefairy', 'Machop'], 'Clefairy'),\n",
       " (['Squirtle', 'Cubone'], 'Squirtle'),\n",
       " (['Clefairy', 'Lapras'], 'Lapras'),\n",
       " (['Clefairy', 'Horsea'], 'Horsea'),\n",
       " (['Ekans', 'Horsea'], 'Ekans'),\n",
       " (['Ekans', 'Omanyte'], 'Omanyte'),\n",
       " (['Rattata', 'Lapras'], 'Lapras'),\n",
       " (['Sandshrew', 'Omanyte'], 'Omanyte'),\n",
       " (['Poliwag', 'Slowpoke'], 'Slowpoke'),\n",
       " (['Rattata', 'Dratini'], 'Dratini'),\n",
       " (['Bulbasaur', 'Poliwag'], 'Bulbasaur'),\n",
       " (['Jigglypuff', 'Meowth'], 'Jigglypuff'),\n",
       " (['Cubone', 'Omanyte'], 'Omanyte'),\n",
       " (['Machop', 'Omanyte'], 'Machop'),\n",
       " (['Clefairy', 'Zubat'], 'Zubat'),\n",
       " (['Zubat', 'Omanyte'], 'Omanyte'),\n",
       " (['Rattata', 'Ekans'], 'Ekans'),\n",
       " (['Abra', 'Meowth'], 'Meowth'),\n",
       " (['Jynx', 'Gastly'], 'Jynx'),\n",
       " (['Ekans', 'Diglett'], 'Diglett'),\n",
       " (['Poliwag', 'Grimer'], 'Poliwag'),\n",
       " (['Jigglypuff', 'Abra'], 'Jigglypuff'),\n",
       " (['Grimer', 'Jynx'], 'Jynx'),\n",
       " (['Bulbasaur', 'Ekans'], 'Ekans'),\n",
       " (['Pikachu', 'Mankey'], 'Mankey'),\n",
       " (['Rattata', 'Omanyte'], 'Omanyte'),\n",
       " (['Charmander', 'Pikachu'], 'Charmander'),\n",
       " (['Diglett', 'Clefairy'], 'Diglett'),\n",
       " (['Rattata', 'Slowpoke'], 'Rattata'),\n",
       " (['Clefairy', 'Meowth'], 'Meowth'),\n",
       " (['Slowpoke', 'Jynx'], 'Slowpoke'),\n",
       " (['Poliwag', 'Horsea'], 'Poliwag'),\n",
       " (['Machop', 'Lapras'], 'Machop'),\n",
       " (['Squirtle', 'Rattata'], 'Squirtle'),\n",
       " (['Zubat', 'Mankey'], 'Zubat'),\n",
       " (['Pikachu', 'Lapras'], 'Pikachu'),\n",
       " (['Mankey', 'Grimer'], 'Mankey'),\n",
       " (['Rattata', 'Gastly'], 'Rattata'),\n",
       " (['Sandshrew', 'Horsea'], 'Horsea'),\n",
       " (['Pikachu', 'Diglett'], 'Diglett'),\n",
       " (['Poliwag', 'Gastly'], 'Gastly'),\n",
       " (['Pidgey', 'Slowpoke'], 'Slowpoke'),\n",
       " (['Charmander', 'Pidgey'], 'Charmander'),\n",
       " (['Charmander', 'Rattata'], 'Charmander'),\n",
       " (['Grimer', 'Gastly'], 'Grimer'),\n",
       " (['Slowpoke', 'Cubone'], 'Slowpoke'),\n",
       " (['Bulbasaur', 'Clefairy'], 'Bulbasaur'),\n",
       " (['Jigglypuff', 'Mankey'], 'Jigglypuff'),\n",
       " (['Mankey', 'Tauros'], 'Mankey'),\n",
       " (['Mankey', 'Lapras'], 'Mankey'),\n",
       " (['Charmander', 'Omanyte'], 'Omanyte'),\n",
       " (['Cubone', 'Gastly'], 'Gastly'),\n",
       " (['Sandshrew', 'Clefairy'], 'Sandshrew'),\n",
       " (['Horsea', 'Gastly'], 'Gastly'),\n",
       " (['Meowth', 'Cubone'], 'Meowth'),\n",
       " (['Zubat', 'Meowth'], 'Zubat'),\n",
       " (['Pidgey', 'Abra'], 'Abra'),\n",
       " (['Jigglypuff', 'Slowpoke'], 'Slowpoke'),\n",
       " (['Omanyte', 'Jynx'], 'Omanyte'),\n",
       " (['Dratini', 'Jynx'], 'Jynx'),\n",
       " (['Bulbasaur', 'Zubat'], 'Zubat'),\n",
       " (['Dratini', 'Horsea'], 'Dratini'),\n",
       " (['Squirtle', 'Sandshrew'], 'Squirtle'),\n",
       " (['Bulbasaur', 'Squirtle'], 'Bulbasaur'),\n",
       " (['Squirtle', 'Tauros'], 'Squirtle'),\n",
       " (['Bulbasaur', 'Diglett'], 'Bulbasaur'),\n",
       " (['Abra', 'Horsea'], 'Horsea'),\n",
       " (['Charmander', 'Machop'], 'Charmander'),\n",
       " (['Clefairy', 'Grimer'], 'Clefairy'),\n",
       " (['Meowth', 'Mankey'], 'Mankey'),\n",
       " (['Squirtle', 'Poliwag'], 'Poliwag'),\n",
       " (['Ekans', 'Gastly'], 'Gastly'),\n",
       " (['Ekans', 'Jigglypuff'], 'Ekans'),\n",
       " (['Pidgey', 'Gastly'], 'Gastly'),\n",
       " (['Clefairy', 'Jynx'], 'Jynx'),\n",
       " (['Bulbasaur', 'Charmander'], 'Charmander'),\n",
       " (['Dratini', 'Poliwag'], 'Dratini'),\n",
       " (['Pidgey', 'Rattata'], 'Rattata'),\n",
       " (['Jigglypuff', 'Machop'], 'Machop'),\n",
       " (['Bulbasaur', 'Gastly'], 'Gastly'),\n",
       " (['Tauros', 'Gastly'], 'Tauros'),\n",
       " (['Abra', 'Zubat'], 'Zubat'),\n",
       " (['Charmander', 'Zubat'], 'Charmander'),\n",
       " (['Clefairy', 'Cubone'], 'Cubone'),\n",
       " (['Sandshrew', 'Dratini'], 'Dratini'),\n",
       " (['Charmander', 'Dratini'], 'Dratini'),\n",
       " (['Pikachu', 'Slowpoke'], 'Pikachu'),\n",
       " (['Meowth', 'Tauros'], 'Tauros'),\n",
       " (['Charmander', 'Meowth'], 'Meowth'),\n",
       " (['Pidgey', 'Poliwag'], 'Pidgey'),\n",
       " (['Rattata', 'Mankey'], 'Mankey'),\n",
       " (['Ekans', 'Mankey'], 'Ekans'),\n",
       " (['Bulbasaur', 'Slowpoke'], 'Bulbasaur'),\n",
       " (['Sandshrew', 'Cubone'], 'Sandshrew'),\n",
       " (['Rattata', 'Tauros'], 'Rattata'),\n",
       " (['Pidgey', 'Tauros'], 'Tauros'),\n",
       " (['Slowpoke', 'Horsea'], 'Slowpoke'),\n",
       " (['Machop', 'Jynx'], 'Jynx'),\n",
       " (['Charmander', 'Gastly'], 'Gastly'),\n",
       " (['Pidgey', 'Cubone'], 'Pidgey'),\n",
       " (['Charmander', 'Ekans'], 'Ekans'),\n",
       " (['Omanyte', 'Lapras'], 'Lapras'),\n",
       " (['Sandshrew', 'Machop'], 'Machop'),\n",
       " (['Dratini', 'Lapras'], 'Lapras'),\n",
       " (['Squirtle', 'Meowth'], 'Meowth'),\n",
       " (['Jigglypuff', 'Tauros'], 'Tauros'),\n",
       " (['Dratini', 'Diglett'], 'Dratini'),\n",
       " (['Sandshrew', 'Mankey'], 'Mankey'),\n",
       " (['Poliwag', 'Machop'], 'Machop'),\n",
       " (['Ekans', 'Clefairy'], 'Ekans'),\n",
       " (['Rattata', 'Sandshrew'], 'Sandshrew'),\n",
       " (['Mankey', 'Omanyte'], 'Mankey'),\n",
       " (['Bulbasaur', 'Dratini'], 'Dratini'),\n",
       " (['Ekans', 'Machop'], 'Ekans'),\n",
       " (['Jigglypuff', 'Diglett'], 'Diglett'),\n",
       " (['Horsea', 'Jynx'], 'Jynx'),\n",
       " (['Meowth', 'Slowpoke'], 'Meowth'),\n",
       " (['Cubone', 'Horsea'], 'Horsea'),\n",
       " (['Ekans', 'Poliwag'], 'Ekans'),\n",
       " (['Rattata', 'Jigglypuff'], 'Rattata'),\n",
       " (['Bulbasaur', 'Meowth'], 'Meowth'),\n",
       " (['Rattata', 'Diglett'], 'Rattata'),\n",
       " (['Pidgey', 'Ekans'], 'Ekans'),\n",
       " (['Pikachu', 'Tauros'], 'Tauros'),\n",
       " (['Machop', 'Gastly'], 'Machop'),\n",
       " (['Diglett', 'Tauros'], 'Diglett'),\n",
       " (['Rattata', 'Cubone'], 'Rattata'),\n",
       " (['Sandshrew', 'Jynx'], 'Jynx'),\n",
       " (['Pikachu', 'Dratini'], 'Dratini'),\n",
       " (['Dratini', 'Omanyte'], 'Dratini'),\n",
       " (['Diglett', 'Jynx'], 'Jynx'),\n",
       " (['Squirtle', 'Jigglypuff'], 'Squirtle'),\n",
       " (['Sandshrew', 'Grimer'], 'Sandshrew'),\n",
       " (['Diglett', 'Horsea'], 'Horsea'),\n",
       " (['Horsea', 'Tauros'], 'Tauros'),\n",
       " (['Charmander', 'Horsea'], 'Horsea'),\n",
       " (['Meowth', 'Omanyte'], 'Omanyte'),\n",
       " (['Pikachu', 'Cubone'], 'Cubone'),\n",
       " (['Diglett', 'Cubone'], 'Diglett'),\n",
       " (['Rattata', 'Pikachu'], 'Pikachu'),\n",
       " (['Abra', 'Machop'], 'Abra'),\n",
       " (['Clefairy', 'Gastly'], 'Gastly'),\n",
       " (['Bulbasaur', 'Lapras'], 'Bulbasaur'),\n",
       " (['Slowpoke', 'Lapras'], 'Slowpoke'),\n",
       " (['Diglett', 'Zubat'], 'Zubat'),\n",
       " (['Bulbasaur', 'Jigglypuff'], 'Jigglypuff'),\n",
       " (['Zubat', 'Slowpoke'], 'Zubat'),\n",
       " (['Zubat', 'Tauros'], 'Tauros'),\n",
       " (['Pidgey', 'Clefairy'], 'Pidgey'),\n",
       " (['Bulbasaur', 'Jynx'], 'Jynx'),\n",
       " (['Charmander', 'Jynx'], 'Charmander'),\n",
       " (['Tauros', 'Lapras'], 'Tauros'),\n",
       " (['Sandshrew', 'Zubat'], 'Zubat'),\n",
       " (['Poliwag', 'Mankey'], 'Mankey'),\n",
       " (['Rattata', 'Clefairy'], 'Rattata'),\n",
       " (['Mankey', 'Cubone'], 'Mankey'),\n",
       " (['Rattata', 'Horsea'], 'Rattata'),\n",
       " (['Bulbasaur', 'Machop'], 'Bulbasaur'),\n",
       " (['Charmander', 'Abra'], 'Charmander'),\n",
       " (['Dratini', 'Jigglypuff'], 'Jigglypuff'),\n",
       " (['Sandshrew', 'Gastly'], 'Sandshrew'),\n",
       " (['Poliwag', 'Lapras'], 'Poliwag'),\n",
       " (['Poliwag', 'Tauros'], 'Tauros'),\n",
       " (['Pikachu', 'Meowth'], 'Meowth'),\n",
       " (['Pikachu', 'Abra'], 'Pikachu'),\n",
       " (['Diglett', 'Abra'], 'Abra'),\n",
       " (['Mankey', 'Gastly'], 'Gastly'),\n",
       " (['Slowpoke', 'Omanyte'], 'Omanyte'),\n",
       " (['Squirtle', 'Lapras'], 'Squirtle'),\n",
       " (['Abra', 'Omanyte'], 'Omanyte'),\n",
       " (['Bulbasaur', 'Tauros'], 'Bulbasaur'),\n",
       " (['Dratini', 'Grimer'], 'Dratini'),\n",
       " (['Sandshrew', 'Tauros'], 'Sandshrew'),\n",
       " (['Rattata', 'Grimer'], 'Rattata'),\n",
       " (['Sandshrew', 'Poliwag'], 'Poliwag'),\n",
       " (['Squirtle', 'Gastly'], 'Squirtle'),\n",
       " (['Abra', 'Lapras'], 'Abra'),\n",
       " (['Abra', 'Slowpoke'], 'Slowpoke'),\n",
       " (['Ekans', 'Pikachu'], 'Ekans'),\n",
       " (['Meowth', 'Horsea'], 'Meowth'),\n",
       " (['Pidgey', 'Pikachu'], 'Pikachu'),\n",
       " (['Mankey', 'Horsea'], 'Mankey'),\n",
       " (['Bulbasaur', 'Rattata'], 'Bulbasaur'),\n",
       " (['Pikachu', 'Zubat'], 'Pikachu'),\n",
       " (['Meowth', 'Grimer'], 'Meowth'),\n",
       " (['Pidgey', 'Horsea'], 'Horsea'),\n",
       " (['Clefairy', 'Slowpoke'], 'Slowpoke'),\n",
       " (['Ekans', 'Lapras'], 'Lapras'),\n",
       " (['Pidgey', 'Zubat'], 'Zubat'),\n",
       " (['Abra', 'Clefairy'], 'Abra'),\n",
       " (['Squirtle', 'Machop'], 'Squirtle'),\n",
       " (['Pikachu', 'Machop'], 'Machop'),\n",
       " (['Ekans', 'Grimer'], 'Grimer'),\n",
       " (['Ekans', 'Cubone'], 'Cubone'),\n",
       " (['Charmander', 'Grimer'], 'Grimer'),\n",
       " (['Meowth', 'Machop'], 'Machop'),\n",
       " (['Ekans', 'Dratini'], 'Ekans'),\n",
       " (['Pidgey', 'Meowth'], 'Pidgey'),\n",
       " (['Diglett', 'Omanyte'], 'Omanyte'),\n",
       " (['Machop', 'Horsea'], 'Machop'),\n",
       " (['Abra', 'Gastly'], 'Gastly'),\n",
       " (['Dratini', 'Zubat'], 'Dratini'),\n",
       " (['Zubat', 'Cubone'], 'Zubat'),\n",
       " (['Rattata', 'Machop'], 'Machop'),\n",
       " (['Squirtle', 'Pikachu'], 'Pikachu'),\n",
       " (['Pidgey', 'Machop'], 'Pidgey'),\n",
       " (['Pidgey', 'Jynx'], 'Jynx'),\n",
       " (['Clefairy', 'Omanyte'], 'Omanyte'),\n",
       " (['Jigglypuff', 'Jynx'], 'Jynx'),\n",
       " (['Abra', 'Jynx'], 'Jynx'),\n",
       " (['Meowth', 'Jynx'], 'Meowth'),\n",
       " (['Jigglypuff', 'Lapras'], 'Jigglypuff'),\n",
       " (['Machop', 'Slowpoke'], 'Slowpoke'),\n",
       " (['Bulbasaur', 'Horsea'], 'Bulbasaur'),\n",
       " (['Abra', 'Grimer'], 'Abra'),\n",
       " (['Bulbasaur', 'Pikachu'], 'Bulbasaur'),\n",
       " (['Diglett', 'Gastly'], 'Diglett'),\n",
       " (['Lapras', 'Jynx'], 'Jynx'),\n",
       " (['Lapras', 'Gastly'], 'Gastly'),\n",
       " (['Charmander', 'Sandshrew'], 'Sandshrew'),\n",
       " (['Jigglypuff', 'Gastly'], 'Gastly'),\n",
       " (['Dratini', 'Cubone'], 'Dratini'),\n",
       " (['Sandshrew', 'Diglett'], 'Sandshrew'),\n",
       " (['Pidgey', 'Mankey'], 'Pidgey'),\n",
       " (['Pikachu', 'Omanyte'], 'Pikachu'),\n",
       " (['Squirtle', 'Slowpoke'], 'Squirtle'),\n",
       " (['Pikachu', 'Sandshrew'], 'Sandshrew'),\n",
       " (['Abra', 'Tauros'], 'Abra'),\n",
       " (['Cubone', 'Jynx'], 'Jynx'),\n",
       " (['Machop', 'Grimer'], 'Grimer'),\n",
       " (['Meowth', 'Horsea'], 'Horsea'),\n",
       " (['Pidgey', 'Meowth'], 'Pidgey'),\n",
       " (['Pidgey', 'Ekans'], 'Ekans'),\n",
       " (['Pidgey', 'Sandshrew'], 'Pidgey'),\n",
       " (['Bulbasaur', 'Jigglypuff'], 'Bulbasaur'),\n",
       " (['Dratini', 'Grimer'], 'Dratini'),\n",
       " (['Ekans', 'Mankey'], 'Ekans'),\n",
       " (['Poliwag', 'Abra'], 'Poliwag'),\n",
       " (['Squirtle', 'Rattata'], 'Rattata'),\n",
       " (['Pikachu', 'Poliwag'], 'Pikachu'),\n",
       " (['Dratini', 'Lapras'], 'Lapras'),\n",
       " (['Ekans', 'Sandshrew'], 'Sandshrew'),\n",
       " (['Pikachu', 'Horsea'], 'Pikachu'),\n",
       " (['Zubat', 'Horsea'], 'Zubat'),\n",
       " (['Ekans', 'Zubat'], 'Zubat'),\n",
       " (['Dratini', 'Jynx'], 'Jynx'),\n",
       " (['Zubat', 'Cubone'], 'Zubat'),\n",
       " (['Poliwag', 'Meowth'], 'Poliwag'),\n",
       " (['Pidgey', 'Grimer'], 'Pidgey'),\n",
       " (['Charmander', 'Jigglypuff'], 'Charmander'),\n",
       " (['Pikachu', 'Cubone'], 'Cubone'),\n",
       " (['Grimer', 'Lapras'], 'Lapras'),\n",
       " (['Pikachu', 'Mankey'], 'Pikachu'),\n",
       " (['Machop', 'Gastly'], 'Gastly'),\n",
       " (['Rattata', 'Lapras'], 'Lapras'),\n",
       " (['Machop', 'Slowpoke'], 'Slowpoke'),\n",
       " (['Jigglypuff', 'Diglett'], 'Diglett'),\n",
       " (['Meowth', 'Jynx'], 'Meowth'),\n",
       " (['Pidgey', 'Zubat'], 'Pidgey'),\n",
       " (['Bulbasaur', 'Clefairy'], 'Bulbasaur'),\n",
       " (['Squirtle', 'Abra'], 'Abra'),\n",
       " (['Poliwag', 'Slowpoke'], 'Poliwag'),\n",
       " (['Dratini', 'Clefairy'], 'Clefairy'),\n",
       " (['Jigglypuff', 'Jynx'], 'Jynx'),\n",
       " (['Sandshrew', 'Clefairy'], 'Sandshrew'),\n",
       " (['Abra', 'Jynx'], 'Jynx'),\n",
       " (['Rattata', 'Jynx'], 'Rattata'),\n",
       " (['Pikachu', 'Jynx'], 'Pikachu'),\n",
       " (['Pidgey', 'Abra'], 'Pidgey'),\n",
       " (['Squirtle', 'Horsea'], 'Squirtle'),\n",
       " (['Pidgey', 'Rattata'], 'Pidgey'),\n",
       " (['Squirtle', 'Ekans'], 'Squirtle'),\n",
       " (['Slowpoke', 'Cubone'], 'Slowpoke'),\n",
       " (['Sandshrew', 'Poliwag'], 'Poliwag'),\n",
       " (['Rattata', 'Ekans'], 'Rattata'),\n",
       " (['Squirtle', 'Omanyte'], 'Squirtle'),\n",
       " (['Bulbasaur', 'Sandshrew'], 'Bulbasaur'),\n",
       " (['Ekans', 'Cubone'], 'Cubone'),\n",
       " (['Pikachu', 'Diglett'], 'Diglett'),\n",
       " (['Zubat', 'Gastly'], 'Zubat'),\n",
       " (['Pidgey', 'Dratini'], 'Dratini'),\n",
       " (['Bulbasaur', 'Squirtle'], 'Bulbasaur'),\n",
       " (['Sandshrew', 'Jigglypuff'], 'Sandshrew'),\n",
       " (['Abra', 'Tauros'], 'Abra'),\n",
       " (['Pidgey', 'Omanyte'], 'Omanyte'),\n",
       " (['Zubat', 'Slowpoke'], 'Zubat'),\n",
       " (['Charmander', 'Pikachu'], 'Charmander'),\n",
       " (['Mankey', 'Omanyte'], 'Mankey'),\n",
       " (['Machop', 'Cubone'], 'Machop'),\n",
       " (['Pikachu', 'Slowpoke'], 'Pikachu'),\n",
       " (['Pidgey', 'Machop'], 'Pidgey'),\n",
       " (['Meowth', 'Grimer'], 'Meowth'),\n",
       " (['Squirtle', 'Pidgey'], 'Squirtle'),\n",
       " (['Jigglypuff', 'Tauros'], 'Jigglypuff'),\n",
       " (['Meowth', 'Mankey'], 'Mankey'),\n",
       " (['Grimer', 'Horsea'], 'Horsea'),\n",
       " (['Charmander', 'Ekans'], 'Charmander'),\n",
       " (['Bulbasaur', 'Horsea'], 'Bulbasaur'),\n",
       " (['Clefairy', 'Tauros'], 'Tauros'),\n",
       " (['Diglett', 'Meowth'], 'Meowth'),\n",
       " (['Machop', 'Jynx'], 'Jynx'),\n",
       " (['Clefairy', 'Gastly'], 'Gastly'),\n",
       " (['Charmander', 'Squirtle'], 'Squirtle'),\n",
       " (['Slowpoke', 'Tauros'], 'Tauros'),\n",
       " (['Abra', 'Gastly'], 'Abra'),\n",
       " (['Bulbasaur', 'Slowpoke'], 'Bulbasaur'),\n",
       " (['Clefairy', 'Slowpoke'], 'Slowpoke'),\n",
       " (['Rattata', 'Sandshrew'], 'Sandshrew'),\n",
       " (['Rattata', 'Grimer'], 'Rattata'),\n",
       " (['Jigglypuff', 'Lapras'], 'Lapras'),\n",
       " (['Pikachu', 'Clefairy'], 'Pikachu'),\n",
       " (['Tauros', 'Lapras'], 'Lapras'),\n",
       " (['Cubone', 'Omanyte'], 'Omanyte'),\n",
       " (['Bulbasaur', 'Tauros'], 'Tauros'),\n",
       " (['Pikachu', 'Meowth'], 'Pikachu'),\n",
       " (['Jigglypuff', 'Abra'], 'Jigglypuff'),\n",
       " (['Squirtle', 'Diglett'], 'Squirtle'),\n",
       " (['Sandshrew', 'Gastly'], 'Sandshrew'),\n",
       " (['Diglett', 'Machop'], 'Machop'),\n",
       " (['Sandshrew', 'Cubone'], 'Sandshrew'),\n",
       " (['Diglett', 'Omanyte'], 'Diglett'),\n",
       " (['Charmander', 'Gastly'], 'Gastly'),\n",
       " (['Sandshrew', 'Omanyte'], 'Sandshrew'),\n",
       " (['Diglett', 'Lapras'], 'Lapras'),\n",
       " (['Ekans', 'Machop'], 'Ekans'),\n",
       " (['Pidgey', 'Tauros'], 'Tauros'),\n",
       " (['Abra', 'Grimer'], 'Abra'),\n",
       " (['Ekans', 'Jigglypuff'], 'Ekans'),\n",
       " (['Pikachu', 'Jigglypuff'], 'Pikachu'),\n",
       " (['Bulbasaur', 'Meowth'], 'Meowth'),\n",
       " (['Charmander', 'Mankey'], 'Charmander'),\n",
       " (['Clefairy', 'Meowth'], 'Meowth'),\n",
       " (['Zubat', 'Machop'], 'Zubat'),\n",
       " (['Ekans', 'Horsea'], 'Horsea'),\n",
       " (['Horsea', 'Jynx'], 'Horsea'),\n",
       " (['Bulbasaur', 'Pikachu'], 'Bulbasaur'),\n",
       " (['Squirtle', 'Pikachu'], 'Pikachu'),\n",
       " (['Squirtle', 'Jynx'], 'Jynx'),\n",
       " (['Charmander', 'Tauros'], 'Charmander'),\n",
       " (['Diglett', 'Cubone'], 'Diglett'),\n",
       " (['Diglett', 'Slowpoke'], 'Slowpoke'),\n",
       " (['Pidgey', 'Gastly'], 'Gastly'),\n",
       " (['Rattata', 'Mankey'], 'Mankey'),\n",
       " (['Dratini', 'Machop'], 'Dratini'),\n",
       " (['Jynx', 'Gastly'], 'Gastly'),\n",
       " (['Slowpoke', 'Lapras'], 'Slowpoke'),\n",
       " (['Slowpoke', 'Grimer'], 'Slowpoke'),\n",
       " (['Sandshrew', 'Lapras'], 'Lapras'),\n",
       " (['Sandshrew', 'Machop'], 'Sandshrew'),\n",
       " (['Ekans', 'Meowth'], 'Meowth'),\n",
       " (['Tauros', 'Omanyte'], 'Omanyte'),\n",
       " (['Charmander', 'Jynx'], 'Charmander'),\n",
       " (['Abra', 'Machop'], 'Abra'),\n",
       " (['Poliwag', 'Gastly'], 'Gastly'),\n",
       " (['Ekans', 'Poliwag'], 'Poliwag'),\n",
       " (['Squirtle', 'Zubat'], 'Zubat'),\n",
       " (['Horsea', 'Omanyte'], 'Horsea'),\n",
       " (['Meowth', 'Slowpoke'], 'Meowth'),\n",
       " (['Dratini', 'Diglett'], 'Dratini'),\n",
       " (['Bulbasaur', 'Cubone'], 'Bulbasaur'),\n",
       " (['Jigglypuff', 'Slowpoke'], 'Jigglypuff'),\n",
       " (['Dratini', 'Poliwag'], 'Dratini'),\n",
       " (['Charmander', 'Sandshrew'], 'Sandshrew'),\n",
       " (['Meowth', 'Cubone'], 'Meowth'),\n",
       " (['Ekans', 'Gastly'], 'Gastly'),\n",
       " (['Mankey', 'Cubone'], 'Mankey'),\n",
       " (['Sandshrew', 'Meowth'], 'Meowth'),\n",
       " (['Poliwag', 'Mankey'], 'Mankey'),\n",
       " (['Poliwag', 'Lapras'], 'Poliwag'),\n",
       " (['Clefairy', 'Omanyte'], 'Omanyte'),\n",
       " (['Jigglypuff', 'Clefairy'], 'Jigglypuff'),\n",
       " (['Poliwag', 'Horsea'], 'Poliwag'),\n",
       " (['Machop', 'Omanyte'], 'Machop'),\n",
       " (['Abra', 'Slowpoke'], 'Slowpoke'),\n",
       " (['Jigglypuff', 'Grimer'], 'Jigglypuff'),\n",
       " (['Machop', 'Grimer'], 'Grimer'),\n",
       " (['Pikachu', 'Tauros'], 'Pikachu'),\n",
       " (['Dratini', 'Omanyte'], 'Dratini'),\n",
       " (['Bulbasaur', 'Gastly'], 'Gastly'),\n",
       " (['Ekans', 'Lapras'], 'Ekans'),\n",
       " (['Tauros', 'Jynx'], 'Tauros'),\n",
       " (['Charmander', 'Clefairy'], 'Charmander'),\n",
       " (['Zubat', 'Tauros'], 'Zubat'),\n",
       " (['Squirtle', 'Gastly'], 'Squirtle'),\n",
       " (['Bulbasaur', 'Rattata'], 'Bulbasaur'),\n",
       " (['Squirtle', 'Jigglypuff'], 'Squirtle'),\n",
       " (['Mankey', 'Tauros'], 'Mankey'),\n",
       " (['Zubat', 'Grimer'], 'Zubat'),\n",
       " (['Grimer', 'Tauros'], 'Tauros'),\n",
       " (['Pidgey', 'Jynx'], 'Jynx'),\n",
       " (['Pidgey', 'Jigglypuff'], 'Pidgey'),\n",
       " (['Diglett', 'Zubat'], 'Zubat'),\n",
       " (['Sandshrew', 'Slowpoke'], 'Slowpoke'),\n",
       " (['Pidgey', 'Diglett'], 'Pidgey'),\n",
       " (['Charmander', 'Cubone'], 'Charmander'),\n",
       " (['Pikachu', 'Omanyte'], 'Pikachu'),\n",
       " (['Pikachu', 'Sandshrew'], 'Sandshrew'),\n",
       " (['Rattata', 'Dratini'], 'Rattata'),\n",
       " (['Bulbasaur', 'Abra'], 'Abra'),\n",
       " (['Grimer', 'Jynx'], 'Jynx'),\n",
       " (['Rattata', 'Pikachu'], 'Rattata'),\n",
       " (['Rattata', 'Jigglypuff'], 'Jigglypuff'),\n",
       " (['Bulbasaur', 'Pidgey'], 'Pidgey'),\n",
       " (['Diglett', 'Mankey'], 'Mankey'),\n",
       " (['Squirtle', 'Slowpoke'], 'Slowpoke'),\n",
       " (['Poliwag', 'Jynx'], 'Poliwag'),\n",
       " (['Rattata', 'Slowpoke'], 'Rattata'),\n",
       " (['Sandshrew', 'Horsea'], 'Horsea'),\n",
       " (['Mankey', 'Grimer'], 'Mankey'),\n",
       " (['Omanyte', 'Gastly'], 'Omanyte'),\n",
       " (['Clefairy', 'Machop'], 'Clefairy'),\n",
       " (['Poliwag', 'Clefairy'], 'Poliwag'),\n",
       " (['Pikachu', 'Lapras'], 'Pikachu'),\n",
       " (['Meowth', 'Machop'], 'Machop'),\n",
       " (['Diglett', 'Jynx'], 'Jynx'),\n",
       " (['Bulbasaur', 'Charmander'], 'Charmander'),\n",
       " (['Pidgey', 'Clefairy'], 'Pidgey'),\n",
       " (['Zubat', 'Mankey'], 'Zubat'),\n",
       " (['Sandshrew', 'Jynx'], 'Jynx'),\n",
       " (['Cubone', 'Jynx'], 'Jynx'),\n",
       " (['Squirtle', 'Dratini'], 'Dratini'),\n",
       " (['Ekans', 'Abra'], 'Abra'),\n",
       " (['Pidgey', 'Pikachu'], 'Pikachu'),\n",
       " (['Squirtle', 'Poliwag'], 'Squirtle'),\n",
       " (['Squirtle', 'Lapras'], 'Squirtle'),\n",
       " (['Charmander', 'Horsea'], 'Horsea'),\n",
       " (['Poliwag', 'Grimer'], 'Poliwag'),\n",
       " (['Rattata', 'Cubone'], 'Rattata'),\n",
       " (['Machop', 'Lapras'], 'Machop'),\n",
       " (['Poliwag', 'Omanyte'], 'Poliwag'),\n",
       " (['Diglett', 'Horsea'], 'Horsea'),\n",
       " (['Slowpoke', 'Jynx'], 'Slowpoke'),\n",
       " (['Charmander', 'Abra'], 'Charmander'),\n",
       " (['Grimer', 'Omanyte'], 'Grimer'),\n",
       " (['Ekans', 'Pikachu'], 'Ekans'),\n",
       " (['Ekans', 'Diglett'], 'Diglett'),\n",
       " (['Lapras', 'Gastly'], 'Lapras'),\n",
       " (['Jigglypuff', 'Machop'], 'Machop'),\n",
       " (['Bulbasaur', 'Ekans'], 'Ekans'),\n",
       " (['Ekans', 'Grimer'], 'Grimer'),\n",
       " (['Horsea', 'Lapras'], 'Horsea'),\n",
       " (['Diglett', 'Grimer'], 'Diglett'),\n",
       " (['Pikachu', 'Zubat'], 'Pikachu'),\n",
       " (['Charmander', 'Machop'], 'Machop'),\n",
       " (['Abra', 'Horsea'], 'Abra'),\n",
       " (['Ekans', 'Clefairy'], 'Ekans'),\n",
       " (['Pidgey', 'Cubone'], 'Pidgey'),\n",
       " (['Abra', 'Zubat'], 'Abra'),\n",
       " (['Rattata', 'Meowth'], 'Rattata'),\n",
       " (['Pikachu', 'Grimer'], 'Grimer'),\n",
       " (['Charmander', 'Grimer'], 'Grimer'),\n",
       " (['Bulbasaur', 'Diglett'], 'Bulbasaur'),\n",
       " (['Mankey', 'Machop'], 'Machop'),\n",
       " (['Abra', 'Omanyte'], 'Omanyte'),\n",
       " (['Jigglypuff', 'Horsea'], 'Horsea'),\n",
       " (['Squirtle', 'Mankey'], 'Mankey'),\n",
       " (['Dratini', 'Meowth'], 'Meowth'),\n",
       " (['Pidgey', 'Poliwag'], 'Poliwag'),\n",
       " (['Diglett', 'Tauros'], 'Diglett'),\n",
       " (['Charmander', 'Rattata'], 'Charmander'),\n",
       " (['Ekans', 'Omanyte'], 'Omanyte'),\n",
       " (['Clefairy', 'Cubone'], 'Clefairy'),\n",
       " (['Slowpoke', 'Gastly'], 'Gastly'),\n",
       " (['Pikachu', 'Abra'], 'Abra'),\n",
       " (['Bulbasaur', 'Zubat'], 'Zubat'),\n",
       " (['Tauros', 'Gastly'], 'Tauros'),\n",
       " (['Sandshrew', 'Tauros'], 'Tauros'),\n",
       " (['Meowth', 'Lapras'], 'Lapras'),\n",
       " (['Machop', 'Horsea'], 'Horsea'),\n",
       " (['Dratini', 'Mankey'], 'Mankey'),\n",
       " (['Meowth', 'Tauros'], 'Meowth'),\n",
       " (['Abra', 'Clefairy'], 'Abra'),\n",
       " (['Slowpoke', 'Horsea'], 'Slowpoke'),\n",
       " (['Rattata', 'Tauros'], 'Rattata'),\n",
       " (['Horsea', 'Gastly'], 'Gastly'),\n",
       " (['Dratini', 'Cubone'], 'Dratini'),\n",
       " (['Cubone', 'Tauros'], 'Tauros'),\n",
       " (['Charmander', 'Pidgey'], 'Charmander'),\n",
       " (['Squirtle', 'Sandshrew'], 'Squirtle'),\n",
       " (['Bulbasaur', 'Dratini'], 'Dratini'),\n",
       " (['Ekans', 'Jynx'], 'Jynx'),\n",
       " (['Sandshrew', 'Zubat'], 'Zubat'),\n",
       " (['Jigglypuff', 'Omanyte'], 'Omanyte'),\n",
       " (['Diglett', 'Poliwag'], 'Poliwag'),\n",
       " (['Meowth', 'Gastly'], 'Meowth'),\n",
       " (['Charmander', 'Zubat'], 'Zubat'),\n",
       " (['Dratini', 'Zubat'], 'Dratini'),\n",
       " (['Zubat', 'Jynx'], 'Jynx'),\n",
       " (['Charmander', 'Diglett'], 'Diglett'),\n",
       " (['Rattata', 'Poliwag'], 'Rattata'),\n",
       " (['Jigglypuff', 'Gastly'], 'Gastly'),\n",
       " (['Pikachu', 'Dratini'], 'Dratini'),\n",
       " (['Cubone', 'Gastly'], 'Cubone'),\n",
       " (['Diglett', 'Abra'], 'Abra'),\n",
       " (['Poliwag', 'Cubone'], 'Poliwag'),\n",
       " (['Sandshrew', 'Diglett'], 'Diglett'),\n",
       " (['Clefairy', 'Grimer'], 'Grimer'),\n",
       " (['Sandshrew', 'Abra'], 'Sandshrew'),\n",
       " (['Bulbasaur', 'Poliwag'], 'Bulbasaur'),\n",
       " (['Squirtle', 'Clefairy'], 'Squirtle'),\n",
       " (['Charmander', 'Slowpoke'], 'Slowpoke'),\n",
       " (['Charmander', 'Poliwag'], 'Poliwag'),\n",
       " (['Lapras', 'Jynx'], 'Lapras'),\n",
       " (['Sandshrew', 'Mankey'], 'Sandshrew'),\n",
       " (['Jigglypuff', 'Poliwag'], 'Jigglypuff'),\n",
       " (['Squirtle', 'Meowth'], 'Squirtle'),\n",
       " (['Bulbasaur', 'Omanyte'], 'Bulbasaur'),\n",
       " (['Omanyte', 'Lapras'], 'Lapras'),\n",
       " (['Mankey', 'Jynx'], 'Jynx'),\n",
       " (['Dratini', 'Abra'], 'Dratini'),\n",
       " (['Sandshrew', 'Grimer'], 'Sandshrew'),\n",
       " (['Pikachu', 'Machop'], 'Pikachu'),\n",
       " (['Squirtle', 'Tauros'], 'Tauros'),\n",
       " (['Squirtle', 'Cubone'], 'Squirtle'),\n",
       " (['Jigglypuff', 'Zubat'], 'Zubat'),\n",
       " (['Jigglypuff', 'Meowth'], 'Meowth'),\n",
       " (['Squirtle', 'Grimer'], 'Squirtle'),\n",
       " (['Rattata', 'Horsea'], 'Horsea'),\n",
       " (['Grimer', 'Gastly'], 'Grimer'),\n",
       " (['Jigglypuff', 'Cubone'], 'Jigglypuff'),\n",
       " (['Charmander', 'Omanyte'], 'Omanyte'),\n",
       " (['Dratini', 'Tauros'], 'Tauros'),\n",
       " (['Abra', 'Cubone'], 'Abra'),\n",
       " (['Zubat', 'Lapras'], 'Lapras'),\n",
       " (['Rattata', 'Zubat'], 'Rattata'),\n",
       " (['Charmander', 'Meowth'], 'Charmander'),\n",
       " (['Clefairy', 'Jynx'], 'Jynx'),\n",
       " (['Ekans', 'Tauros'], 'Ekans'),\n",
       " (['Rattata', 'Gastly'], 'Rattata'),\n",
       " (['Charmander', 'Dratini'], 'Dratini'),\n",
       " (['Horsea', 'Tauros'], 'Horsea'),\n",
       " (['Pikachu', 'Gastly'], 'Gastly'),\n",
       " (['Pidgey', 'Lapras'], 'Lapras'),\n",
       " (['Jigglypuff', 'Mankey'], 'Mankey'),\n",
       " (['Machop', 'Tauros'], 'Machop'),\n",
       " (['Zubat', 'Meowth'], 'Meowth'),\n",
       " (['Dratini', 'Horsea'], 'Dratini'),\n",
       " (['Bulbasaur', 'Lapras'], 'Bulbasaur'),\n",
       " (['Sandshrew', 'Dratini'], 'Sandshrew'),\n",
       " (['Mankey', 'Lapras'], 'Mankey'),\n",
       " (['Diglett', 'Clefairy'], 'Diglett'),\n",
       " (['Omanyte', 'Jynx'], 'Omanyte'),\n",
       " (['Abra', 'Meowth'], 'Meowth'),\n",
       " (['Meowth', 'Omanyte'], 'Omanyte'),\n",
       " (['Pidgey', 'Mankey'], 'Pidgey'),\n",
       " (['Rattata', 'Diglett'], 'Rattata'),\n",
       " (['Mankey', 'Slowpoke'], 'Slowpoke'),\n",
       " (['Cubone', 'Horsea'], 'Horsea'),\n",
       " (['Poliwag', 'Zubat'], 'Poliwag'),\n",
       " (['Diglett', 'Gastly'], 'Diglett'),\n",
       " (['Abra', 'Lapras'], 'Lapras'),\n",
       " (['Bulbasaur', 'Machop'], 'Bulbasaur'),\n",
       " (['Bulbasaur', 'Jynx'], 'Jynx'),\n",
       " (['Cubone', 'Lapras'], 'Lapras'),\n",
       " (['Clefairy', 'Horsea'], 'Horsea'),\n",
       " (['Dratini', 'Gastly'], 'Gastly'),\n",
       " (['Ekans', 'Dratini'], 'Ekans'),\n",
       " (['Clefairy', 'Mankey'], 'Clefairy'),\n",
       " (['Charmander', 'Lapras'], 'Lapras'),\n",
       " (['Bulbasaur', 'Mankey'], 'Bulbasaur'),\n",
       " (['Pidgey', 'Horsea'], 'Horsea'),\n",
       " (['Slowpoke', 'Omanyte'], 'Omanyte'),\n",
       " (['Pidgey', 'Slowpoke'], 'Pidgey'),\n",
       " (['Poliwag', 'Machop'], 'Poliwag'),\n",
       " (['Clefairy', 'Lapras'], 'Lapras'),\n",
       " (['Bulbasaur', 'Grimer'], 'Grimer'),\n",
       " (['Grimer', 'Cubone'], 'Cubone'),\n",
       " (['Zubat', 'Omanyte'], 'Omanyte'),\n",
       " (['Mankey', 'Horsea'], 'Horsea'),\n",
       " (['Rattata', 'Machop'], 'Machop'),\n",
       " (['Abra', 'Mankey'], 'Abra'),\n",
       " (['Poliwag', 'Tauros'], 'Poliwag'),\n",
       " (['Dratini', 'Jigglypuff'], 'Jigglypuff'),\n",
       " (['Squirtle', 'Machop'], 'Squirtle'),\n",
       " (['Rattata', 'Omanyte'], 'Omanyte'),\n",
       " (['Ekans', 'Slowpoke'], 'Ekans'),\n",
       " (['Rattata', 'Clefairy'], 'Rattata'),\n",
       " (['Dratini', 'Slowpoke'], 'Dratini'),\n",
       " (['Rattata', 'Abra'], 'Rattata'),\n",
       " (['Clefairy', 'Zubat'], 'Zubat'),\n",
       " (['Mankey', 'Gastly'], 'Gastly'),\n",
       " (['Diglett', 'Grimer'], 'Diglett'),\n",
       " (['Rattata', 'Zubat'], 'Rattata'),\n",
       " (['Dratini', 'Lapras'], 'Lapras'),\n",
       " (['Ekans', 'Cubone'], 'Ekans'),\n",
       " (['Sandshrew', 'Gastly'], 'Sandshrew'),\n",
       " (['Cubone', 'Tauros'], 'Tauros'),\n",
       " (['Grimer', 'Tauros'], 'Tauros'),\n",
       " (['Charmander', 'Grimer'], 'Grimer'),\n",
       " (['Dratini', 'Diglett'], 'Dratini'),\n",
       " (['Squirtle', 'Mankey'], 'Mankey'),\n",
       " (['Squirtle', 'Machop'], 'Machop'),\n",
       " (['Dratini', 'Omanyte'], 'Dratini'),\n",
       " (['Dratini', 'Grimer'], 'Dratini'),\n",
       " (['Tauros', 'Jynx'], 'Jynx'),\n",
       " (['Pidgey', 'Slowpoke'], 'Pidgey'),\n",
       " (['Diglett', 'Poliwag'], 'Poliwag'),\n",
       " (['Pikachu', 'Tauros'], 'Pikachu'),\n",
       " (['Sandshrew', 'Horsea'], 'Horsea'),\n",
       " (['Pidgey', 'Sandshrew'], 'Pidgey'),\n",
       " (['Pikachu', 'Omanyte'], 'Pikachu'),\n",
       " (['Jigglypuff', 'Machop'], 'Jigglypuff'),\n",
       " (['Pikachu', 'Sandshrew'], 'Sandshrew'),\n",
       " (['Horsea', 'Lapras'], 'Lapras'),\n",
       " (['Zubat', 'Gastly'], 'Zubat'),\n",
       " (['Pikachu', 'Machop'], 'Machop'),\n",
       " (['Rattata', 'Abra'], 'Rattata'),\n",
       " (['Clefairy', 'Grimer'], 'Grimer'),\n",
       " (['Mankey', 'Tauros'], 'Mankey'),\n",
       " (['Pidgey', 'Grimer'], 'Pidgey'),\n",
       " (['Sandshrew', 'Mankey'], 'Sandshrew'),\n",
       " (['Pikachu', 'Clefairy'], 'Pikachu'),\n",
       " (['Meowth', 'Lapras'], 'Lapras'),\n",
       " (['Grimer', 'Horsea'], 'Horsea'),\n",
       " (['Clefairy', 'Omanyte'], 'Omanyte'),\n",
       " (['Bulbasaur', 'Slowpoke'], 'Bulbasaur'),\n",
       " (['Sandshrew', 'Slowpoke'], 'Slowpoke'),\n",
       " (['Dratini', 'Slowpoke'], 'Dratini'),\n",
       " (['Abra', 'Meowth'], 'Meowth'),\n",
       " (['Charmander', 'Gastly'], 'Gastly'),\n",
       " (['Squirtle', 'Meowth'], 'Squirtle'),\n",
       " (['Sandshrew', 'Tauros'], 'Sandshrew'),\n",
       " (['Slowpoke', 'Tauros'], 'Slowpoke'),\n",
       " (['Diglett', 'Clefairy'], 'Diglett'),\n",
       " (['Abra', 'Slowpoke'], 'Slowpoke'),\n",
       " (['Sandshrew', 'Jynx'], 'Jynx'),\n",
       " (['Bulbasaur', 'Meowth'], 'Meowth'),\n",
       " (['Bulbasaur', 'Mankey'], 'Bulbasaur'),\n",
       " (['Abra', 'Grimer'], 'Abra'),\n",
       " (['Ekans', 'Mankey'], 'Ekans'),\n",
       " (['Charmander', 'Clefairy'], 'Charmander'),\n",
       " (['Ekans', 'Grimer'], 'Grimer'),\n",
       " (['Cubone', 'Jynx'], 'Jynx'),\n",
       " (['Squirtle', 'Zubat'], 'Zubat'),\n",
       " (['Ekans', 'Zubat'], 'Zubat'),\n",
       " (['Rattata', 'Ekans'], 'Ekans'),\n",
       " (['Rattata', 'Horsea'], 'Horsea'),\n",
       " (['Diglett', 'Abra'], 'Abra'),\n",
       " (['Rattata', 'Sandshrew'], 'Rattata'),\n",
       " (['Bulbasaur', 'Cubone'], 'Bulbasaur'),\n",
       " (['Poliwag', 'Omanyte'], 'Poliwag'),\n",
       " (['Omanyte', 'Lapras'], 'Lapras'),\n",
       " (['Grimer', 'Omanyte'], 'Grimer'),\n",
       " (['Jigglypuff', 'Horsea'], 'Horsea'),\n",
       " (['Pidgey', 'Horsea'], 'Pidgey'),\n",
       " (['Cubone', 'Gastly'], 'Cubone'),\n",
       " (['Rattata', 'Clefairy'], 'Rattata'),\n",
       " (['Squirtle', 'Pidgey'], 'Pidgey'),\n",
       " (['Poliwag', 'Slowpoke'], 'Poliwag'),\n",
       " (['Jigglypuff', 'Jynx'], 'Jynx'),\n",
       " (['Slowpoke', 'Lapras'], 'Slowpoke'),\n",
       " (['Rattata', 'Cubone'], 'Rattata'),\n",
       " (['Squirtle', 'Clefairy'], 'Squirtle'),\n",
       " (['Dratini', 'Mankey'], 'Mankey'),\n",
       " (['Sandshrew', 'Grimer'], 'Sandshrew'),\n",
       " (['Abra', 'Clefairy'], 'Abra'),\n",
       " (['Zubat', 'Omanyte'], 'Omanyte'),\n",
       " (['Pikachu', 'Jigglypuff'], 'Pikachu'),\n",
       " (['Dratini', 'Clefairy'], 'Clefairy'),\n",
       " (['Pidgey', 'Dratini'], 'Dratini'),\n",
       " (['Jigglypuff', 'Lapras'], 'Lapras'),\n",
       " (['Bulbasaur', 'Charmander'], 'Charmander'),\n",
       " (['Pikachu', 'Grimer'], 'Grimer'),\n",
       " (['Jigglypuff', 'Clefairy'], 'Jigglypuff'),\n",
       " (['Horsea', 'Omanyte'], 'Horsea'),\n",
       " (['Abra', 'Omanyte'], 'Omanyte'),\n",
       " (['Rattata', 'Lapras'], 'Rattata'),\n",
       " (['Bulbasaur', 'Abra'], 'Abra'),\n",
       " (['Diglett', 'Zubat'], 'Zubat'),\n",
       " (['Slowpoke', 'Grimer'], 'Slowpoke'),\n",
       " (['Rattata', 'Omanyte'], 'Omanyte'),\n",
       " (['Horsea', 'Gastly'], 'Horsea'),\n",
       " (['Meowth', 'Gastly'], 'Meowth'),\n",
       " (['Jigglypuff', 'Omanyte'], 'Omanyte'),\n",
       " (['Poliwag', 'Tauros'], 'Tauros'),\n",
       " (['Jynx', 'Gastly'], 'Jynx'),\n",
       " (['Machop', 'Gastly'], 'Gastly'),\n",
       " (['Jigglypuff', 'Slowpoke'], 'Slowpoke'),\n",
       " (['Rattata', 'Jigglypuff'], 'Jigglypuff'),\n",
       " (['Clefairy', 'Jynx'], 'Jynx'),\n",
       " (['Diglett', 'Omanyte'], 'Omanyte'),\n",
       " (['Dratini', 'Abra'], 'Dratini'),\n",
       " (['Clefairy', 'Meowth'], 'Meowth'),\n",
       " (['Squirtle', 'Poliwag'], 'Poliwag'),\n",
       " (['Pidgey', 'Zubat'], 'Zubat'),\n",
       " (['Meowth', 'Grimer'], 'Meowth'),\n",
       " (['Bulbasaur', 'Dratini'], 'Dratini'),\n",
       " (['Poliwag', 'Abra'], 'Poliwag'),\n",
       " (['Jigglypuff', 'Poliwag'], 'Poliwag'),\n",
       " (['Meowth', 'Mankey'], 'Mankey'),\n",
       " (['Rattata', 'Jynx'], 'Rattata'),\n",
       " (['Zubat', 'Cubone'], 'Zubat'),\n",
       " (['Rattata', 'Machop'], 'Machop'),\n",
       " (['Jigglypuff', 'Meowth'], 'Meowth'),\n",
       " (['Mankey', 'Omanyte'], 'Mankey'),\n",
       " (['Abra', 'Cubone'], 'Abra'),\n",
       " (['Charmander', 'Diglett'], 'Diglett'),\n",
       " (['Dratini', 'Zubat'], 'Zubat'),\n",
       " (['Pidgey', 'Pikachu'], 'Pikachu'),\n",
       " (['Mankey', 'Grimer'], 'Grimer'),\n",
       " (['Sandshrew', 'Dratini'], 'Sandshrew'),\n",
       " (['Ekans', 'Pikachu'], 'Pikachu'),\n",
       " (['Machop', 'Slowpoke'], 'Slowpoke'),\n",
       " (['Rattata', 'Pikachu'], 'Pikachu'),\n",
       " (['Zubat', 'Tauros'], 'Zubat'),\n",
       " (['Bulbasaur', 'Rattata'], 'Rattata'),\n",
       " (['Ekans', 'Sandshrew'], 'Sandshrew'),\n",
       " (['Ekans', 'Machop'], 'Ekans'),\n",
       " (['Mankey', 'Machop'], 'Machop'),\n",
       " (['Ekans', 'Diglett'], 'Diglett'),\n",
       " (['Sandshrew', 'Machop'], 'Sandshrew'),\n",
       " (['Pidgey', 'Meowth'], 'Meowth'),\n",
       " (['Sandshrew', 'Omanyte'], 'Omanyte'),\n",
       " (['Squirtle', 'Jynx'], 'Squirtle'),\n",
       " (['Ekans', 'Omanyte'], 'Omanyte'),\n",
       " (['Charmander', 'Ekans'], 'Ekans'),\n",
       " (['Squirtle', 'Abra'], 'Squirtle'),\n",
       " (['Pidgey', 'Omanyte'], 'Omanyte'),\n",
       " (['Machop', 'Grimer'], 'Grimer'),\n",
       " (['Grimer', 'Jynx'], 'Jynx'),\n",
       " (['Abra', 'Mankey'], 'Abra'),\n",
       " (['Pidgey', 'Poliwag'], 'Poliwag'),\n",
       " (['Clefairy', 'Cubone'], 'Clefairy'),\n",
       " (['Jigglypuff', 'Grimer'], 'Jigglypuff'),\n",
       " (['Pikachu', 'Poliwag'], 'Pikachu'),\n",
       " (['Rattata', 'Mankey'], 'Mankey'),\n",
       " (['Squirtle', 'Omanyte'], 'Squirtle'),\n",
       " (['Squirtle', 'Horsea'], 'Squirtle'),\n",
       " (['Pikachu', 'Zubat'], 'Pikachu'),\n",
       " (['Rattata', 'Diglett'], 'Diglett'),\n",
       " (['Pidgey', 'Rattata'], 'Rattata'),\n",
       " (['Poliwag', 'Clefairy'], 'Poliwag'),\n",
       " (['Abra', 'Jynx'], 'Jynx'),\n",
       " (['Charmander', 'Pikachu'], 'Pikachu'),\n",
       " (['Abra', 'Horsea'], 'Horsea'),\n",
       " (['Meowth', 'Tauros'], 'Meowth'),\n",
       " (['Squirtle', 'Sandshrew'], 'Squirtle'),\n",
       " (['Bulbasaur', 'Clefairy'], 'Bulbasaur'),\n",
       " (['Abra', 'Lapras'], 'Abra'),\n",
       " (['Cubone', 'Horsea'], 'Horsea'),\n",
       " (['Zubat', 'Lapras'], 'Lapras'),\n",
       " (['Zubat', 'Meowth'], 'Meowth'),\n",
       " (['Horsea', 'Tauros'], 'Tauros'),\n",
       " (['Slowpoke', 'Omanyte'], 'Omanyte'),\n",
       " (['Jigglypuff', 'Cubone'], 'Jigglypuff'),\n",
       " (['Pikachu', 'Horsea'], 'Pikachu'),\n",
       " (['Bulbasaur', 'Poliwag'], 'Bulbasaur'),\n",
       " (['Abra', 'Machop'], 'Abra'),\n",
       " (['Diglett', 'Gastly'], 'Diglett'),\n",
       " (['Mankey', 'Jynx'], 'Jynx'),\n",
       " (['Machop', 'Tauros'], 'Machop'),\n",
       " (['Horsea', 'Jynx'], 'Horsea'),\n",
       " (['Diglett', 'Jynx'], 'Jynx'),\n",
       " (['Machop', 'Jynx'], 'Jynx'),\n",
       " (['Tauros', 'Lapras'], 'Tauros'),\n",
       " (['Diglett', 'Cubone'], 'Diglett'),\n",
       " (['Meowth', 'Machop'], 'Machop'),\n",
       " (['Squirtle', 'Tauros'], 'Squirtle'),\n",
       " (['Sandshrew', 'Clefairy'], 'Sandshrew'),\n",
       " (['Dratini', 'Machop'], 'Machop'),\n",
       " (['Diglett', 'Horsea'], 'Horsea'),\n",
       " (['Rattata', 'Meowth'], 'Meowth'),\n",
       " (['Clefairy', 'Horsea'], 'Horsea'),\n",
       " (['Ekans', 'Horsea'], 'Ekans'),\n",
       " (['Charmander', 'Slowpoke'], 'Slowpoke'),\n",
       " (['Charmander', 'Poliwag'], 'Poliwag'),\n",
       " (['Poliwag', 'Gastly'], 'Gastly'),\n",
       " (['Charmander', 'Rattata'], 'Charmander'),\n",
       " (['Slowpoke', 'Gastly'], 'Gastly'),\n",
       " (['Lapras', 'Jynx'], 'Jynx'),\n",
       " (['Meowth', 'Cubone'], 'Meowth'),\n",
       " (['Machop', 'Cubone'], 'Machop'),\n",
       " (['Rattata', 'Gastly'], 'Rattata'),\n",
       " (['Ekans', 'Dratini'], 'Ekans'),\n",
       " (['Zubat', 'Mankey'], 'Zubat'),\n",
       " (['Poliwag', 'Mankey'], 'Mankey'),\n",
       " (['Ekans', 'Jynx'], 'Jynx'),\n",
       " (['Abra', 'Tauros'], 'Abra'),\n",
       " (['Zubat', 'Machop'], 'Zubat'),\n",
       " (['Pikachu', 'Gastly'], 'Pikachu'),\n",
       " (['Rattata', 'Poliwag'], 'Rattata'),\n",
       " (['Ekans', 'Lapras'], 'Lapras'),\n",
       " (['Jigglypuff', 'Gastly'], 'Gastly'),\n",
       " (['Dratini', 'Cubone'], 'Dratini'),\n",
       " (['Diglett', 'Tauros'], 'Tauros'),\n",
       " (['Squirtle', 'Rattata'], 'Squirtle'),\n",
       " (['Jigglypuff', 'Mankey'], 'Mankey'),\n",
       " (['Poliwag', 'Lapras'], 'Poliwag'),\n",
       " (['Clefairy', 'Gastly'], 'Clefairy'),\n",
       " (['Slowpoke', 'Jynx'], 'Slowpoke'),\n",
       " (['Dratini', 'Tauros'], 'Dratini'),\n",
       " (['Bulbasaur', 'Grimer'], 'Bulbasaur'),\n",
       " (['Pidgey', 'Jigglypuff'], 'Jigglypuff'),\n",
       " (['Pikachu', 'Cubone'], 'Cubone'),\n",
       " (['Poliwag', 'Meowth'], 'Poliwag'),\n",
       " (['Sandshrew', 'Lapras'], 'Lapras'),\n",
       " (['Diglett', 'Machop'], 'Machop'),\n",
       " (['Charmander', 'Tauros'], 'Charmander'),\n",
       " (['Mankey', 'Lapras'], 'Mankey'),\n",
       " (['Charmander', 'Jigglypuff'], 'Charmander'),\n",
       " (['Ekans', 'Abra'], 'Abra'),\n",
       " (['Bulbasaur', 'Horsea'], 'Bulbasaur'),\n",
       " (['Diglett', 'Meowth'], 'Meowth'),\n",
       " (['Meowth', 'Horsea'], 'Meowth'),\n",
       " (['Bulbasaur', 'Diglett'], 'Bulbasaur'),\n",
       " (['Sandshrew', 'Zubat'], 'Zubat'),\n",
       " (['Jigglypuff', 'Tauros'], 'Jigglypuff'),\n",
       " (['Omanyte', 'Gastly'], 'Omanyte'),\n",
       " (['Machop', 'Lapras'], 'Machop'),\n",
       " (['Squirtle', 'Dratini'], 'Dratini'),\n",
       " (['Squirtle', 'Ekans'], 'Squirtle'),\n",
       " (['Pidgey', 'Gastly'], 'Gastly'),\n",
       " (['Machop', 'Omanyte'], 'Machop'),\n",
       " (['Bulbasaur', 'Jynx'], 'Jynx'),\n",
       " (['Poliwag', 'Zubat'], 'Zubat'),\n",
       " (['Bulbasaur', 'Sandshrew'], 'Bulbasaur'),\n",
       " (['Abra', 'Gastly'], 'Gastly'),\n",
       " (['Poliwag', 'Grimer'], 'Poliwag'),\n",
       " (['Bulbasaur', 'Squirtle'], 'Bulbasaur'),\n",
       " (['Dratini', 'Poliwag'], 'Dratini'),\n",
       " (['Cubone', 'Lapras'], 'Lapras'),\n",
       " (['Squirtle', 'Slowpoke'], 'Slowpoke'),\n",
       " (['Pikachu', 'Meowth'], 'Meowth'),\n",
       " (['Pidgey', 'Jynx'], 'Jynx'),\n",
       " (['Diglett', 'Lapras'], 'Lapras'),\n",
       " (['Ekans', 'Jigglypuff'], 'Ekans'),\n",
       " (['Pikachu', 'Slowpoke'], 'Pikachu'),\n",
       " (['Zubat', 'Horsea'], 'Zubat'),\n",
       " (['Lapras', 'Gastly'], 'Lapras'),\n",
       " (['Cubone', 'Omanyte'], 'Omanyte'),\n",
       " (['Pidgey', 'Diglett'], 'Pidgey'),\n",
       " (['Squirtle', 'Pikachu'], 'Pikachu'),\n",
       " (['Charmander', 'Meowth'], 'Meowth'),\n",
       " (['Pidgey', 'Clefairy'], 'Pidgey'),\n",
       " (['Bulbasaur', 'Omanyte'], 'Bulbasaur'),\n",
       " (['Poliwag', 'Jynx'], 'Jynx'),\n",
       " (['Meowth', 'Omanyte'], 'Omanyte'),\n",
       " (['Diglett', 'Slowpoke'], 'Slowpoke'),\n",
       " (['Pikachu', 'Jynx'], 'Pikachu'),\n",
       " (['Abra', 'Zubat'], 'Abra'),\n",
       " (['Bulbasaur', 'Tauros'], 'Tauros'),\n",
       " (['Clefairy', 'Zubat'], 'Zubat'),\n",
       " (['Bulbasaur', 'Zubat'], 'Zubat'),\n",
       " (['Charmander', 'Abra'], 'Abra'),\n",
       " (['Bulbasaur', 'Pikachu'], 'Bulbasaur'),\n",
       " (['Grimer', 'Cubone'], 'Cubone'),\n",
       " (['Clefairy', 'Lapras'], 'Lapras'),\n",
       " (['Rattata', 'Tauros'], 'Rattata'),\n",
       " (['Zubat', 'Grimer'], 'Zubat'),\n",
       " (['Pikachu', 'Abra'], 'Abra'),\n",
       " (['Dratini', 'Horsea'], 'Dratini'),\n",
       " (['Bulbasaur', 'Machop'], 'Bulbasaur'),\n",
       " (['Ekans', 'Tauros'], 'Ekans'),\n",
       " (['Sandshrew', 'Poliwag'], 'Poliwag'),\n",
       " (['Bulbasaur', 'Gastly'], 'Gastly'),\n",
       " (['Grimer', 'Gastly'], 'Grimer'),\n",
       " (['Clefairy', 'Machop'], 'Clefairy'),\n",
       " (['Mankey', 'Cubone'], 'Mankey'),\n",
       " (['Ekans', 'Poliwag'], 'Ekans'),\n",
       " (['Jigglypuff', 'Zubat'], 'Zubat'),\n",
       " (['Bulbasaur', 'Ekans'], 'Ekans'),\n",
       " (['Meowth', 'Slowpoke'], 'Meowth'),\n",
       " (['Clefairy', 'Mankey'], 'Mankey'),\n",
       " (['Charmander', 'Horsea'], 'Horsea'),\n",
       " (['Pikachu', 'Dratini'], 'Dratini'),\n",
       " (['Pikachu', 'Diglett'], 'Diglett'),\n",
       " (['Ekans', 'Clefairy'], 'Ekans'),\n",
       " (['Mankey', 'Horsea'], 'Horsea'),\n",
       " (['Omanyte', 'Jynx'], 'Omanyte'),\n",
       " (['Grimer', 'Lapras'], 'Lapras'),\n",
       " (['Squirtle', 'Diglett'], 'Squirtle'),\n",
       " (['Squirtle', 'Gastly'], 'Squirtle'),\n",
       " (['Sandshrew', 'Cubone'], 'Sandshrew'),\n",
       " (['Pidgey', 'Mankey'], 'Pidgey'),\n",
       " (['Charmander', 'Sandshrew'], 'Sandshrew'),\n",
       " (['Dratini', 'Meowth'], 'Meowth'),\n",
       " (['Poliwag', 'Machop'], 'Machop'),\n",
       " (['Zubat', 'Jynx'], 'Jynx'),\n",
       " (['Tauros', 'Omanyte'], 'Omanyte'),\n",
       " ...]"
      ]
     },
     "execution_count": 9,
     "metadata": {},
     "output_type": "execute_result"
    }
   ],
   "source": [
    "data"
   ]
  },
  {
   "cell_type": "markdown",
   "metadata": {},
   "source": [
    "Train CBOW model to produce embeddings of size 32."
   ]
  },
  {
   "cell_type": "code",
   "execution_count": 10,
   "metadata": {},
   "outputs": [
    {
     "name": "stderr",
     "output_type": "stream",
     "text": [
      "  0%|                                                                                 | 1/1000 [00:00<11:20,  1.47it/s]"
     ]
    },
    {
     "name": "stdout",
     "output_type": "stream",
     "text": [
      "1209.0692138671875\n"
     ]
    },
    {
     "name": "stderr",
     "output_type": "stream",
     "text": [
      "\r",
      "  0%|▏                                                                                | 2/1000 [00:01<08:31,  1.95it/s]"
     ]
    },
    {
     "name": "stdout",
     "output_type": "stream",
     "text": [
      "1121.9840087890625\n"
     ]
    },
    {
     "name": "stderr",
     "output_type": "stream",
     "text": [
      "\r",
      "  0%|▏                                                                                | 3/1000 [00:01<08:02,  2.06it/s]"
     ]
    },
    {
     "name": "stdout",
     "output_type": "stream",
     "text": [
      "1036.6279296875\n"
     ]
    },
    {
     "name": "stderr",
     "output_type": "stream",
     "text": [
      "\r",
      "  0%|▎                                                                                | 4/1000 [00:01<07:36,  2.18it/s]"
     ]
    },
    {
     "name": "stdout",
     "output_type": "stream",
     "text": [
      "962.33447265625\n"
     ]
    },
    {
     "name": "stderr",
     "output_type": "stream",
     "text": [
      "\r",
      "  0%|▍                                                                                | 5/1000 [00:02<07:25,  2.23it/s]"
     ]
    },
    {
     "name": "stdout",
     "output_type": "stream",
     "text": [
      "898.45654296875\n"
     ]
    },
    {
     "name": "stderr",
     "output_type": "stream",
     "text": [
      "\r",
      "  1%|▍                                                                                | 6/1000 [00:02<07:13,  2.29it/s]"
     ]
    },
    {
     "name": "stdout",
     "output_type": "stream",
     "text": [
      "835.0162353515625\n"
     ]
    },
    {
     "name": "stderr",
     "output_type": "stream",
     "text": [
      "\r",
      "  1%|▌                                                                                | 7/1000 [00:03<07:28,  2.21it/s]"
     ]
    },
    {
     "name": "stdout",
     "output_type": "stream",
     "text": [
      "785.1495971679688\n"
     ]
    },
    {
     "name": "stderr",
     "output_type": "stream",
     "text": [
      "\r",
      "  1%|▋                                                                                | 8/1000 [00:03<07:18,  2.26it/s]"
     ]
    },
    {
     "name": "stdout",
     "output_type": "stream",
     "text": [
      "722.8123168945312\n"
     ]
    },
    {
     "name": "stderr",
     "output_type": "stream",
     "text": [
      "\r",
      "  1%|▋                                                                                | 9/1000 [00:04<07:08,  2.31it/s]"
     ]
    },
    {
     "name": "stdout",
     "output_type": "stream",
     "text": [
      "662.9979248046875\n"
     ]
    },
    {
     "name": "stderr",
     "output_type": "stream",
     "text": [
      "\r",
      "  1%|▊                                                                               | 10/1000 [00:04<06:53,  2.39it/s]"
     ]
    },
    {
     "name": "stdout",
     "output_type": "stream",
     "text": [
      "634.2183837890625\n"
     ]
    },
    {
     "name": "stderr",
     "output_type": "stream",
     "text": [
      "\r",
      "  1%|▉                                                                               | 11/1000 [00:04<06:51,  2.40it/s]"
     ]
    },
    {
     "name": "stdout",
     "output_type": "stream",
     "text": [
      "593.9249267578125\n"
     ]
    },
    {
     "name": "stderr",
     "output_type": "stream",
     "text": [
      "\r",
      "  1%|▉                                                                               | 12/1000 [00:05<06:42,  2.45it/s]"
     ]
    },
    {
     "name": "stdout",
     "output_type": "stream",
     "text": [
      "540.2463989257812\n"
     ]
    },
    {
     "name": "stderr",
     "output_type": "stream",
     "text": [
      "\r",
      "  1%|█                                                                               | 13/1000 [00:05<06:49,  2.41it/s]"
     ]
    },
    {
     "name": "stdout",
     "output_type": "stream",
     "text": [
      "517.4659423828125\n"
     ]
    },
    {
     "name": "stderr",
     "output_type": "stream",
     "text": [
      "\r",
      "  1%|█                                                                               | 14/1000 [00:06<06:38,  2.47it/s]"
     ]
    },
    {
     "name": "stdout",
     "output_type": "stream",
     "text": [
      "481.3977355957031\n"
     ]
    },
    {
     "name": "stderr",
     "output_type": "stream",
     "text": [
      "\r",
      "  2%|█▏                                                                              | 15/1000 [00:06<06:34,  2.50it/s]"
     ]
    },
    {
     "name": "stdout",
     "output_type": "stream",
     "text": [
      "446.057373046875\n"
     ]
    },
    {
     "name": "stderr",
     "output_type": "stream",
     "text": [
      "\r",
      "  2%|█▎                                                                              | 16/1000 [00:06<06:32,  2.51it/s]"
     ]
    },
    {
     "name": "stdout",
     "output_type": "stream",
     "text": [
      "425.1698303222656\n"
     ]
    },
    {
     "name": "stderr",
     "output_type": "stream",
     "text": [
      "\r",
      "  2%|█▎                                                                              | 17/1000 [00:07<06:29,  2.53it/s]"
     ]
    },
    {
     "name": "stdout",
     "output_type": "stream",
     "text": [
      "405.1292724609375\n"
     ]
    },
    {
     "name": "stderr",
     "output_type": "stream",
     "text": [
      "\r",
      "  2%|█▍                                                                              | 18/1000 [00:07<06:28,  2.53it/s]"
     ]
    },
    {
     "name": "stdout",
     "output_type": "stream",
     "text": [
      "385.48504638671875\n"
     ]
    },
    {
     "name": "stderr",
     "output_type": "stream",
     "text": [
      "\r",
      "  2%|█▌                                                                              | 19/1000 [00:08<06:26,  2.54it/s]"
     ]
    },
    {
     "name": "stdout",
     "output_type": "stream",
     "text": [
      "365.53680419921875\n"
     ]
    },
    {
     "name": "stderr",
     "output_type": "stream",
     "text": [
      "\r",
      "  2%|█▌                                                                              | 20/1000 [00:08<06:23,  2.55it/s]"
     ]
    },
    {
     "name": "stdout",
     "output_type": "stream",
     "text": [
      "348.5910949707031\n"
     ]
    },
    {
     "name": "stderr",
     "output_type": "stream",
     "text": [
      "\r",
      "  2%|█▋                                                                              | 21/1000 [00:08<06:23,  2.56it/s]"
     ]
    },
    {
     "name": "stdout",
     "output_type": "stream",
     "text": [
      "328.7410888671875\n"
     ]
    },
    {
     "name": "stderr",
     "output_type": "stream",
     "text": [
      "\r",
      "  2%|█▊                                                                              | 22/1000 [00:09<06:18,  2.58it/s]"
     ]
    },
    {
     "name": "stdout",
     "output_type": "stream",
     "text": [
      "326.75140380859375\n"
     ]
    },
    {
     "name": "stderr",
     "output_type": "stream",
     "text": [
      "\r",
      "  2%|█▊                                                                              | 23/1000 [00:09<06:17,  2.59it/s]"
     ]
    },
    {
     "name": "stdout",
     "output_type": "stream",
     "text": [
      "314.8626708984375\n"
     ]
    },
    {
     "name": "stderr",
     "output_type": "stream",
     "text": [
      "\r",
      "  2%|█▉                                                                              | 24/1000 [00:09<06:16,  2.59it/s]"
     ]
    },
    {
     "name": "stdout",
     "output_type": "stream",
     "text": [
      "291.4179382324219\n"
     ]
    },
    {
     "name": "stderr",
     "output_type": "stream",
     "text": [
      "\r",
      "  2%|██                                                                              | 25/1000 [00:10<06:17,  2.59it/s]"
     ]
    },
    {
     "name": "stdout",
     "output_type": "stream",
     "text": [
      "289.0869445800781\n"
     ]
    },
    {
     "name": "stderr",
     "output_type": "stream",
     "text": [
      "\r",
      "  3%|██                                                                              | 26/1000 [00:10<06:16,  2.59it/s]"
     ]
    },
    {
     "name": "stdout",
     "output_type": "stream",
     "text": [
      "286.926025390625\n"
     ]
    },
    {
     "name": "stderr",
     "output_type": "stream",
     "text": [
      "\r",
      "  3%|██▏                                                                             | 27/1000 [00:11<06:15,  2.59it/s]"
     ]
    },
    {
     "name": "stdout",
     "output_type": "stream",
     "text": [
      "268.8193664550781\n"
     ]
    },
    {
     "name": "stderr",
     "output_type": "stream",
     "text": [
      "\r",
      "  3%|██▏                                                                             | 28/1000 [00:11<06:29,  2.49it/s]"
     ]
    },
    {
     "name": "stdout",
     "output_type": "stream",
     "text": [
      "258.8009033203125\n"
     ]
    },
    {
     "name": "stderr",
     "output_type": "stream",
     "text": [
      "\r",
      "  3%|██▎                                                                             | 29/1000 [00:11<06:30,  2.49it/s]"
     ]
    },
    {
     "name": "stdout",
     "output_type": "stream",
     "text": [
      "253.0047149658203\n"
     ]
    },
    {
     "name": "stderr",
     "output_type": "stream",
     "text": [
      "\r",
      "  3%|██▍                                                                             | 30/1000 [00:12<06:26,  2.51it/s]"
     ]
    },
    {
     "name": "stdout",
     "output_type": "stream",
     "text": [
      "247.68101501464844\n"
     ]
    },
    {
     "name": "stderr",
     "output_type": "stream",
     "text": [
      "\r",
      "  3%|██▍                                                                             | 31/1000 [00:12<06:21,  2.54it/s]"
     ]
    },
    {
     "name": "stdout",
     "output_type": "stream",
     "text": [
      "239.64236450195312\n"
     ]
    },
    {
     "name": "stderr",
     "output_type": "stream",
     "text": [
      "\r",
      "  3%|██▌                                                                             | 32/1000 [00:13<06:17,  2.57it/s]"
     ]
    },
    {
     "name": "stdout",
     "output_type": "stream",
     "text": [
      "241.12965393066406\n"
     ]
    },
    {
     "name": "stderr",
     "output_type": "stream",
     "text": [
      "\r",
      "  3%|██▋                                                                             | 33/1000 [00:13<06:29,  2.48it/s]"
     ]
    },
    {
     "name": "stdout",
     "output_type": "stream",
     "text": [
      "235.02215576171875\n"
     ]
    },
    {
     "name": "stderr",
     "output_type": "stream",
     "text": [
      "\r",
      "  3%|██▋                                                                             | 34/1000 [00:13<06:24,  2.51it/s]"
     ]
    },
    {
     "name": "stdout",
     "output_type": "stream",
     "text": [
      "237.94361877441406\n"
     ]
    },
    {
     "name": "stderr",
     "output_type": "stream",
     "text": [
      "\r",
      "  4%|██▊                                                                             | 35/1000 [00:14<06:24,  2.51it/s]"
     ]
    },
    {
     "name": "stdout",
     "output_type": "stream",
     "text": [
      "225.7589111328125\n"
     ]
    },
    {
     "name": "stderr",
     "output_type": "stream",
     "text": [
      "\r",
      "  4%|██▉                                                                             | 36/1000 [00:14<06:22,  2.52it/s]"
     ]
    },
    {
     "name": "stdout",
     "output_type": "stream",
     "text": [
      "219.84144592285156\n"
     ]
    },
    {
     "name": "stderr",
     "output_type": "stream",
     "text": [
      "\r",
      "  4%|██▉                                                                             | 37/1000 [00:15<06:25,  2.50it/s]"
     ]
    },
    {
     "name": "stdout",
     "output_type": "stream",
     "text": [
      "224.02285766601562\n"
     ]
    },
    {
     "name": "stderr",
     "output_type": "stream",
     "text": [
      "\r",
      "  4%|███                                                                             | 38/1000 [00:15<06:28,  2.48it/s]"
     ]
    },
    {
     "name": "stdout",
     "output_type": "stream",
     "text": [
      "222.8563690185547\n"
     ]
    },
    {
     "name": "stderr",
     "output_type": "stream",
     "text": [
      "\r",
      "  4%|███                                                                             | 39/1000 [00:15<06:29,  2.46it/s]"
     ]
    },
    {
     "name": "stdout",
     "output_type": "stream",
     "text": [
      "219.79847717285156\n"
     ]
    },
    {
     "name": "stderr",
     "output_type": "stream",
     "text": [
      "\r",
      "  4%|███▏                                                                            | 40/1000 [00:16<06:28,  2.47it/s]"
     ]
    },
    {
     "name": "stdout",
     "output_type": "stream",
     "text": [
      "200.2098388671875\n"
     ]
    },
    {
     "name": "stderr",
     "output_type": "stream",
     "text": [
      "\r",
      "  4%|███▎                                                                            | 41/1000 [00:16<06:20,  2.52it/s]"
     ]
    },
    {
     "name": "stdout",
     "output_type": "stream",
     "text": [
      "199.94374084472656\n"
     ]
    },
    {
     "name": "stderr",
     "output_type": "stream",
     "text": [
      "\r",
      "  4%|███▎                                                                            | 42/1000 [00:17<06:18,  2.53it/s]"
     ]
    },
    {
     "name": "stdout",
     "output_type": "stream",
     "text": [
      "204.29550170898438\n"
     ]
    },
    {
     "name": "stderr",
     "output_type": "stream",
     "text": [
      "\r",
      "  4%|███▍                                                                            | 43/1000 [00:17<06:14,  2.56it/s]"
     ]
    },
    {
     "name": "stdout",
     "output_type": "stream",
     "text": [
      "193.96197509765625\n"
     ]
    },
    {
     "name": "stderr",
     "output_type": "stream",
     "text": [
      "\r",
      "  4%|███▌                                                                            | 44/1000 [00:17<06:15,  2.55it/s]"
     ]
    },
    {
     "name": "stdout",
     "output_type": "stream",
     "text": [
      "205.06871032714844\n"
     ]
    },
    {
     "name": "stderr",
     "output_type": "stream",
     "text": [
      "\r",
      "  4%|███▌                                                                            | 45/1000 [00:18<06:21,  2.51it/s]"
     ]
    },
    {
     "name": "stdout",
     "output_type": "stream",
     "text": [
      "189.01895141601562\n"
     ]
    },
    {
     "name": "stderr",
     "output_type": "stream",
     "text": [
      "\r",
      "  5%|███▋                                                                            | 46/1000 [00:18<06:17,  2.53it/s]"
     ]
    },
    {
     "name": "stdout",
     "output_type": "stream",
     "text": [
      "198.12481689453125\n"
     ]
    },
    {
     "name": "stderr",
     "output_type": "stream",
     "text": [
      "\r",
      "  5%|███▊                                                                            | 47/1000 [00:19<06:19,  2.51it/s]"
     ]
    },
    {
     "name": "stdout",
     "output_type": "stream",
     "text": [
      "193.20819091796875\n",
      "190.58828735351562\n"
     ]
    },
    {
     "name": "stderr",
     "output_type": "stream",
     "text": [
      "  5%|███▉                                                                            | 49/1000 [00:19<06:22,  2.49it/s]"
     ]
    },
    {
     "name": "stdout",
     "output_type": "stream",
     "text": [
      "183.4811248779297\n"
     ]
    },
    {
     "name": "stderr",
     "output_type": "stream",
     "text": [
      "\r",
      "  5%|████                                                                            | 50/1000 [00:20<06:19,  2.50it/s]"
     ]
    },
    {
     "name": "stdout",
     "output_type": "stream",
     "text": [
      "184.55862426757812\n"
     ]
    },
    {
     "name": "stderr",
     "output_type": "stream",
     "text": [
      "\r",
      "  5%|████                                                                            | 51/1000 [00:20<06:25,  2.46it/s]"
     ]
    },
    {
     "name": "stdout",
     "output_type": "stream",
     "text": [
      "179.9423828125\n"
     ]
    },
    {
     "name": "stderr",
     "output_type": "stream",
     "text": [
      "\r",
      "  5%|████▏                                                                           | 52/1000 [00:21<06:34,  2.40it/s]"
     ]
    },
    {
     "name": "stdout",
     "output_type": "stream",
     "text": [
      "185.48126220703125\n"
     ]
    },
    {
     "name": "stderr",
     "output_type": "stream",
     "text": [
      "\r",
      "  5%|████▏                                                                           | 53/1000 [00:21<06:44,  2.34it/s]"
     ]
    },
    {
     "name": "stdout",
     "output_type": "stream",
     "text": [
      "184.2946319580078\n"
     ]
    },
    {
     "name": "stderr",
     "output_type": "stream",
     "text": [
      "\r",
      "  5%|████▎                                                                           | 54/1000 [00:22<06:46,  2.33it/s]"
     ]
    },
    {
     "name": "stdout",
     "output_type": "stream",
     "text": [
      "178.018798828125\n"
     ]
    },
    {
     "name": "stderr",
     "output_type": "stream",
     "text": [
      "\r",
      "  6%|████▍                                                                           | 55/1000 [00:22<06:41,  2.35it/s]"
     ]
    },
    {
     "name": "stdout",
     "output_type": "stream",
     "text": [
      "171.1263427734375\n"
     ]
    },
    {
     "name": "stderr",
     "output_type": "stream",
     "text": [
      "\r",
      "  6%|████▍                                                                           | 56/1000 [00:22<06:28,  2.43it/s]"
     ]
    },
    {
     "name": "stdout",
     "output_type": "stream",
     "text": [
      "170.18356323242188\n"
     ]
    },
    {
     "name": "stderr",
     "output_type": "stream",
     "text": [
      "\r",
      "  6%|████▌                                                                           | 57/1000 [00:23<06:22,  2.47it/s]"
     ]
    },
    {
     "name": "stdout",
     "output_type": "stream",
     "text": [
      "176.4041290283203\n"
     ]
    },
    {
     "name": "stderr",
     "output_type": "stream",
     "text": [
      "\r",
      "  6%|████▋                                                                           | 58/1000 [00:23<06:14,  2.51it/s]"
     ]
    },
    {
     "name": "stdout",
     "output_type": "stream",
     "text": [
      "177.05674743652344\n"
     ]
    },
    {
     "name": "stderr",
     "output_type": "stream",
     "text": [
      "\r",
      "  6%|████▋                                                                           | 59/1000 [00:24<06:08,  2.55it/s]"
     ]
    },
    {
     "name": "stdout",
     "output_type": "stream",
     "text": [
      "164.87867736816406\n"
     ]
    },
    {
     "name": "stderr",
     "output_type": "stream",
     "text": [
      "\r",
      "  6%|████▊                                                                           | 60/1000 [00:24<06:11,  2.53it/s]"
     ]
    },
    {
     "name": "stdout",
     "output_type": "stream",
     "text": [
      "166.13829040527344\n"
     ]
    },
    {
     "name": "stderr",
     "output_type": "stream",
     "text": [
      "\r",
      "  6%|████▉                                                                           | 61/1000 [00:24<06:10,  2.54it/s]"
     ]
    },
    {
     "name": "stdout",
     "output_type": "stream",
     "text": [
      "168.62985229492188\n"
     ]
    },
    {
     "name": "stderr",
     "output_type": "stream",
     "text": [
      "\r",
      "  6%|████▉                                                                           | 62/1000 [00:25<06:06,  2.56it/s]"
     ]
    },
    {
     "name": "stdout",
     "output_type": "stream",
     "text": [
      "169.1300506591797\n"
     ]
    },
    {
     "name": "stderr",
     "output_type": "stream",
     "text": [
      "\r",
      "  6%|█████                                                                           | 63/1000 [00:25<06:08,  2.54it/s]"
     ]
    },
    {
     "name": "stdout",
     "output_type": "stream",
     "text": [
      "155.38929748535156\n"
     ]
    },
    {
     "name": "stderr",
     "output_type": "stream",
     "text": [
      "\r",
      "  6%|█████                                                                           | 64/1000 [00:26<06:06,  2.55it/s]"
     ]
    },
    {
     "name": "stdout",
     "output_type": "stream",
     "text": [
      "163.59327697753906\n"
     ]
    },
    {
     "name": "stderr",
     "output_type": "stream",
     "text": [
      "\r",
      "  6%|█████▏                                                                          | 65/1000 [00:26<06:15,  2.49it/s]"
     ]
    },
    {
     "name": "stdout",
     "output_type": "stream",
     "text": [
      "160.08895874023438\n"
     ]
    },
    {
     "name": "stderr",
     "output_type": "stream",
     "text": [
      "\r",
      "  7%|█████▎                                                                          | 66/1000 [00:26<06:16,  2.48it/s]"
     ]
    },
    {
     "name": "stdout",
     "output_type": "stream",
     "text": [
      "160.5564727783203\n"
     ]
    },
    {
     "name": "stderr",
     "output_type": "stream",
     "text": [
      "\r",
      "  7%|█████▎                                                                          | 67/1000 [00:27<06:10,  2.52it/s]"
     ]
    },
    {
     "name": "stdout",
     "output_type": "stream",
     "text": [
      "161.66319274902344\n"
     ]
    },
    {
     "name": "stderr",
     "output_type": "stream",
     "text": [
      "\r",
      "  7%|█████▍                                                                          | 68/1000 [00:27<06:28,  2.40it/s]"
     ]
    },
    {
     "name": "stdout",
     "output_type": "stream",
     "text": [
      "164.7758331298828\n"
     ]
    },
    {
     "name": "stderr",
     "output_type": "stream",
     "text": [
      "\r",
      "  7%|█████▌                                                                          | 69/1000 [00:28<06:26,  2.41it/s]"
     ]
    },
    {
     "name": "stdout",
     "output_type": "stream",
     "text": [
      "155.73077392578125\n"
     ]
    },
    {
     "name": "stderr",
     "output_type": "stream",
     "text": [
      "\r",
      "  7%|█████▌                                                                          | 70/1000 [00:28<06:17,  2.46it/s]"
     ]
    },
    {
     "name": "stdout",
     "output_type": "stream",
     "text": [
      "162.70645141601562\n"
     ]
    },
    {
     "name": "stderr",
     "output_type": "stream",
     "text": [
      "\r",
      "  7%|█████▋                                                                          | 71/1000 [00:28<06:15,  2.47it/s]"
     ]
    },
    {
     "name": "stdout",
     "output_type": "stream",
     "text": [
      "156.42649841308594\n"
     ]
    },
    {
     "name": "stderr",
     "output_type": "stream",
     "text": [
      "\r",
      "  7%|█████▊                                                                          | 72/1000 [00:29<06:38,  2.33it/s]"
     ]
    },
    {
     "name": "stdout",
     "output_type": "stream",
     "text": [
      "161.92501831054688\n"
     ]
    },
    {
     "name": "stderr",
     "output_type": "stream",
     "text": [
      "\r",
      "  7%|█████▊                                                                          | 73/1000 [00:29<06:30,  2.37it/s]"
     ]
    },
    {
     "name": "stdout",
     "output_type": "stream",
     "text": [
      "156.13485717773438\n",
      "156.04974365234375\n"
     ]
    },
    {
     "name": "stderr",
     "output_type": "stream",
     "text": [
      "  8%|██████                                                                          | 75/1000 [00:30<06:51,  2.25it/s]"
     ]
    },
    {
     "name": "stdout",
     "output_type": "stream",
     "text": [
      "152.03416442871094\n"
     ]
    },
    {
     "name": "stderr",
     "output_type": "stream",
     "text": [
      "\r",
      "  8%|██████                                                                          | 76/1000 [00:31<06:48,  2.26it/s]"
     ]
    },
    {
     "name": "stdout",
     "output_type": "stream",
     "text": [
      "151.82879638671875\n"
     ]
    },
    {
     "name": "stderr",
     "output_type": "stream",
     "text": [
      "\r",
      "  8%|██████▏                                                                         | 77/1000 [00:31<06:50,  2.25it/s]"
     ]
    },
    {
     "name": "stdout",
     "output_type": "stream",
     "text": [
      "159.58778381347656\n"
     ]
    },
    {
     "name": "stderr",
     "output_type": "stream",
     "text": [
      "\r",
      "  8%|██████▏                                                                         | 78/1000 [00:32<06:56,  2.22it/s]"
     ]
    },
    {
     "name": "stdout",
     "output_type": "stream",
     "text": [
      "156.1549072265625\n"
     ]
    },
    {
     "name": "stderr",
     "output_type": "stream",
     "text": [
      "\r",
      "  8%|██████▎                                                                         | 79/1000 [00:32<06:51,  2.24it/s]"
     ]
    },
    {
     "name": "stdout",
     "output_type": "stream",
     "text": [
      "148.44410705566406\n"
     ]
    },
    {
     "name": "stderr",
     "output_type": "stream",
     "text": [
      "\r",
      "  8%|██████▍                                                                         | 80/1000 [00:32<06:45,  2.27it/s]"
     ]
    },
    {
     "name": "stdout",
     "output_type": "stream",
     "text": [
      "147.6021728515625\n"
     ]
    },
    {
     "name": "stderr",
     "output_type": "stream",
     "text": [
      "\r",
      "  8%|██████▍                                                                         | 81/1000 [00:33<06:40,  2.30it/s]"
     ]
    },
    {
     "name": "stdout",
     "output_type": "stream",
     "text": [
      "150.84988403320312\n"
     ]
    },
    {
     "name": "stderr",
     "output_type": "stream",
     "text": [
      "\r",
      "  8%|██████▌                                                                         | 82/1000 [00:33<06:38,  2.30it/s]"
     ]
    },
    {
     "name": "stdout",
     "output_type": "stream",
     "text": [
      "153.07766723632812\n",
      "142.11984252929688\n"
     ]
    },
    {
     "name": "stderr",
     "output_type": "stream",
     "text": [
      "  8%|██████▋                                                                         | 84/1000 [00:34<06:49,  2.24it/s]"
     ]
    },
    {
     "name": "stdout",
     "output_type": "stream",
     "text": [
      "149.6793212890625\n"
     ]
    },
    {
     "name": "stderr",
     "output_type": "stream",
     "text": [
      "\r",
      "  8%|██████▊                                                                         | 85/1000 [00:35<06:42,  2.27it/s]"
     ]
    },
    {
     "name": "stdout",
     "output_type": "stream",
     "text": [
      "155.53526306152344\n"
     ]
    },
    {
     "name": "stderr",
     "output_type": "stream",
     "text": [
      "\r",
      "  9%|██████▉                                                                         | 86/1000 [00:35<06:32,  2.33it/s]"
     ]
    },
    {
     "name": "stdout",
     "output_type": "stream",
     "text": [
      "147.7941436767578\n"
     ]
    },
    {
     "name": "stderr",
     "output_type": "stream",
     "text": [
      "\r",
      "  9%|██████▉                                                                         | 87/1000 [00:35<06:28,  2.35it/s]"
     ]
    },
    {
     "name": "stdout",
     "output_type": "stream",
     "text": [
      "143.99830627441406\n",
      "153.5797119140625\n"
     ]
    },
    {
     "name": "stderr",
     "output_type": "stream",
     "text": [
      "\r",
      "  9%|███████                                                                         | 88/1000 [00:36<06:42,  2.27it/s]"
     ]
    },
    {
     "name": "stdout",
     "output_type": "stream",
     "text": [
      "144.16087341308594\n"
     ]
    },
    {
     "name": "stderr",
     "output_type": "stream",
     "text": [
      "  9%|███████▏                                                                        | 90/1000 [00:37<06:37,  2.29it/s]"
     ]
    },
    {
     "name": "stdout",
     "output_type": "stream",
     "text": [
      "144.1578826904297\n"
     ]
    },
    {
     "name": "stderr",
     "output_type": "stream",
     "text": [
      "\r",
      "  9%|███████▎                                                                        | 91/1000 [00:37<06:29,  2.33it/s]"
     ]
    },
    {
     "name": "stdout",
     "output_type": "stream",
     "text": [
      "141.32362365722656\n"
     ]
    },
    {
     "name": "stderr",
     "output_type": "stream",
     "text": [
      "\r",
      "  9%|███████▎                                                                        | 92/1000 [00:38<06:19,  2.39it/s]"
     ]
    },
    {
     "name": "stdout",
     "output_type": "stream",
     "text": [
      "143.57615661621094\n"
     ]
    },
    {
     "name": "stderr",
     "output_type": "stream",
     "text": [
      "\r",
      "  9%|███████▍                                                                        | 93/1000 [00:38<06:09,  2.45it/s]"
     ]
    },
    {
     "name": "stdout",
     "output_type": "stream",
     "text": [
      "139.50845336914062\n"
     ]
    },
    {
     "name": "stderr",
     "output_type": "stream",
     "text": [
      "\r",
      "  9%|███████▌                                                                        | 94/1000 [00:38<06:01,  2.51it/s]"
     ]
    },
    {
     "name": "stdout",
     "output_type": "stream",
     "text": [
      "149.65724182128906\n"
     ]
    },
    {
     "name": "stderr",
     "output_type": "stream",
     "text": [
      "\r",
      " 10%|███████▌                                                                        | 95/1000 [00:39<05:55,  2.54it/s]"
     ]
    },
    {
     "name": "stdout",
     "output_type": "stream",
     "text": [
      "146.30374145507812\n"
     ]
    },
    {
     "name": "stderr",
     "output_type": "stream",
     "text": [
      "\r",
      " 10%|███████▋                                                                        | 96/1000 [00:39<05:54,  2.55it/s]"
     ]
    },
    {
     "name": "stdout",
     "output_type": "stream",
     "text": [
      "141.1930389404297\n"
     ]
    },
    {
     "name": "stderr",
     "output_type": "stream",
     "text": [
      "\r",
      " 10%|███████▊                                                                        | 97/1000 [00:40<05:50,  2.57it/s]"
     ]
    },
    {
     "name": "stdout",
     "output_type": "stream",
     "text": [
      "144.87815856933594\n"
     ]
    },
    {
     "name": "stderr",
     "output_type": "stream",
     "text": [
      "\r",
      " 10%|███████▊                                                                        | 98/1000 [00:40<05:51,  2.57it/s]"
     ]
    },
    {
     "name": "stdout",
     "output_type": "stream",
     "text": [
      "140.96875\n"
     ]
    },
    {
     "name": "stderr",
     "output_type": "stream",
     "text": [
      "\r",
      " 10%|███████▉                                                                        | 99/1000 [00:40<05:51,  2.56it/s]"
     ]
    },
    {
     "name": "stdout",
     "output_type": "stream",
     "text": [
      "143.69996643066406\n"
     ]
    },
    {
     "name": "stderr",
     "output_type": "stream",
     "text": [
      "\r",
      " 10%|███████▉                                                                       | 100/1000 [00:41<05:48,  2.58it/s]"
     ]
    },
    {
     "name": "stdout",
     "output_type": "stream",
     "text": [
      "140.2165985107422\n"
     ]
    },
    {
     "name": "stderr",
     "output_type": "stream",
     "text": [
      "\r",
      " 10%|███████▉                                                                       | 101/1000 [00:41<05:47,  2.59it/s]"
     ]
    },
    {
     "name": "stdout",
     "output_type": "stream",
     "text": [
      "147.5784149169922\n"
     ]
    },
    {
     "name": "stderr",
     "output_type": "stream",
     "text": [
      "\r",
      " 10%|████████                                                                       | 102/1000 [00:41<05:50,  2.56it/s]"
     ]
    },
    {
     "name": "stdout",
     "output_type": "stream",
     "text": [
      "137.4014892578125\n"
     ]
    },
    {
     "name": "stderr",
     "output_type": "stream",
     "text": [
      "\r",
      " 10%|████████▏                                                                      | 103/1000 [00:42<05:50,  2.56it/s]"
     ]
    },
    {
     "name": "stdout",
     "output_type": "stream",
     "text": [
      "140.88717651367188\n"
     ]
    },
    {
     "name": "stderr",
     "output_type": "stream",
     "text": [
      "\r",
      " 10%|████████▏                                                                      | 104/1000 [00:42<05:50,  2.55it/s]"
     ]
    },
    {
     "name": "stdout",
     "output_type": "stream",
     "text": [
      "136.6903076171875\n"
     ]
    },
    {
     "name": "stderr",
     "output_type": "stream",
     "text": [
      "\r",
      " 10%|████████▎                                                                      | 105/1000 [00:43<05:53,  2.53it/s]"
     ]
    },
    {
     "name": "stdout",
     "output_type": "stream",
     "text": [
      "141.64309692382812\n"
     ]
    },
    {
     "name": "stderr",
     "output_type": "stream",
     "text": [
      "\r",
      " 11%|████████▎                                                                      | 106/1000 [00:43<05:50,  2.55it/s]"
     ]
    },
    {
     "name": "stdout",
     "output_type": "stream",
     "text": [
      "140.79478454589844\n"
     ]
    },
    {
     "name": "stderr",
     "output_type": "stream",
     "text": [
      "\r",
      " 11%|████████▍                                                                      | 107/1000 [00:43<05:43,  2.60it/s]"
     ]
    },
    {
     "name": "stdout",
     "output_type": "stream",
     "text": [
      "142.7902069091797\n"
     ]
    },
    {
     "name": "stderr",
     "output_type": "stream",
     "text": [
      "\r",
      " 11%|████████▌                                                                      | 108/1000 [00:44<05:41,  2.61it/s]"
     ]
    },
    {
     "name": "stdout",
     "output_type": "stream",
     "text": [
      "140.0164794921875\n"
     ]
    },
    {
     "name": "stderr",
     "output_type": "stream",
     "text": [
      "\r",
      " 11%|████████▌                                                                      | 109/1000 [00:44<05:41,  2.61it/s]"
     ]
    },
    {
     "name": "stdout",
     "output_type": "stream",
     "text": [
      "132.98236083984375\n"
     ]
    },
    {
     "name": "stderr",
     "output_type": "stream",
     "text": [
      "\r",
      " 11%|████████▋                                                                      | 110/1000 [00:45<05:40,  2.61it/s]"
     ]
    },
    {
     "name": "stdout",
     "output_type": "stream",
     "text": [
      "142.273193359375\n"
     ]
    },
    {
     "name": "stderr",
     "output_type": "stream",
     "text": [
      "\r",
      " 11%|████████▊                                                                      | 111/1000 [00:45<05:42,  2.60it/s]"
     ]
    },
    {
     "name": "stdout",
     "output_type": "stream",
     "text": [
      "134.37173461914062\n"
     ]
    },
    {
     "name": "stderr",
     "output_type": "stream",
     "text": [
      "\r",
      " 11%|████████▊                                                                      | 112/1000 [00:45<05:41,  2.60it/s]"
     ]
    },
    {
     "name": "stdout",
     "output_type": "stream",
     "text": [
      "132.4158172607422\n"
     ]
    },
    {
     "name": "stderr",
     "output_type": "stream",
     "text": [
      "\r",
      " 11%|████████▉                                                                      | 113/1000 [00:46<05:45,  2.57it/s]"
     ]
    },
    {
     "name": "stdout",
     "output_type": "stream",
     "text": [
      "147.6689453125\n"
     ]
    },
    {
     "name": "stderr",
     "output_type": "stream",
     "text": [
      "\r",
      " 11%|█████████                                                                      | 114/1000 [00:46<05:48,  2.55it/s]"
     ]
    },
    {
     "name": "stdout",
     "output_type": "stream",
     "text": [
      "134.8421630859375\n"
     ]
    },
    {
     "name": "stderr",
     "output_type": "stream",
     "text": [
      "\r",
      " 12%|█████████                                                                      | 115/1000 [00:47<05:44,  2.57it/s]"
     ]
    },
    {
     "name": "stdout",
     "output_type": "stream",
     "text": [
      "130.44091796875\n"
     ]
    },
    {
     "name": "stderr",
     "output_type": "stream",
     "text": [
      "\r",
      " 12%|█████████▏                                                                     | 116/1000 [00:47<05:41,  2.59it/s]"
     ]
    },
    {
     "name": "stdout",
     "output_type": "stream",
     "text": [
      "142.3451385498047\n"
     ]
    },
    {
     "name": "stderr",
     "output_type": "stream",
     "text": [
      "\r",
      " 12%|█████████▏                                                                     | 117/1000 [00:47<05:42,  2.58it/s]"
     ]
    },
    {
     "name": "stdout",
     "output_type": "stream",
     "text": [
      "141.03543090820312\n"
     ]
    },
    {
     "name": "stderr",
     "output_type": "stream",
     "text": [
      "\r",
      " 12%|█████████▎                                                                     | 118/1000 [00:48<05:41,  2.58it/s]"
     ]
    },
    {
     "name": "stdout",
     "output_type": "stream",
     "text": [
      "127.55008697509766\n"
     ]
    },
    {
     "name": "stderr",
     "output_type": "stream",
     "text": [
      "\r",
      " 12%|█████████▍                                                                     | 119/1000 [00:48<05:43,  2.56it/s]"
     ]
    },
    {
     "name": "stdout",
     "output_type": "stream",
     "text": [
      "141.7502899169922\n"
     ]
    },
    {
     "name": "stderr",
     "output_type": "stream",
     "text": [
      "\r",
      " 12%|█████████▍                                                                     | 120/1000 [00:48<05:41,  2.57it/s]"
     ]
    },
    {
     "name": "stdout",
     "output_type": "stream",
     "text": [
      "137.2183074951172\n",
      "137.34762573242188\n"
     ]
    },
    {
     "name": "stderr",
     "output_type": "stream",
     "text": [
      " 12%|█████████▋                                                                     | 122/1000 [00:49<05:52,  2.49it/s]"
     ]
    },
    {
     "name": "stdout",
     "output_type": "stream",
     "text": [
      "133.1132354736328\n",
      "138.7906494140625\n"
     ]
    },
    {
     "name": "stderr",
     "output_type": "stream",
     "text": [
      " 12%|█████████▊                                                                     | 124/1000 [00:50<06:16,  2.33it/s]"
     ]
    },
    {
     "name": "stdout",
     "output_type": "stream",
     "text": [
      "132.71463012695312\n"
     ]
    },
    {
     "name": "stderr",
     "output_type": "stream",
     "text": [
      "\r",
      " 12%|█████████▉                                                                     | 125/1000 [00:51<06:17,  2.32it/s]"
     ]
    },
    {
     "name": "stdout",
     "output_type": "stream",
     "text": [
      "136.65643310546875\n"
     ]
    },
    {
     "name": "stderr",
     "output_type": "stream",
     "text": [
      "\r",
      " 13%|█████████▉                                                                     | 126/1000 [00:51<06:11,  2.35it/s]"
     ]
    },
    {
     "name": "stdout",
     "output_type": "stream",
     "text": [
      "138.81578063964844\n"
     ]
    },
    {
     "name": "stderr",
     "output_type": "stream",
     "text": [
      "\r",
      " 13%|██████████                                                                     | 127/1000 [00:51<06:02,  2.41it/s]"
     ]
    },
    {
     "name": "stdout",
     "output_type": "stream",
     "text": [
      "142.37274169921875\n"
     ]
    },
    {
     "name": "stderr",
     "output_type": "stream",
     "text": [
      "\r",
      " 13%|██████████                                                                     | 128/1000 [00:52<05:54,  2.46it/s]"
     ]
    },
    {
     "name": "stdout",
     "output_type": "stream",
     "text": [
      "128.6338348388672\n"
     ]
    },
    {
     "name": "stderr",
     "output_type": "stream",
     "text": [
      "\r",
      " 13%|██████████▏                                                                    | 129/1000 [00:52<05:47,  2.50it/s]"
     ]
    },
    {
     "name": "stdout",
     "output_type": "stream",
     "text": [
      "133.36898803710938\n"
     ]
    },
    {
     "name": "stderr",
     "output_type": "stream",
     "text": [
      "\r",
      " 13%|██████████▎                                                                    | 130/1000 [00:53<05:46,  2.51it/s]"
     ]
    },
    {
     "name": "stdout",
     "output_type": "stream",
     "text": [
      "134.2861785888672\n"
     ]
    },
    {
     "name": "stderr",
     "output_type": "stream",
     "text": [
      "\r",
      " 13%|██████████▎                                                                    | 131/1000 [00:53<05:49,  2.49it/s]"
     ]
    },
    {
     "name": "stdout",
     "output_type": "stream",
     "text": [
      "129.26943969726562\n"
     ]
    },
    {
     "name": "stderr",
     "output_type": "stream",
     "text": [
      "\r",
      " 13%|██████████▍                                                                    | 132/1000 [00:53<05:41,  2.54it/s]"
     ]
    },
    {
     "name": "stdout",
     "output_type": "stream",
     "text": [
      "135.5087890625\n"
     ]
    },
    {
     "name": "stderr",
     "output_type": "stream",
     "text": [
      "\r",
      " 13%|██████████▌                                                                    | 133/1000 [00:54<05:40,  2.55it/s]"
     ]
    },
    {
     "name": "stdout",
     "output_type": "stream",
     "text": [
      "128.27755737304688\n"
     ]
    },
    {
     "name": "stderr",
     "output_type": "stream",
     "text": [
      "\r",
      " 13%|██████████▌                                                                    | 134/1000 [00:54<05:41,  2.54it/s]"
     ]
    },
    {
     "name": "stdout",
     "output_type": "stream",
     "text": [
      "142.13864135742188\n"
     ]
    },
    {
     "name": "stderr",
     "output_type": "stream",
     "text": [
      "\r",
      " 14%|██████████▋                                                                    | 135/1000 [00:55<05:38,  2.56it/s]"
     ]
    },
    {
     "name": "stdout",
     "output_type": "stream",
     "text": [
      "133.18911743164062\n"
     ]
    },
    {
     "name": "stderr",
     "output_type": "stream",
     "text": [
      "\r",
      " 14%|██████████▋                                                                    | 136/1000 [00:55<05:46,  2.49it/s]"
     ]
    },
    {
     "name": "stdout",
     "output_type": "stream",
     "text": [
      "133.33543395996094\n"
     ]
    },
    {
     "name": "stderr",
     "output_type": "stream",
     "text": [
      "\r",
      " 14%|██████████▊                                                                    | 137/1000 [00:55<05:40,  2.53it/s]"
     ]
    },
    {
     "name": "stdout",
     "output_type": "stream",
     "text": [
      "129.084228515625\n"
     ]
    },
    {
     "name": "stderr",
     "output_type": "stream",
     "text": [
      "\r",
      " 14%|██████████▉                                                                    | 138/1000 [00:56<05:37,  2.55it/s]"
     ]
    },
    {
     "name": "stdout",
     "output_type": "stream",
     "text": [
      "128.51483154296875\n"
     ]
    },
    {
     "name": "stderr",
     "output_type": "stream",
     "text": [
      "\r",
      " 14%|██████████▉                                                                    | 139/1000 [00:56<05:39,  2.54it/s]"
     ]
    },
    {
     "name": "stdout",
     "output_type": "stream",
     "text": [
      "137.2261505126953\n"
     ]
    },
    {
     "name": "stderr",
     "output_type": "stream",
     "text": [
      "\r",
      " 14%|███████████                                                                    | 140/1000 [00:57<05:33,  2.58it/s]"
     ]
    },
    {
     "name": "stdout",
     "output_type": "stream",
     "text": [
      "129.5942840576172\n"
     ]
    },
    {
     "name": "stderr",
     "output_type": "stream",
     "text": [
      "\r",
      " 14%|███████████▏                                                                   | 141/1000 [00:57<05:31,  2.59it/s]"
     ]
    },
    {
     "name": "stdout",
     "output_type": "stream",
     "text": [
      "133.22520446777344\n"
     ]
    },
    {
     "name": "stderr",
     "output_type": "stream",
     "text": [
      "\r",
      " 14%|███████████▏                                                                   | 142/1000 [00:57<05:40,  2.52it/s]"
     ]
    },
    {
     "name": "stdout",
     "output_type": "stream",
     "text": [
      "135.1479034423828\n"
     ]
    },
    {
     "name": "stderr",
     "output_type": "stream",
     "text": [
      "\r",
      " 14%|███████████▎                                                                   | 143/1000 [00:58<05:33,  2.57it/s]"
     ]
    },
    {
     "name": "stdout",
     "output_type": "stream",
     "text": [
      "132.76797485351562\n"
     ]
    },
    {
     "name": "stderr",
     "output_type": "stream",
     "text": [
      "\r",
      " 14%|███████████▍                                                                   | 144/1000 [00:58<05:33,  2.57it/s]"
     ]
    },
    {
     "name": "stdout",
     "output_type": "stream",
     "text": [
      "127.07386016845703\n"
     ]
    },
    {
     "name": "stderr",
     "output_type": "stream",
     "text": [
      "\r",
      " 14%|███████████▍                                                                   | 145/1000 [00:58<05:29,  2.59it/s]"
     ]
    },
    {
     "name": "stdout",
     "output_type": "stream",
     "text": [
      "138.90191650390625\n"
     ]
    },
    {
     "name": "stderr",
     "output_type": "stream",
     "text": [
      "\r",
      " 15%|███████████▌                                                                   | 146/1000 [00:59<05:29,  2.59it/s]"
     ]
    },
    {
     "name": "stdout",
     "output_type": "stream",
     "text": [
      "137.2982177734375\n"
     ]
    },
    {
     "name": "stderr",
     "output_type": "stream",
     "text": [
      "\r",
      " 15%|███████████▌                                                                   | 147/1000 [00:59<05:36,  2.53it/s]"
     ]
    },
    {
     "name": "stdout",
     "output_type": "stream",
     "text": [
      "135.14279174804688\n"
     ]
    },
    {
     "name": "stderr",
     "output_type": "stream",
     "text": [
      "\r",
      " 15%|███████████▋                                                                   | 148/1000 [01:00<05:34,  2.55it/s]"
     ]
    },
    {
     "name": "stdout",
     "output_type": "stream",
     "text": [
      "133.32017517089844\n"
     ]
    },
    {
     "name": "stderr",
     "output_type": "stream",
     "text": [
      "\r",
      " 15%|███████████▊                                                                   | 149/1000 [01:00<05:38,  2.51it/s]"
     ]
    },
    {
     "name": "stdout",
     "output_type": "stream",
     "text": [
      "133.4727020263672\n"
     ]
    },
    {
     "name": "stderr",
     "output_type": "stream",
     "text": [
      "\r",
      " 15%|███████████▊                                                                   | 150/1000 [01:00<05:39,  2.50it/s]"
     ]
    },
    {
     "name": "stdout",
     "output_type": "stream",
     "text": [
      "130.11044311523438\n"
     ]
    },
    {
     "name": "stderr",
     "output_type": "stream",
     "text": [
      "\r",
      " 15%|███████████▉                                                                   | 151/1000 [01:01<05:34,  2.54it/s]"
     ]
    },
    {
     "name": "stdout",
     "output_type": "stream",
     "text": [
      "134.51795959472656\n"
     ]
    },
    {
     "name": "stderr",
     "output_type": "stream",
     "text": [
      "\r",
      " 15%|████████████                                                                   | 152/1000 [01:01<05:33,  2.54it/s]"
     ]
    },
    {
     "name": "stdout",
     "output_type": "stream",
     "text": [
      "130.25787353515625\n"
     ]
    },
    {
     "name": "stderr",
     "output_type": "stream",
     "text": [
      "\r",
      " 15%|████████████                                                                   | 153/1000 [01:02<05:32,  2.55it/s]"
     ]
    },
    {
     "name": "stdout",
     "output_type": "stream",
     "text": [
      "132.83010864257812\n"
     ]
    },
    {
     "name": "stderr",
     "output_type": "stream",
     "text": [
      "\r",
      " 15%|████████████▏                                                                  | 154/1000 [01:02<05:31,  2.56it/s]"
     ]
    },
    {
     "name": "stdout",
     "output_type": "stream",
     "text": [
      "123.75321197509766\n"
     ]
    },
    {
     "name": "stderr",
     "output_type": "stream",
     "text": [
      "\r",
      " 16%|████████████▏                                                                  | 155/1000 [01:02<05:29,  2.56it/s]"
     ]
    },
    {
     "name": "stdout",
     "output_type": "stream",
     "text": [
      "135.24237060546875\n"
     ]
    },
    {
     "name": "stderr",
     "output_type": "stream",
     "text": [
      "\r",
      " 16%|████████████▎                                                                  | 156/1000 [01:03<05:32,  2.54it/s]"
     ]
    },
    {
     "name": "stdout",
     "output_type": "stream",
     "text": [
      "130.8575897216797\n"
     ]
    },
    {
     "name": "stderr",
     "output_type": "stream",
     "text": [
      "\r",
      " 16%|████████████▍                                                                  | 157/1000 [01:03<05:28,  2.56it/s]"
     ]
    },
    {
     "name": "stdout",
     "output_type": "stream",
     "text": [
      "136.89215087890625\n"
     ]
    },
    {
     "name": "stderr",
     "output_type": "stream",
     "text": [
      "\r",
      " 16%|████████████▍                                                                  | 158/1000 [01:04<05:27,  2.57it/s]"
     ]
    },
    {
     "name": "stdout",
     "output_type": "stream",
     "text": [
      "128.4303436279297\n"
     ]
    },
    {
     "name": "stderr",
     "output_type": "stream",
     "text": [
      "\r",
      " 16%|████████████▌                                                                  | 159/1000 [01:04<05:29,  2.55it/s]"
     ]
    },
    {
     "name": "stdout",
     "output_type": "stream",
     "text": [
      "126.43740844726562\n"
     ]
    },
    {
     "name": "stderr",
     "output_type": "stream",
     "text": [
      "\r",
      " 16%|████████████▋                                                                  | 160/1000 [01:04<05:28,  2.56it/s]"
     ]
    },
    {
     "name": "stdout",
     "output_type": "stream",
     "text": [
      "129.1475372314453\n"
     ]
    },
    {
     "name": "stderr",
     "output_type": "stream",
     "text": [
      "\r",
      " 16%|████████████▋                                                                  | 161/1000 [01:05<05:24,  2.59it/s]"
     ]
    },
    {
     "name": "stdout",
     "output_type": "stream",
     "text": [
      "126.70781707763672\n"
     ]
    },
    {
     "name": "stderr",
     "output_type": "stream",
     "text": [
      "\r",
      " 16%|████████████▊                                                                  | 162/1000 [01:05<05:23,  2.59it/s]"
     ]
    },
    {
     "name": "stdout",
     "output_type": "stream",
     "text": [
      "129.01890563964844\n"
     ]
    },
    {
     "name": "stderr",
     "output_type": "stream",
     "text": [
      "\r",
      " 16%|████████████▉                                                                  | 163/1000 [01:05<05:23,  2.59it/s]"
     ]
    },
    {
     "name": "stdout",
     "output_type": "stream",
     "text": [
      "132.60081481933594\n"
     ]
    },
    {
     "name": "stderr",
     "output_type": "stream",
     "text": [
      "\r",
      " 16%|████████████▉                                                                  | 164/1000 [01:06<05:22,  2.59it/s]"
     ]
    },
    {
     "name": "stdout",
     "output_type": "stream",
     "text": [
      "135.5441436767578\n"
     ]
    },
    {
     "name": "stderr",
     "output_type": "stream",
     "text": [
      "\r",
      " 16%|█████████████                                                                  | 165/1000 [01:06<05:23,  2.58it/s]"
     ]
    },
    {
     "name": "stdout",
     "output_type": "stream",
     "text": [
      "124.77922058105469\n"
     ]
    },
    {
     "name": "stderr",
     "output_type": "stream",
     "text": [
      "\r",
      " 17%|█████████████                                                                  | 166/1000 [01:07<05:21,  2.59it/s]"
     ]
    },
    {
     "name": "stdout",
     "output_type": "stream",
     "text": [
      "133.26040649414062\n"
     ]
    },
    {
     "name": "stderr",
     "output_type": "stream",
     "text": [
      "\r",
      " 17%|█████████████▏                                                                 | 167/1000 [01:07<05:23,  2.58it/s]"
     ]
    },
    {
     "name": "stdout",
     "output_type": "stream",
     "text": [
      "132.8347930908203\n"
     ]
    },
    {
     "name": "stderr",
     "output_type": "stream",
     "text": [
      "\r",
      " 17%|█████████████▎                                                                 | 168/1000 [01:07<05:25,  2.55it/s]"
     ]
    },
    {
     "name": "stdout",
     "output_type": "stream",
     "text": [
      "136.89527893066406\n"
     ]
    },
    {
     "name": "stderr",
     "output_type": "stream",
     "text": [
      "\r",
      " 17%|█████████████▎                                                                 | 169/1000 [01:08<05:24,  2.56it/s]"
     ]
    },
    {
     "name": "stdout",
     "output_type": "stream",
     "text": [
      "130.58905029296875\n"
     ]
    },
    {
     "name": "stderr",
     "output_type": "stream",
     "text": [
      "\r",
      " 17%|█████████████▍                                                                 | 170/1000 [01:08<05:21,  2.58it/s]"
     ]
    },
    {
     "name": "stdout",
     "output_type": "stream",
     "text": [
      "133.1303253173828\n"
     ]
    },
    {
     "name": "stderr",
     "output_type": "stream",
     "text": [
      "\r",
      " 17%|█████████████▌                                                                 | 171/1000 [01:09<05:19,  2.60it/s]"
     ]
    },
    {
     "name": "stdout",
     "output_type": "stream",
     "text": [
      "135.296875\n"
     ]
    },
    {
     "name": "stderr",
     "output_type": "stream",
     "text": [
      "\r",
      " 17%|█████████████▌                                                                 | 172/1000 [01:09<05:24,  2.55it/s]"
     ]
    },
    {
     "name": "stdout",
     "output_type": "stream",
     "text": [
      "136.0124053955078\n"
     ]
    },
    {
     "name": "stderr",
     "output_type": "stream",
     "text": [
      "\r",
      " 17%|█████████████▋                                                                 | 173/1000 [01:09<05:22,  2.57it/s]"
     ]
    },
    {
     "name": "stdout",
     "output_type": "stream",
     "text": [
      "128.2925567626953\n"
     ]
    },
    {
     "name": "stderr",
     "output_type": "stream",
     "text": [
      "\r",
      " 17%|█████████████▋                                                                 | 174/1000 [01:10<05:21,  2.57it/s]"
     ]
    },
    {
     "name": "stdout",
     "output_type": "stream",
     "text": [
      "129.96702575683594\n"
     ]
    },
    {
     "name": "stderr",
     "output_type": "stream",
     "text": [
      "\r",
      " 18%|█████████████▊                                                                 | 175/1000 [01:10<05:17,  2.60it/s]"
     ]
    },
    {
     "name": "stdout",
     "output_type": "stream",
     "text": [
      "128.99107360839844\n"
     ]
    },
    {
     "name": "stderr",
     "output_type": "stream",
     "text": [
      "\r",
      " 18%|█████████████▉                                                                 | 176/1000 [01:11<05:16,  2.61it/s]"
     ]
    },
    {
     "name": "stdout",
     "output_type": "stream",
     "text": [
      "130.0757598876953\n"
     ]
    },
    {
     "name": "stderr",
     "output_type": "stream",
     "text": [
      "\r",
      " 18%|█████████████▉                                                                 | 177/1000 [01:11<05:16,  2.60it/s]"
     ]
    },
    {
     "name": "stdout",
     "output_type": "stream",
     "text": [
      "129.8870086669922\n"
     ]
    },
    {
     "name": "stderr",
     "output_type": "stream",
     "text": [
      "\r",
      " 18%|██████████████                                                                 | 178/1000 [01:11<05:17,  2.59it/s]"
     ]
    },
    {
     "name": "stdout",
     "output_type": "stream",
     "text": [
      "121.67308807373047\n"
     ]
    },
    {
     "name": "stderr",
     "output_type": "stream",
     "text": [
      "\r",
      " 18%|██████████████▏                                                                | 179/1000 [01:12<05:17,  2.59it/s]"
     ]
    },
    {
     "name": "stdout",
     "output_type": "stream",
     "text": [
      "126.82943725585938\n"
     ]
    },
    {
     "name": "stderr",
     "output_type": "stream",
     "text": [
      "\r",
      " 18%|██████████████▏                                                                | 180/1000 [01:12<05:16,  2.59it/s]"
     ]
    },
    {
     "name": "stdout",
     "output_type": "stream",
     "text": [
      "125.66130065917969\n"
     ]
    },
    {
     "name": "stderr",
     "output_type": "stream",
     "text": [
      "\r",
      " 18%|██████████████▎                                                                | 181/1000 [01:12<05:14,  2.61it/s]"
     ]
    },
    {
     "name": "stdout",
     "output_type": "stream",
     "text": [
      "126.9643325805664\n"
     ]
    },
    {
     "name": "stderr",
     "output_type": "stream",
     "text": [
      "\r",
      " 18%|██████████████▍                                                                | 182/1000 [01:13<05:24,  2.52it/s]"
     ]
    },
    {
     "name": "stdout",
     "output_type": "stream",
     "text": [
      "121.79328918457031\n"
     ]
    },
    {
     "name": "stderr",
     "output_type": "stream",
     "text": [
      "\r",
      " 18%|██████████████▍                                                                | 183/1000 [01:13<05:18,  2.57it/s]"
     ]
    },
    {
     "name": "stdout",
     "output_type": "stream",
     "text": [
      "127.73173522949219\n"
     ]
    },
    {
     "name": "stderr",
     "output_type": "stream",
     "text": [
      "\r",
      " 18%|██████████████▌                                                                | 184/1000 [01:14<05:16,  2.58it/s]"
     ]
    },
    {
     "name": "stdout",
     "output_type": "stream",
     "text": [
      "134.022705078125\n"
     ]
    },
    {
     "name": "stderr",
     "output_type": "stream",
     "text": [
      "\r",
      " 18%|██████████████▌                                                                | 185/1000 [01:14<05:16,  2.58it/s]"
     ]
    },
    {
     "name": "stdout",
     "output_type": "stream",
     "text": [
      "127.93827056884766\n"
     ]
    },
    {
     "name": "stderr",
     "output_type": "stream",
     "text": [
      "\r",
      " 19%|██████████████▋                                                                | 186/1000 [01:14<05:22,  2.53it/s]"
     ]
    },
    {
     "name": "stdout",
     "output_type": "stream",
     "text": [
      "127.6125259399414\n"
     ]
    },
    {
     "name": "stderr",
     "output_type": "stream",
     "text": [
      "\r",
      " 19%|██████████████▊                                                                | 187/1000 [01:15<05:23,  2.52it/s]"
     ]
    },
    {
     "name": "stdout",
     "output_type": "stream",
     "text": [
      "128.50038146972656\n"
     ]
    },
    {
     "name": "stderr",
     "output_type": "stream",
     "text": [
      "\r",
      " 19%|██████████████▊                                                                | 188/1000 [01:15<05:23,  2.51it/s]"
     ]
    },
    {
     "name": "stdout",
     "output_type": "stream",
     "text": [
      "120.51034545898438\n"
     ]
    },
    {
     "name": "stderr",
     "output_type": "stream",
     "text": [
      "\r",
      " 19%|██████████████▉                                                                | 189/1000 [01:16<05:23,  2.51it/s]"
     ]
    },
    {
     "name": "stdout",
     "output_type": "stream",
     "text": [
      "122.86255645751953\n"
     ]
    },
    {
     "name": "stderr",
     "output_type": "stream",
     "text": [
      "\r",
      " 19%|███████████████                                                                | 190/1000 [01:16<05:22,  2.51it/s]"
     ]
    },
    {
     "name": "stdout",
     "output_type": "stream",
     "text": [
      "118.40704345703125\n"
     ]
    },
    {
     "name": "stderr",
     "output_type": "stream",
     "text": [
      "\r",
      " 19%|███████████████                                                                | 191/1000 [01:16<05:22,  2.51it/s]"
     ]
    },
    {
     "name": "stdout",
     "output_type": "stream",
     "text": [
      "128.67587280273438\n",
      "128.7847137451172\n"
     ]
    },
    {
     "name": "stderr",
     "output_type": "stream",
     "text": [
      " 19%|███████████████▏                                                               | 193/1000 [01:17<05:36,  2.40it/s]"
     ]
    },
    {
     "name": "stdout",
     "output_type": "stream",
     "text": [
      "141.7149658203125\n"
     ]
    },
    {
     "name": "stderr",
     "output_type": "stream",
     "text": [
      "\r",
      " 19%|███████████████▎                                                               | 194/1000 [01:18<05:28,  2.45it/s]"
     ]
    },
    {
     "name": "stdout",
     "output_type": "stream",
     "text": [
      "132.67604064941406\n"
     ]
    },
    {
     "name": "stderr",
     "output_type": "stream",
     "text": [
      "\r",
      " 20%|███████████████▍                                                               | 195/1000 [01:18<05:24,  2.48it/s]"
     ]
    },
    {
     "name": "stdout",
     "output_type": "stream",
     "text": [
      "125.3321533203125\n"
     ]
    },
    {
     "name": "stderr",
     "output_type": "stream",
     "text": [
      "\r",
      " 20%|███████████████▍                                                               | 196/1000 [01:18<05:20,  2.51it/s]"
     ]
    },
    {
     "name": "stdout",
     "output_type": "stream",
     "text": [
      "122.97305297851562\n"
     ]
    },
    {
     "name": "stderr",
     "output_type": "stream",
     "text": [
      "\r",
      " 20%|███████████████▌                                                               | 197/1000 [01:19<05:15,  2.55it/s]"
     ]
    },
    {
     "name": "stdout",
     "output_type": "stream",
     "text": [
      "122.62045288085938\n"
     ]
    },
    {
     "name": "stderr",
     "output_type": "stream",
     "text": [
      "\r",
      " 20%|███████████████▋                                                               | 198/1000 [01:19<05:16,  2.54it/s]"
     ]
    },
    {
     "name": "stdout",
     "output_type": "stream",
     "text": [
      "130.59713745117188\n"
     ]
    },
    {
     "name": "stderr",
     "output_type": "stream",
     "text": [
      "\r",
      " 20%|███████████████▋                                                               | 199/1000 [01:20<05:17,  2.52it/s]"
     ]
    },
    {
     "name": "stdout",
     "output_type": "stream",
     "text": [
      "124.7289047241211\n",
      "122.43756103515625\n"
     ]
    },
    {
     "name": "stderr",
     "output_type": "stream",
     "text": [
      " 20%|███████████████▉                                                               | 201/1000 [01:20<05:21,  2.49it/s]"
     ]
    },
    {
     "name": "stdout",
     "output_type": "stream",
     "text": [
      "120.9600830078125\n"
     ]
    },
    {
     "name": "stderr",
     "output_type": "stream",
     "text": [
      "\r",
      " 20%|███████████████▉                                                               | 202/1000 [01:21<05:21,  2.48it/s]"
     ]
    },
    {
     "name": "stdout",
     "output_type": "stream",
     "text": [
      "123.12516784667969\n"
     ]
    },
    {
     "name": "stderr",
     "output_type": "stream",
     "text": [
      "\r",
      " 20%|████████████████                                                               | 203/1000 [01:21<05:26,  2.44it/s]"
     ]
    },
    {
     "name": "stdout",
     "output_type": "stream",
     "text": [
      "126.87140655517578\n"
     ]
    },
    {
     "name": "stderr",
     "output_type": "stream",
     "text": [
      "\r",
      " 20%|████████████████                                                               | 204/1000 [01:22<05:25,  2.45it/s]"
     ]
    },
    {
     "name": "stdout",
     "output_type": "stream",
     "text": [
      "127.08173370361328\n"
     ]
    },
    {
     "name": "stderr",
     "output_type": "stream",
     "text": [
      "\r",
      " 20%|████████████████▏                                                              | 205/1000 [01:22<05:32,  2.39it/s]"
     ]
    },
    {
     "name": "stdout",
     "output_type": "stream",
     "text": [
      "120.31626892089844\n"
     ]
    },
    {
     "name": "stderr",
     "output_type": "stream",
     "text": [
      "\r",
      " 21%|████████████████▎                                                              | 206/1000 [01:23<05:25,  2.44it/s]"
     ]
    },
    {
     "name": "stdout",
     "output_type": "stream",
     "text": [
      "133.00694274902344\n"
     ]
    },
    {
     "name": "stderr",
     "output_type": "stream",
     "text": [
      "\r",
      " 21%|████████████████▎                                                              | 207/1000 [01:23<05:49,  2.27it/s]"
     ]
    },
    {
     "name": "stdout",
     "output_type": "stream",
     "text": [
      "125.69788360595703\n"
     ]
    },
    {
     "name": "stderr",
     "output_type": "stream",
     "text": [
      "\r",
      " 21%|████████████████▍                                                              | 208/1000 [01:24<05:53,  2.24it/s]"
     ]
    },
    {
     "name": "stdout",
     "output_type": "stream",
     "text": [
      "129.2401580810547\n"
     ]
    },
    {
     "name": "stderr",
     "output_type": "stream",
     "text": [
      "\r",
      " 21%|████████████████▌                                                              | 209/1000 [01:24<05:48,  2.27it/s]"
     ]
    },
    {
     "name": "stdout",
     "output_type": "stream",
     "text": [
      "130.48573303222656\n"
     ]
    },
    {
     "name": "stderr",
     "output_type": "stream",
     "text": [
      "\r",
      " 21%|████████████████▌                                                              | 210/1000 [01:24<05:46,  2.28it/s]"
     ]
    },
    {
     "name": "stdout",
     "output_type": "stream",
     "text": [
      "131.14691162109375\n"
     ]
    },
    {
     "name": "stderr",
     "output_type": "stream",
     "text": [
      "\r",
      " 21%|████████████████▋                                                              | 211/1000 [01:25<05:40,  2.32it/s]"
     ]
    },
    {
     "name": "stdout",
     "output_type": "stream",
     "text": [
      "123.00936126708984\n"
     ]
    },
    {
     "name": "stderr",
     "output_type": "stream",
     "text": [
      "\r",
      " 21%|████████████████▋                                                              | 212/1000 [01:25<05:42,  2.30it/s]"
     ]
    },
    {
     "name": "stdout",
     "output_type": "stream",
     "text": [
      "127.4708251953125\n"
     ]
    },
    {
     "name": "stderr",
     "output_type": "stream",
     "text": [
      "\r",
      " 21%|████████████████▊                                                              | 213/1000 [01:26<05:31,  2.37it/s]"
     ]
    },
    {
     "name": "stdout",
     "output_type": "stream",
     "text": [
      "120.88407135009766\n"
     ]
    },
    {
     "name": "stderr",
     "output_type": "stream",
     "text": [
      "\r",
      " 21%|████████████████▉                                                              | 214/1000 [01:26<05:30,  2.38it/s]"
     ]
    },
    {
     "name": "stdout",
     "output_type": "stream",
     "text": [
      "125.82096099853516\n"
     ]
    },
    {
     "name": "stderr",
     "output_type": "stream",
     "text": [
      "\r",
      " 22%|████████████████▉                                                              | 215/1000 [01:26<05:24,  2.42it/s]"
     ]
    },
    {
     "name": "stdout",
     "output_type": "stream",
     "text": [
      "122.47338104248047\n"
     ]
    },
    {
     "name": "stderr",
     "output_type": "stream",
     "text": [
      "\r",
      " 22%|█████████████████                                                              | 216/1000 [01:27<05:17,  2.47it/s]"
     ]
    },
    {
     "name": "stdout",
     "output_type": "stream",
     "text": [
      "125.91704559326172\n"
     ]
    },
    {
     "name": "stderr",
     "output_type": "stream",
     "text": [
      "\r",
      " 22%|█████████████████▏                                                             | 217/1000 [01:27<05:12,  2.51it/s]"
     ]
    },
    {
     "name": "stdout",
     "output_type": "stream",
     "text": [
      "127.77799224853516\n"
     ]
    },
    {
     "name": "stderr",
     "output_type": "stream",
     "text": [
      "\r",
      " 22%|█████████████████▏                                                             | 218/1000 [01:28<05:11,  2.51it/s]"
     ]
    },
    {
     "name": "stdout",
     "output_type": "stream",
     "text": [
      "123.6500473022461\n"
     ]
    },
    {
     "name": "stderr",
     "output_type": "stream",
     "text": [
      "\r",
      " 22%|█████████████████▎                                                             | 219/1000 [01:28<05:10,  2.51it/s]"
     ]
    },
    {
     "name": "stdout",
     "output_type": "stream",
     "text": [
      "125.47807312011719\n"
     ]
    },
    {
     "name": "stderr",
     "output_type": "stream",
     "text": [
      "\r",
      " 22%|█████████████████▍                                                             | 220/1000 [01:28<05:09,  2.52it/s]"
     ]
    },
    {
     "name": "stdout",
     "output_type": "stream",
     "text": [
      "128.31333923339844\n"
     ]
    },
    {
     "name": "stderr",
     "output_type": "stream",
     "text": [
      "\r",
      " 22%|█████████████████▍                                                             | 221/1000 [01:29<05:10,  2.51it/s]"
     ]
    },
    {
     "name": "stdout",
     "output_type": "stream",
     "text": [
      "124.55513763427734\n"
     ]
    },
    {
     "name": "stderr",
     "output_type": "stream",
     "text": [
      "\r",
      " 22%|█████████████████▌                                                             | 222/1000 [01:29<05:10,  2.51it/s]"
     ]
    },
    {
     "name": "stdout",
     "output_type": "stream",
     "text": [
      "117.03813171386719\n"
     ]
    },
    {
     "name": "stderr",
     "output_type": "stream",
     "text": [
      "\r",
      " 22%|█████████████████▌                                                             | 223/1000 [01:30<05:04,  2.55it/s]"
     ]
    },
    {
     "name": "stdout",
     "output_type": "stream",
     "text": [
      "118.09419250488281\n"
     ]
    },
    {
     "name": "stderr",
     "output_type": "stream",
     "text": [
      "\r",
      " 22%|█████████████████▋                                                             | 224/1000 [01:30<05:02,  2.57it/s]"
     ]
    },
    {
     "name": "stdout",
     "output_type": "stream",
     "text": [
      "124.07337188720703\n"
     ]
    },
    {
     "name": "stderr",
     "output_type": "stream",
     "text": [
      "\r",
      " 22%|█████████████████▊                                                             | 225/1000 [01:30<05:01,  2.57it/s]"
     ]
    },
    {
     "name": "stdout",
     "output_type": "stream",
     "text": [
      "127.08092498779297\n"
     ]
    },
    {
     "name": "stderr",
     "output_type": "stream",
     "text": [
      "\r",
      " 23%|█████████████████▊                                                             | 226/1000 [01:31<05:03,  2.55it/s]"
     ]
    },
    {
     "name": "stdout",
     "output_type": "stream",
     "text": [
      "120.5985336303711\n"
     ]
    },
    {
     "name": "stderr",
     "output_type": "stream",
     "text": [
      "\r",
      " 23%|█████████████████▉                                                             | 227/1000 [01:31<05:04,  2.54it/s]"
     ]
    },
    {
     "name": "stdout",
     "output_type": "stream",
     "text": [
      "115.852294921875\n"
     ]
    },
    {
     "name": "stderr",
     "output_type": "stream",
     "text": [
      "\r",
      " 23%|██████████████████                                                             | 228/1000 [01:32<05:04,  2.54it/s]"
     ]
    },
    {
     "name": "stdout",
     "output_type": "stream",
     "text": [
      "120.59870910644531\n"
     ]
    },
    {
     "name": "stderr",
     "output_type": "stream",
     "text": [
      "\r",
      " 23%|██████████████████                                                             | 229/1000 [01:32<05:01,  2.56it/s]"
     ]
    },
    {
     "name": "stdout",
     "output_type": "stream",
     "text": [
      "128.61477661132812\n"
     ]
    },
    {
     "name": "stderr",
     "output_type": "stream",
     "text": [
      "\r",
      " 23%|██████████████████▏                                                            | 230/1000 [01:32<04:59,  2.57it/s]"
     ]
    },
    {
     "name": "stdout",
     "output_type": "stream",
     "text": [
      "129.82180786132812\n"
     ]
    },
    {
     "name": "stderr",
     "output_type": "stream",
     "text": [
      "\r",
      " 23%|██████████████████▏                                                            | 231/1000 [01:33<05:01,  2.55it/s]"
     ]
    },
    {
     "name": "stdout",
     "output_type": "stream",
     "text": [
      "126.40599060058594\n"
     ]
    },
    {
     "name": "stderr",
     "output_type": "stream",
     "text": [
      "\r",
      " 23%|██████████████████▎                                                            | 232/1000 [01:33<05:06,  2.50it/s]"
     ]
    },
    {
     "name": "stdout",
     "output_type": "stream",
     "text": [
      "123.88362884521484\n"
     ]
    },
    {
     "name": "stderr",
     "output_type": "stream",
     "text": [
      "\r",
      " 23%|██████████████████▍                                                            | 233/1000 [01:34<05:03,  2.53it/s]"
     ]
    },
    {
     "name": "stdout",
     "output_type": "stream",
     "text": [
      "127.46330261230469\n"
     ]
    },
    {
     "name": "stderr",
     "output_type": "stream",
     "text": [
      "\r",
      " 23%|██████████████████▍                                                            | 234/1000 [01:34<05:02,  2.53it/s]"
     ]
    },
    {
     "name": "stdout",
     "output_type": "stream",
     "text": [
      "130.76815795898438\n"
     ]
    },
    {
     "name": "stderr",
     "output_type": "stream",
     "text": [
      "\r",
      " 24%|██████████████████▌                                                            | 235/1000 [01:34<05:00,  2.55it/s]"
     ]
    },
    {
     "name": "stdout",
     "output_type": "stream",
     "text": [
      "123.1795654296875\n"
     ]
    },
    {
     "name": "stderr",
     "output_type": "stream",
     "text": [
      "\r",
      " 24%|██████████████████▋                                                            | 236/1000 [01:35<04:59,  2.55it/s]"
     ]
    },
    {
     "name": "stdout",
     "output_type": "stream",
     "text": [
      "120.9608154296875\n"
     ]
    },
    {
     "name": "stderr",
     "output_type": "stream",
     "text": [
      "\r",
      " 24%|██████████████████▋                                                            | 237/1000 [01:35<05:00,  2.54it/s]"
     ]
    },
    {
     "name": "stdout",
     "output_type": "stream",
     "text": [
      "138.8631134033203\n"
     ]
    },
    {
     "name": "stderr",
     "output_type": "stream",
     "text": [
      "\r",
      " 24%|██████████████████▊                                                            | 238/1000 [01:35<04:55,  2.58it/s]"
     ]
    },
    {
     "name": "stdout",
     "output_type": "stream",
     "text": [
      "129.91241455078125\n"
     ]
    },
    {
     "name": "stderr",
     "output_type": "stream",
     "text": [
      "\r",
      " 24%|██████████████████▉                                                            | 239/1000 [01:36<04:53,  2.59it/s]"
     ]
    },
    {
     "name": "stdout",
     "output_type": "stream",
     "text": [
      "120.03417205810547\n"
     ]
    },
    {
     "name": "stderr",
     "output_type": "stream",
     "text": [
      "\r",
      " 24%|██████████████████▉                                                            | 240/1000 [01:36<04:52,  2.60it/s]"
     ]
    },
    {
     "name": "stdout",
     "output_type": "stream",
     "text": [
      "135.8274383544922\n"
     ]
    },
    {
     "name": "stderr",
     "output_type": "stream",
     "text": [
      "\r",
      " 24%|███████████████████                                                            | 241/1000 [01:37<04:55,  2.57it/s]"
     ]
    },
    {
     "name": "stdout",
     "output_type": "stream",
     "text": [
      "121.89897155761719\n"
     ]
    },
    {
     "name": "stderr",
     "output_type": "stream",
     "text": [
      "\r",
      " 24%|███████████████████                                                            | 242/1000 [01:37<04:54,  2.58it/s]"
     ]
    },
    {
     "name": "stdout",
     "output_type": "stream",
     "text": [
      "126.878662109375\n"
     ]
    },
    {
     "name": "stderr",
     "output_type": "stream",
     "text": [
      "\r",
      " 24%|███████████████████▏                                                           | 243/1000 [01:37<04:54,  2.57it/s]"
     ]
    },
    {
     "name": "stdout",
     "output_type": "stream",
     "text": [
      "125.30577087402344\n"
     ]
    },
    {
     "name": "stderr",
     "output_type": "stream",
     "text": [
      "\r",
      " 24%|███████████████████▎                                                           | 244/1000 [01:38<04:51,  2.59it/s]"
     ]
    },
    {
     "name": "stdout",
     "output_type": "stream",
     "text": [
      "131.34385681152344\n"
     ]
    },
    {
     "name": "stderr",
     "output_type": "stream",
     "text": [
      "\r",
      " 24%|███████████████████▎                                                           | 245/1000 [01:38<04:51,  2.59it/s]"
     ]
    },
    {
     "name": "stdout",
     "output_type": "stream",
     "text": [
      "125.9626693725586\n"
     ]
    },
    {
     "name": "stderr",
     "output_type": "stream",
     "text": [
      "\r",
      " 25%|███████████████████▍                                                           | 246/1000 [01:39<04:51,  2.58it/s]"
     ]
    },
    {
     "name": "stdout",
     "output_type": "stream",
     "text": [
      "123.9513168334961\n"
     ]
    },
    {
     "name": "stderr",
     "output_type": "stream",
     "text": [
      "\r",
      " 25%|███████████████████▌                                                           | 247/1000 [01:39<04:53,  2.56it/s]"
     ]
    },
    {
     "name": "stdout",
     "output_type": "stream",
     "text": [
      "116.48318481445312\n"
     ]
    },
    {
     "name": "stderr",
     "output_type": "stream",
     "text": [
      "\r",
      " 25%|███████████████████▌                                                           | 248/1000 [01:39<04:55,  2.55it/s]"
     ]
    },
    {
     "name": "stdout",
     "output_type": "stream",
     "text": [
      "122.98330688476562\n"
     ]
    },
    {
     "name": "stderr",
     "output_type": "stream",
     "text": [
      "\r",
      " 25%|███████████████████▋                                                           | 249/1000 [01:40<04:50,  2.59it/s]"
     ]
    },
    {
     "name": "stdout",
     "output_type": "stream",
     "text": [
      "125.55988311767578\n"
     ]
    },
    {
     "name": "stderr",
     "output_type": "stream",
     "text": [
      "\r",
      " 25%|███████████████████▊                                                           | 250/1000 [01:40<04:50,  2.58it/s]"
     ]
    },
    {
     "name": "stdout",
     "output_type": "stream",
     "text": [
      "117.66669464111328\n"
     ]
    },
    {
     "name": "stderr",
     "output_type": "stream",
     "text": [
      "\r",
      " 25%|███████████████████▊                                                           | 251/1000 [01:41<04:52,  2.56it/s]"
     ]
    },
    {
     "name": "stdout",
     "output_type": "stream",
     "text": [
      "131.18399047851562\n"
     ]
    },
    {
     "name": "stderr",
     "output_type": "stream",
     "text": [
      "\r",
      " 25%|███████████████████▉                                                           | 252/1000 [01:41<04:49,  2.58it/s]"
     ]
    },
    {
     "name": "stdout",
     "output_type": "stream",
     "text": [
      "120.83599853515625\n"
     ]
    },
    {
     "name": "stderr",
     "output_type": "stream",
     "text": [
      "\r",
      " 25%|███████████████████▉                                                           | 253/1000 [01:41<04:52,  2.55it/s]"
     ]
    },
    {
     "name": "stdout",
     "output_type": "stream",
     "text": [
      "116.93395233154297\n"
     ]
    },
    {
     "name": "stderr",
     "output_type": "stream",
     "text": [
      "\r",
      " 25%|████████████████████                                                           | 254/1000 [01:42<04:52,  2.55it/s]"
     ]
    },
    {
     "name": "stdout",
     "output_type": "stream",
     "text": [
      "119.91753387451172\n"
     ]
    },
    {
     "name": "stderr",
     "output_type": "stream",
     "text": [
      "\r",
      " 26%|████████████████████▏                                                          | 255/1000 [01:42<04:52,  2.55it/s]"
     ]
    },
    {
     "name": "stdout",
     "output_type": "stream",
     "text": [
      "120.0693359375\n"
     ]
    },
    {
     "name": "stderr",
     "output_type": "stream",
     "text": [
      "\r",
      " 26%|████████████████████▏                                                          | 256/1000 [01:42<04:51,  2.55it/s]"
     ]
    },
    {
     "name": "stdout",
     "output_type": "stream",
     "text": [
      "122.01190185546875\n"
     ]
    },
    {
     "name": "stderr",
     "output_type": "stream",
     "text": [
      "\r",
      " 26%|████████████████████▎                                                          | 257/1000 [01:43<04:54,  2.52it/s]"
     ]
    },
    {
     "name": "stdout",
     "output_type": "stream",
     "text": [
      "121.18798828125\n"
     ]
    },
    {
     "name": "stderr",
     "output_type": "stream",
     "text": [
      "\r",
      " 26%|████████████████████▍                                                          | 258/1000 [01:43<05:01,  2.46it/s]"
     ]
    },
    {
     "name": "stdout",
     "output_type": "stream",
     "text": [
      "132.2383575439453\n"
     ]
    },
    {
     "name": "stderr",
     "output_type": "stream",
     "text": [
      "\r",
      " 26%|████████████████████▍                                                          | 259/1000 [01:44<04:58,  2.48it/s]"
     ]
    },
    {
     "name": "stdout",
     "output_type": "stream",
     "text": [
      "126.98260498046875\n"
     ]
    },
    {
     "name": "stderr",
     "output_type": "stream",
     "text": [
      "\r",
      " 26%|████████████████████▌                                                          | 260/1000 [01:44<04:56,  2.49it/s]"
     ]
    },
    {
     "name": "stdout",
     "output_type": "stream",
     "text": [
      "120.90398406982422\n"
     ]
    },
    {
     "name": "stderr",
     "output_type": "stream",
     "text": [
      "\r",
      " 26%|████████████████████▌                                                          | 261/1000 [01:44<04:54,  2.51it/s]"
     ]
    },
    {
     "name": "stdout",
     "output_type": "stream",
     "text": [
      "121.11198425292969\n"
     ]
    },
    {
     "name": "stderr",
     "output_type": "stream",
     "text": [
      "\r",
      " 26%|████████████████████▋                                                          | 262/1000 [01:45<04:57,  2.48it/s]"
     ]
    },
    {
     "name": "stdout",
     "output_type": "stream",
     "text": [
      "127.22911834716797\n"
     ]
    },
    {
     "name": "stderr",
     "output_type": "stream",
     "text": [
      "\r",
      " 26%|████████████████████▊                                                          | 263/1000 [01:45<04:59,  2.46it/s]"
     ]
    },
    {
     "name": "stdout",
     "output_type": "stream",
     "text": [
      "124.5819091796875\n"
     ]
    },
    {
     "name": "stderr",
     "output_type": "stream",
     "text": [
      "\r",
      " 26%|████████████████████▊                                                          | 264/1000 [01:46<04:59,  2.46it/s]"
     ]
    },
    {
     "name": "stdout",
     "output_type": "stream",
     "text": [
      "118.65834045410156\n"
     ]
    },
    {
     "name": "stderr",
     "output_type": "stream",
     "text": [
      "\r",
      " 26%|████████████████████▉                                                          | 265/1000 [01:46<04:57,  2.47it/s]"
     ]
    },
    {
     "name": "stdout",
     "output_type": "stream",
     "text": [
      "119.66156768798828\n"
     ]
    },
    {
     "name": "stderr",
     "output_type": "stream",
     "text": [
      "\r",
      " 27%|█████████████████████                                                          | 266/1000 [01:47<04:54,  2.49it/s]"
     ]
    },
    {
     "name": "stdout",
     "output_type": "stream",
     "text": [
      "123.06183624267578\n"
     ]
    },
    {
     "name": "stderr",
     "output_type": "stream",
     "text": [
      "\r",
      " 27%|█████████████████████                                                          | 267/1000 [01:47<04:55,  2.48it/s]"
     ]
    },
    {
     "name": "stdout",
     "output_type": "stream",
     "text": [
      "127.46666717529297\n"
     ]
    },
    {
     "name": "stderr",
     "output_type": "stream",
     "text": [
      "\r",
      " 27%|█████████████████████▏                                                         | 268/1000 [01:47<04:55,  2.48it/s]"
     ]
    },
    {
     "name": "stdout",
     "output_type": "stream",
     "text": [
      "126.18523406982422\n"
     ]
    },
    {
     "name": "stderr",
     "output_type": "stream",
     "text": [
      "\r",
      " 27%|█████████████████████▎                                                         | 269/1000 [01:48<04:53,  2.49it/s]"
     ]
    },
    {
     "name": "stdout",
     "output_type": "stream",
     "text": [
      "114.51509094238281\n"
     ]
    },
    {
     "name": "stderr",
     "output_type": "stream",
     "text": [
      "\r",
      " 27%|█████████████████████▎                                                         | 270/1000 [01:48<04:52,  2.50it/s]"
     ]
    },
    {
     "name": "stdout",
     "output_type": "stream",
     "text": [
      "116.67057800292969\n"
     ]
    },
    {
     "name": "stderr",
     "output_type": "stream",
     "text": [
      "\r",
      " 27%|█████████████████████▍                                                         | 271/1000 [01:49<04:55,  2.47it/s]"
     ]
    },
    {
     "name": "stdout",
     "output_type": "stream",
     "text": [
      "132.0850067138672\n"
     ]
    },
    {
     "name": "stderr",
     "output_type": "stream",
     "text": [
      "\r",
      " 27%|█████████████████████▍                                                         | 272/1000 [01:49<04:53,  2.48it/s]"
     ]
    },
    {
     "name": "stdout",
     "output_type": "stream",
     "text": [
      "129.39971923828125\n"
     ]
    },
    {
     "name": "stderr",
     "output_type": "stream",
     "text": [
      "\r",
      " 27%|█████████████████████▌                                                         | 273/1000 [01:49<04:50,  2.50it/s]"
     ]
    },
    {
     "name": "stdout",
     "output_type": "stream",
     "text": [
      "123.5302505493164\n"
     ]
    },
    {
     "name": "stderr",
     "output_type": "stream",
     "text": [
      "\r",
      " 27%|█████████████████████▋                                                         | 274/1000 [01:50<04:47,  2.53it/s]"
     ]
    },
    {
     "name": "stdout",
     "output_type": "stream",
     "text": [
      "121.66368865966797\n"
     ]
    },
    {
     "name": "stderr",
     "output_type": "stream",
     "text": [
      "\r",
      " 28%|█████████████████████▋                                                         | 275/1000 [01:50<04:47,  2.52it/s]"
     ]
    },
    {
     "name": "stdout",
     "output_type": "stream",
     "text": [
      "129.53945922851562\n"
     ]
    },
    {
     "name": "stderr",
     "output_type": "stream",
     "text": [
      "\r",
      " 28%|█████████████████████▊                                                         | 276/1000 [01:51<04:45,  2.54it/s]"
     ]
    },
    {
     "name": "stdout",
     "output_type": "stream",
     "text": [
      "114.94953918457031\n"
     ]
    },
    {
     "name": "stderr",
     "output_type": "stream",
     "text": [
      "\r",
      " 28%|█████████████████████▉                                                         | 277/1000 [01:51<04:48,  2.51it/s]"
     ]
    },
    {
     "name": "stdout",
     "output_type": "stream",
     "text": [
      "130.845947265625\n"
     ]
    },
    {
     "name": "stderr",
     "output_type": "stream",
     "text": [
      "\r",
      " 28%|█████████████████████▉                                                         | 278/1000 [01:51<04:53,  2.46it/s]"
     ]
    },
    {
     "name": "stdout",
     "output_type": "stream",
     "text": [
      "130.2371826171875\n"
     ]
    },
    {
     "name": "stderr",
     "output_type": "stream",
     "text": [
      "\r",
      " 28%|██████████████████████                                                         | 279/1000 [01:52<04:49,  2.49it/s]"
     ]
    },
    {
     "name": "stdout",
     "output_type": "stream",
     "text": [
      "124.9057388305664\n"
     ]
    },
    {
     "name": "stderr",
     "output_type": "stream",
     "text": [
      "\r",
      " 28%|██████████████████████                                                         | 280/1000 [01:52<04:48,  2.49it/s]"
     ]
    },
    {
     "name": "stdout",
     "output_type": "stream",
     "text": [
      "120.90336608886719\n"
     ]
    },
    {
     "name": "stderr",
     "output_type": "stream",
     "text": [
      "\r",
      " 28%|██████████████████████▏                                                        | 281/1000 [01:53<04:47,  2.50it/s]"
     ]
    },
    {
     "name": "stdout",
     "output_type": "stream",
     "text": [
      "117.4295883178711\n"
     ]
    },
    {
     "name": "stderr",
     "output_type": "stream",
     "text": [
      "\r",
      " 28%|██████████████████████▎                                                        | 282/1000 [01:53<04:47,  2.49it/s]"
     ]
    },
    {
     "name": "stdout",
     "output_type": "stream",
     "text": [
      "116.71226501464844\n"
     ]
    },
    {
     "name": "stderr",
     "output_type": "stream",
     "text": [
      "\r",
      " 28%|██████████████████████▎                                                        | 283/1000 [01:53<04:43,  2.53it/s]"
     ]
    },
    {
     "name": "stdout",
     "output_type": "stream",
     "text": [
      "128.82101440429688\n"
     ]
    },
    {
     "name": "stderr",
     "output_type": "stream",
     "text": [
      "\r",
      " 28%|██████████████████████▍                                                        | 284/1000 [01:54<04:41,  2.54it/s]"
     ]
    },
    {
     "name": "stdout",
     "output_type": "stream",
     "text": [
      "126.74064636230469\n"
     ]
    },
    {
     "name": "stderr",
     "output_type": "stream",
     "text": [
      "\r",
      " 28%|██████████████████████▌                                                        | 285/1000 [01:54<04:42,  2.53it/s]"
     ]
    },
    {
     "name": "stdout",
     "output_type": "stream",
     "text": [
      "125.90686798095703\n"
     ]
    },
    {
     "name": "stderr",
     "output_type": "stream",
     "text": [
      "\r",
      " 29%|██████████████████████▌                                                        | 286/1000 [01:54<04:40,  2.54it/s]"
     ]
    },
    {
     "name": "stdout",
     "output_type": "stream",
     "text": [
      "126.44564056396484\n",
      "124.17082214355469\n"
     ]
    },
    {
     "name": "stderr",
     "output_type": "stream",
     "text": [
      " 29%|██████████████████████▊                                                        | 288/1000 [01:55<04:44,  2.51it/s]"
     ]
    },
    {
     "name": "stdout",
     "output_type": "stream",
     "text": [
      "124.45757293701172\n"
     ]
    },
    {
     "name": "stderr",
     "output_type": "stream",
     "text": [
      "\r",
      " 29%|██████████████████████▊                                                        | 289/1000 [01:56<04:38,  2.56it/s]"
     ]
    },
    {
     "name": "stdout",
     "output_type": "stream",
     "text": [
      "121.11603546142578\n"
     ]
    },
    {
     "name": "stderr",
     "output_type": "stream",
     "text": [
      "\r",
      " 29%|██████████████████████▉                                                        | 290/1000 [01:56<04:38,  2.55it/s]"
     ]
    },
    {
     "name": "stdout",
     "output_type": "stream",
     "text": [
      "121.31059265136719\n"
     ]
    },
    {
     "name": "stderr",
     "output_type": "stream",
     "text": [
      "\r",
      " 29%|██████████████████████▉                                                        | 291/1000 [01:56<04:39,  2.54it/s]"
     ]
    },
    {
     "name": "stdout",
     "output_type": "stream",
     "text": [
      "121.54785919189453\n"
     ]
    },
    {
     "name": "stderr",
     "output_type": "stream",
     "text": [
      "\r",
      " 29%|███████████████████████                                                        | 292/1000 [01:57<04:38,  2.54it/s]"
     ]
    },
    {
     "name": "stdout",
     "output_type": "stream",
     "text": [
      "118.07521057128906\n"
     ]
    },
    {
     "name": "stderr",
     "output_type": "stream",
     "text": [
      "\r",
      " 29%|███████████████████████▏                                                       | 293/1000 [01:57<04:42,  2.50it/s]"
     ]
    },
    {
     "name": "stdout",
     "output_type": "stream",
     "text": [
      "125.45433807373047\n"
     ]
    },
    {
     "name": "stderr",
     "output_type": "stream",
     "text": [
      "\r",
      " 29%|███████████████████████▏                                                       | 294/1000 [01:58<04:39,  2.53it/s]"
     ]
    },
    {
     "name": "stdout",
     "output_type": "stream",
     "text": [
      "129.5291290283203\n"
     ]
    },
    {
     "name": "stderr",
     "output_type": "stream",
     "text": [
      "\r",
      " 30%|███████████████████████▎                                                       | 295/1000 [01:58<04:38,  2.53it/s]"
     ]
    },
    {
     "name": "stdout",
     "output_type": "stream",
     "text": [
      "129.6463623046875\n"
     ]
    },
    {
     "name": "stderr",
     "output_type": "stream",
     "text": [
      "\r",
      " 30%|███████████████████████▍                                                       | 296/1000 [01:58<04:36,  2.55it/s]"
     ]
    },
    {
     "name": "stdout",
     "output_type": "stream",
     "text": [
      "122.06641387939453\n"
     ]
    },
    {
     "name": "stderr",
     "output_type": "stream",
     "text": [
      "\r",
      " 30%|███████████████████████▍                                                       | 297/1000 [01:59<04:33,  2.57it/s]"
     ]
    },
    {
     "name": "stdout",
     "output_type": "stream",
     "text": [
      "123.27156829833984\n"
     ]
    },
    {
     "name": "stderr",
     "output_type": "stream",
     "text": [
      "\r",
      " 30%|███████████████████████▌                                                       | 298/1000 [01:59<04:34,  2.55it/s]"
     ]
    },
    {
     "name": "stdout",
     "output_type": "stream",
     "text": [
      "115.41621398925781\n"
     ]
    },
    {
     "name": "stderr",
     "output_type": "stream",
     "text": [
      "\r",
      " 30%|███████████████████████▌                                                       | 299/1000 [02:00<04:36,  2.53it/s]"
     ]
    },
    {
     "name": "stdout",
     "output_type": "stream",
     "text": [
      "131.2165069580078\n"
     ]
    },
    {
     "name": "stderr",
     "output_type": "stream",
     "text": [
      "\r",
      " 30%|███████████████████████▋                                                       | 300/1000 [02:00<04:38,  2.51it/s]"
     ]
    },
    {
     "name": "stdout",
     "output_type": "stream",
     "text": [
      "120.12129211425781\n"
     ]
    },
    {
     "name": "stderr",
     "output_type": "stream",
     "text": [
      "\r",
      " 30%|███████████████████████▊                                                       | 301/1000 [02:00<04:37,  2.52it/s]"
     ]
    },
    {
     "name": "stdout",
     "output_type": "stream",
     "text": [
      "124.16035461425781\n",
      "123.9538803100586\n"
     ]
    },
    {
     "name": "stderr",
     "output_type": "stream",
     "text": [
      " 30%|███████████████████████▉                                                       | 303/1000 [02:01<04:45,  2.44it/s]"
     ]
    },
    {
     "name": "stdout",
     "output_type": "stream",
     "text": [
      "121.41839599609375\n"
     ]
    },
    {
     "name": "stderr",
     "output_type": "stream",
     "text": [
      "\r",
      " 30%|████████████████████████                                                       | 304/1000 [02:02<04:42,  2.46it/s]"
     ]
    },
    {
     "name": "stdout",
     "output_type": "stream",
     "text": [
      "125.32330322265625\n"
     ]
    },
    {
     "name": "stderr",
     "output_type": "stream",
     "text": [
      "\r",
      " 30%|████████████████████████                                                       | 305/1000 [02:02<04:41,  2.47it/s]"
     ]
    },
    {
     "name": "stdout",
     "output_type": "stream",
     "text": [
      "124.79821014404297\n"
     ]
    },
    {
     "name": "stderr",
     "output_type": "stream",
     "text": [
      "\r",
      " 31%|████████████████████████▏                                                      | 306/1000 [02:02<04:36,  2.51it/s]"
     ]
    },
    {
     "name": "stdout",
     "output_type": "stream",
     "text": [
      "118.78129577636719\n"
     ]
    },
    {
     "name": "stderr",
     "output_type": "stream",
     "text": [
      "\r",
      " 31%|████████████████████████▎                                                      | 307/1000 [02:03<04:39,  2.48it/s]"
     ]
    },
    {
     "name": "stdout",
     "output_type": "stream",
     "text": [
      "126.52350616455078\n"
     ]
    },
    {
     "name": "stderr",
     "output_type": "stream",
     "text": [
      "\r",
      " 31%|████████████████████████▎                                                      | 308/1000 [02:03<04:40,  2.47it/s]"
     ]
    },
    {
     "name": "stdout",
     "output_type": "stream",
     "text": [
      "122.67064666748047\n"
     ]
    },
    {
     "name": "stderr",
     "output_type": "stream",
     "text": [
      "\r",
      " 31%|████████████████████████▍                                                      | 309/1000 [02:04<04:36,  2.50it/s]"
     ]
    },
    {
     "name": "stdout",
     "output_type": "stream",
     "text": [
      "123.60661315917969\n"
     ]
    },
    {
     "name": "stderr",
     "output_type": "stream",
     "text": [
      "\r",
      " 31%|████████████████████████▍                                                      | 310/1000 [02:04<04:35,  2.51it/s]"
     ]
    },
    {
     "name": "stdout",
     "output_type": "stream",
     "text": [
      "116.61009979248047\n"
     ]
    },
    {
     "name": "stderr",
     "output_type": "stream",
     "text": [
      "\r",
      " 31%|████████████████████████▌                                                      | 311/1000 [02:04<04:34,  2.51it/s]"
     ]
    },
    {
     "name": "stdout",
     "output_type": "stream",
     "text": [
      "124.49401092529297\n",
      "132.7329559326172\n"
     ]
    },
    {
     "name": "stderr",
     "output_type": "stream",
     "text": [
      " 31%|████████████████████████▋                                                      | 313/1000 [02:05<04:37,  2.47it/s]"
     ]
    },
    {
     "name": "stdout",
     "output_type": "stream",
     "text": [
      "125.46859741210938\n"
     ]
    },
    {
     "name": "stderr",
     "output_type": "stream",
     "text": [
      "\r",
      " 31%|████████████████████████▊                                                      | 314/1000 [02:06<04:32,  2.52it/s]"
     ]
    },
    {
     "name": "stdout",
     "output_type": "stream",
     "text": [
      "119.03321838378906\n"
     ]
    },
    {
     "name": "stderr",
     "output_type": "stream",
     "text": [
      "\r",
      " 32%|████████████████████████▉                                                      | 315/1000 [02:06<04:28,  2.55it/s]"
     ]
    },
    {
     "name": "stdout",
     "output_type": "stream",
     "text": [
      "119.34010314941406\n"
     ]
    },
    {
     "name": "stderr",
     "output_type": "stream",
     "text": [
      "\r",
      " 32%|████████████████████████▉                                                      | 316/1000 [02:06<04:32,  2.51it/s]"
     ]
    },
    {
     "name": "stdout",
     "output_type": "stream",
     "text": [
      "119.72803497314453\n"
     ]
    },
    {
     "name": "stderr",
     "output_type": "stream",
     "text": [
      "\r",
      " 32%|█████████████████████████                                                      | 317/1000 [02:07<04:28,  2.54it/s]"
     ]
    },
    {
     "name": "stdout",
     "output_type": "stream",
     "text": [
      "119.66190338134766\n"
     ]
    },
    {
     "name": "stderr",
     "output_type": "stream",
     "text": [
      "\r",
      " 32%|█████████████████████████                                                      | 318/1000 [02:07<04:26,  2.56it/s]"
     ]
    },
    {
     "name": "stdout",
     "output_type": "stream",
     "text": [
      "118.5562515258789\n"
     ]
    },
    {
     "name": "stderr",
     "output_type": "stream",
     "text": [
      "\r",
      " 32%|█████████████████████████▏                                                     | 319/1000 [02:08<04:27,  2.55it/s]"
     ]
    },
    {
     "name": "stdout",
     "output_type": "stream",
     "text": [
      "121.3652114868164\n"
     ]
    },
    {
     "name": "stderr",
     "output_type": "stream",
     "text": [
      "\r",
      " 32%|█████████████████████████▎                                                     | 320/1000 [02:08<04:26,  2.56it/s]"
     ]
    },
    {
     "name": "stdout",
     "output_type": "stream",
     "text": [
      "121.69711303710938\n"
     ]
    },
    {
     "name": "stderr",
     "output_type": "stream",
     "text": [
      "\r",
      " 32%|█████████████████████████▎                                                     | 321/1000 [02:08<04:27,  2.54it/s]"
     ]
    },
    {
     "name": "stdout",
     "output_type": "stream",
     "text": [
      "122.2640609741211\n"
     ]
    },
    {
     "name": "stderr",
     "output_type": "stream",
     "text": [
      "\r",
      " 32%|█████████████████████████▍                                                     | 322/1000 [02:09<04:24,  2.56it/s]"
     ]
    },
    {
     "name": "stdout",
     "output_type": "stream",
     "text": [
      "116.82743835449219\n"
     ]
    },
    {
     "name": "stderr",
     "output_type": "stream",
     "text": [
      "\r",
      " 32%|█████████████████████████▌                                                     | 323/1000 [02:09<04:22,  2.58it/s]"
     ]
    },
    {
     "name": "stdout",
     "output_type": "stream",
     "text": [
      "119.95345306396484\n"
     ]
    },
    {
     "name": "stderr",
     "output_type": "stream",
     "text": [
      "\r",
      " 32%|█████████████████████████▌                                                     | 324/1000 [02:10<04:22,  2.57it/s]"
     ]
    },
    {
     "name": "stdout",
     "output_type": "stream",
     "text": [
      "131.92674255371094\n"
     ]
    },
    {
     "name": "stderr",
     "output_type": "stream",
     "text": [
      "\r",
      " 32%|█████████████████████████▋                                                     | 325/1000 [02:10<04:22,  2.57it/s]"
     ]
    },
    {
     "name": "stdout",
     "output_type": "stream",
     "text": [
      "128.395751953125\n"
     ]
    },
    {
     "name": "stderr",
     "output_type": "stream",
     "text": [
      "\r",
      " 33%|█████████████████████████▊                                                     | 326/1000 [02:10<04:23,  2.56it/s]"
     ]
    },
    {
     "name": "stdout",
     "output_type": "stream",
     "text": [
      "131.77821350097656\n"
     ]
    },
    {
     "name": "stderr",
     "output_type": "stream",
     "text": [
      "\r",
      " 33%|█████████████████████████▊                                                     | 327/1000 [02:11<04:20,  2.58it/s]"
     ]
    },
    {
     "name": "stdout",
     "output_type": "stream",
     "text": [
      "112.37979125976562\n"
     ]
    },
    {
     "name": "stderr",
     "output_type": "stream",
     "text": [
      "\r",
      " 33%|█████████████████████████▉                                                     | 328/1000 [02:11<04:34,  2.45it/s]"
     ]
    },
    {
     "name": "stdout",
     "output_type": "stream",
     "text": [
      "128.77218627929688\n"
     ]
    },
    {
     "name": "stderr",
     "output_type": "stream",
     "text": [
      "\r",
      " 33%|█████████████████████████▉                                                     | 329/1000 [02:12<04:34,  2.45it/s]"
     ]
    },
    {
     "name": "stdout",
     "output_type": "stream",
     "text": [
      "127.92797088623047\n"
     ]
    },
    {
     "name": "stderr",
     "output_type": "stream",
     "text": [
      "\r",
      " 33%|██████████████████████████                                                     | 330/1000 [02:12<04:30,  2.48it/s]"
     ]
    },
    {
     "name": "stdout",
     "output_type": "stream",
     "text": [
      "123.6357192993164\n"
     ]
    },
    {
     "name": "stderr",
     "output_type": "stream",
     "text": [
      "\r",
      " 33%|██████████████████████████▏                                                    | 331/1000 [02:12<04:30,  2.48it/s]"
     ]
    },
    {
     "name": "stdout",
     "output_type": "stream",
     "text": [
      "124.1611099243164\n"
     ]
    },
    {
     "name": "stderr",
     "output_type": "stream",
     "text": [
      "\r",
      " 33%|██████████████████████████▏                                                    | 332/1000 [02:13<04:26,  2.51it/s]"
     ]
    },
    {
     "name": "stdout",
     "output_type": "stream",
     "text": [
      "116.05231475830078\n"
     ]
    },
    {
     "name": "stderr",
     "output_type": "stream",
     "text": [
      "\r",
      " 33%|██████████████████████████▎                                                    | 333/1000 [02:13<04:26,  2.50it/s]"
     ]
    },
    {
     "name": "stdout",
     "output_type": "stream",
     "text": [
      "133.16322326660156\n"
     ]
    },
    {
     "name": "stderr",
     "output_type": "stream",
     "text": [
      "\r",
      " 33%|██████████████████████████▍                                                    | 334/1000 [02:14<04:25,  2.51it/s]"
     ]
    },
    {
     "name": "stdout",
     "output_type": "stream",
     "text": [
      "123.52499389648438\n"
     ]
    },
    {
     "name": "stderr",
     "output_type": "stream",
     "text": [
      "\r",
      " 34%|██████████████████████████▍                                                    | 335/1000 [02:14<04:22,  2.54it/s]"
     ]
    },
    {
     "name": "stdout",
     "output_type": "stream",
     "text": [
      "125.89910888671875\n"
     ]
    },
    {
     "name": "stderr",
     "output_type": "stream",
     "text": [
      "\r",
      " 34%|██████████████████████████▌                                                    | 336/1000 [02:14<04:22,  2.53it/s]"
     ]
    },
    {
     "name": "stdout",
     "output_type": "stream",
     "text": [
      "119.15955352783203\n"
     ]
    },
    {
     "name": "stderr",
     "output_type": "stream",
     "text": [
      "\r",
      " 34%|██████████████████████████▌                                                    | 337/1000 [02:15<04:18,  2.57it/s]"
     ]
    },
    {
     "name": "stdout",
     "output_type": "stream",
     "text": [
      "113.88508605957031\n"
     ]
    },
    {
     "name": "stderr",
     "output_type": "stream",
     "text": [
      "\r",
      " 34%|██████████████████████████▋                                                    | 338/1000 [02:15<04:24,  2.50it/s]"
     ]
    },
    {
     "name": "stdout",
     "output_type": "stream",
     "text": [
      "125.3604507446289\n"
     ]
    },
    {
     "name": "stderr",
     "output_type": "stream",
     "text": [
      "\r",
      " 34%|██████████████████████████▊                                                    | 339/1000 [02:16<04:24,  2.50it/s]"
     ]
    },
    {
     "name": "stdout",
     "output_type": "stream",
     "text": [
      "124.85273742675781\n"
     ]
    },
    {
     "name": "stderr",
     "output_type": "stream",
     "text": [
      "\r",
      " 34%|██████████████████████████▊                                                    | 340/1000 [02:16<04:25,  2.48it/s]"
     ]
    },
    {
     "name": "stdout",
     "output_type": "stream",
     "text": [
      "122.30133819580078\n"
     ]
    },
    {
     "name": "stderr",
     "output_type": "stream",
     "text": [
      "\r",
      " 34%|██████████████████████████▉                                                    | 341/1000 [02:16<04:22,  2.51it/s]"
     ]
    },
    {
     "name": "stdout",
     "output_type": "stream",
     "text": [
      "121.30180358886719\n"
     ]
    },
    {
     "name": "stderr",
     "output_type": "stream",
     "text": [
      "\r",
      " 34%|███████████████████████████                                                    | 342/1000 [02:17<04:25,  2.48it/s]"
     ]
    },
    {
     "name": "stdout",
     "output_type": "stream",
     "text": [
      "118.27435302734375\n"
     ]
    },
    {
     "name": "stderr",
     "output_type": "stream",
     "text": [
      "\r",
      " 34%|███████████████████████████                                                    | 343/1000 [02:17<04:21,  2.51it/s]"
     ]
    },
    {
     "name": "stdout",
     "output_type": "stream",
     "text": [
      "114.52873992919922\n"
     ]
    },
    {
     "name": "stderr",
     "output_type": "stream",
     "text": [
      "\r",
      " 34%|███████████████████████████▏                                                   | 344/1000 [02:18<04:18,  2.54it/s]"
     ]
    },
    {
     "name": "stdout",
     "output_type": "stream",
     "text": [
      "125.41068267822266\n"
     ]
    },
    {
     "name": "stderr",
     "output_type": "stream",
     "text": [
      "\r",
      " 34%|███████████████████████████▎                                                   | 345/1000 [02:18<04:17,  2.55it/s]"
     ]
    },
    {
     "name": "stdout",
     "output_type": "stream",
     "text": [
      "130.23570251464844\n"
     ]
    },
    {
     "name": "stderr",
     "output_type": "stream",
     "text": [
      "\r",
      " 35%|███████████████████████████▎                                                   | 346/1000 [02:18<04:14,  2.57it/s]"
     ]
    },
    {
     "name": "stdout",
     "output_type": "stream",
     "text": [
      "117.88762664794922\n"
     ]
    },
    {
     "name": "stderr",
     "output_type": "stream",
     "text": [
      "\r",
      " 35%|███████████████████████████▍                                                   | 347/1000 [02:19<04:13,  2.58it/s]"
     ]
    },
    {
     "name": "stdout",
     "output_type": "stream",
     "text": [
      "121.48161315917969\n"
     ]
    },
    {
     "name": "stderr",
     "output_type": "stream",
     "text": [
      "\r",
      " 35%|███████████████████████████▍                                                   | 348/1000 [02:19<04:14,  2.56it/s]"
     ]
    },
    {
     "name": "stdout",
     "output_type": "stream",
     "text": [
      "124.66129302978516\n"
     ]
    },
    {
     "name": "stderr",
     "output_type": "stream",
     "text": [
      "\r",
      " 35%|███████████████████████████▌                                                   | 349/1000 [02:19<04:13,  2.57it/s]"
     ]
    },
    {
     "name": "stdout",
     "output_type": "stream",
     "text": [
      "116.85426330566406\n"
     ]
    },
    {
     "name": "stderr",
     "output_type": "stream",
     "text": [
      "\r",
      " 35%|███████████████████████████▋                                                   | 350/1000 [02:20<04:14,  2.55it/s]"
     ]
    },
    {
     "name": "stdout",
     "output_type": "stream",
     "text": [
      "116.80529022216797\n"
     ]
    },
    {
     "name": "stderr",
     "output_type": "stream",
     "text": [
      "\r",
      " 35%|███████████████████████████▋                                                   | 351/1000 [02:20<04:14,  2.55it/s]"
     ]
    },
    {
     "name": "stdout",
     "output_type": "stream",
     "text": [
      "119.46136474609375\n"
     ]
    },
    {
     "name": "stderr",
     "output_type": "stream",
     "text": [
      "\r",
      " 35%|███████████████████████████▊                                                   | 352/1000 [02:21<04:15,  2.53it/s]"
     ]
    },
    {
     "name": "stdout",
     "output_type": "stream",
     "text": [
      "124.46248626708984\n"
     ]
    },
    {
     "name": "stderr",
     "output_type": "stream",
     "text": [
      "\r",
      " 35%|███████████████████████████▉                                                   | 353/1000 [02:21<04:20,  2.48it/s]"
     ]
    },
    {
     "name": "stdout",
     "output_type": "stream",
     "text": [
      "125.36178588867188\n"
     ]
    },
    {
     "name": "stderr",
     "output_type": "stream",
     "text": [
      "\r",
      " 35%|███████████████████████████▉                                                   | 354/1000 [02:21<04:22,  2.46it/s]"
     ]
    },
    {
     "name": "stdout",
     "output_type": "stream",
     "text": [
      "122.4363784790039\n"
     ]
    },
    {
     "name": "stderr",
     "output_type": "stream",
     "text": [
      "\r",
      " 36%|████████████████████████████                                                   | 355/1000 [02:22<04:18,  2.49it/s]"
     ]
    },
    {
     "name": "stdout",
     "output_type": "stream",
     "text": [
      "128.24790954589844\n"
     ]
    },
    {
     "name": "stderr",
     "output_type": "stream",
     "text": [
      "\r",
      " 36%|████████████████████████████                                                   | 356/1000 [02:22<04:14,  2.53it/s]"
     ]
    },
    {
     "name": "stdout",
     "output_type": "stream",
     "text": [
      "112.69739532470703\n"
     ]
    },
    {
     "name": "stderr",
     "output_type": "stream",
     "text": [
      "\r",
      " 36%|████████████████████████████▏                                                  | 357/1000 [02:23<04:10,  2.56it/s]"
     ]
    },
    {
     "name": "stdout",
     "output_type": "stream",
     "text": [
      "124.84405517578125\n"
     ]
    },
    {
     "name": "stderr",
     "output_type": "stream",
     "text": [
      "\r",
      " 36%|████████████████████████████▎                                                  | 358/1000 [02:23<04:10,  2.57it/s]"
     ]
    },
    {
     "name": "stdout",
     "output_type": "stream",
     "text": [
      "118.44466400146484\n"
     ]
    },
    {
     "name": "stderr",
     "output_type": "stream",
     "text": [
      "\r",
      " 36%|████████████████████████████▎                                                  | 359/1000 [02:23<04:09,  2.57it/s]"
     ]
    },
    {
     "name": "stdout",
     "output_type": "stream",
     "text": [
      "125.39363098144531\n"
     ]
    },
    {
     "name": "stderr",
     "output_type": "stream",
     "text": [
      "\r",
      " 36%|████████████████████████████▍                                                  | 360/1000 [02:24<04:08,  2.58it/s]"
     ]
    },
    {
     "name": "stdout",
     "output_type": "stream",
     "text": [
      "124.36946868896484\n"
     ]
    },
    {
     "name": "stderr",
     "output_type": "stream",
     "text": [
      "\r",
      " 36%|████████████████████████████▌                                                  | 361/1000 [02:24<04:09,  2.56it/s]"
     ]
    },
    {
     "name": "stdout",
     "output_type": "stream",
     "text": [
      "123.59477233886719\n"
     ]
    },
    {
     "name": "stderr",
     "output_type": "stream",
     "text": [
      "\r",
      " 36%|████████████████████████████▌                                                  | 362/1000 [02:25<04:08,  2.56it/s]"
     ]
    },
    {
     "name": "stdout",
     "output_type": "stream",
     "text": [
      "115.20890045166016\n"
     ]
    },
    {
     "name": "stderr",
     "output_type": "stream",
     "text": [
      "\r",
      " 36%|████████████████████████████▋                                                  | 363/1000 [02:25<04:19,  2.46it/s]"
     ]
    },
    {
     "name": "stdout",
     "output_type": "stream",
     "text": [
      "130.627685546875\n"
     ]
    },
    {
     "name": "stderr",
     "output_type": "stream",
     "text": [
      "\r",
      " 36%|████████████████████████████▊                                                  | 364/1000 [02:25<04:16,  2.48it/s]"
     ]
    },
    {
     "name": "stdout",
     "output_type": "stream",
     "text": [
      "124.99201202392578\n"
     ]
    },
    {
     "name": "stderr",
     "output_type": "stream",
     "text": [
      "\r",
      " 36%|████████████████████████████▊                                                  | 365/1000 [02:26<04:14,  2.49it/s]"
     ]
    },
    {
     "name": "stdout",
     "output_type": "stream",
     "text": [
      "111.77391815185547\n"
     ]
    },
    {
     "name": "stderr",
     "output_type": "stream",
     "text": [
      "\r",
      " 37%|████████████████████████████▉                                                  | 366/1000 [02:26<04:11,  2.52it/s]"
     ]
    },
    {
     "name": "stdout",
     "output_type": "stream",
     "text": [
      "132.1346435546875\n"
     ]
    },
    {
     "name": "stderr",
     "output_type": "stream",
     "text": [
      "\r",
      " 37%|████████████████████████████▉                                                  | 367/1000 [02:27<04:12,  2.50it/s]"
     ]
    },
    {
     "name": "stdout",
     "output_type": "stream",
     "text": [
      "118.7947006225586\n"
     ]
    },
    {
     "name": "stderr",
     "output_type": "stream",
     "text": [
      "\r",
      " 37%|█████████████████████████████                                                  | 368/1000 [02:27<04:12,  2.50it/s]"
     ]
    },
    {
     "name": "stdout",
     "output_type": "stream",
     "text": [
      "117.4875717163086\n"
     ]
    },
    {
     "name": "stderr",
     "output_type": "stream",
     "text": [
      "\r",
      " 37%|█████████████████████████████▏                                                 | 369/1000 [02:27<04:09,  2.53it/s]"
     ]
    },
    {
     "name": "stdout",
     "output_type": "stream",
     "text": [
      "133.12257385253906\n"
     ]
    },
    {
     "name": "stderr",
     "output_type": "stream",
     "text": [
      "\r",
      " 37%|█████████████████████████████▏                                                 | 370/1000 [02:28<04:05,  2.56it/s]"
     ]
    },
    {
     "name": "stdout",
     "output_type": "stream",
     "text": [
      "115.64131164550781\n"
     ]
    },
    {
     "name": "stderr",
     "output_type": "stream",
     "text": [
      "\r",
      " 37%|█████████████████████████████▎                                                 | 371/1000 [02:28<04:06,  2.55it/s]"
     ]
    },
    {
     "name": "stdout",
     "output_type": "stream",
     "text": [
      "129.37461853027344\n"
     ]
    },
    {
     "name": "stderr",
     "output_type": "stream",
     "text": [
      "\r",
      " 37%|█████████████████████████████▍                                                 | 372/1000 [02:29<04:06,  2.55it/s]"
     ]
    },
    {
     "name": "stdout",
     "output_type": "stream",
     "text": [
      "119.95625305175781\n"
     ]
    },
    {
     "name": "stderr",
     "output_type": "stream",
     "text": [
      "\r",
      " 37%|█████████████████████████████▍                                                 | 373/1000 [02:29<04:12,  2.48it/s]"
     ]
    },
    {
     "name": "stdout",
     "output_type": "stream",
     "text": [
      "121.79326629638672\n"
     ]
    },
    {
     "name": "stderr",
     "output_type": "stream",
     "text": [
      "\r",
      " 37%|█████████████████████████████▌                                                 | 374/1000 [02:29<04:09,  2.51it/s]"
     ]
    },
    {
     "name": "stdout",
     "output_type": "stream",
     "text": [
      "120.46304321289062\n"
     ]
    },
    {
     "name": "stderr",
     "output_type": "stream",
     "text": [
      "\r",
      " 38%|█████████████████████████████▋                                                 | 375/1000 [02:30<04:04,  2.55it/s]"
     ]
    },
    {
     "name": "stdout",
     "output_type": "stream",
     "text": [
      "127.70161437988281\n"
     ]
    },
    {
     "name": "stderr",
     "output_type": "stream",
     "text": [
      "\r",
      " 38%|█████████████████████████████▋                                                 | 376/1000 [02:30<04:05,  2.54it/s]"
     ]
    },
    {
     "name": "stdout",
     "output_type": "stream",
     "text": [
      "121.67874145507812\n"
     ]
    },
    {
     "name": "stderr",
     "output_type": "stream",
     "text": [
      "\r",
      " 38%|█████████████████████████████▊                                                 | 377/1000 [02:31<04:06,  2.52it/s]"
     ]
    },
    {
     "name": "stdout",
     "output_type": "stream",
     "text": [
      "120.57503509521484\n"
     ]
    },
    {
     "name": "stderr",
     "output_type": "stream",
     "text": [
      "\r",
      " 38%|█████████████████████████████▊                                                 | 378/1000 [02:31<04:10,  2.48it/s]"
     ]
    },
    {
     "name": "stdout",
     "output_type": "stream",
     "text": [
      "124.71552276611328\n"
     ]
    },
    {
     "name": "stderr",
     "output_type": "stream",
     "text": [
      "\r",
      " 38%|█████████████████████████████▉                                                 | 379/1000 [02:31<04:11,  2.46it/s]"
     ]
    },
    {
     "name": "stdout",
     "output_type": "stream",
     "text": [
      "117.47978973388672\n"
     ]
    },
    {
     "name": "stderr",
     "output_type": "stream",
     "text": [
      "\r",
      " 38%|██████████████████████████████                                                 | 380/1000 [02:32<04:16,  2.42it/s]"
     ]
    },
    {
     "name": "stdout",
     "output_type": "stream",
     "text": [
      "131.83949279785156\n"
     ]
    },
    {
     "name": "stderr",
     "output_type": "stream",
     "text": [
      "\r",
      " 38%|██████████████████████████████                                                 | 381/1000 [02:32<04:19,  2.38it/s]"
     ]
    },
    {
     "name": "stdout",
     "output_type": "stream",
     "text": [
      "121.55403137207031\n"
     ]
    },
    {
     "name": "stderr",
     "output_type": "stream",
     "text": [
      "\r",
      " 38%|██████████████████████████████▏                                                | 382/1000 [02:33<04:25,  2.33it/s]"
     ]
    },
    {
     "name": "stdout",
     "output_type": "stream",
     "text": [
      "120.25348663330078\n"
     ]
    },
    {
     "name": "stderr",
     "output_type": "stream",
     "text": [
      "\r",
      " 38%|██████████████████████████████▎                                                | 383/1000 [02:33<04:22,  2.35it/s]"
     ]
    },
    {
     "name": "stdout",
     "output_type": "stream",
     "text": [
      "126.61997985839844\n"
     ]
    },
    {
     "name": "stderr",
     "output_type": "stream",
     "text": [
      "\r",
      " 38%|██████████████████████████████▎                                                | 384/1000 [02:34<04:24,  2.33it/s]"
     ]
    },
    {
     "name": "stdout",
     "output_type": "stream",
     "text": [
      "121.32463836669922\n"
     ]
    },
    {
     "name": "stderr",
     "output_type": "stream",
     "text": [
      "\r",
      " 38%|██████████████████████████████▍                                                | 385/1000 [02:34<04:31,  2.27it/s]"
     ]
    },
    {
     "name": "stdout",
     "output_type": "stream",
     "text": [
      "125.61930084228516\n",
      "117.17744445800781\n"
     ]
    },
    {
     "name": "stderr",
     "output_type": "stream",
     "text": [
      "\r",
      " 39%|██████████████████████████████▍                                                | 386/1000 [02:35<04:38,  2.20it/s]"
     ]
    },
    {
     "name": "stdout",
     "output_type": "stream",
     "text": [
      "117.60340881347656\n"
     ]
    },
    {
     "name": "stderr",
     "output_type": "stream",
     "text": [
      " 39%|██████████████████████████████▋                                                | 388/1000 [02:35<04:28,  2.28it/s]"
     ]
    },
    {
     "name": "stdout",
     "output_type": "stream",
     "text": [
      "130.8850555419922\n"
     ]
    },
    {
     "name": "stderr",
     "output_type": "stream",
     "text": [
      "\r",
      " 39%|██████████████████████████████▋                                                | 389/1000 [02:36<04:22,  2.33it/s]"
     ]
    },
    {
     "name": "stdout",
     "output_type": "stream",
     "text": [
      "128.42063903808594\n"
     ]
    },
    {
     "name": "stderr",
     "output_type": "stream",
     "text": [
      "\r",
      " 39%|██████████████████████████████▊                                                | 390/1000 [02:36<04:23,  2.32it/s]"
     ]
    },
    {
     "name": "stdout",
     "output_type": "stream",
     "text": [
      "116.0867691040039\n"
     ]
    },
    {
     "name": "stderr",
     "output_type": "stream",
     "text": [
      "\r",
      " 39%|██████████████████████████████▉                                                | 391/1000 [02:37<04:22,  2.32it/s]"
     ]
    },
    {
     "name": "stdout",
     "output_type": "stream",
     "text": [
      "124.830322265625\n"
     ]
    },
    {
     "name": "stderr",
     "output_type": "stream",
     "text": [
      "\r",
      " 39%|██████████████████████████████▉                                                | 392/1000 [02:37<04:18,  2.35it/s]"
     ]
    },
    {
     "name": "stdout",
     "output_type": "stream",
     "text": [
      "118.11837768554688\n"
     ]
    },
    {
     "name": "stderr",
     "output_type": "stream",
     "text": [
      "\r",
      " 39%|███████████████████████████████                                                | 393/1000 [02:37<04:12,  2.40it/s]"
     ]
    },
    {
     "name": "stdout",
     "output_type": "stream",
     "text": [
      "122.4439468383789\n"
     ]
    },
    {
     "name": "stderr",
     "output_type": "stream",
     "text": [
      "\r",
      " 39%|███████████████████████████████▏                                               | 394/1000 [02:38<04:06,  2.45it/s]"
     ]
    },
    {
     "name": "stdout",
     "output_type": "stream",
     "text": [
      "116.03665161132812\n"
     ]
    },
    {
     "name": "stderr",
     "output_type": "stream",
     "text": [
      "\r",
      " 40%|███████████████████████████████▏                                               | 395/1000 [02:38<04:00,  2.51it/s]"
     ]
    },
    {
     "name": "stdout",
     "output_type": "stream",
     "text": [
      "117.3484115600586\n"
     ]
    },
    {
     "name": "stderr",
     "output_type": "stream",
     "text": [
      "\r",
      " 40%|███████████████████████████████▎                                               | 396/1000 [02:39<04:00,  2.51it/s]"
     ]
    },
    {
     "name": "stdout",
     "output_type": "stream",
     "text": [
      "115.18926239013672\n"
     ]
    },
    {
     "name": "stderr",
     "output_type": "stream",
     "text": [
      "\r",
      " 40%|███████████████████████████████▎                                               | 397/1000 [02:39<04:00,  2.50it/s]"
     ]
    },
    {
     "name": "stdout",
     "output_type": "stream",
     "text": [
      "132.0835418701172\n"
     ]
    },
    {
     "name": "stderr",
     "output_type": "stream",
     "text": [
      "\r",
      " 40%|███████████████████████████████▍                                               | 398/1000 [02:39<04:03,  2.47it/s]"
     ]
    },
    {
     "name": "stdout",
     "output_type": "stream",
     "text": [
      "116.6138687133789\n"
     ]
    },
    {
     "name": "stderr",
     "output_type": "stream",
     "text": [
      "\r",
      " 40%|███████████████████████████████▌                                               | 399/1000 [02:40<04:01,  2.48it/s]"
     ]
    },
    {
     "name": "stdout",
     "output_type": "stream",
     "text": [
      "119.80863952636719\n"
     ]
    },
    {
     "name": "stderr",
     "output_type": "stream",
     "text": [
      "\r",
      " 40%|███████████████████████████████▌                                               | 400/1000 [02:40<03:59,  2.51it/s]"
     ]
    },
    {
     "name": "stdout",
     "output_type": "stream",
     "text": [
      "129.19284057617188\n"
     ]
    },
    {
     "name": "stderr",
     "output_type": "stream",
     "text": [
      "\r",
      " 40%|███████████████████████████████▋                                               | 401/1000 [02:41<03:58,  2.51it/s]"
     ]
    },
    {
     "name": "stdout",
     "output_type": "stream",
     "text": [
      "121.8390884399414\n"
     ]
    },
    {
     "name": "stderr",
     "output_type": "stream",
     "text": [
      "\r",
      " 40%|███████████████████████████████▊                                               | 402/1000 [02:41<04:02,  2.47it/s]"
     ]
    },
    {
     "name": "stdout",
     "output_type": "stream",
     "text": [
      "118.14008331298828\n"
     ]
    },
    {
     "name": "stderr",
     "output_type": "stream",
     "text": [
      "\r",
      " 40%|███████████████████████████████▊                                               | 403/1000 [02:41<04:00,  2.48it/s]"
     ]
    },
    {
     "name": "stdout",
     "output_type": "stream",
     "text": [
      "115.51738739013672\n"
     ]
    },
    {
     "name": "stderr",
     "output_type": "stream",
     "text": [
      "\r",
      " 40%|███████████████████████████████▉                                               | 404/1000 [02:42<03:59,  2.49it/s]"
     ]
    },
    {
     "name": "stdout",
     "output_type": "stream",
     "text": [
      "122.02000427246094\n"
     ]
    },
    {
     "name": "stderr",
     "output_type": "stream",
     "text": [
      "\r",
      " 40%|███████████████████████████████▉                                               | 405/1000 [02:42<03:54,  2.54it/s]"
     ]
    },
    {
     "name": "stdout",
     "output_type": "stream",
     "text": [
      "123.76505279541016\n"
     ]
    },
    {
     "name": "stderr",
     "output_type": "stream",
     "text": [
      "\r",
      " 41%|████████████████████████████████                                               | 406/1000 [02:43<03:53,  2.54it/s]"
     ]
    },
    {
     "name": "stdout",
     "output_type": "stream",
     "text": [
      "118.32151794433594\n"
     ]
    },
    {
     "name": "stderr",
     "output_type": "stream",
     "text": [
      "\r",
      " 41%|████████████████████████████████▏                                              | 407/1000 [02:43<03:54,  2.52it/s]"
     ]
    },
    {
     "name": "stdout",
     "output_type": "stream",
     "text": [
      "124.76581573486328\n"
     ]
    },
    {
     "name": "stderr",
     "output_type": "stream",
     "text": [
      "\r",
      " 41%|████████████████████████████████▏                                              | 408/1000 [02:43<03:54,  2.52it/s]"
     ]
    },
    {
     "name": "stdout",
     "output_type": "stream",
     "text": [
      "124.32527923583984\n"
     ]
    },
    {
     "name": "stderr",
     "output_type": "stream",
     "text": [
      "\r",
      " 41%|████████████████████████████████▎                                              | 409/1000 [02:44<03:53,  2.53it/s]"
     ]
    },
    {
     "name": "stdout",
     "output_type": "stream",
     "text": [
      "125.71304321289062\n"
     ]
    },
    {
     "name": "stderr",
     "output_type": "stream",
     "text": [
      "\r",
      " 41%|████████████████████████████████▍                                              | 410/1000 [02:44<03:52,  2.54it/s]"
     ]
    },
    {
     "name": "stdout",
     "output_type": "stream",
     "text": [
      "118.65349578857422\n"
     ]
    },
    {
     "name": "stderr",
     "output_type": "stream",
     "text": [
      "\r",
      " 41%|████████████████████████████████▍                                              | 411/1000 [02:45<03:51,  2.54it/s]"
     ]
    },
    {
     "name": "stdout",
     "output_type": "stream",
     "text": [
      "118.7988052368164\n"
     ]
    },
    {
     "name": "stderr",
     "output_type": "stream",
     "text": [
      "\r",
      " 41%|████████████████████████████████▌                                              | 412/1000 [02:45<03:49,  2.56it/s]"
     ]
    },
    {
     "name": "stdout",
     "output_type": "stream",
     "text": [
      "126.65852355957031\n"
     ]
    },
    {
     "name": "stderr",
     "output_type": "stream",
     "text": [
      "\r",
      " 41%|████████████████████████████████▋                                              | 413/1000 [02:45<03:54,  2.50it/s]"
     ]
    },
    {
     "name": "stdout",
     "output_type": "stream",
     "text": [
      "123.64556884765625\n"
     ]
    },
    {
     "name": "stderr",
     "output_type": "stream",
     "text": [
      "\r",
      " 41%|████████████████████████████████▋                                              | 414/1000 [02:46<03:51,  2.53it/s]"
     ]
    },
    {
     "name": "stdout",
     "output_type": "stream",
     "text": [
      "120.61490631103516\n"
     ]
    },
    {
     "name": "stderr",
     "output_type": "stream",
     "text": [
      "\r",
      " 42%|████████████████████████████████▊                                              | 415/1000 [02:46<03:55,  2.48it/s]"
     ]
    },
    {
     "name": "stdout",
     "output_type": "stream",
     "text": [
      "116.89521026611328\n"
     ]
    },
    {
     "name": "stderr",
     "output_type": "stream",
     "text": [
      "\r",
      " 42%|████████████████████████████████▊                                              | 416/1000 [02:47<04:03,  2.40it/s]"
     ]
    },
    {
     "name": "stdout",
     "output_type": "stream",
     "text": [
      "122.72846221923828\n"
     ]
    },
    {
     "name": "stderr",
     "output_type": "stream",
     "text": [
      "\r",
      " 42%|████████████████████████████████▉                                              | 417/1000 [02:47<04:06,  2.36it/s]"
     ]
    },
    {
     "name": "stdout",
     "output_type": "stream",
     "text": [
      "117.76993560791016\n"
     ]
    },
    {
     "name": "stderr",
     "output_type": "stream",
     "text": [
      "\r",
      " 42%|█████████████████████████████████                                              | 418/1000 [02:47<04:06,  2.36it/s]"
     ]
    },
    {
     "name": "stdout",
     "output_type": "stream",
     "text": [
      "123.12007904052734\n"
     ]
    },
    {
     "name": "stderr",
     "output_type": "stream",
     "text": [
      "\r",
      " 42%|█████████████████████████████████                                              | 419/1000 [02:48<04:03,  2.38it/s]"
     ]
    },
    {
     "name": "stdout",
     "output_type": "stream",
     "text": [
      "116.9144287109375\n"
     ]
    },
    {
     "name": "stderr",
     "output_type": "stream",
     "text": [
      "\r",
      " 42%|█████████████████████████████████▏                                             | 420/1000 [02:48<03:56,  2.45it/s]"
     ]
    },
    {
     "name": "stdout",
     "output_type": "stream",
     "text": [
      "127.49798583984375\n"
     ]
    },
    {
     "name": "stderr",
     "output_type": "stream",
     "text": [
      "\r",
      " 42%|█████████████████████████████████▎                                             | 421/1000 [02:49<03:52,  2.49it/s]"
     ]
    },
    {
     "name": "stdout",
     "output_type": "stream",
     "text": [
      "128.32412719726562\n"
     ]
    },
    {
     "name": "stderr",
     "output_type": "stream",
     "text": [
      "\r",
      " 42%|█████████████████████████████████▎                                             | 422/1000 [02:49<03:49,  2.52it/s]"
     ]
    },
    {
     "name": "stdout",
     "output_type": "stream",
     "text": [
      "129.20030212402344\n"
     ]
    },
    {
     "name": "stderr",
     "output_type": "stream",
     "text": [
      "\r",
      " 42%|█████████████████████████████████▍                                             | 423/1000 [02:49<03:49,  2.52it/s]"
     ]
    },
    {
     "name": "stdout",
     "output_type": "stream",
     "text": [
      "122.36217498779297\n"
     ]
    },
    {
     "name": "stderr",
     "output_type": "stream",
     "text": [
      "\r",
      " 42%|█████████████████████████████████▍                                             | 424/1000 [02:50<03:49,  2.51it/s]"
     ]
    },
    {
     "name": "stdout",
     "output_type": "stream",
     "text": [
      "120.74872589111328\n"
     ]
    },
    {
     "name": "stderr",
     "output_type": "stream",
     "text": [
      "\r",
      " 42%|█████████████████████████████████▌                                             | 425/1000 [02:50<03:47,  2.53it/s]"
     ]
    },
    {
     "name": "stdout",
     "output_type": "stream",
     "text": [
      "127.22502136230469\n"
     ]
    },
    {
     "name": "stderr",
     "output_type": "stream",
     "text": [
      "\r",
      " 43%|█████████████████████████████████▋                                             | 426/1000 [02:51<03:47,  2.52it/s]"
     ]
    },
    {
     "name": "stdout",
     "output_type": "stream",
     "text": [
      "118.59488677978516\n"
     ]
    },
    {
     "name": "stderr",
     "output_type": "stream",
     "text": [
      "\r",
      " 43%|█████████████████████████████████▋                                             | 427/1000 [02:51<03:46,  2.53it/s]"
     ]
    },
    {
     "name": "stdout",
     "output_type": "stream",
     "text": [
      "114.27239227294922\n"
     ]
    },
    {
     "name": "stderr",
     "output_type": "stream",
     "text": [
      "\r",
      " 43%|█████████████████████████████████▊                                             | 428/1000 [02:51<03:47,  2.52it/s]"
     ]
    },
    {
     "name": "stdout",
     "output_type": "stream",
     "text": [
      "119.85820007324219\n"
     ]
    },
    {
     "name": "stderr",
     "output_type": "stream",
     "text": [
      "\r",
      " 43%|█████████████████████████████████▉                                             | 429/1000 [02:52<03:48,  2.50it/s]"
     ]
    },
    {
     "name": "stdout",
     "output_type": "stream",
     "text": [
      "125.71533203125\n"
     ]
    },
    {
     "name": "stderr",
     "output_type": "stream",
     "text": [
      "\r",
      " 43%|█████████████████████████████████▉                                             | 430/1000 [02:52<03:45,  2.53it/s]"
     ]
    },
    {
     "name": "stdout",
     "output_type": "stream",
     "text": [
      "121.20096588134766\n"
     ]
    },
    {
     "name": "stderr",
     "output_type": "stream",
     "text": [
      "\r",
      " 43%|██████████████████████████████████                                             | 431/1000 [02:53<03:42,  2.56it/s]"
     ]
    },
    {
     "name": "stdout",
     "output_type": "stream",
     "text": [
      "132.25796508789062\n"
     ]
    },
    {
     "name": "stderr",
     "output_type": "stream",
     "text": [
      "\r",
      " 43%|██████████████████████████████████▏                                            | 432/1000 [02:53<03:44,  2.53it/s]"
     ]
    },
    {
     "name": "stdout",
     "output_type": "stream",
     "text": [
      "113.33061218261719\n"
     ]
    },
    {
     "name": "stderr",
     "output_type": "stream",
     "text": [
      "\r",
      " 43%|██████████████████████████████████▏                                            | 433/1000 [02:53<03:44,  2.52it/s]"
     ]
    },
    {
     "name": "stdout",
     "output_type": "stream",
     "text": [
      "119.92312622070312\n",
      "128.78382873535156\n"
     ]
    },
    {
     "name": "stderr",
     "output_type": "stream",
     "text": [
      " 44%|██████████████████████████████████▎                                            | 435/1000 [02:54<03:43,  2.53it/s]"
     ]
    },
    {
     "name": "stdout",
     "output_type": "stream",
     "text": [
      "120.56432342529297\n"
     ]
    },
    {
     "name": "stderr",
     "output_type": "stream",
     "text": [
      "\r",
      " 44%|██████████████████████████████████▍                                            | 436/1000 [02:55<03:42,  2.53it/s]"
     ]
    },
    {
     "name": "stdout",
     "output_type": "stream",
     "text": [
      "117.32146453857422\n"
     ]
    },
    {
     "name": "stderr",
     "output_type": "stream",
     "text": [
      "\r",
      " 44%|██████████████████████████████████▌                                            | 437/1000 [02:55<03:44,  2.51it/s]"
     ]
    },
    {
     "name": "stdout",
     "output_type": "stream",
     "text": [
      "126.065673828125\n"
     ]
    },
    {
     "name": "stderr",
     "output_type": "stream",
     "text": [
      "\r",
      " 44%|██████████████████████████████████▌                                            | 438/1000 [02:55<03:40,  2.55it/s]"
     ]
    },
    {
     "name": "stdout",
     "output_type": "stream",
     "text": [
      "123.13087463378906\n"
     ]
    },
    {
     "name": "stderr",
     "output_type": "stream",
     "text": [
      "\r",
      " 44%|██████████████████████████████████▋                                            | 439/1000 [02:56<03:37,  2.58it/s]"
     ]
    },
    {
     "name": "stdout",
     "output_type": "stream",
     "text": [
      "117.26187896728516\n"
     ]
    },
    {
     "name": "stderr",
     "output_type": "stream",
     "text": [
      "\r",
      " 44%|██████████████████████████████████▊                                            | 440/1000 [02:56<03:38,  2.56it/s]"
     ]
    },
    {
     "name": "stdout",
     "output_type": "stream",
     "text": [
      "119.30492401123047\n"
     ]
    },
    {
     "name": "stderr",
     "output_type": "stream",
     "text": [
      "\r",
      " 44%|██████████████████████████████████▊                                            | 441/1000 [02:57<03:37,  2.57it/s]"
     ]
    },
    {
     "name": "stdout",
     "output_type": "stream",
     "text": [
      "128.57493591308594\n"
     ]
    },
    {
     "name": "stderr",
     "output_type": "stream",
     "text": [
      "\r",
      " 44%|██████████████████████████████████▉                                            | 442/1000 [02:57<03:37,  2.56it/s]"
     ]
    },
    {
     "name": "stdout",
     "output_type": "stream",
     "text": [
      "124.87162780761719\n"
     ]
    },
    {
     "name": "stderr",
     "output_type": "stream",
     "text": [
      "\r",
      " 44%|██████████████████████████████████▉                                            | 443/1000 [02:57<03:41,  2.52it/s]"
     ]
    },
    {
     "name": "stdout",
     "output_type": "stream",
     "text": [
      "120.82450866699219\n"
     ]
    },
    {
     "name": "stderr",
     "output_type": "stream",
     "text": [
      "\r",
      " 44%|███████████████████████████████████                                            | 444/1000 [02:58<03:37,  2.56it/s]"
     ]
    },
    {
     "name": "stdout",
     "output_type": "stream",
     "text": [
      "119.22528076171875\n"
     ]
    },
    {
     "name": "stderr",
     "output_type": "stream",
     "text": [
      "\r",
      " 44%|███████████████████████████████████▏                                           | 445/1000 [02:58<03:36,  2.56it/s]"
     ]
    },
    {
     "name": "stdout",
     "output_type": "stream",
     "text": [
      "123.84495544433594\n"
     ]
    },
    {
     "name": "stderr",
     "output_type": "stream",
     "text": [
      "\r",
      " 45%|███████████████████████████████████▏                                           | 446/1000 [02:59<03:42,  2.49it/s]"
     ]
    },
    {
     "name": "stdout",
     "output_type": "stream",
     "text": [
      "116.96062469482422\n"
     ]
    },
    {
     "name": "stderr",
     "output_type": "stream",
     "text": [
      "\r",
      " 45%|███████████████████████████████████▎                                           | 447/1000 [02:59<03:41,  2.50it/s]"
     ]
    },
    {
     "name": "stdout",
     "output_type": "stream",
     "text": [
      "121.01927947998047\n"
     ]
    },
    {
     "name": "stderr",
     "output_type": "stream",
     "text": [
      "\r",
      " 45%|███████████████████████████████████▍                                           | 448/1000 [02:59<03:41,  2.49it/s]"
     ]
    },
    {
     "name": "stdout",
     "output_type": "stream",
     "text": [
      "121.01158905029297\n"
     ]
    },
    {
     "name": "stderr",
     "output_type": "stream",
     "text": [
      "\r",
      " 45%|███████████████████████████████████▍                                           | 449/1000 [03:00<03:39,  2.51it/s]"
     ]
    },
    {
     "name": "stdout",
     "output_type": "stream",
     "text": [
      "121.75130462646484\n"
     ]
    },
    {
     "name": "stderr",
     "output_type": "stream",
     "text": [
      "\r",
      " 45%|███████████████████████████████████▌                                           | 450/1000 [03:00<03:38,  2.52it/s]"
     ]
    },
    {
     "name": "stdout",
     "output_type": "stream",
     "text": [
      "126.51033020019531\n"
     ]
    },
    {
     "name": "stderr",
     "output_type": "stream",
     "text": [
      "\r",
      " 45%|███████████████████████████████████▋                                           | 451/1000 [03:01<03:35,  2.55it/s]"
     ]
    },
    {
     "name": "stdout",
     "output_type": "stream",
     "text": [
      "122.78491973876953\n"
     ]
    },
    {
     "name": "stderr",
     "output_type": "stream",
     "text": [
      "\r",
      " 45%|███████████████████████████████████▋                                           | 452/1000 [03:01<03:35,  2.54it/s]"
     ]
    },
    {
     "name": "stdout",
     "output_type": "stream",
     "text": [
      "121.40744018554688\n"
     ]
    },
    {
     "name": "stderr",
     "output_type": "stream",
     "text": [
      "\r",
      " 45%|███████████████████████████████████▊                                           | 453/1000 [03:01<03:36,  2.53it/s]"
     ]
    },
    {
     "name": "stdout",
     "output_type": "stream",
     "text": [
      "114.98426055908203\n"
     ]
    },
    {
     "name": "stderr",
     "output_type": "stream",
     "text": [
      "\r",
      " 45%|███████████████████████████████████▊                                           | 454/1000 [03:02<03:34,  2.55it/s]"
     ]
    },
    {
     "name": "stdout",
     "output_type": "stream",
     "text": [
      "120.39859771728516\n"
     ]
    },
    {
     "name": "stderr",
     "output_type": "stream",
     "text": [
      "\r",
      " 46%|███████████████████████████████████▉                                           | 455/1000 [03:02<03:36,  2.52it/s]"
     ]
    },
    {
     "name": "stdout",
     "output_type": "stream",
     "text": [
      "120.8531265258789\n"
     ]
    },
    {
     "name": "stderr",
     "output_type": "stream",
     "text": [
      "\r",
      " 46%|████████████████████████████████████                                           | 456/1000 [03:03<03:36,  2.51it/s]"
     ]
    },
    {
     "name": "stdout",
     "output_type": "stream",
     "text": [
      "123.42356872558594\n"
     ]
    },
    {
     "name": "stderr",
     "output_type": "stream",
     "text": [
      "\r",
      " 46%|████████████████████████████████████                                           | 457/1000 [03:03<03:41,  2.45it/s]"
     ]
    },
    {
     "name": "stdout",
     "output_type": "stream",
     "text": [
      "126.140625\n"
     ]
    },
    {
     "name": "stderr",
     "output_type": "stream",
     "text": [
      "\r",
      " 46%|████████████████████████████████████▏                                          | 458/1000 [03:03<03:38,  2.49it/s]"
     ]
    },
    {
     "name": "stdout",
     "output_type": "stream",
     "text": [
      "132.45228576660156\n"
     ]
    },
    {
     "name": "stderr",
     "output_type": "stream",
     "text": [
      "\r",
      " 46%|████████████████████████████████████▎                                          | 459/1000 [03:04<03:32,  2.54it/s]"
     ]
    },
    {
     "name": "stdout",
     "output_type": "stream",
     "text": [
      "115.6423110961914\n"
     ]
    },
    {
     "name": "stderr",
     "output_type": "stream",
     "text": [
      "\r",
      " 46%|████████████████████████████████████▎                                          | 460/1000 [03:04<03:32,  2.54it/s]"
     ]
    },
    {
     "name": "stdout",
     "output_type": "stream",
     "text": [
      "125.57095336914062\n"
     ]
    },
    {
     "name": "stderr",
     "output_type": "stream",
     "text": [
      "\r",
      " 46%|████████████████████████████████████▍                                          | 461/1000 [03:04<03:33,  2.53it/s]"
     ]
    },
    {
     "name": "stdout",
     "output_type": "stream",
     "text": [
      "136.55020141601562\n"
     ]
    },
    {
     "name": "stderr",
     "output_type": "stream",
     "text": [
      "\r",
      " 46%|████████████████████████████████████▍                                          | 462/1000 [03:05<03:38,  2.46it/s]"
     ]
    },
    {
     "name": "stdout",
     "output_type": "stream",
     "text": [
      "126.25569152832031\n"
     ]
    },
    {
     "name": "stderr",
     "output_type": "stream",
     "text": [
      "\r",
      " 46%|████████████████████████████████████▌                                          | 463/1000 [03:05<03:41,  2.42it/s]"
     ]
    },
    {
     "name": "stdout",
     "output_type": "stream",
     "text": [
      "126.81707000732422\n"
     ]
    },
    {
     "name": "stderr",
     "output_type": "stream",
     "text": [
      "\r",
      " 46%|████████████████████████████████████▋                                          | 464/1000 [03:06<03:36,  2.47it/s]"
     ]
    },
    {
     "name": "stdout",
     "output_type": "stream",
     "text": [
      "119.61604309082031\n"
     ]
    },
    {
     "name": "stderr",
     "output_type": "stream",
     "text": [
      "\r",
      " 46%|████████████████████████████████████▋                                          | 465/1000 [03:06<03:32,  2.51it/s]"
     ]
    },
    {
     "name": "stdout",
     "output_type": "stream",
     "text": [
      "118.68138885498047\n"
     ]
    },
    {
     "name": "stderr",
     "output_type": "stream",
     "text": [
      "\r",
      " 47%|████████████████████████████████████▊                                          | 466/1000 [03:07<03:31,  2.52it/s]"
     ]
    },
    {
     "name": "stdout",
     "output_type": "stream",
     "text": [
      "127.11290740966797\n"
     ]
    },
    {
     "name": "stderr",
     "output_type": "stream",
     "text": [
      "\r",
      " 47%|████████████████████████████████████▉                                          | 467/1000 [03:07<03:34,  2.49it/s]"
     ]
    },
    {
     "name": "stdout",
     "output_type": "stream",
     "text": [
      "122.15968322753906\n",
      "123.81754302978516\n"
     ]
    },
    {
     "name": "stderr",
     "output_type": "stream",
     "text": [
      " 47%|█████████████████████████████████████                                          | 469/1000 [03:08<03:32,  2.50it/s]"
     ]
    },
    {
     "name": "stdout",
     "output_type": "stream",
     "text": [
      "122.80082702636719\n"
     ]
    },
    {
     "name": "stderr",
     "output_type": "stream",
     "text": [
      "\r",
      " 47%|█████████████████████████████████████▏                                         | 470/1000 [03:08<03:30,  2.52it/s]"
     ]
    },
    {
     "name": "stdout",
     "output_type": "stream",
     "text": [
      "122.30546569824219\n"
     ]
    },
    {
     "name": "stderr",
     "output_type": "stream",
     "text": [
      "\r",
      " 47%|█████████████████████████████████████▏                                         | 471/1000 [03:09<03:30,  2.51it/s]"
     ]
    },
    {
     "name": "stdout",
     "output_type": "stream",
     "text": [
      "119.5391845703125\n"
     ]
    },
    {
     "name": "stderr",
     "output_type": "stream",
     "text": [
      "\r",
      " 47%|█████████████████████████████████████▎                                         | 472/1000 [03:09<03:30,  2.51it/s]"
     ]
    },
    {
     "name": "stdout",
     "output_type": "stream",
     "text": [
      "121.91357421875\n"
     ]
    },
    {
     "name": "stderr",
     "output_type": "stream",
     "text": [
      "\r",
      " 47%|█████████████████████████████████████▎                                         | 473/1000 [03:09<03:28,  2.53it/s]"
     ]
    },
    {
     "name": "stdout",
     "output_type": "stream",
     "text": [
      "120.17147064208984\n"
     ]
    },
    {
     "name": "stderr",
     "output_type": "stream",
     "text": [
      "\r",
      " 47%|█████████████████████████████████████▍                                         | 474/1000 [03:10<03:29,  2.52it/s]"
     ]
    },
    {
     "name": "stdout",
     "output_type": "stream",
     "text": [
      "117.60775756835938\n"
     ]
    },
    {
     "name": "stderr",
     "output_type": "stream",
     "text": [
      "\r",
      " 48%|█████████████████████████████████████▌                                         | 475/1000 [03:10<03:26,  2.54it/s]"
     ]
    },
    {
     "name": "stdout",
     "output_type": "stream",
     "text": [
      "118.36981201171875\n"
     ]
    },
    {
     "name": "stderr",
     "output_type": "stream",
     "text": [
      "\r",
      " 48%|█████████████████████████████████████▌                                         | 476/1000 [03:10<03:24,  2.56it/s]"
     ]
    },
    {
     "name": "stdout",
     "output_type": "stream",
     "text": [
      "119.62445068359375\n"
     ]
    },
    {
     "name": "stderr",
     "output_type": "stream",
     "text": [
      "\r",
      " 48%|█████████████████████████████████████▋                                         | 477/1000 [03:11<03:22,  2.58it/s]"
     ]
    },
    {
     "name": "stdout",
     "output_type": "stream",
     "text": [
      "133.81546020507812\n"
     ]
    },
    {
     "name": "stderr",
     "output_type": "stream",
     "text": [
      "\r",
      " 48%|█████████████████████████████████████▊                                         | 478/1000 [03:11<03:24,  2.55it/s]"
     ]
    },
    {
     "name": "stdout",
     "output_type": "stream",
     "text": [
      "120.52735137939453\n"
     ]
    },
    {
     "name": "stderr",
     "output_type": "stream",
     "text": [
      "\r",
      " 48%|█████████████████████████████████████▊                                         | 479/1000 [03:12<03:27,  2.52it/s]"
     ]
    },
    {
     "name": "stdout",
     "output_type": "stream",
     "text": [
      "120.82522583007812\n"
     ]
    },
    {
     "name": "stderr",
     "output_type": "stream",
     "text": [
      "\r",
      " 48%|█████████████████████████████████████▉                                         | 480/1000 [03:12<03:30,  2.47it/s]"
     ]
    },
    {
     "name": "stdout",
     "output_type": "stream",
     "text": [
      "123.34111022949219\n"
     ]
    },
    {
     "name": "stderr",
     "output_type": "stream",
     "text": [
      "\r",
      " 48%|█████████████████████████████████████▉                                         | 481/1000 [03:12<03:29,  2.48it/s]"
     ]
    },
    {
     "name": "stdout",
     "output_type": "stream",
     "text": [
      "117.12555694580078\n"
     ]
    },
    {
     "name": "stderr",
     "output_type": "stream",
     "text": [
      "\r",
      " 48%|██████████████████████████████████████                                         | 482/1000 [03:13<03:30,  2.46it/s]"
     ]
    },
    {
     "name": "stdout",
     "output_type": "stream",
     "text": [
      "127.64093017578125\n"
     ]
    },
    {
     "name": "stderr",
     "output_type": "stream",
     "text": [
      "\r",
      " 48%|██████████████████████████████████████▏                                        | 483/1000 [03:13<03:26,  2.50it/s]"
     ]
    },
    {
     "name": "stdout",
     "output_type": "stream",
     "text": [
      "126.29863739013672\n"
     ]
    },
    {
     "name": "stderr",
     "output_type": "stream",
     "text": [
      "\r",
      " 48%|██████████████████████████████████████▏                                        | 484/1000 [03:14<03:25,  2.51it/s]"
     ]
    },
    {
     "name": "stdout",
     "output_type": "stream",
     "text": [
      "119.86321258544922\n"
     ]
    },
    {
     "name": "stderr",
     "output_type": "stream",
     "text": [
      "\r",
      " 48%|██████████████████████████████████████▎                                        | 485/1000 [03:14<03:23,  2.53it/s]"
     ]
    },
    {
     "name": "stdout",
     "output_type": "stream",
     "text": [
      "126.16988372802734\n"
     ]
    },
    {
     "name": "stderr",
     "output_type": "stream",
     "text": [
      "\r",
      " 49%|██████████████████████████████████████▍                                        | 486/1000 [03:14<03:21,  2.55it/s]"
     ]
    },
    {
     "name": "stdout",
     "output_type": "stream",
     "text": [
      "114.28762817382812\n"
     ]
    },
    {
     "name": "stderr",
     "output_type": "stream",
     "text": [
      "\r",
      " 49%|██████████████████████████████████████▍                                        | 487/1000 [03:15<03:21,  2.55it/s]"
     ]
    },
    {
     "name": "stdout",
     "output_type": "stream",
     "text": [
      "131.5100555419922\n"
     ]
    },
    {
     "name": "stderr",
     "output_type": "stream",
     "text": [
      "\r",
      " 49%|██████████████████████████████████████▌                                        | 488/1000 [03:15<03:20,  2.55it/s]"
     ]
    },
    {
     "name": "stdout",
     "output_type": "stream",
     "text": [
      "113.74642944335938\n"
     ]
    },
    {
     "name": "stderr",
     "output_type": "stream",
     "text": [
      "\r",
      " 49%|██████████████████████████████████████▋                                        | 489/1000 [03:16<03:22,  2.52it/s]"
     ]
    },
    {
     "name": "stdout",
     "output_type": "stream",
     "text": [
      "122.35677337646484\n"
     ]
    },
    {
     "name": "stderr",
     "output_type": "stream",
     "text": [
      "\r",
      " 49%|██████████████████████████████████████▋                                        | 490/1000 [03:16<03:22,  2.52it/s]"
     ]
    },
    {
     "name": "stdout",
     "output_type": "stream",
     "text": [
      "117.51728057861328\n"
     ]
    },
    {
     "name": "stderr",
     "output_type": "stream",
     "text": [
      "\r",
      " 49%|██████████████████████████████████████▊                                        | 491/1000 [03:16<03:20,  2.53it/s]"
     ]
    },
    {
     "name": "stdout",
     "output_type": "stream",
     "text": [
      "113.59832763671875\n"
     ]
    },
    {
     "name": "stderr",
     "output_type": "stream",
     "text": [
      "\r",
      " 49%|██████████████████████████████████████▊                                        | 492/1000 [03:17<03:22,  2.50it/s]"
     ]
    },
    {
     "name": "stdout",
     "output_type": "stream",
     "text": [
      "118.20310974121094\n"
     ]
    },
    {
     "name": "stderr",
     "output_type": "stream",
     "text": [
      "\r",
      " 49%|██████████████████████████████████████▉                                        | 493/1000 [03:17<03:21,  2.51it/s]"
     ]
    },
    {
     "name": "stdout",
     "output_type": "stream",
     "text": [
      "118.92532348632812\n"
     ]
    },
    {
     "name": "stderr",
     "output_type": "stream",
     "text": [
      "\r",
      " 49%|███████████████████████████████████████                                        | 494/1000 [03:18<03:21,  2.52it/s]"
     ]
    },
    {
     "name": "stdout",
     "output_type": "stream",
     "text": [
      "121.39796447753906\n"
     ]
    },
    {
     "name": "stderr",
     "output_type": "stream",
     "text": [
      "\r",
      " 50%|███████████████████████████████████████                                        | 495/1000 [03:18<03:23,  2.48it/s]"
     ]
    },
    {
     "name": "stdout",
     "output_type": "stream",
     "text": [
      "114.1875228881836\n"
     ]
    },
    {
     "name": "stderr",
     "output_type": "stream",
     "text": [
      "\r",
      " 50%|███████████████████████████████████████▏                                       | 496/1000 [03:18<03:20,  2.51it/s]"
     ]
    },
    {
     "name": "stdout",
     "output_type": "stream",
     "text": [
      "125.83041381835938\n"
     ]
    },
    {
     "name": "stderr",
     "output_type": "stream",
     "text": [
      "\r",
      " 50%|███████████████████████████████████████▎                                       | 497/1000 [03:19<03:19,  2.52it/s]"
     ]
    },
    {
     "name": "stdout",
     "output_type": "stream",
     "text": [
      "123.43875885009766\n"
     ]
    },
    {
     "name": "stderr",
     "output_type": "stream",
     "text": [
      "\r",
      " 50%|███████████████████████████████████████▎                                       | 498/1000 [03:19<03:19,  2.51it/s]"
     ]
    },
    {
     "name": "stdout",
     "output_type": "stream",
     "text": [
      "120.06147003173828\n"
     ]
    },
    {
     "name": "stderr",
     "output_type": "stream",
     "text": [
      "\r",
      " 50%|███████████████████████████████████████▍                                       | 499/1000 [03:20<03:16,  2.55it/s]"
     ]
    },
    {
     "name": "stdout",
     "output_type": "stream",
     "text": [
      "115.69026184082031\n"
     ]
    },
    {
     "name": "stderr",
     "output_type": "stream",
     "text": [
      "\r",
      " 50%|███████████████████████████████████████▌                                       | 500/1000 [03:20<03:15,  2.55it/s]"
     ]
    },
    {
     "name": "stdout",
     "output_type": "stream",
     "text": [
      "117.88600158691406\n"
     ]
    },
    {
     "name": "stderr",
     "output_type": "stream",
     "text": [
      "\r",
      " 50%|███████████████████████████████████████▌                                       | 501/1000 [03:20<03:15,  2.56it/s]"
     ]
    },
    {
     "name": "stdout",
     "output_type": "stream",
     "text": [
      "123.33329010009766\n"
     ]
    },
    {
     "name": "stderr",
     "output_type": "stream",
     "text": [
      "\r",
      " 50%|███████████████████████████████████████▋                                       | 502/1000 [03:21<03:15,  2.55it/s]"
     ]
    },
    {
     "name": "stdout",
     "output_type": "stream",
     "text": [
      "114.56319427490234\n"
     ]
    },
    {
     "name": "stderr",
     "output_type": "stream",
     "text": [
      "\r",
      " 50%|███████████████████████████████████████▋                                       | 503/1000 [03:21<03:22,  2.45it/s]"
     ]
    },
    {
     "name": "stdout",
     "output_type": "stream",
     "text": [
      "126.11925506591797\n"
     ]
    },
    {
     "name": "stderr",
     "output_type": "stream",
     "text": [
      "\r",
      " 50%|███████████████████████████████████████▊                                       | 504/1000 [03:22<03:21,  2.47it/s]"
     ]
    },
    {
     "name": "stdout",
     "output_type": "stream",
     "text": [
      "113.79142761230469\n"
     ]
    },
    {
     "name": "stderr",
     "output_type": "stream",
     "text": [
      "\r",
      " 50%|███████████████████████████████████████▉                                       | 505/1000 [03:22<03:19,  2.48it/s]"
     ]
    },
    {
     "name": "stdout",
     "output_type": "stream",
     "text": [
      "123.83113861083984\n"
     ]
    },
    {
     "name": "stderr",
     "output_type": "stream",
     "text": [
      "\r",
      " 51%|███████████████████████████████████████▉                                       | 506/1000 [03:22<03:17,  2.50it/s]"
     ]
    },
    {
     "name": "stdout",
     "output_type": "stream",
     "text": [
      "124.82810974121094\n"
     ]
    },
    {
     "name": "stderr",
     "output_type": "stream",
     "text": [
      "\r",
      " 51%|████████████████████████████████████████                                       | 507/1000 [03:23<03:15,  2.52it/s]"
     ]
    },
    {
     "name": "stdout",
     "output_type": "stream",
     "text": [
      "117.82042694091797\n"
     ]
    },
    {
     "name": "stderr",
     "output_type": "stream",
     "text": [
      "\r",
      " 51%|████████████████████████████████████████▏                                      | 508/1000 [03:23<03:16,  2.50it/s]"
     ]
    },
    {
     "name": "stdout",
     "output_type": "stream",
     "text": [
      "122.83148193359375\n"
     ]
    },
    {
     "name": "stderr",
     "output_type": "stream",
     "text": [
      "\r",
      " 51%|████████████████████████████████████████▏                                      | 509/1000 [03:24<03:13,  2.53it/s]"
     ]
    },
    {
     "name": "stdout",
     "output_type": "stream",
     "text": [
      "122.6036605834961\n"
     ]
    },
    {
     "name": "stderr",
     "output_type": "stream",
     "text": [
      "\r",
      " 51%|████████████████████████████████████████▎                                      | 510/1000 [03:24<03:11,  2.56it/s]"
     ]
    },
    {
     "name": "stdout",
     "output_type": "stream",
     "text": [
      "121.40480041503906\n"
     ]
    },
    {
     "name": "stderr",
     "output_type": "stream",
     "text": [
      "\r",
      " 51%|████████████████████████████████████████▎                                      | 511/1000 [03:24<03:12,  2.55it/s]"
     ]
    },
    {
     "name": "stdout",
     "output_type": "stream",
     "text": [
      "120.82450103759766\n"
     ]
    },
    {
     "name": "stderr",
     "output_type": "stream",
     "text": [
      "\r",
      " 51%|████████████████████████████████████████▍                                      | 512/1000 [03:25<03:11,  2.54it/s]"
     ]
    },
    {
     "name": "stdout",
     "output_type": "stream",
     "text": [
      "122.20169067382812\n"
     ]
    },
    {
     "name": "stderr",
     "output_type": "stream",
     "text": [
      "\r",
      " 51%|████████████████████████████████████████▌                                      | 513/1000 [03:25<03:15,  2.49it/s]"
     ]
    },
    {
     "name": "stdout",
     "output_type": "stream",
     "text": [
      "116.02616882324219\n"
     ]
    },
    {
     "name": "stderr",
     "output_type": "stream",
     "text": [
      "\r",
      " 51%|████████████████████████████████████████▌                                      | 514/1000 [03:26<03:12,  2.52it/s]"
     ]
    },
    {
     "name": "stdout",
     "output_type": "stream",
     "text": [
      "129.32891845703125\n"
     ]
    },
    {
     "name": "stderr",
     "output_type": "stream",
     "text": [
      "\r",
      " 52%|████████████████████████████████████████▋                                      | 515/1000 [03:26<03:10,  2.54it/s]"
     ]
    },
    {
     "name": "stdout",
     "output_type": "stream",
     "text": [
      "121.0779037475586\n"
     ]
    },
    {
     "name": "stderr",
     "output_type": "stream",
     "text": [
      "\r",
      " 52%|████████████████████████████████████████▊                                      | 516/1000 [03:26<03:08,  2.57it/s]"
     ]
    },
    {
     "name": "stdout",
     "output_type": "stream",
     "text": [
      "123.94367218017578\n"
     ]
    },
    {
     "name": "stderr",
     "output_type": "stream",
     "text": [
      "\r",
      " 52%|████████████████████████████████████████▊                                      | 517/1000 [03:27<03:11,  2.52it/s]"
     ]
    },
    {
     "name": "stdout",
     "output_type": "stream",
     "text": [
      "121.29447174072266\n"
     ]
    },
    {
     "name": "stderr",
     "output_type": "stream",
     "text": [
      "\r",
      " 52%|████████████████████████████████████████▉                                      | 518/1000 [03:27<03:15,  2.46it/s]"
     ]
    },
    {
     "name": "stdout",
     "output_type": "stream",
     "text": [
      "126.58209228515625\n"
     ]
    },
    {
     "name": "stderr",
     "output_type": "stream",
     "text": [
      "\r",
      " 52%|█████████████████████████████████████████                                      | 519/1000 [03:28<03:11,  2.51it/s]"
     ]
    },
    {
     "name": "stdout",
     "output_type": "stream",
     "text": [
      "116.33009338378906\n"
     ]
    },
    {
     "name": "stderr",
     "output_type": "stream",
     "text": [
      "\r",
      " 52%|█████████████████████████████████████████                                      | 520/1000 [03:28<03:09,  2.54it/s]"
     ]
    },
    {
     "name": "stdout",
     "output_type": "stream",
     "text": [
      "121.61856842041016\n"
     ]
    },
    {
     "name": "stderr",
     "output_type": "stream",
     "text": [
      "\r",
      " 52%|█████████████████████████████████████████▏                                     | 521/1000 [03:28<03:09,  2.53it/s]"
     ]
    },
    {
     "name": "stdout",
     "output_type": "stream",
     "text": [
      "125.7609634399414\n"
     ]
    },
    {
     "name": "stderr",
     "output_type": "stream",
     "text": [
      "\r",
      " 52%|█████████████████████████████████████████▏                                     | 522/1000 [03:29<03:08,  2.54it/s]"
     ]
    },
    {
     "name": "stdout",
     "output_type": "stream",
     "text": [
      "130.79446411132812\n"
     ]
    },
    {
     "name": "stderr",
     "output_type": "stream",
     "text": [
      "\r",
      " 52%|█████████████████████████████████████████▎                                     | 523/1000 [03:29<03:10,  2.51it/s]"
     ]
    },
    {
     "name": "stdout",
     "output_type": "stream",
     "text": [
      "120.02151489257812\n"
     ]
    },
    {
     "name": "stderr",
     "output_type": "stream",
     "text": [
      "\r",
      " 52%|█████████████████████████████████████████▍                                     | 524/1000 [03:30<03:07,  2.54it/s]"
     ]
    },
    {
     "name": "stdout",
     "output_type": "stream",
     "text": [
      "118.58534240722656\n"
     ]
    },
    {
     "name": "stderr",
     "output_type": "stream",
     "text": [
      "\r",
      " 52%|█████████████████████████████████████████▍                                     | 525/1000 [03:30<03:05,  2.56it/s]"
     ]
    },
    {
     "name": "stdout",
     "output_type": "stream",
     "text": [
      "115.62181091308594\n"
     ]
    },
    {
     "name": "stderr",
     "output_type": "stream",
     "text": [
      "\r",
      " 53%|█████████████████████████████████████████▌                                     | 526/1000 [03:30<03:03,  2.58it/s]"
     ]
    },
    {
     "name": "stdout",
     "output_type": "stream",
     "text": [
      "123.32921600341797\n"
     ]
    },
    {
     "name": "stderr",
     "output_type": "stream",
     "text": [
      "\r",
      " 53%|█████████████████████████████████████████▋                                     | 527/1000 [03:31<03:01,  2.60it/s]"
     ]
    },
    {
     "name": "stdout",
     "output_type": "stream",
     "text": [
      "126.15840911865234\n"
     ]
    },
    {
     "name": "stderr",
     "output_type": "stream",
     "text": [
      "\r",
      " 53%|█████████████████████████████████████████▋                                     | 528/1000 [03:31<03:00,  2.61it/s]"
     ]
    },
    {
     "name": "stdout",
     "output_type": "stream",
     "text": [
      "127.22765350341797\n"
     ]
    },
    {
     "name": "stderr",
     "output_type": "stream",
     "text": [
      "\r",
      " 53%|█████████████████████████████████████████▊                                     | 529/1000 [03:31<03:02,  2.58it/s]"
     ]
    },
    {
     "name": "stdout",
     "output_type": "stream",
     "text": [
      "123.0751953125\n"
     ]
    },
    {
     "name": "stderr",
     "output_type": "stream",
     "text": [
      "\r",
      " 53%|█████████████████████████████████████████▊                                     | 530/1000 [03:32<03:01,  2.59it/s]"
     ]
    },
    {
     "name": "stdout",
     "output_type": "stream",
     "text": [
      "122.51363372802734\n"
     ]
    },
    {
     "name": "stderr",
     "output_type": "stream",
     "text": [
      "\r",
      " 53%|█████████████████████████████████████████▉                                     | 531/1000 [03:32<03:02,  2.57it/s]"
     ]
    },
    {
     "name": "stdout",
     "output_type": "stream",
     "text": [
      "129.00238037109375\n"
     ]
    },
    {
     "name": "stderr",
     "output_type": "stream",
     "text": [
      "\r",
      " 53%|██████████████████████████████████████████                                     | 532/1000 [03:33<03:05,  2.52it/s]"
     ]
    },
    {
     "name": "stdout",
     "output_type": "stream",
     "text": [
      "123.51844024658203\n",
      "112.21939849853516\n"
     ]
    },
    {
     "name": "stderr",
     "output_type": "stream",
     "text": [
      " 53%|██████████████████████████████████████████▏                                    | 534/1000 [03:33<03:10,  2.44it/s]"
     ]
    },
    {
     "name": "stdout",
     "output_type": "stream",
     "text": [
      "121.94781494140625\n"
     ]
    },
    {
     "name": "stderr",
     "output_type": "stream",
     "text": [
      "\r",
      " 54%|██████████████████████████████████████████▎                                    | 535/1000 [03:34<03:07,  2.48it/s]"
     ]
    },
    {
     "name": "stdout",
     "output_type": "stream",
     "text": [
      "119.05783081054688\n"
     ]
    },
    {
     "name": "stderr",
     "output_type": "stream",
     "text": [
      "\r",
      " 54%|██████████████████████████████████████████▎                                    | 536/1000 [03:34<03:05,  2.51it/s]"
     ]
    },
    {
     "name": "stdout",
     "output_type": "stream",
     "text": [
      "124.10474395751953\n"
     ]
    },
    {
     "name": "stderr",
     "output_type": "stream",
     "text": [
      "\r",
      " 54%|██████████████████████████████████████████▍                                    | 537/1000 [03:35<03:03,  2.52it/s]"
     ]
    },
    {
     "name": "stdout",
     "output_type": "stream",
     "text": [
      "115.6552963256836\n"
     ]
    },
    {
     "name": "stderr",
     "output_type": "stream",
     "text": [
      "\r",
      " 54%|██████████████████████████████████████████▌                                    | 538/1000 [03:35<03:06,  2.48it/s]"
     ]
    },
    {
     "name": "stdout",
     "output_type": "stream",
     "text": [
      "115.02737426757812\n"
     ]
    },
    {
     "name": "stderr",
     "output_type": "stream",
     "text": [
      "\r",
      " 54%|██████████████████████████████████████████▌                                    | 539/1000 [03:35<03:05,  2.48it/s]"
     ]
    },
    {
     "name": "stdout",
     "output_type": "stream",
     "text": [
      "117.55481719970703\n"
     ]
    },
    {
     "name": "stderr",
     "output_type": "stream",
     "text": [
      "\r",
      " 54%|██████████████████████████████████████████▋                                    | 540/1000 [03:36<03:05,  2.48it/s]"
     ]
    },
    {
     "name": "stdout",
     "output_type": "stream",
     "text": [
      "118.79832458496094\n"
     ]
    },
    {
     "name": "stderr",
     "output_type": "stream",
     "text": [
      "\r",
      " 54%|██████████████████████████████████████████▋                                    | 541/1000 [03:36<03:02,  2.52it/s]"
     ]
    },
    {
     "name": "stdout",
     "output_type": "stream",
     "text": [
      "113.56107330322266\n"
     ]
    },
    {
     "name": "stderr",
     "output_type": "stream",
     "text": [
      "\r",
      " 54%|██████████████████████████████████████████▊                                    | 542/1000 [03:37<03:00,  2.54it/s]"
     ]
    },
    {
     "name": "stdout",
     "output_type": "stream",
     "text": [
      "123.58328247070312\n"
     ]
    },
    {
     "name": "stderr",
     "output_type": "stream",
     "text": [
      "\r",
      " 54%|██████████████████████████████████████████▉                                    | 543/1000 [03:37<03:05,  2.47it/s]"
     ]
    },
    {
     "name": "stdout",
     "output_type": "stream",
     "text": [
      "125.88935852050781\n"
     ]
    },
    {
     "name": "stderr",
     "output_type": "stream",
     "text": [
      "\r",
      " 54%|██████████████████████████████████████████▉                                    | 544/1000 [03:37<03:03,  2.49it/s]"
     ]
    },
    {
     "name": "stdout",
     "output_type": "stream",
     "text": [
      "122.949462890625\n"
     ]
    },
    {
     "name": "stderr",
     "output_type": "stream",
     "text": [
      "\r",
      " 55%|███████████████████████████████████████████                                    | 545/1000 [03:38<03:01,  2.51it/s]"
     ]
    },
    {
     "name": "stdout",
     "output_type": "stream",
     "text": [
      "116.31718444824219\n"
     ]
    },
    {
     "name": "stderr",
     "output_type": "stream",
     "text": [
      "\r",
      " 55%|███████████████████████████████████████████▏                                   | 546/1000 [03:38<02:59,  2.53it/s]"
     ]
    },
    {
     "name": "stdout",
     "output_type": "stream",
     "text": [
      "123.68589782714844\n"
     ]
    },
    {
     "name": "stderr",
     "output_type": "stream",
     "text": [
      "\r",
      " 55%|███████████████████████████████████████████▏                                   | 547/1000 [03:39<02:58,  2.54it/s]"
     ]
    },
    {
     "name": "stdout",
     "output_type": "stream",
     "text": [
      "121.51114654541016\n"
     ]
    },
    {
     "name": "stderr",
     "output_type": "stream",
     "text": [
      "\r",
      " 55%|███████████████████████████████████████████▎                                   | 548/1000 [03:39<03:00,  2.51it/s]"
     ]
    },
    {
     "name": "stdout",
     "output_type": "stream",
     "text": [
      "111.08644104003906\n"
     ]
    },
    {
     "name": "stderr",
     "output_type": "stream",
     "text": [
      "\r",
      " 55%|███████████████████████████████████████████▎                                   | 549/1000 [03:39<02:57,  2.55it/s]"
     ]
    },
    {
     "name": "stdout",
     "output_type": "stream",
     "text": [
      "118.98429870605469\n"
     ]
    },
    {
     "name": "stderr",
     "output_type": "stream",
     "text": [
      "\r",
      " 55%|███████████████████████████████████████████▍                                   | 550/1000 [03:40<02:57,  2.53it/s]"
     ]
    },
    {
     "name": "stdout",
     "output_type": "stream",
     "text": [
      "117.32261657714844\n"
     ]
    },
    {
     "name": "stderr",
     "output_type": "stream",
     "text": [
      "\r",
      " 55%|███████████████████████████████████████████▌                                   | 551/1000 [03:40<02:58,  2.52it/s]"
     ]
    },
    {
     "name": "stdout",
     "output_type": "stream",
     "text": [
      "126.3323745727539\n"
     ]
    },
    {
     "name": "stderr",
     "output_type": "stream",
     "text": [
      "\r",
      " 55%|███████████████████████████████████████████▌                                   | 552/1000 [03:41<02:58,  2.51it/s]"
     ]
    },
    {
     "name": "stdout",
     "output_type": "stream",
     "text": [
      "126.18588256835938\n"
     ]
    },
    {
     "name": "stderr",
     "output_type": "stream",
     "text": [
      "\r",
      " 55%|███████████████████████████████████████████▋                                   | 553/1000 [03:41<02:56,  2.54it/s]"
     ]
    },
    {
     "name": "stdout",
     "output_type": "stream",
     "text": [
      "125.63123321533203\n"
     ]
    },
    {
     "name": "stderr",
     "output_type": "stream",
     "text": [
      "\r",
      " 55%|███████████████████████████████████████████▊                                   | 554/1000 [03:41<02:54,  2.55it/s]"
     ]
    },
    {
     "name": "stdout",
     "output_type": "stream",
     "text": [
      "120.97374725341797\n"
     ]
    },
    {
     "name": "stderr",
     "output_type": "stream",
     "text": [
      "\r",
      " 56%|███████████████████████████████████████████▊                                   | 555/1000 [03:42<02:53,  2.56it/s]"
     ]
    },
    {
     "name": "stdout",
     "output_type": "stream",
     "text": [
      "118.80619812011719\n"
     ]
    },
    {
     "name": "stderr",
     "output_type": "stream",
     "text": [
      "\r",
      " 56%|███████████████████████████████████████████▉                                   | 556/1000 [03:42<02:58,  2.49it/s]"
     ]
    },
    {
     "name": "stdout",
     "output_type": "stream",
     "text": [
      "120.23367309570312\n"
     ]
    },
    {
     "name": "stderr",
     "output_type": "stream",
     "text": [
      "\r",
      " 56%|████████████████████████████████████████████                                   | 557/1000 [03:43<02:54,  2.54it/s]"
     ]
    },
    {
     "name": "stdout",
     "output_type": "stream",
     "text": [
      "117.72109985351562\n"
     ]
    },
    {
     "name": "stderr",
     "output_type": "stream",
     "text": [
      "\r",
      " 56%|████████████████████████████████████████████                                   | 558/1000 [03:43<02:53,  2.55it/s]"
     ]
    },
    {
     "name": "stdout",
     "output_type": "stream",
     "text": [
      "119.06430053710938\n"
     ]
    },
    {
     "name": "stderr",
     "output_type": "stream",
     "text": [
      "\r",
      " 56%|████████████████████████████████████████████▏                                  | 559/1000 [03:43<02:52,  2.56it/s]"
     ]
    },
    {
     "name": "stdout",
     "output_type": "stream",
     "text": [
      "130.69204711914062\n"
     ]
    },
    {
     "name": "stderr",
     "output_type": "stream",
     "text": [
      "\r",
      " 56%|████████████████████████████████████████████▏                                  | 560/1000 [03:44<02:52,  2.55it/s]"
     ]
    },
    {
     "name": "stdout",
     "output_type": "stream",
     "text": [
      "120.24784088134766\n"
     ]
    },
    {
     "name": "stderr",
     "output_type": "stream",
     "text": [
      "\r",
      " 56%|████████████████████████████████████████████▎                                  | 561/1000 [03:44<02:51,  2.55it/s]"
     ]
    },
    {
     "name": "stdout",
     "output_type": "stream",
     "text": [
      "118.82391357421875\n"
     ]
    },
    {
     "name": "stderr",
     "output_type": "stream",
     "text": [
      "\r",
      " 56%|████████████████████████████████████████████▍                                  | 562/1000 [03:45<02:51,  2.55it/s]"
     ]
    },
    {
     "name": "stdout",
     "output_type": "stream",
     "text": [
      "127.5242919921875\n"
     ]
    },
    {
     "name": "stderr",
     "output_type": "stream",
     "text": [
      "\r",
      " 56%|████████████████████████████████████████████▍                                  | 563/1000 [03:45<02:50,  2.56it/s]"
     ]
    },
    {
     "name": "stdout",
     "output_type": "stream",
     "text": [
      "115.22559356689453\n"
     ]
    },
    {
     "name": "stderr",
     "output_type": "stream",
     "text": [
      "\r",
      " 56%|████████████████████████████████████████████▌                                  | 564/1000 [03:45<02:53,  2.52it/s]"
     ]
    },
    {
     "name": "stdout",
     "output_type": "stream",
     "text": [
      "119.77365112304688\n"
     ]
    },
    {
     "name": "stderr",
     "output_type": "stream",
     "text": [
      "\r",
      " 56%|████████████████████████████████████████████▋                                  | 565/1000 [03:46<02:52,  2.52it/s]"
     ]
    },
    {
     "name": "stdout",
     "output_type": "stream",
     "text": [
      "121.29141235351562\n"
     ]
    },
    {
     "name": "stderr",
     "output_type": "stream",
     "text": [
      "\r",
      " 57%|████████████████████████████████████████████▋                                  | 566/1000 [03:46<02:55,  2.47it/s]"
     ]
    },
    {
     "name": "stdout",
     "output_type": "stream",
     "text": [
      "122.61713409423828\n"
     ]
    },
    {
     "name": "stderr",
     "output_type": "stream",
     "text": [
      "\r",
      " 57%|████████████████████████████████████████████▊                                  | 567/1000 [03:47<02:55,  2.47it/s]"
     ]
    },
    {
     "name": "stdout",
     "output_type": "stream",
     "text": [
      "114.32320404052734\n"
     ]
    },
    {
     "name": "stderr",
     "output_type": "stream",
     "text": [
      "\r",
      " 57%|████████████████████████████████████████████▊                                  | 568/1000 [03:47<03:00,  2.39it/s]"
     ]
    },
    {
     "name": "stdout",
     "output_type": "stream",
     "text": [
      "120.28467559814453\n"
     ]
    },
    {
     "name": "stderr",
     "output_type": "stream",
     "text": [
      "\r",
      " 57%|████████████████████████████████████████████▉                                  | 569/1000 [03:47<03:01,  2.38it/s]"
     ]
    },
    {
     "name": "stdout",
     "output_type": "stream",
     "text": [
      "119.18534851074219\n"
     ]
    },
    {
     "name": "stderr",
     "output_type": "stream",
     "text": [
      "\r",
      " 57%|█████████████████████████████████████████████                                  | 570/1000 [03:48<02:59,  2.40it/s]"
     ]
    },
    {
     "name": "stdout",
     "output_type": "stream",
     "text": [
      "112.76893615722656\n"
     ]
    },
    {
     "name": "stderr",
     "output_type": "stream",
     "text": [
      "\r",
      " 57%|█████████████████████████████████████████████                                  | 571/1000 [03:48<02:55,  2.44it/s]"
     ]
    },
    {
     "name": "stdout",
     "output_type": "stream",
     "text": [
      "112.26014709472656\n"
     ]
    },
    {
     "name": "stderr",
     "output_type": "stream",
     "text": [
      "\r",
      " 57%|█████████████████████████████████████████████▏                                 | 572/1000 [03:49<02:53,  2.46it/s]"
     ]
    },
    {
     "name": "stdout",
     "output_type": "stream",
     "text": [
      "120.99933624267578\n"
     ]
    },
    {
     "name": "stderr",
     "output_type": "stream",
     "text": [
      "\r",
      " 57%|█████████████████████████████████████████████▎                                 | 573/1000 [03:49<02:57,  2.41it/s]"
     ]
    },
    {
     "name": "stdout",
     "output_type": "stream",
     "text": [
      "116.44792175292969\n"
     ]
    },
    {
     "name": "stderr",
     "output_type": "stream",
     "text": [
      "\r",
      " 57%|█████████████████████████████████████████████▎                                 | 574/1000 [03:49<02:54,  2.44it/s]"
     ]
    },
    {
     "name": "stdout",
     "output_type": "stream",
     "text": [
      "114.99958801269531\n"
     ]
    },
    {
     "name": "stderr",
     "output_type": "stream",
     "text": [
      "\r",
      " 57%|█████████████████████████████████████████████▍                                 | 575/1000 [03:50<02:54,  2.43it/s]"
     ]
    },
    {
     "name": "stdout",
     "output_type": "stream",
     "text": [
      "129.87881469726562\n"
     ]
    },
    {
     "name": "stderr",
     "output_type": "stream",
     "text": [
      "\r",
      " 58%|█████████████████████████████████████████████▌                                 | 576/1000 [03:50<02:51,  2.47it/s]"
     ]
    },
    {
     "name": "stdout",
     "output_type": "stream",
     "text": [
      "123.41786193847656\n"
     ]
    },
    {
     "name": "stderr",
     "output_type": "stream",
     "text": [
      "\r",
      " 58%|█████████████████████████████████████████████▌                                 | 577/1000 [03:51<02:52,  2.45it/s]"
     ]
    },
    {
     "name": "stdout",
     "output_type": "stream",
     "text": [
      "118.85334014892578\n"
     ]
    },
    {
     "name": "stderr",
     "output_type": "stream",
     "text": [
      "\r",
      " 58%|█████████████████████████████████████████████▋                                 | 578/1000 [03:51<02:54,  2.41it/s]"
     ]
    },
    {
     "name": "stdout",
     "output_type": "stream",
     "text": [
      "124.26699829101562\n"
     ]
    },
    {
     "name": "stderr",
     "output_type": "stream",
     "text": [
      "\r",
      " 58%|█████████████████████████████████████████████▋                                 | 579/1000 [03:52<02:50,  2.47it/s]"
     ]
    },
    {
     "name": "stdout",
     "output_type": "stream",
     "text": [
      "117.61106872558594\n"
     ]
    },
    {
     "name": "stderr",
     "output_type": "stream",
     "text": [
      "\r",
      " 58%|█████████████████████████████████████████████▊                                 | 580/1000 [03:52<02:48,  2.50it/s]"
     ]
    },
    {
     "name": "stdout",
     "output_type": "stream",
     "text": [
      "117.98944091796875\n"
     ]
    },
    {
     "name": "stderr",
     "output_type": "stream",
     "text": [
      "\r",
      " 58%|█████████████████████████████████████████████▉                                 | 581/1000 [03:52<02:45,  2.54it/s]"
     ]
    },
    {
     "name": "stdout",
     "output_type": "stream",
     "text": [
      "120.36141204833984\n"
     ]
    },
    {
     "name": "stderr",
     "output_type": "stream",
     "text": [
      "\r",
      " 58%|█████████████████████████████████████████████▉                                 | 582/1000 [03:53<02:43,  2.55it/s]"
     ]
    },
    {
     "name": "stdout",
     "output_type": "stream",
     "text": [
      "118.84819793701172\n"
     ]
    },
    {
     "name": "stderr",
     "output_type": "stream",
     "text": [
      "\r",
      " 58%|██████████████████████████████████████████████                                 | 583/1000 [03:53<02:42,  2.57it/s]"
     ]
    },
    {
     "name": "stdout",
     "output_type": "stream",
     "text": [
      "122.85481262207031\n"
     ]
    },
    {
     "name": "stderr",
     "output_type": "stream",
     "text": [
      "\r",
      " 58%|██████████████████████████████████████████████▏                                | 584/1000 [03:53<02:40,  2.58it/s]"
     ]
    },
    {
     "name": "stdout",
     "output_type": "stream",
     "text": [
      "118.13211822509766\n"
     ]
    },
    {
     "name": "stderr",
     "output_type": "stream",
     "text": [
      "\r",
      " 58%|██████████████████████████████████████████████▏                                | 585/1000 [03:54<02:40,  2.59it/s]"
     ]
    },
    {
     "name": "stdout",
     "output_type": "stream",
     "text": [
      "122.52056884765625\n"
     ]
    },
    {
     "name": "stderr",
     "output_type": "stream",
     "text": [
      "\r",
      " 59%|██████████████████████████████████████████████▎                                | 586/1000 [03:54<02:41,  2.56it/s]"
     ]
    },
    {
     "name": "stdout",
     "output_type": "stream",
     "text": [
      "123.58137512207031\n"
     ]
    },
    {
     "name": "stderr",
     "output_type": "stream",
     "text": [
      "\r",
      " 59%|██████████████████████████████████████████████▎                                | 587/1000 [03:55<02:43,  2.53it/s]"
     ]
    },
    {
     "name": "stdout",
     "output_type": "stream",
     "text": [
      "114.59162139892578\n"
     ]
    },
    {
     "name": "stderr",
     "output_type": "stream",
     "text": [
      "\r",
      " 59%|██████████████████████████████████████████████▍                                | 588/1000 [03:55<02:54,  2.37it/s]"
     ]
    },
    {
     "name": "stdout",
     "output_type": "stream",
     "text": [
      "123.74381256103516\n"
     ]
    },
    {
     "name": "stderr",
     "output_type": "stream",
     "text": [
      "\r",
      " 59%|██████████████████████████████████████████████▌                                | 589/1000 [03:56<02:53,  2.37it/s]"
     ]
    },
    {
     "name": "stdout",
     "output_type": "stream",
     "text": [
      "122.89099884033203\n"
     ]
    },
    {
     "name": "stderr",
     "output_type": "stream",
     "text": [
      "\r",
      " 59%|██████████████████████████████████████████████▌                                | 590/1000 [03:56<02:48,  2.43it/s]"
     ]
    },
    {
     "name": "stdout",
     "output_type": "stream",
     "text": [
      "120.20828247070312\n"
     ]
    },
    {
     "name": "stderr",
     "output_type": "stream",
     "text": [
      "\r",
      " 59%|██████████████████████████████████████████████▋                                | 591/1000 [03:56<02:47,  2.45it/s]"
     ]
    },
    {
     "name": "stdout",
     "output_type": "stream",
     "text": [
      "120.40292358398438\n"
     ]
    },
    {
     "name": "stderr",
     "output_type": "stream",
     "text": [
      "\r",
      " 59%|██████████████████████████████████████████████▊                                | 592/1000 [03:57<02:45,  2.47it/s]"
     ]
    },
    {
     "name": "stdout",
     "output_type": "stream",
     "text": [
      "120.94315338134766\n"
     ]
    },
    {
     "name": "stderr",
     "output_type": "stream",
     "text": [
      "\r",
      " 59%|██████████████████████████████████████████████▊                                | 593/1000 [03:57<02:45,  2.47it/s]"
     ]
    },
    {
     "name": "stdout",
     "output_type": "stream",
     "text": [
      "114.06307220458984\n"
     ]
    },
    {
     "name": "stderr",
     "output_type": "stream",
     "text": [
      "\r",
      " 59%|██████████████████████████████████████████████▉                                | 594/1000 [03:58<02:44,  2.47it/s]"
     ]
    },
    {
     "name": "stdout",
     "output_type": "stream",
     "text": [
      "118.0648193359375\n"
     ]
    },
    {
     "name": "stderr",
     "output_type": "stream",
     "text": [
      "\r",
      " 60%|███████████████████████████████████████████████                                | 595/1000 [03:58<02:42,  2.50it/s]"
     ]
    },
    {
     "name": "stdout",
     "output_type": "stream",
     "text": [
      "110.7915267944336\n"
     ]
    },
    {
     "name": "stderr",
     "output_type": "stream",
     "text": [
      "\r",
      " 60%|███████████████████████████████████████████████                                | 596/1000 [03:58<02:38,  2.55it/s]"
     ]
    },
    {
     "name": "stdout",
     "output_type": "stream",
     "text": [
      "116.05653381347656\n"
     ]
    },
    {
     "name": "stderr",
     "output_type": "stream",
     "text": [
      "\r",
      " 60%|███████████████████████████████████████████████▏                               | 597/1000 [03:59<02:37,  2.56it/s]"
     ]
    },
    {
     "name": "stdout",
     "output_type": "stream",
     "text": [
      "124.52957916259766\n"
     ]
    },
    {
     "name": "stderr",
     "output_type": "stream",
     "text": [
      "\r",
      " 60%|███████████████████████████████████████████████▏                               | 598/1000 [03:59<02:38,  2.54it/s]"
     ]
    },
    {
     "name": "stdout",
     "output_type": "stream",
     "text": [
      "108.7919692993164\n"
     ]
    },
    {
     "name": "stderr",
     "output_type": "stream",
     "text": [
      "\r",
      " 60%|███████████████████████████████████████████████▎                               | 599/1000 [04:00<02:44,  2.43it/s]"
     ]
    },
    {
     "name": "stdout",
     "output_type": "stream",
     "text": [
      "122.22550964355469\n"
     ]
    },
    {
     "name": "stderr",
     "output_type": "stream",
     "text": [
      "\r",
      " 60%|███████████████████████████████████████████████▍                               | 600/1000 [04:00<02:42,  2.46it/s]"
     ]
    },
    {
     "name": "stdout",
     "output_type": "stream",
     "text": [
      "113.77948760986328\n"
     ]
    },
    {
     "name": "stderr",
     "output_type": "stream",
     "text": [
      "\r",
      " 60%|███████████████████████████████████████████████▍                               | 601/1000 [04:00<02:40,  2.48it/s]"
     ]
    },
    {
     "name": "stdout",
     "output_type": "stream",
     "text": [
      "124.01487731933594\n"
     ]
    },
    {
     "name": "stderr",
     "output_type": "stream",
     "text": [
      "\r",
      " 60%|███████████████████████████████████████████████▌                               | 602/1000 [04:01<02:37,  2.53it/s]"
     ]
    },
    {
     "name": "stdout",
     "output_type": "stream",
     "text": [
      "115.47869873046875\n"
     ]
    },
    {
     "name": "stderr",
     "output_type": "stream",
     "text": [
      "\r",
      " 60%|███████████████████████████████████████████████▋                               | 603/1000 [04:01<02:42,  2.44it/s]"
     ]
    },
    {
     "name": "stdout",
     "output_type": "stream",
     "text": [
      "120.31486511230469\n"
     ]
    },
    {
     "name": "stderr",
     "output_type": "stream",
     "text": [
      "\r",
      " 60%|███████████████████████████████████████████████▋                               | 604/1000 [04:02<02:43,  2.42it/s]"
     ]
    },
    {
     "name": "stdout",
     "output_type": "stream",
     "text": [
      "136.4729766845703\n"
     ]
    },
    {
     "name": "stderr",
     "output_type": "stream",
     "text": [
      "\r",
      " 60%|███████████████████████████████████████████████▊                               | 605/1000 [04:02<02:41,  2.45it/s]"
     ]
    },
    {
     "name": "stdout",
     "output_type": "stream",
     "text": [
      "114.22428894042969\n"
     ]
    },
    {
     "name": "stderr",
     "output_type": "stream",
     "text": [
      "\r",
      " 61%|███████████████████████████████████████████████▊                               | 606/1000 [04:02<02:39,  2.46it/s]"
     ]
    },
    {
     "name": "stdout",
     "output_type": "stream",
     "text": [
      "128.5753173828125\n"
     ]
    },
    {
     "name": "stderr",
     "output_type": "stream",
     "text": [
      "\r",
      " 61%|███████████████████████████████████████████████▉                               | 607/1000 [04:03<02:35,  2.52it/s]"
     ]
    },
    {
     "name": "stdout",
     "output_type": "stream",
     "text": [
      "114.53124237060547\n"
     ]
    },
    {
     "name": "stderr",
     "output_type": "stream",
     "text": [
      "\r",
      " 61%|████████████████████████████████████████████████                               | 608/1000 [04:03<02:36,  2.51it/s]"
     ]
    },
    {
     "name": "stdout",
     "output_type": "stream",
     "text": [
      "127.55177307128906\n"
     ]
    },
    {
     "name": "stderr",
     "output_type": "stream",
     "text": [
      "\r",
      " 61%|████████████████████████████████████████████████                               | 609/1000 [04:04<02:35,  2.51it/s]"
     ]
    },
    {
     "name": "stdout",
     "output_type": "stream",
     "text": [
      "131.7402801513672\n"
     ]
    },
    {
     "name": "stderr",
     "output_type": "stream",
     "text": [
      "\r",
      " 61%|████████████████████████████████████████████████▏                              | 610/1000 [04:04<02:34,  2.52it/s]"
     ]
    },
    {
     "name": "stdout",
     "output_type": "stream",
     "text": [
      "127.82425689697266\n"
     ]
    },
    {
     "name": "stderr",
     "output_type": "stream",
     "text": [
      "\r",
      " 61%|████████████████████████████████████████████████▎                              | 611/1000 [04:04<02:33,  2.54it/s]"
     ]
    },
    {
     "name": "stdout",
     "output_type": "stream",
     "text": [
      "117.02735137939453\n"
     ]
    },
    {
     "name": "stderr",
     "output_type": "stream",
     "text": [
      "\r",
      " 61%|████████████████████████████████████████████████▎                              | 612/1000 [04:05<02:31,  2.57it/s]"
     ]
    },
    {
     "name": "stdout",
     "output_type": "stream",
     "text": [
      "133.01254272460938\n"
     ]
    },
    {
     "name": "stderr",
     "output_type": "stream",
     "text": [
      "\r",
      " 61%|████████████████████████████████████████████████▍                              | 613/1000 [04:05<02:33,  2.53it/s]"
     ]
    },
    {
     "name": "stdout",
     "output_type": "stream",
     "text": [
      "117.29051971435547\n"
     ]
    },
    {
     "name": "stderr",
     "output_type": "stream",
     "text": [
      "\r",
      " 61%|████████████████████████████████████████████████▌                              | 614/1000 [04:06<02:34,  2.49it/s]"
     ]
    },
    {
     "name": "stdout",
     "output_type": "stream",
     "text": [
      "120.13048553466797\n"
     ]
    },
    {
     "name": "stderr",
     "output_type": "stream",
     "text": [
      "\r",
      " 62%|████████████████████████████████████████████████▌                              | 615/1000 [04:06<02:36,  2.47it/s]"
     ]
    },
    {
     "name": "stdout",
     "output_type": "stream",
     "text": [
      "114.9526138305664\n"
     ]
    },
    {
     "name": "stderr",
     "output_type": "stream",
     "text": [
      "\r",
      " 62%|████████████████████████████████████████████████▋                              | 616/1000 [04:06<02:33,  2.51it/s]"
     ]
    },
    {
     "name": "stdout",
     "output_type": "stream",
     "text": [
      "126.79826354980469\n"
     ]
    },
    {
     "name": "stderr",
     "output_type": "stream",
     "text": [
      "\r",
      " 62%|████████████████████████████████████████████████▋                              | 617/1000 [04:07<02:35,  2.47it/s]"
     ]
    },
    {
     "name": "stdout",
     "output_type": "stream",
     "text": [
      "114.94744110107422\n"
     ]
    },
    {
     "name": "stderr",
     "output_type": "stream",
     "text": [
      "\r",
      " 62%|████████████████████████████████████████████████▊                              | 618/1000 [04:07<02:38,  2.41it/s]"
     ]
    },
    {
     "name": "stdout",
     "output_type": "stream",
     "text": [
      "112.76007843017578\n"
     ]
    },
    {
     "name": "stderr",
     "output_type": "stream",
     "text": [
      "\r",
      " 62%|████████████████████████████████████████████████▉                              | 619/1000 [04:08<02:37,  2.42it/s]"
     ]
    },
    {
     "name": "stdout",
     "output_type": "stream",
     "text": [
      "112.27738189697266\n"
     ]
    },
    {
     "name": "stderr",
     "output_type": "stream",
     "text": [
      "\r",
      " 62%|████████████████████████████████████████████████▉                              | 620/1000 [04:08<02:33,  2.47it/s]"
     ]
    },
    {
     "name": "stdout",
     "output_type": "stream",
     "text": [
      "131.6601104736328\n"
     ]
    },
    {
     "name": "stderr",
     "output_type": "stream",
     "text": [
      "\r",
      " 62%|█████████████████████████████████████████████████                              | 621/1000 [04:08<02:31,  2.50it/s]"
     ]
    },
    {
     "name": "stdout",
     "output_type": "stream",
     "text": [
      "119.73309326171875\n"
     ]
    },
    {
     "name": "stderr",
     "output_type": "stream",
     "text": [
      "\r",
      " 62%|█████████████████████████████████████████████████▏                             | 622/1000 [04:09<02:30,  2.52it/s]"
     ]
    },
    {
     "name": "stdout",
     "output_type": "stream",
     "text": [
      "119.03666687011719\n"
     ]
    },
    {
     "name": "stderr",
     "output_type": "stream",
     "text": [
      "\r",
      " 62%|█████████████████████████████████████████████████▏                             | 623/1000 [04:09<02:32,  2.47it/s]"
     ]
    },
    {
     "name": "stdout",
     "output_type": "stream",
     "text": [
      "123.03069305419922\n"
     ]
    },
    {
     "name": "stderr",
     "output_type": "stream",
     "text": [
      "\r",
      " 62%|█████████████████████████████████████████████████▎                             | 624/1000 [04:10<02:31,  2.48it/s]"
     ]
    },
    {
     "name": "stdout",
     "output_type": "stream",
     "text": [
      "118.6098403930664\n"
     ]
    },
    {
     "name": "stderr",
     "output_type": "stream",
     "text": [
      "\r",
      " 62%|█████████████████████████████████████████████████▍                             | 625/1000 [04:10<02:29,  2.51it/s]"
     ]
    },
    {
     "name": "stdout",
     "output_type": "stream",
     "text": [
      "124.95471954345703\n"
     ]
    },
    {
     "name": "stderr",
     "output_type": "stream",
     "text": [
      "\r",
      " 63%|█████████████████████████████████████████████████▍                             | 626/1000 [04:10<02:26,  2.55it/s]"
     ]
    },
    {
     "name": "stdout",
     "output_type": "stream",
     "text": [
      "120.64546203613281\n"
     ]
    },
    {
     "name": "stderr",
     "output_type": "stream",
     "text": [
      "\r",
      " 63%|█████████████████████████████████████████████████▌                             | 627/1000 [04:11<02:27,  2.53it/s]"
     ]
    },
    {
     "name": "stdout",
     "output_type": "stream",
     "text": [
      "121.80877685546875\n"
     ]
    },
    {
     "name": "stderr",
     "output_type": "stream",
     "text": [
      "\r",
      " 63%|█████████████████████████████████████████████████▌                             | 628/1000 [04:11<02:30,  2.46it/s]"
     ]
    },
    {
     "name": "stdout",
     "output_type": "stream",
     "text": [
      "117.8173599243164\n"
     ]
    },
    {
     "name": "stderr",
     "output_type": "stream",
     "text": [
      "\r",
      " 63%|█████████████████████████████████████████████████▋                             | 629/1000 [04:12<02:29,  2.49it/s]"
     ]
    },
    {
     "name": "stdout",
     "output_type": "stream",
     "text": [
      "119.16090393066406\n"
     ]
    },
    {
     "name": "stderr",
     "output_type": "stream",
     "text": [
      "\r",
      " 63%|█████████████████████████████████████████████████▊                             | 630/1000 [04:12<02:26,  2.52it/s]"
     ]
    },
    {
     "name": "stdout",
     "output_type": "stream",
     "text": [
      "123.52255249023438\n"
     ]
    },
    {
     "name": "stderr",
     "output_type": "stream",
     "text": [
      "\r",
      " 63%|█████████████████████████████████████████████████▊                             | 631/1000 [04:12<02:28,  2.49it/s]"
     ]
    },
    {
     "name": "stdout",
     "output_type": "stream",
     "text": [
      "117.8864974975586\n",
      "117.049560546875\n"
     ]
    },
    {
     "name": "stderr",
     "output_type": "stream",
     "text": [
      " 63%|██████████████████████████████████████████████████                             | 633/1000 [04:13<02:32,  2.40it/s]"
     ]
    },
    {
     "name": "stdout",
     "output_type": "stream",
     "text": [
      "126.1683349609375\n"
     ]
    },
    {
     "name": "stderr",
     "output_type": "stream",
     "text": [
      "\r",
      " 63%|██████████████████████████████████████████████████                             | 634/1000 [04:14<02:28,  2.46it/s]"
     ]
    },
    {
     "name": "stdout",
     "output_type": "stream",
     "text": [
      "117.50546264648438\n"
     ]
    },
    {
     "name": "stderr",
     "output_type": "stream",
     "text": [
      "\r",
      " 64%|██████████████████████████████████████████████████▏                            | 635/1000 [04:14<02:28,  2.46it/s]"
     ]
    },
    {
     "name": "stdout",
     "output_type": "stream",
     "text": [
      "120.53761291503906\n"
     ]
    },
    {
     "name": "stderr",
     "output_type": "stream",
     "text": [
      "\r",
      " 64%|██████████████████████████████████████████████████▏                            | 636/1000 [04:14<02:27,  2.47it/s]"
     ]
    },
    {
     "name": "stdout",
     "output_type": "stream",
     "text": [
      "117.24876403808594\n"
     ]
    },
    {
     "name": "stderr",
     "output_type": "stream",
     "text": [
      "\r",
      " 64%|██████████████████████████████████████████████████▎                            | 637/1000 [04:15<02:26,  2.47it/s]"
     ]
    },
    {
     "name": "stdout",
     "output_type": "stream",
     "text": [
      "122.72721099853516\n"
     ]
    },
    {
     "name": "stderr",
     "output_type": "stream",
     "text": [
      "\r",
      " 64%|██████████████████████████████████████████████████▍                            | 638/1000 [04:15<02:27,  2.46it/s]"
     ]
    },
    {
     "name": "stdout",
     "output_type": "stream",
     "text": [
      "123.17176818847656\n"
     ]
    },
    {
     "name": "stderr",
     "output_type": "stream",
     "text": [
      "\r",
      " 64%|██████████████████████████████████████████████████▍                            | 639/1000 [04:16<02:25,  2.49it/s]"
     ]
    },
    {
     "name": "stdout",
     "output_type": "stream",
     "text": [
      "129.22711181640625\n"
     ]
    },
    {
     "name": "stderr",
     "output_type": "stream",
     "text": [
      "\r",
      " 64%|██████████████████████████████████████████████████▌                            | 640/1000 [04:16<02:26,  2.46it/s]"
     ]
    },
    {
     "name": "stdout",
     "output_type": "stream",
     "text": [
      "126.38398742675781\n"
     ]
    },
    {
     "name": "stderr",
     "output_type": "stream",
     "text": [
      "\r",
      " 64%|██████████████████████████████████████████████████▋                            | 641/1000 [04:16<02:23,  2.50it/s]"
     ]
    },
    {
     "name": "stdout",
     "output_type": "stream",
     "text": [
      "116.16104888916016\n"
     ]
    },
    {
     "name": "stderr",
     "output_type": "stream",
     "text": [
      "\r",
      " 64%|██████████████████████████████████████████████████▋                            | 642/1000 [04:17<02:21,  2.53it/s]"
     ]
    },
    {
     "name": "stdout",
     "output_type": "stream",
     "text": [
      "116.97931671142578\n"
     ]
    },
    {
     "name": "stderr",
     "output_type": "stream",
     "text": [
      "\r",
      " 64%|██████████████████████████████████████████████████▊                            | 643/1000 [04:17<02:21,  2.53it/s]"
     ]
    },
    {
     "name": "stdout",
     "output_type": "stream",
     "text": [
      "119.88739013671875\n"
     ]
    },
    {
     "name": "stderr",
     "output_type": "stream",
     "text": [
      "\r",
      " 64%|██████████████████████████████████████████████████▉                            | 644/1000 [04:18<02:19,  2.54it/s]"
     ]
    },
    {
     "name": "stdout",
     "output_type": "stream",
     "text": [
      "123.95537567138672\n"
     ]
    },
    {
     "name": "stderr",
     "output_type": "stream",
     "text": [
      "\r",
      " 64%|██████████████████████████████████████████████████▉                            | 645/1000 [04:18<02:20,  2.53it/s]"
     ]
    },
    {
     "name": "stdout",
     "output_type": "stream",
     "text": [
      "120.55878448486328\n"
     ]
    },
    {
     "name": "stderr",
     "output_type": "stream",
     "text": [
      "\r",
      " 65%|███████████████████████████████████████████████████                            | 646/1000 [04:18<02:18,  2.56it/s]"
     ]
    },
    {
     "name": "stdout",
     "output_type": "stream",
     "text": [
      "116.6448745727539\n"
     ]
    },
    {
     "name": "stderr",
     "output_type": "stream",
     "text": [
      "\r",
      " 65%|███████████████████████████████████████████████████                            | 647/1000 [04:19<02:18,  2.55it/s]"
     ]
    },
    {
     "name": "stdout",
     "output_type": "stream",
     "text": [
      "122.24134063720703\n"
     ]
    },
    {
     "name": "stderr",
     "output_type": "stream",
     "text": [
      "\r",
      " 65%|███████████████████████████████████████████████████▏                           | 648/1000 [04:19<02:18,  2.53it/s]"
     ]
    },
    {
     "name": "stdout",
     "output_type": "stream",
     "text": [
      "124.6151123046875\n"
     ]
    },
    {
     "name": "stderr",
     "output_type": "stream",
     "text": [
      "\r",
      " 65%|███████████████████████████████████████████████████▎                           | 649/1000 [04:20<02:17,  2.56it/s]"
     ]
    },
    {
     "name": "stdout",
     "output_type": "stream",
     "text": [
      "120.16459655761719\n"
     ]
    },
    {
     "name": "stderr",
     "output_type": "stream",
     "text": [
      "\r",
      " 65%|███████████████████████████████████████████████████▎                           | 650/1000 [04:20<02:16,  2.57it/s]"
     ]
    },
    {
     "name": "stdout",
     "output_type": "stream",
     "text": [
      "125.23699188232422\n"
     ]
    },
    {
     "name": "stderr",
     "output_type": "stream",
     "text": [
      "\r",
      " 65%|███████████████████████████████████████████████████▍                           | 651/1000 [04:20<02:17,  2.53it/s]"
     ]
    },
    {
     "name": "stdout",
     "output_type": "stream",
     "text": [
      "124.06027221679688\n"
     ]
    },
    {
     "name": "stderr",
     "output_type": "stream",
     "text": [
      "\r",
      " 65%|███████████████████████████████████████████████████▌                           | 652/1000 [04:21<02:17,  2.52it/s]"
     ]
    },
    {
     "name": "stdout",
     "output_type": "stream",
     "text": [
      "116.07518005371094\n"
     ]
    },
    {
     "name": "stderr",
     "output_type": "stream",
     "text": [
      "\r",
      " 65%|███████████████████████████████████████████████████▌                           | 653/1000 [04:21<02:18,  2.51it/s]"
     ]
    },
    {
     "name": "stdout",
     "output_type": "stream",
     "text": [
      "127.07266235351562\n"
     ]
    },
    {
     "name": "stderr",
     "output_type": "stream",
     "text": [
      "\r",
      " 65%|███████████████████████████████████████████████████▋                           | 654/1000 [04:22<02:17,  2.53it/s]"
     ]
    },
    {
     "name": "stdout",
     "output_type": "stream",
     "text": [
      "110.77143096923828\n"
     ]
    },
    {
     "name": "stderr",
     "output_type": "stream",
     "text": [
      "\r",
      " 66%|███████████████████████████████████████████████████▋                           | 655/1000 [04:22<02:17,  2.51it/s]"
     ]
    },
    {
     "name": "stdout",
     "output_type": "stream",
     "text": [
      "123.58129119873047\n"
     ]
    },
    {
     "name": "stderr",
     "output_type": "stream",
     "text": [
      "\r",
      " 66%|███████████████████████████████████████████████████▊                           | 656/1000 [04:22<02:16,  2.52it/s]"
     ]
    },
    {
     "name": "stdout",
     "output_type": "stream",
     "text": [
      "115.85128021240234\n"
     ]
    },
    {
     "name": "stderr",
     "output_type": "stream",
     "text": [
      "\r",
      " 66%|███████████████████████████████████████████████████▉                           | 657/1000 [04:23<02:15,  2.53it/s]"
     ]
    },
    {
     "name": "stdout",
     "output_type": "stream",
     "text": [
      "122.41546630859375\n"
     ]
    },
    {
     "name": "stderr",
     "output_type": "stream",
     "text": [
      "\r",
      " 66%|███████████████████████████████████████████████████▉                           | 658/1000 [04:23<02:15,  2.53it/s]"
     ]
    },
    {
     "name": "stdout",
     "output_type": "stream",
     "text": [
      "126.68782806396484\n"
     ]
    },
    {
     "name": "stderr",
     "output_type": "stream",
     "text": [
      "\r",
      " 66%|████████████████████████████████████████████████████                           | 659/1000 [04:24<02:15,  2.52it/s]"
     ]
    },
    {
     "name": "stdout",
     "output_type": "stream",
     "text": [
      "117.81322479248047\n"
     ]
    },
    {
     "name": "stderr",
     "output_type": "stream",
     "text": [
      "\r",
      " 66%|████████████████████████████████████████████████████▏                          | 660/1000 [04:24<02:15,  2.51it/s]"
     ]
    },
    {
     "name": "stdout",
     "output_type": "stream",
     "text": [
      "121.79818725585938\n"
     ]
    },
    {
     "name": "stderr",
     "output_type": "stream",
     "text": [
      "\r",
      " 66%|████████████████████████████████████████████████████▏                          | 661/1000 [04:24<02:13,  2.54it/s]"
     ]
    },
    {
     "name": "stdout",
     "output_type": "stream",
     "text": [
      "132.122802734375\n"
     ]
    },
    {
     "name": "stderr",
     "output_type": "stream",
     "text": [
      "\r",
      " 66%|████████████████████████████████████████████████████▎                          | 662/1000 [04:25<02:13,  2.52it/s]"
     ]
    },
    {
     "name": "stdout",
     "output_type": "stream",
     "text": [
      "123.07359313964844\n"
     ]
    },
    {
     "name": "stderr",
     "output_type": "stream",
     "text": [
      "\r",
      " 66%|████████████████████████████████████████████████████▍                          | 663/1000 [04:25<02:14,  2.51it/s]"
     ]
    },
    {
     "name": "stdout",
     "output_type": "stream",
     "text": [
      "121.89494323730469\n"
     ]
    },
    {
     "name": "stderr",
     "output_type": "stream",
     "text": [
      "\r",
      " 66%|████████████████████████████████████████████████████▍                          | 664/1000 [04:26<02:13,  2.51it/s]"
     ]
    },
    {
     "name": "stdout",
     "output_type": "stream",
     "text": [
      "114.90583801269531\n"
     ]
    },
    {
     "name": "stderr",
     "output_type": "stream",
     "text": [
      "\r",
      " 66%|████████████████████████████████████████████████████▌                          | 665/1000 [04:26<02:12,  2.52it/s]"
     ]
    },
    {
     "name": "stdout",
     "output_type": "stream",
     "text": [
      "128.8018035888672\n"
     ]
    },
    {
     "name": "stderr",
     "output_type": "stream",
     "text": [
      "\r",
      " 67%|████████████████████████████████████████████████████▌                          | 666/1000 [04:26<02:11,  2.54it/s]"
     ]
    },
    {
     "name": "stdout",
     "output_type": "stream",
     "text": [
      "115.168212890625\n"
     ]
    },
    {
     "name": "stderr",
     "output_type": "stream",
     "text": [
      "\r",
      " 67%|████████████████████████████████████████████████████▋                          | 667/1000 [04:27<02:11,  2.54it/s]"
     ]
    },
    {
     "name": "stdout",
     "output_type": "stream",
     "text": [
      "114.05599212646484\n"
     ]
    },
    {
     "name": "stderr",
     "output_type": "stream",
     "text": [
      "\r",
      " 67%|████████████████████████████████████████████████████▊                          | 668/1000 [04:27<02:12,  2.51it/s]"
     ]
    },
    {
     "name": "stdout",
     "output_type": "stream",
     "text": [
      "119.64144897460938\n"
     ]
    },
    {
     "name": "stderr",
     "output_type": "stream",
     "text": [
      "\r",
      " 67%|████████████████████████████████████████████████████▊                          | 669/1000 [04:28<02:12,  2.50it/s]"
     ]
    },
    {
     "name": "stdout",
     "output_type": "stream",
     "text": [
      "120.88667297363281\n"
     ]
    },
    {
     "name": "stderr",
     "output_type": "stream",
     "text": [
      "\r",
      " 67%|████████████████████████████████████████████████████▉                          | 670/1000 [04:28<02:10,  2.53it/s]"
     ]
    },
    {
     "name": "stdout",
     "output_type": "stream",
     "text": [
      "113.0819320678711\n"
     ]
    },
    {
     "name": "stderr",
     "output_type": "stream",
     "text": [
      "\r",
      " 67%|█████████████████████████████████████████████████████                          | 671/1000 [04:28<02:08,  2.56it/s]"
     ]
    },
    {
     "name": "stdout",
     "output_type": "stream",
     "text": [
      "122.68656921386719\n"
     ]
    },
    {
     "name": "stderr",
     "output_type": "stream",
     "text": [
      "\r",
      " 67%|█████████████████████████████████████████████████████                          | 672/1000 [04:29<02:09,  2.54it/s]"
     ]
    },
    {
     "name": "stdout",
     "output_type": "stream",
     "text": [
      "125.15729522705078\n"
     ]
    },
    {
     "name": "stderr",
     "output_type": "stream",
     "text": [
      "\r",
      " 67%|█████████████████████████████████████████████████████▏                         | 673/1000 [04:29<02:09,  2.52it/s]"
     ]
    },
    {
     "name": "stdout",
     "output_type": "stream",
     "text": [
      "119.49932098388672\n"
     ]
    },
    {
     "name": "stderr",
     "output_type": "stream",
     "text": [
      "\r",
      " 67%|█████████████████████████████████████████████████████▏                         | 674/1000 [04:29<02:10,  2.49it/s]"
     ]
    },
    {
     "name": "stdout",
     "output_type": "stream",
     "text": [
      "125.02268981933594\n"
     ]
    },
    {
     "name": "stderr",
     "output_type": "stream",
     "text": [
      "\r",
      " 68%|█████████████████████████████████████████████████████▎                         | 675/1000 [04:30<02:07,  2.54it/s]"
     ]
    },
    {
     "name": "stdout",
     "output_type": "stream",
     "text": [
      "117.446533203125\n"
     ]
    },
    {
     "name": "stderr",
     "output_type": "stream",
     "text": [
      "\r",
      " 68%|█████████████████████████████████████████████████████▍                         | 676/1000 [04:30<02:08,  2.52it/s]"
     ]
    },
    {
     "name": "stdout",
     "output_type": "stream",
     "text": [
      "113.04928588867188\n"
     ]
    },
    {
     "name": "stderr",
     "output_type": "stream",
     "text": [
      "\r",
      " 68%|█████████████████████████████████████████████████████▍                         | 677/1000 [04:31<02:05,  2.57it/s]"
     ]
    },
    {
     "name": "stdout",
     "output_type": "stream",
     "text": [
      "125.89643859863281\n"
     ]
    },
    {
     "name": "stderr",
     "output_type": "stream",
     "text": [
      "\r",
      " 68%|█████████████████████████████████████████████████████▌                         | 678/1000 [04:31<02:05,  2.56it/s]"
     ]
    },
    {
     "name": "stdout",
     "output_type": "stream",
     "text": [
      "117.0410385131836\n"
     ]
    },
    {
     "name": "stderr",
     "output_type": "stream",
     "text": [
      "\r",
      " 68%|█████████████████████████████████████████████████████▋                         | 679/1000 [04:31<02:05,  2.57it/s]"
     ]
    },
    {
     "name": "stdout",
     "output_type": "stream",
     "text": [
      "121.80149841308594\n"
     ]
    },
    {
     "name": "stderr",
     "output_type": "stream",
     "text": [
      "\r",
      " 68%|█████████████████████████████████████████████████████▋                         | 680/1000 [04:32<02:06,  2.53it/s]"
     ]
    },
    {
     "name": "stdout",
     "output_type": "stream",
     "text": [
      "120.42357635498047\n"
     ]
    },
    {
     "name": "stderr",
     "output_type": "stream",
     "text": [
      "\r",
      " 68%|█████████████████████████████████████████████████████▊                         | 681/1000 [04:32<02:12,  2.41it/s]"
     ]
    },
    {
     "name": "stdout",
     "output_type": "stream",
     "text": [
      "112.85457611083984\n"
     ]
    },
    {
     "name": "stderr",
     "output_type": "stream",
     "text": [
      "\r",
      " 68%|█████████████████████████████████████████████████████▉                         | 682/1000 [04:33<02:16,  2.32it/s]"
     ]
    },
    {
     "name": "stdout",
     "output_type": "stream",
     "text": [
      "117.15254211425781\n"
     ]
    },
    {
     "name": "stderr",
     "output_type": "stream",
     "text": [
      "\r",
      " 68%|█████████████████████████████████████████████████████▉                         | 683/1000 [04:33<02:21,  2.25it/s]"
     ]
    },
    {
     "name": "stdout",
     "output_type": "stream",
     "text": [
      "116.09107971191406\n"
     ]
    },
    {
     "name": "stderr",
     "output_type": "stream",
     "text": [
      "\r",
      " 68%|██████████████████████████████████████████████████████                         | 684/1000 [04:34<02:17,  2.29it/s]"
     ]
    },
    {
     "name": "stdout",
     "output_type": "stream",
     "text": [
      "121.41657257080078\n"
     ]
    },
    {
     "name": "stderr",
     "output_type": "stream",
     "text": [
      "\r",
      " 68%|██████████████████████████████████████████████████████                         | 685/1000 [04:34<02:22,  2.21it/s]"
     ]
    },
    {
     "name": "stdout",
     "output_type": "stream",
     "text": [
      "114.85617065429688\n",
      "120.49139404296875\n"
     ]
    },
    {
     "name": "stderr",
     "output_type": "stream",
     "text": [
      " 69%|██████████████████████████████████████████████████████▎                        | 687/1000 [04:35<02:24,  2.17it/s]"
     ]
    },
    {
     "name": "stdout",
     "output_type": "stream",
     "text": [
      "110.09015655517578\n"
     ]
    },
    {
     "name": "stderr",
     "output_type": "stream",
     "text": [
      "\r",
      " 69%|██████████████████████████████████████████████████████▎                        | 688/1000 [04:35<02:19,  2.24it/s]"
     ]
    },
    {
     "name": "stdout",
     "output_type": "stream",
     "text": [
      "118.66014862060547\n"
     ]
    },
    {
     "name": "stderr",
     "output_type": "stream",
     "text": [
      "\r",
      " 69%|██████████████████████████████████████████████████████▍                        | 689/1000 [04:36<02:15,  2.29it/s]"
     ]
    },
    {
     "name": "stdout",
     "output_type": "stream",
     "text": [
      "115.29816436767578\n"
     ]
    },
    {
     "name": "stderr",
     "output_type": "stream",
     "text": [
      "\r",
      " 69%|██████████████████████████████████████████████████████▌                        | 690/1000 [04:36<02:14,  2.30it/s]"
     ]
    },
    {
     "name": "stdout",
     "output_type": "stream",
     "text": [
      "136.17568969726562\n"
     ]
    },
    {
     "name": "stderr",
     "output_type": "stream",
     "text": [
      "\r",
      " 69%|██████████████████████████████████████████████████████▌                        | 691/1000 [04:37<02:14,  2.29it/s]"
     ]
    },
    {
     "name": "stdout",
     "output_type": "stream",
     "text": [
      "109.22349548339844\n"
     ]
    },
    {
     "name": "stderr",
     "output_type": "stream",
     "text": [
      "\r",
      " 69%|██████████████████████████████████████████████████████▋                        | 692/1000 [04:37<02:13,  2.31it/s]"
     ]
    },
    {
     "name": "stdout",
     "output_type": "stream",
     "text": [
      "131.21595764160156\n",
      "117.53362274169922\n"
     ]
    },
    {
     "name": "stderr",
     "output_type": "stream",
     "text": [
      " 69%|██████████████████████████████████████████████████████▊                        | 694/1000 [04:38<02:07,  2.40it/s]"
     ]
    },
    {
     "name": "stdout",
     "output_type": "stream",
     "text": [
      "126.71800231933594\n"
     ]
    },
    {
     "name": "stderr",
     "output_type": "stream",
     "text": [
      "\r",
      " 70%|██████████████████████████████████████████████████████▉                        | 695/1000 [04:38<02:04,  2.45it/s]"
     ]
    },
    {
     "name": "stdout",
     "output_type": "stream",
     "text": [
      "116.50323486328125\n"
     ]
    },
    {
     "name": "stderr",
     "output_type": "stream",
     "text": [
      "\r",
      " 70%|██████████████████████████████████████████████████████▉                        | 696/1000 [04:39<02:01,  2.50it/s]"
     ]
    },
    {
     "name": "stdout",
     "output_type": "stream",
     "text": [
      "129.01524353027344\n"
     ]
    },
    {
     "name": "stderr",
     "output_type": "stream",
     "text": [
      "\r",
      " 70%|███████████████████████████████████████████████████████                        | 697/1000 [04:39<02:01,  2.49it/s]"
     ]
    },
    {
     "name": "stdout",
     "output_type": "stream",
     "text": [
      "123.68230438232422\n"
     ]
    },
    {
     "name": "stderr",
     "output_type": "stream",
     "text": [
      "\r",
      " 70%|███████████████████████████████████████████████████████▏                       | 698/1000 [04:40<01:58,  2.54it/s]"
     ]
    },
    {
     "name": "stdout",
     "output_type": "stream",
     "text": [
      "114.55711364746094\n"
     ]
    },
    {
     "name": "stderr",
     "output_type": "stream",
     "text": [
      "\r",
      " 70%|███████████████████████████████████████████████████████▏                       | 699/1000 [04:40<01:57,  2.56it/s]"
     ]
    },
    {
     "name": "stdout",
     "output_type": "stream",
     "text": [
      "117.66083526611328\n"
     ]
    },
    {
     "name": "stderr",
     "output_type": "stream",
     "text": [
      "\r",
      " 70%|███████████████████████████████████████████████████████▎                       | 700/1000 [04:40<01:59,  2.51it/s]"
     ]
    },
    {
     "name": "stdout",
     "output_type": "stream",
     "text": [
      "123.87300109863281\n"
     ]
    },
    {
     "name": "stderr",
     "output_type": "stream",
     "text": [
      "\r",
      " 70%|███████████████████████████████████████████████████████▍                       | 701/1000 [04:41<01:57,  2.54it/s]"
     ]
    },
    {
     "name": "stdout",
     "output_type": "stream",
     "text": [
      "116.0999526977539\n"
     ]
    },
    {
     "name": "stderr",
     "output_type": "stream",
     "text": [
      "\r",
      " 70%|███████████████████████████████████████████████████████▍                       | 702/1000 [04:41<01:57,  2.55it/s]"
     ]
    },
    {
     "name": "stdout",
     "output_type": "stream",
     "text": [
      "121.76012420654297\n"
     ]
    },
    {
     "name": "stderr",
     "output_type": "stream",
     "text": [
      "\r",
      " 70%|███████████████████████████████████████████████████████▌                       | 703/1000 [04:42<01:55,  2.56it/s]"
     ]
    },
    {
     "name": "stdout",
     "output_type": "stream",
     "text": [
      "121.95686340332031\n"
     ]
    },
    {
     "name": "stderr",
     "output_type": "stream",
     "text": [
      "\r",
      " 70%|███████████████████████████████████████████████████████▌                       | 704/1000 [04:42<01:55,  2.56it/s]"
     ]
    },
    {
     "name": "stdout",
     "output_type": "stream",
     "text": [
      "127.12113952636719\n"
     ]
    },
    {
     "name": "stderr",
     "output_type": "stream",
     "text": [
      "\r",
      " 70%|███████████████████████████████████████████████████████▋                       | 705/1000 [04:42<01:56,  2.53it/s]"
     ]
    },
    {
     "name": "stdout",
     "output_type": "stream",
     "text": [
      "124.58407592773438\n"
     ]
    },
    {
     "name": "stderr",
     "output_type": "stream",
     "text": [
      "\r",
      " 71%|███████████████████████████████████████████████████████▊                       | 706/1000 [04:43<01:56,  2.53it/s]"
     ]
    },
    {
     "name": "stdout",
     "output_type": "stream",
     "text": [
      "125.49723815917969\n"
     ]
    },
    {
     "name": "stderr",
     "output_type": "stream",
     "text": [
      "\r",
      " 71%|███████████████████████████████████████████████████████▊                       | 707/1000 [04:43<01:55,  2.53it/s]"
     ]
    },
    {
     "name": "stdout",
     "output_type": "stream",
     "text": [
      "117.88565826416016\n"
     ]
    },
    {
     "name": "stderr",
     "output_type": "stream",
     "text": [
      "\r",
      " 71%|███████████████████████████████████████████████████████▉                       | 708/1000 [04:44<01:55,  2.52it/s]"
     ]
    },
    {
     "name": "stdout",
     "output_type": "stream",
     "text": [
      "119.54827117919922\n"
     ]
    },
    {
     "name": "stderr",
     "output_type": "stream",
     "text": [
      "\r",
      " 71%|████████████████████████████████████████████████████████                       | 709/1000 [04:44<01:53,  2.56it/s]"
     ]
    },
    {
     "name": "stdout",
     "output_type": "stream",
     "text": [
      "122.72891235351562\n"
     ]
    },
    {
     "name": "stderr",
     "output_type": "stream",
     "text": [
      "\r",
      " 71%|████████████████████████████████████████████████████████                       | 710/1000 [04:44<01:57,  2.48it/s]"
     ]
    },
    {
     "name": "stdout",
     "output_type": "stream",
     "text": [
      "125.88398742675781\n"
     ]
    },
    {
     "name": "stderr",
     "output_type": "stream",
     "text": [
      "\r",
      " 71%|████████████████████████████████████████████████████████▏                      | 711/1000 [04:45<01:53,  2.54it/s]"
     ]
    },
    {
     "name": "stdout",
     "output_type": "stream",
     "text": [
      "113.16268157958984\n"
     ]
    },
    {
     "name": "stderr",
     "output_type": "stream",
     "text": [
      "\r",
      " 71%|████████████████████████████████████████████████████████▏                      | 712/1000 [04:45<01:55,  2.50it/s]"
     ]
    },
    {
     "name": "stdout",
     "output_type": "stream",
     "text": [
      "124.36727142333984\n"
     ]
    },
    {
     "name": "stderr",
     "output_type": "stream",
     "text": [
      "\r",
      " 71%|████████████████████████████████████████████████████████▎                      | 713/1000 [04:45<01:54,  2.51it/s]"
     ]
    },
    {
     "name": "stdout",
     "output_type": "stream",
     "text": [
      "117.19053649902344\n"
     ]
    },
    {
     "name": "stderr",
     "output_type": "stream",
     "text": [
      "\r",
      " 71%|████████████████████████████████████████████████████████▍                      | 714/1000 [04:46<01:54,  2.49it/s]"
     ]
    },
    {
     "name": "stdout",
     "output_type": "stream",
     "text": [
      "116.22986602783203\n"
     ]
    },
    {
     "name": "stderr",
     "output_type": "stream",
     "text": [
      "\r",
      " 72%|████████████████████████████████████████████████████████▍                      | 715/1000 [04:46<01:53,  2.51it/s]"
     ]
    },
    {
     "name": "stdout",
     "output_type": "stream",
     "text": [
      "121.56195831298828\n"
     ]
    },
    {
     "name": "stderr",
     "output_type": "stream",
     "text": [
      "\r",
      " 72%|████████████████████████████████████████████████████████▌                      | 716/1000 [04:47<01:53,  2.50it/s]"
     ]
    },
    {
     "name": "stdout",
     "output_type": "stream",
     "text": [
      "119.88640594482422\n"
     ]
    },
    {
     "name": "stderr",
     "output_type": "stream",
     "text": [
      "\r",
      " 72%|████████████████████████████████████████████████████████▋                      | 717/1000 [04:47<01:52,  2.51it/s]"
     ]
    },
    {
     "name": "stdout",
     "output_type": "stream",
     "text": [
      "122.87889862060547\n"
     ]
    },
    {
     "name": "stderr",
     "output_type": "stream",
     "text": [
      "\r",
      " 72%|████████████████████████████████████████████████████████▋                      | 718/1000 [04:47<01:52,  2.51it/s]"
     ]
    },
    {
     "name": "stdout",
     "output_type": "stream",
     "text": [
      "122.64468383789062\n"
     ]
    },
    {
     "name": "stderr",
     "output_type": "stream",
     "text": [
      "\r",
      " 72%|████████████████████████████████████████████████████████▊                      | 719/1000 [04:48<01:52,  2.50it/s]"
     ]
    },
    {
     "name": "stdout",
     "output_type": "stream",
     "text": [
      "118.70579528808594\n"
     ]
    },
    {
     "name": "stderr",
     "output_type": "stream",
     "text": [
      "\r",
      " 72%|████████████████████████████████████████████████████████▉                      | 720/1000 [04:48<01:50,  2.53it/s]"
     ]
    },
    {
     "name": "stdout",
     "output_type": "stream",
     "text": [
      "124.75740814208984\n"
     ]
    },
    {
     "name": "stderr",
     "output_type": "stream",
     "text": [
      "\r",
      " 72%|████████████████████████████████████████████████████████▉                      | 721/1000 [04:49<01:48,  2.57it/s]"
     ]
    },
    {
     "name": "stdout",
     "output_type": "stream",
     "text": [
      "125.04400634765625\n"
     ]
    },
    {
     "name": "stderr",
     "output_type": "stream",
     "text": [
      "\r",
      " 72%|█████████████████████████████████████████████████████████                      | 722/1000 [04:49<01:48,  2.55it/s]"
     ]
    },
    {
     "name": "stdout",
     "output_type": "stream",
     "text": [
      "120.95140838623047\n"
     ]
    },
    {
     "name": "stderr",
     "output_type": "stream",
     "text": [
      "\r",
      " 72%|█████████████████████████████████████████████████████████                      | 723/1000 [04:49<01:49,  2.54it/s]"
     ]
    },
    {
     "name": "stdout",
     "output_type": "stream",
     "text": [
      "114.30554962158203\n"
     ]
    },
    {
     "name": "stderr",
     "output_type": "stream",
     "text": [
      "\r",
      " 72%|█████████████████████████████████████████████████████████▏                     | 724/1000 [04:50<01:48,  2.53it/s]"
     ]
    },
    {
     "name": "stdout",
     "output_type": "stream",
     "text": [
      "121.84052276611328\n"
     ]
    },
    {
     "name": "stderr",
     "output_type": "stream",
     "text": [
      "\r",
      " 72%|█████████████████████████████████████████████████████████▎                     | 725/1000 [04:50<01:48,  2.53it/s]"
     ]
    },
    {
     "name": "stdout",
     "output_type": "stream",
     "text": [
      "121.50447845458984\n"
     ]
    },
    {
     "name": "stderr",
     "output_type": "stream",
     "text": [
      "\r",
      " 73%|█████████████████████████████████████████████████████████▎                     | 726/1000 [04:51<01:50,  2.48it/s]"
     ]
    },
    {
     "name": "stdout",
     "output_type": "stream",
     "text": [
      "118.61002349853516\n"
     ]
    },
    {
     "name": "stderr",
     "output_type": "stream",
     "text": [
      "\r",
      " 73%|█████████████████████████████████████████████████████████▍                     | 727/1000 [04:51<01:49,  2.48it/s]"
     ]
    },
    {
     "name": "stdout",
     "output_type": "stream",
     "text": [
      "114.78681945800781\n"
     ]
    },
    {
     "name": "stderr",
     "output_type": "stream",
     "text": [
      "\r",
      " 73%|█████████████████████████████████████████████████████████▌                     | 728/1000 [04:51<01:50,  2.47it/s]"
     ]
    },
    {
     "name": "stdout",
     "output_type": "stream",
     "text": [
      "118.37909698486328\n"
     ]
    },
    {
     "name": "stderr",
     "output_type": "stream",
     "text": [
      "\r",
      " 73%|█████████████████████████████████████████████████████████▌                     | 729/1000 [04:52<01:47,  2.52it/s]"
     ]
    },
    {
     "name": "stdout",
     "output_type": "stream",
     "text": [
      "124.22457885742188\n"
     ]
    },
    {
     "name": "stderr",
     "output_type": "stream",
     "text": [
      "\r",
      " 73%|█████████████████████████████████████████████████████████▋                     | 730/1000 [04:52<01:47,  2.52it/s]"
     ]
    },
    {
     "name": "stdout",
     "output_type": "stream",
     "text": [
      "117.89708709716797\n"
     ]
    },
    {
     "name": "stderr",
     "output_type": "stream",
     "text": [
      "\r",
      " 73%|█████████████████████████████████████████████████████████▋                     | 731/1000 [04:53<01:45,  2.55it/s]"
     ]
    },
    {
     "name": "stdout",
     "output_type": "stream",
     "text": [
      "117.01923370361328\n"
     ]
    },
    {
     "name": "stderr",
     "output_type": "stream",
     "text": [
      "\r",
      " 73%|█████████████████████████████████████████████████████████▊                     | 732/1000 [04:53<01:45,  2.55it/s]"
     ]
    },
    {
     "name": "stdout",
     "output_type": "stream",
     "text": [
      "121.68801879882812\n"
     ]
    },
    {
     "name": "stderr",
     "output_type": "stream",
     "text": [
      "\r",
      " 73%|█████████████████████████████████████████████████████████▉                     | 733/1000 [04:53<01:45,  2.54it/s]"
     ]
    },
    {
     "name": "stdout",
     "output_type": "stream",
     "text": [
      "117.11527252197266\n"
     ]
    },
    {
     "name": "stderr",
     "output_type": "stream",
     "text": [
      "\r",
      " 73%|█████████████████████████████████████████████████████████▉                     | 734/1000 [04:54<01:45,  2.52it/s]"
     ]
    },
    {
     "name": "stdout",
     "output_type": "stream",
     "text": [
      "112.15550231933594\n"
     ]
    },
    {
     "name": "stderr",
     "output_type": "stream",
     "text": [
      "\r",
      " 74%|██████████████████████████████████████████████████████████                     | 735/1000 [04:54<01:45,  2.51it/s]"
     ]
    },
    {
     "name": "stdout",
     "output_type": "stream",
     "text": [
      "126.24897766113281\n"
     ]
    },
    {
     "name": "stderr",
     "output_type": "stream",
     "text": [
      "\r",
      " 74%|██████████████████████████████████████████████████████████▏                    | 736/1000 [04:55<01:44,  2.53it/s]"
     ]
    },
    {
     "name": "stdout",
     "output_type": "stream",
     "text": [
      "119.54561614990234\n"
     ]
    },
    {
     "name": "stderr",
     "output_type": "stream",
     "text": [
      "\r",
      " 74%|██████████████████████████████████████████████████████████▏                    | 737/1000 [04:55<01:46,  2.47it/s]"
     ]
    },
    {
     "name": "stdout",
     "output_type": "stream",
     "text": [
      "123.38392639160156\n"
     ]
    },
    {
     "name": "stderr",
     "output_type": "stream",
     "text": [
      "\r",
      " 74%|██████████████████████████████████████████████████████████▎                    | 738/1000 [04:55<01:46,  2.47it/s]"
     ]
    },
    {
     "name": "stdout",
     "output_type": "stream",
     "text": [
      "115.30453491210938\n"
     ]
    },
    {
     "name": "stderr",
     "output_type": "stream",
     "text": [
      "\r",
      " 74%|██████████████████████████████████████████████████████████▍                    | 739/1000 [04:56<01:44,  2.51it/s]"
     ]
    },
    {
     "name": "stdout",
     "output_type": "stream",
     "text": [
      "114.54987335205078\n"
     ]
    },
    {
     "name": "stderr",
     "output_type": "stream",
     "text": [
      "\r",
      " 74%|██████████████████████████████████████████████████████████▍                    | 740/1000 [04:56<01:42,  2.53it/s]"
     ]
    },
    {
     "name": "stdout",
     "output_type": "stream",
     "text": [
      "127.403564453125\n"
     ]
    },
    {
     "name": "stderr",
     "output_type": "stream",
     "text": [
      "\r",
      " 74%|██████████████████████████████████████████████████████████▌                    | 741/1000 [04:57<01:42,  2.52it/s]"
     ]
    },
    {
     "name": "stdout",
     "output_type": "stream",
     "text": [
      "122.6194076538086\n"
     ]
    },
    {
     "name": "stderr",
     "output_type": "stream",
     "text": [
      "\r",
      " 74%|██████████████████████████████████████████████████████████▌                    | 742/1000 [04:57<01:41,  2.53it/s]"
     ]
    },
    {
     "name": "stdout",
     "output_type": "stream",
     "text": [
      "118.6664047241211\n"
     ]
    },
    {
     "name": "stderr",
     "output_type": "stream",
     "text": [
      "\r",
      " 74%|██████████████████████████████████████████████████████████▋                    | 743/1000 [04:57<01:40,  2.54it/s]"
     ]
    },
    {
     "name": "stdout",
     "output_type": "stream",
     "text": [
      "114.02100372314453\n"
     ]
    },
    {
     "name": "stderr",
     "output_type": "stream",
     "text": [
      "\r",
      " 74%|██████████████████████████████████████████████████████████▊                    | 744/1000 [04:58<01:41,  2.52it/s]"
     ]
    },
    {
     "name": "stdout",
     "output_type": "stream",
     "text": [
      "123.9951400756836\n"
     ]
    },
    {
     "name": "stderr",
     "output_type": "stream",
     "text": [
      "\r",
      " 74%|██████████████████████████████████████████████████████████▊                    | 745/1000 [04:58<01:39,  2.55it/s]"
     ]
    },
    {
     "name": "stdout",
     "output_type": "stream",
     "text": [
      "116.36322784423828\n"
     ]
    },
    {
     "name": "stderr",
     "output_type": "stream",
     "text": [
      "\r",
      " 75%|██████████████████████████████████████████████████████████▉                    | 746/1000 [04:59<01:39,  2.55it/s]"
     ]
    },
    {
     "name": "stdout",
     "output_type": "stream",
     "text": [
      "115.73837280273438\n"
     ]
    },
    {
     "name": "stderr",
     "output_type": "stream",
     "text": [
      "\r",
      " 75%|███████████████████████████████████████████████████████████                    | 747/1000 [04:59<01:39,  2.54it/s]"
     ]
    },
    {
     "name": "stdout",
     "output_type": "stream",
     "text": [
      "122.04551696777344\n"
     ]
    },
    {
     "name": "stderr",
     "output_type": "stream",
     "text": [
      "\r",
      " 75%|███████████████████████████████████████████████████████████                    | 748/1000 [04:59<01:39,  2.53it/s]"
     ]
    },
    {
     "name": "stdout",
     "output_type": "stream",
     "text": [
      "131.22006225585938\n"
     ]
    },
    {
     "name": "stderr",
     "output_type": "stream",
     "text": [
      "\r",
      " 75%|███████████████████████████████████████████████████████████▏                   | 749/1000 [05:00<01:37,  2.56it/s]"
     ]
    },
    {
     "name": "stdout",
     "output_type": "stream",
     "text": [
      "122.67036437988281\n"
     ]
    },
    {
     "name": "stderr",
     "output_type": "stream",
     "text": [
      "\r",
      " 75%|███████████████████████████████████████████████████████████▎                   | 750/1000 [05:00<01:37,  2.56it/s]"
     ]
    },
    {
     "name": "stdout",
     "output_type": "stream",
     "text": [
      "118.32096099853516\n"
     ]
    },
    {
     "name": "stderr",
     "output_type": "stream",
     "text": [
      "\r",
      " 75%|███████████████████████████████████████████████████████████▎                   | 751/1000 [05:01<01:36,  2.59it/s]"
     ]
    },
    {
     "name": "stdout",
     "output_type": "stream",
     "text": [
      "121.74215698242188\n"
     ]
    },
    {
     "name": "stderr",
     "output_type": "stream",
     "text": [
      "\r",
      " 75%|███████████████████████████████████████████████████████████▍                   | 752/1000 [05:01<01:36,  2.57it/s]"
     ]
    },
    {
     "name": "stdout",
     "output_type": "stream",
     "text": [
      "122.74061584472656\n"
     ]
    },
    {
     "name": "stderr",
     "output_type": "stream",
     "text": [
      "\r",
      " 75%|███████████████████████████████████████████████████████████▍                   | 753/1000 [05:01<01:36,  2.56it/s]"
     ]
    },
    {
     "name": "stdout",
     "output_type": "stream",
     "text": [
      "119.51555633544922\n"
     ]
    },
    {
     "name": "stderr",
     "output_type": "stream",
     "text": [
      "\r",
      " 75%|███████████████████████████████████████████████████████████▌                   | 754/1000 [05:02<01:38,  2.50it/s]"
     ]
    },
    {
     "name": "stdout",
     "output_type": "stream",
     "text": [
      "115.00108337402344\n"
     ]
    },
    {
     "name": "stderr",
     "output_type": "stream",
     "text": [
      "\r",
      " 76%|███████████████████████████████████████████████████████████▋                   | 755/1000 [05:02<01:41,  2.41it/s]"
     ]
    },
    {
     "name": "stdout",
     "output_type": "stream",
     "text": [
      "125.68923950195312\n"
     ]
    },
    {
     "name": "stderr",
     "output_type": "stream",
     "text": [
      "\r",
      " 76%|███████████████████████████████████████████████████████████▋                   | 756/1000 [05:03<01:41,  2.40it/s]"
     ]
    },
    {
     "name": "stdout",
     "output_type": "stream",
     "text": [
      "115.09483337402344\n",
      "118.53099060058594\n"
     ]
    },
    {
     "name": "stderr",
     "output_type": "stream",
     "text": [
      " 76%|███████████████████████████████████████████████████████████▉                   | 758/1000 [05:03<01:43,  2.34it/s]"
     ]
    },
    {
     "name": "stdout",
     "output_type": "stream",
     "text": [
      "128.17295837402344\n"
     ]
    },
    {
     "name": "stderr",
     "output_type": "stream",
     "text": [
      "\r",
      " 76%|███████████████████████████████████████████████████████████▉                   | 759/1000 [05:04<01:43,  2.32it/s]"
     ]
    },
    {
     "name": "stdout",
     "output_type": "stream",
     "text": [
      "118.1160659790039\n"
     ]
    },
    {
     "name": "stderr",
     "output_type": "stream",
     "text": [
      "\r",
      " 76%|████████████████████████████████████████████████████████████                   | 760/1000 [05:04<01:42,  2.34it/s]"
     ]
    },
    {
     "name": "stdout",
     "output_type": "stream",
     "text": [
      "122.71994018554688\n"
     ]
    },
    {
     "name": "stderr",
     "output_type": "stream",
     "text": [
      "\r",
      " 76%|████████████████████████████████████████████████████████████                   | 761/1000 [05:05<01:41,  2.35it/s]"
     ]
    },
    {
     "name": "stdout",
     "output_type": "stream",
     "text": [
      "121.36865234375\n"
     ]
    },
    {
     "name": "stderr",
     "output_type": "stream",
     "text": [
      "\r",
      " 76%|████████████████████████████████████████████████████████████▏                  | 762/1000 [05:05<01:46,  2.24it/s]"
     ]
    },
    {
     "name": "stdout",
     "output_type": "stream",
     "text": [
      "118.29668426513672\n"
     ]
    },
    {
     "name": "stderr",
     "output_type": "stream",
     "text": [
      "\r",
      " 76%|████████████████████████████████████████████████████████████▎                  | 763/1000 [05:06<01:44,  2.28it/s]"
     ]
    },
    {
     "name": "stdout",
     "output_type": "stream",
     "text": [
      "123.34134674072266\n"
     ]
    },
    {
     "name": "stderr",
     "output_type": "stream",
     "text": [
      "\r",
      " 76%|████████████████████████████████████████████████████████████▎                  | 764/1000 [05:06<01:43,  2.28it/s]"
     ]
    },
    {
     "name": "stdout",
     "output_type": "stream",
     "text": [
      "122.98361206054688\n"
     ]
    },
    {
     "name": "stderr",
     "output_type": "stream",
     "text": [
      "\r",
      " 76%|████████████████████████████████████████████████████████████▍                  | 765/1000 [05:07<01:40,  2.34it/s]"
     ]
    },
    {
     "name": "stdout",
     "output_type": "stream",
     "text": [
      "114.21365356445312\n"
     ]
    },
    {
     "name": "stderr",
     "output_type": "stream",
     "text": [
      "\r",
      " 77%|████████████████████████████████████████████████████████████▌                  | 766/1000 [05:07<01:37,  2.39it/s]"
     ]
    },
    {
     "name": "stdout",
     "output_type": "stream",
     "text": [
      "114.46944427490234\n"
     ]
    },
    {
     "name": "stderr",
     "output_type": "stream",
     "text": [
      "\r",
      " 77%|████████████████████████████████████████████████████████████▌                  | 767/1000 [05:07<01:37,  2.39it/s]"
     ]
    },
    {
     "name": "stdout",
     "output_type": "stream",
     "text": [
      "124.14289855957031\n"
     ]
    },
    {
     "name": "stderr",
     "output_type": "stream",
     "text": [
      "\r",
      " 77%|████████████████████████████████████████████████████████████▋                  | 768/1000 [05:08<01:35,  2.44it/s]"
     ]
    },
    {
     "name": "stdout",
     "output_type": "stream",
     "text": [
      "116.2941665649414\n"
     ]
    },
    {
     "name": "stderr",
     "output_type": "stream",
     "text": [
      "\r",
      " 77%|████████████████████████████████████████████████████████████▊                  | 769/1000 [05:08<01:34,  2.45it/s]"
     ]
    },
    {
     "name": "stdout",
     "output_type": "stream",
     "text": [
      "121.6439208984375\n"
     ]
    },
    {
     "name": "stderr",
     "output_type": "stream",
     "text": [
      "\r",
      " 77%|████████████████████████████████████████████████████████████▊                  | 770/1000 [05:09<01:32,  2.48it/s]"
     ]
    },
    {
     "name": "stdout",
     "output_type": "stream",
     "text": [
      "120.00614166259766\n"
     ]
    },
    {
     "name": "stderr",
     "output_type": "stream",
     "text": [
      "\r",
      " 77%|████████████████████████████████████████████████████████████▉                  | 771/1000 [05:09<01:31,  2.51it/s]"
     ]
    },
    {
     "name": "stdout",
     "output_type": "stream",
     "text": [
      "111.37999725341797\n"
     ]
    },
    {
     "name": "stderr",
     "output_type": "stream",
     "text": [
      "\r",
      " 77%|████████████████████████████████████████████████████████████▉                  | 772/1000 [05:09<01:29,  2.54it/s]"
     ]
    },
    {
     "name": "stdout",
     "output_type": "stream",
     "text": [
      "116.86094665527344\n"
     ]
    },
    {
     "name": "stderr",
     "output_type": "stream",
     "text": [
      "\r",
      " 77%|█████████████████████████████████████████████████████████████                  | 773/1000 [05:10<01:28,  2.56it/s]"
     ]
    },
    {
     "name": "stdout",
     "output_type": "stream",
     "text": [
      "120.74175262451172\n"
     ]
    },
    {
     "name": "stderr",
     "output_type": "stream",
     "text": [
      "\r",
      " 77%|█████████████████████████████████████████████████████████████▏                 | 774/1000 [05:10<01:28,  2.57it/s]"
     ]
    },
    {
     "name": "stdout",
     "output_type": "stream",
     "text": [
      "128.56954956054688\n"
     ]
    },
    {
     "name": "stderr",
     "output_type": "stream",
     "text": [
      "\r",
      " 78%|█████████████████████████████████████████████████████████████▏                 | 775/1000 [05:10<01:27,  2.57it/s]"
     ]
    },
    {
     "name": "stdout",
     "output_type": "stream",
     "text": [
      "104.83476257324219\n"
     ]
    },
    {
     "name": "stderr",
     "output_type": "stream",
     "text": [
      "\r",
      " 78%|█████████████████████████████████████████████████████████████▎                 | 776/1000 [05:11<01:27,  2.56it/s]"
     ]
    },
    {
     "name": "stdout",
     "output_type": "stream",
     "text": [
      "117.40740203857422\n"
     ]
    },
    {
     "name": "stderr",
     "output_type": "stream",
     "text": [
      "\r",
      " 78%|█████████████████████████████████████████████████████████████▍                 | 777/1000 [05:11<01:26,  2.58it/s]"
     ]
    },
    {
     "name": "stdout",
     "output_type": "stream",
     "text": [
      "112.86962127685547\n"
     ]
    },
    {
     "name": "stderr",
     "output_type": "stream",
     "text": [
      "\r",
      " 78%|█████████████████████████████████████████████████████████████▍                 | 778/1000 [05:12<01:25,  2.59it/s]"
     ]
    },
    {
     "name": "stdout",
     "output_type": "stream",
     "text": [
      "134.80740356445312\n"
     ]
    },
    {
     "name": "stderr",
     "output_type": "stream",
     "text": [
      "\r",
      " 78%|█████████████████████████████████████████████████████████████▌                 | 779/1000 [05:12<01:25,  2.57it/s]"
     ]
    },
    {
     "name": "stdout",
     "output_type": "stream",
     "text": [
      "111.04834747314453\n"
     ]
    },
    {
     "name": "stderr",
     "output_type": "stream",
     "text": [
      "\r",
      " 78%|█████████████████████████████████████████████████████████████▌                 | 780/1000 [05:12<01:25,  2.58it/s]"
     ]
    },
    {
     "name": "stdout",
     "output_type": "stream",
     "text": [
      "121.27014923095703\n"
     ]
    },
    {
     "name": "stderr",
     "output_type": "stream",
     "text": [
      "\r",
      " 78%|█████████████████████████████████████████████████████████████▋                 | 781/1000 [05:13<01:26,  2.53it/s]"
     ]
    },
    {
     "name": "stdout",
     "output_type": "stream",
     "text": [
      "127.82807922363281\n"
     ]
    },
    {
     "name": "stderr",
     "output_type": "stream",
     "text": [
      "\r",
      " 78%|█████████████████████████████████████████████████████████████▊                 | 782/1000 [05:13<01:25,  2.54it/s]"
     ]
    },
    {
     "name": "stdout",
     "output_type": "stream",
     "text": [
      "123.00463104248047\n"
     ]
    },
    {
     "name": "stderr",
     "output_type": "stream",
     "text": [
      "\r",
      " 78%|█████████████████████████████████████████████████████████████▊                 | 783/1000 [05:14<01:26,  2.51it/s]"
     ]
    },
    {
     "name": "stdout",
     "output_type": "stream",
     "text": [
      "123.44498443603516\n"
     ]
    },
    {
     "name": "stderr",
     "output_type": "stream",
     "text": [
      "\r",
      " 78%|█████████████████████████████████████████████████████████████▉                 | 784/1000 [05:14<01:25,  2.53it/s]"
     ]
    },
    {
     "name": "stdout",
     "output_type": "stream",
     "text": [
      "118.37784576416016\n"
     ]
    },
    {
     "name": "stderr",
     "output_type": "stream",
     "text": [
      "\r",
      " 78%|██████████████████████████████████████████████████████████████                 | 785/1000 [05:14<01:24,  2.55it/s]"
     ]
    },
    {
     "name": "stdout",
     "output_type": "stream",
     "text": [
      "122.07404327392578\n"
     ]
    },
    {
     "name": "stderr",
     "output_type": "stream",
     "text": [
      "\r",
      " 79%|██████████████████████████████████████████████████████████████                 | 786/1000 [05:15<01:23,  2.57it/s]"
     ]
    },
    {
     "name": "stdout",
     "output_type": "stream",
     "text": [
      "113.13421630859375\n"
     ]
    },
    {
     "name": "stderr",
     "output_type": "stream",
     "text": [
      "\r",
      " 79%|██████████████████████████████████████████████████████████████▏                | 787/1000 [05:15<01:22,  2.57it/s]"
     ]
    },
    {
     "name": "stdout",
     "output_type": "stream",
     "text": [
      "119.95310974121094\n"
     ]
    },
    {
     "name": "stderr",
     "output_type": "stream",
     "text": [
      "\r",
      " 79%|██████████████████████████████████████████████████████████████▎                | 788/1000 [05:16<01:21,  2.59it/s]"
     ]
    },
    {
     "name": "stdout",
     "output_type": "stream",
     "text": [
      "117.22355651855469\n"
     ]
    },
    {
     "name": "stderr",
     "output_type": "stream",
     "text": [
      "\r",
      " 79%|██████████████████████████████████████████████████████████████▎                | 789/1000 [05:16<01:20,  2.61it/s]"
     ]
    },
    {
     "name": "stdout",
     "output_type": "stream",
     "text": [
      "113.85452270507812\n"
     ]
    },
    {
     "name": "stderr",
     "output_type": "stream",
     "text": [
      "\r",
      " 79%|██████████████████████████████████████████████████████████████▍                | 790/1000 [05:16<01:22,  2.56it/s]"
     ]
    },
    {
     "name": "stdout",
     "output_type": "stream",
     "text": [
      "123.73197937011719\n"
     ]
    },
    {
     "name": "stderr",
     "output_type": "stream",
     "text": [
      "\r",
      " 79%|██████████████████████████████████████████████████████████████▍                | 791/1000 [05:17<01:21,  2.55it/s]"
     ]
    },
    {
     "name": "stdout",
     "output_type": "stream",
     "text": [
      "117.45819091796875\n"
     ]
    },
    {
     "name": "stderr",
     "output_type": "stream",
     "text": [
      "\r",
      " 79%|██████████████████████████████████████████████████████████████▌                | 792/1000 [05:17<01:22,  2.51it/s]"
     ]
    },
    {
     "name": "stdout",
     "output_type": "stream",
     "text": [
      "123.692626953125\n"
     ]
    },
    {
     "name": "stderr",
     "output_type": "stream",
     "text": [
      "\r",
      " 79%|██████████████████████████████████████████████████████████████▋                | 793/1000 [05:18<01:21,  2.53it/s]"
     ]
    },
    {
     "name": "stdout",
     "output_type": "stream",
     "text": [
      "121.76703643798828\n"
     ]
    },
    {
     "name": "stderr",
     "output_type": "stream",
     "text": [
      "\r",
      " 79%|██████████████████████████████████████████████████████████████▋                | 794/1000 [05:18<01:21,  2.53it/s]"
     ]
    },
    {
     "name": "stdout",
     "output_type": "stream",
     "text": [
      "117.88562774658203\n"
     ]
    },
    {
     "name": "stderr",
     "output_type": "stream",
     "text": [
      "\r",
      " 80%|██████████████████████████████████████████████████████████████▊                | 795/1000 [05:18<01:19,  2.56it/s]"
     ]
    },
    {
     "name": "stdout",
     "output_type": "stream",
     "text": [
      "119.83673095703125\n"
     ]
    },
    {
     "name": "stderr",
     "output_type": "stream",
     "text": [
      "\r",
      " 80%|██████████████████████████████████████████████████████████████▉                | 796/1000 [05:19<01:19,  2.55it/s]"
     ]
    },
    {
     "name": "stdout",
     "output_type": "stream",
     "text": [
      "115.67578887939453\n"
     ]
    },
    {
     "name": "stderr",
     "output_type": "stream",
     "text": [
      "\r",
      " 80%|██████████████████████████████████████████████████████████████▉                | 797/1000 [05:19<01:18,  2.57it/s]"
     ]
    },
    {
     "name": "stdout",
     "output_type": "stream",
     "text": [
      "123.43746948242188\n"
     ]
    },
    {
     "name": "stderr",
     "output_type": "stream",
     "text": [
      "\r",
      " 80%|███████████████████████████████████████████████████████████████                | 798/1000 [05:19<01:18,  2.58it/s]"
     ]
    },
    {
     "name": "stdout",
     "output_type": "stream",
     "text": [
      "117.65432739257812\n"
     ]
    },
    {
     "name": "stderr",
     "output_type": "stream",
     "text": [
      "\r",
      " 80%|███████████████████████████████████████████████████████████████                | 799/1000 [05:20<01:17,  2.60it/s]"
     ]
    },
    {
     "name": "stdout",
     "output_type": "stream",
     "text": [
      "124.87507629394531\n"
     ]
    },
    {
     "name": "stderr",
     "output_type": "stream",
     "text": [
      "\r",
      " 80%|███████████████████████████████████████████████████████████████▏               | 800/1000 [05:20<01:19,  2.53it/s]"
     ]
    },
    {
     "name": "stdout",
     "output_type": "stream",
     "text": [
      "111.2589340209961\n"
     ]
    },
    {
     "name": "stderr",
     "output_type": "stream",
     "text": [
      "\r",
      " 80%|███████████████████████████████████████████████████████████████▎               | 801/1000 [05:21<01:21,  2.45it/s]"
     ]
    },
    {
     "name": "stdout",
     "output_type": "stream",
     "text": [
      "126.51744842529297\n"
     ]
    },
    {
     "name": "stderr",
     "output_type": "stream",
     "text": [
      "\r",
      " 80%|███████████████████████████████████████████████████████████████▎               | 802/1000 [05:21<01:23,  2.38it/s]"
     ]
    },
    {
     "name": "stdout",
     "output_type": "stream",
     "text": [
      "114.34500885009766\n"
     ]
    },
    {
     "name": "stderr",
     "output_type": "stream",
     "text": [
      "\r",
      " 80%|███████████████████████████████████████████████████████████████▍               | 803/1000 [05:22<01:22,  2.40it/s]"
     ]
    },
    {
     "name": "stdout",
     "output_type": "stream",
     "text": [
      "112.92444610595703\n"
     ]
    },
    {
     "name": "stderr",
     "output_type": "stream",
     "text": [
      "\r",
      " 80%|███████████████████████████████████████████████████████████████▌               | 804/1000 [05:22<01:23,  2.35it/s]"
     ]
    },
    {
     "name": "stdout",
     "output_type": "stream",
     "text": [
      "121.06102752685547\n"
     ]
    },
    {
     "name": "stderr",
     "output_type": "stream",
     "text": [
      "\r",
      " 80%|███████████████████████████████████████████████████████████████▌               | 805/1000 [05:22<01:23,  2.33it/s]"
     ]
    },
    {
     "name": "stdout",
     "output_type": "stream",
     "text": [
      "122.7544174194336\n"
     ]
    },
    {
     "name": "stderr",
     "output_type": "stream",
     "text": [
      "\r",
      " 81%|███████████████████████████████████████████████████████████████▋               | 806/1000 [05:23<01:21,  2.37it/s]"
     ]
    },
    {
     "name": "stdout",
     "output_type": "stream",
     "text": [
      "119.83190155029297\n"
     ]
    },
    {
     "name": "stderr",
     "output_type": "stream",
     "text": [
      "\r",
      " 81%|███████████████████████████████████████████████████████████████▊               | 807/1000 [05:23<01:19,  2.43it/s]"
     ]
    },
    {
     "name": "stdout",
     "output_type": "stream",
     "text": [
      "124.88555145263672\n"
     ]
    },
    {
     "name": "stderr",
     "output_type": "stream",
     "text": [
      "\r",
      " 81%|███████████████████████████████████████████████████████████████▊               | 808/1000 [05:24<01:17,  2.48it/s]"
     ]
    },
    {
     "name": "stdout",
     "output_type": "stream",
     "text": [
      "121.18843078613281\n"
     ]
    },
    {
     "name": "stderr",
     "output_type": "stream",
     "text": [
      "\r",
      " 81%|███████████████████████████████████████████████████████████████▉               | 809/1000 [05:24<01:17,  2.47it/s]"
     ]
    },
    {
     "name": "stdout",
     "output_type": "stream",
     "text": [
      "124.19883728027344\n"
     ]
    },
    {
     "name": "stderr",
     "output_type": "stream",
     "text": [
      "\r",
      " 81%|███████████████████████████████████████████████████████████████▉               | 810/1000 [05:24<01:17,  2.46it/s]"
     ]
    },
    {
     "name": "stdout",
     "output_type": "stream",
     "text": [
      "116.7386474609375\n"
     ]
    },
    {
     "name": "stderr",
     "output_type": "stream",
     "text": [
      "\r",
      " 81%|████████████████████████████████████████████████████████████████               | 811/1000 [05:25<01:16,  2.46it/s]"
     ]
    },
    {
     "name": "stdout",
     "output_type": "stream",
     "text": [
      "114.8227767944336\n"
     ]
    },
    {
     "name": "stderr",
     "output_type": "stream",
     "text": [
      "\r",
      " 81%|████████████████████████████████████████████████████████████████▏              | 812/1000 [05:25<01:15,  2.49it/s]"
     ]
    },
    {
     "name": "stdout",
     "output_type": "stream",
     "text": [
      "125.28234100341797\n"
     ]
    },
    {
     "name": "stderr",
     "output_type": "stream",
     "text": [
      "\r",
      " 81%|████████████████████████████████████████████████████████████████▏              | 813/1000 [05:26<01:14,  2.52it/s]"
     ]
    },
    {
     "name": "stdout",
     "output_type": "stream",
     "text": [
      "124.01564025878906\n"
     ]
    },
    {
     "name": "stderr",
     "output_type": "stream",
     "text": [
      "\r",
      " 81%|████████████████████████████████████████████████████████████████▎              | 814/1000 [05:26<01:13,  2.54it/s]"
     ]
    },
    {
     "name": "stdout",
     "output_type": "stream",
     "text": [
      "116.69468688964844\n"
     ]
    },
    {
     "name": "stderr",
     "output_type": "stream",
     "text": [
      "\r",
      " 82%|████████████████████████████████████████████████████████████████▍              | 815/1000 [05:26<01:14,  2.49it/s]"
     ]
    },
    {
     "name": "stdout",
     "output_type": "stream",
     "text": [
      "115.39634704589844\n"
     ]
    },
    {
     "name": "stderr",
     "output_type": "stream",
     "text": [
      "\r",
      " 82%|████████████████████████████████████████████████████████████████▍              | 816/1000 [05:27<01:13,  2.50it/s]"
     ]
    },
    {
     "name": "stdout",
     "output_type": "stream",
     "text": [
      "111.19610595703125\n"
     ]
    },
    {
     "name": "stderr",
     "output_type": "stream",
     "text": [
      "\r",
      " 82%|████████████████████████████████████████████████████████████████▌              | 817/1000 [05:27<01:12,  2.52it/s]"
     ]
    },
    {
     "name": "stdout",
     "output_type": "stream",
     "text": [
      "117.34474182128906\n",
      "126.71156311035156\n"
     ]
    },
    {
     "name": "stderr",
     "output_type": "stream",
     "text": [
      "\r",
      " 82%|████████████████████████████████████████████████████████████████▌              | 818/1000 [05:28<01:18,  2.32it/s]"
     ]
    },
    {
     "name": "stdout",
     "output_type": "stream",
     "text": [
      "118.16667175292969\n"
     ]
    },
    {
     "name": "stderr",
     "output_type": "stream",
     "text": [
      " 82%|████████████████████████████████████████████████████████████████▊              | 820/1000 [05:29<01:19,  2.27it/s]"
     ]
    },
    {
     "name": "stdout",
     "output_type": "stream",
     "text": [
      "107.87841796875\n"
     ]
    },
    {
     "name": "stderr",
     "output_type": "stream",
     "text": [
      "\r",
      " 82%|████████████████████████████████████████████████████████████████▊              | 821/1000 [05:29<01:18,  2.29it/s]"
     ]
    },
    {
     "name": "stdout",
     "output_type": "stream",
     "text": [
      "119.18287658691406\n"
     ]
    },
    {
     "name": "stderr",
     "output_type": "stream",
     "text": [
      "\r",
      " 82%|████████████████████████████████████████████████████████████████▉              | 822/1000 [05:29<01:14,  2.37it/s]"
     ]
    },
    {
     "name": "stdout",
     "output_type": "stream",
     "text": [
      "113.45354461669922\n"
     ]
    },
    {
     "name": "stderr",
     "output_type": "stream",
     "text": [
      "\r",
      " 82%|█████████████████████████████████████████████████████████████████              | 823/1000 [05:30<01:13,  2.40it/s]"
     ]
    },
    {
     "name": "stdout",
     "output_type": "stream",
     "text": [
      "126.13977813720703\n"
     ]
    },
    {
     "name": "stderr",
     "output_type": "stream",
     "text": [
      "\r",
      " 82%|█████████████████████████████████████████████████████████████████              | 824/1000 [05:30<01:11,  2.45it/s]"
     ]
    },
    {
     "name": "stdout",
     "output_type": "stream",
     "text": [
      "113.80965423583984\n"
     ]
    },
    {
     "name": "stderr",
     "output_type": "stream",
     "text": [
      "\r",
      " 82%|█████████████████████████████████████████████████████████████████▏             | 825/1000 [05:31<01:09,  2.51it/s]"
     ]
    },
    {
     "name": "stdout",
     "output_type": "stream",
     "text": [
      "119.32122802734375\n"
     ]
    },
    {
     "name": "stderr",
     "output_type": "stream",
     "text": [
      "\r",
      " 83%|█████████████████████████████████████████████████████████████████▎             | 826/1000 [05:31<01:11,  2.43it/s]"
     ]
    },
    {
     "name": "stdout",
     "output_type": "stream",
     "text": [
      "129.9755401611328\n"
     ]
    },
    {
     "name": "stderr",
     "output_type": "stream",
     "text": [
      "\r",
      " 83%|█████████████████████████████████████████████████████████████████▎             | 827/1000 [05:31<01:11,  2.43it/s]"
     ]
    },
    {
     "name": "stdout",
     "output_type": "stream",
     "text": [
      "113.36858367919922\n"
     ]
    },
    {
     "name": "stderr",
     "output_type": "stream",
     "text": [
      "\r",
      " 83%|█████████████████████████████████████████████████████████████████▍             | 828/1000 [05:32<01:09,  2.47it/s]"
     ]
    },
    {
     "name": "stdout",
     "output_type": "stream",
     "text": [
      "126.48480224609375\n"
     ]
    },
    {
     "name": "stderr",
     "output_type": "stream",
     "text": [
      "\r",
      " 83%|█████████████████████████████████████████████████████████████████▍             | 829/1000 [05:32<01:08,  2.51it/s]"
     ]
    },
    {
     "name": "stdout",
     "output_type": "stream",
     "text": [
      "122.42811584472656\n"
     ]
    },
    {
     "name": "stderr",
     "output_type": "stream",
     "text": [
      "\r",
      " 83%|█████████████████████████████████████████████████████████████████▌             | 830/1000 [05:33<01:08,  2.50it/s]"
     ]
    },
    {
     "name": "stdout",
     "output_type": "stream",
     "text": [
      "117.15758514404297\n",
      "115.14846801757812\n"
     ]
    },
    {
     "name": "stderr",
     "output_type": "stream",
     "text": [
      " 83%|█████████████████████████████████████████████████████████████████▋             | 832/1000 [05:33<01:08,  2.46it/s]"
     ]
    },
    {
     "name": "stdout",
     "output_type": "stream",
     "text": [
      "123.71269226074219\n"
     ]
    },
    {
     "name": "stderr",
     "output_type": "stream",
     "text": [
      "\r",
      " 83%|█████████████████████████████████████████████████████████████████▊             | 833/1000 [05:34<01:06,  2.51it/s]"
     ]
    },
    {
     "name": "stdout",
     "output_type": "stream",
     "text": [
      "112.9059066772461\n"
     ]
    },
    {
     "name": "stderr",
     "output_type": "stream",
     "text": [
      "\r",
      " 83%|█████████████████████████████████████████████████████████████████▉             | 834/1000 [05:34<01:05,  2.54it/s]"
     ]
    },
    {
     "name": "stdout",
     "output_type": "stream",
     "text": [
      "124.23668670654297\n"
     ]
    },
    {
     "name": "stderr",
     "output_type": "stream",
     "text": [
      "\r",
      " 84%|█████████████████████████████████████████████████████████████████▉             | 835/1000 [05:35<01:04,  2.56it/s]"
     ]
    },
    {
     "name": "stdout",
     "output_type": "stream",
     "text": [
      "120.9762191772461\n"
     ]
    },
    {
     "name": "stderr",
     "output_type": "stream",
     "text": [
      "\r",
      " 84%|██████████████████████████████████████████████████████████████████             | 836/1000 [05:35<01:05,  2.52it/s]"
     ]
    },
    {
     "name": "stdout",
     "output_type": "stream",
     "text": [
      "118.3721694946289\n"
     ]
    },
    {
     "name": "stderr",
     "output_type": "stream",
     "text": [
      "\r",
      " 84%|██████████████████████████████████████████████████████████████████             | 837/1000 [05:35<01:04,  2.52it/s]"
     ]
    },
    {
     "name": "stdout",
     "output_type": "stream",
     "text": [
      "130.00558471679688\n"
     ]
    },
    {
     "name": "stderr",
     "output_type": "stream",
     "text": [
      "\r",
      " 84%|██████████████████████████████████████████████████████████████████▏            | 838/1000 [05:36<01:04,  2.52it/s]"
     ]
    },
    {
     "name": "stdout",
     "output_type": "stream",
     "text": [
      "116.36724853515625\n"
     ]
    },
    {
     "name": "stderr",
     "output_type": "stream",
     "text": [
      "\r",
      " 84%|██████████████████████████████████████████████████████████████████▎            | 839/1000 [05:36<01:03,  2.54it/s]"
     ]
    },
    {
     "name": "stdout",
     "output_type": "stream",
     "text": [
      "117.08296966552734\n"
     ]
    },
    {
     "name": "stderr",
     "output_type": "stream",
     "text": [
      "\r",
      " 84%|██████████████████████████████████████████████████████████████████▎            | 840/1000 [05:37<01:02,  2.57it/s]"
     ]
    },
    {
     "name": "stdout",
     "output_type": "stream",
     "text": [
      "114.88971710205078\n"
     ]
    },
    {
     "name": "stderr",
     "output_type": "stream",
     "text": [
      "\r",
      " 84%|██████████████████████████████████████████████████████████████████▍            | 841/1000 [05:37<01:01,  2.57it/s]"
     ]
    },
    {
     "name": "stdout",
     "output_type": "stream",
     "text": [
      "134.86936950683594\n"
     ]
    },
    {
     "name": "stderr",
     "output_type": "stream",
     "text": [
      "\r",
      " 84%|██████████████████████████████████████████████████████████████████▌            | 842/1000 [05:37<01:01,  2.56it/s]"
     ]
    },
    {
     "name": "stdout",
     "output_type": "stream",
     "text": [
      "118.76220703125\n"
     ]
    },
    {
     "name": "stderr",
     "output_type": "stream",
     "text": [
      "\r",
      " 84%|██████████████████████████████████████████████████████████████████▌            | 843/1000 [05:38<01:01,  2.57it/s]"
     ]
    },
    {
     "name": "stdout",
     "output_type": "stream",
     "text": [
      "115.04474639892578\n"
     ]
    },
    {
     "name": "stderr",
     "output_type": "stream",
     "text": [
      "\r",
      " 84%|██████████████████████████████████████████████████████████████████▋            | 844/1000 [05:38<01:01,  2.55it/s]"
     ]
    },
    {
     "name": "stdout",
     "output_type": "stream",
     "text": [
      "120.60603332519531\n"
     ]
    },
    {
     "name": "stderr",
     "output_type": "stream",
     "text": [
      "\r",
      " 84%|██████████████████████████████████████████████████████████████████▊            | 845/1000 [05:39<01:01,  2.53it/s]"
     ]
    },
    {
     "name": "stdout",
     "output_type": "stream",
     "text": [
      "112.17851257324219\n"
     ]
    },
    {
     "name": "stderr",
     "output_type": "stream",
     "text": [
      "\r",
      " 85%|██████████████████████████████████████████████████████████████████▊            | 846/1000 [05:39<01:01,  2.51it/s]"
     ]
    },
    {
     "name": "stdout",
     "output_type": "stream",
     "text": [
      "124.3268814086914\n"
     ]
    },
    {
     "name": "stderr",
     "output_type": "stream",
     "text": [
      "\r",
      " 85%|██████████████████████████████████████████████████████████████████▉            | 847/1000 [05:39<01:00,  2.54it/s]"
     ]
    },
    {
     "name": "stdout",
     "output_type": "stream",
     "text": [
      "111.1363296508789\n"
     ]
    },
    {
     "name": "stderr",
     "output_type": "stream",
     "text": [
      "\r",
      " 85%|██████████████████████████████████████████████████████████████████▉            | 848/1000 [05:40<01:00,  2.52it/s]"
     ]
    },
    {
     "name": "stdout",
     "output_type": "stream",
     "text": [
      "129.775634765625\n"
     ]
    },
    {
     "name": "stderr",
     "output_type": "stream",
     "text": [
      "\r",
      " 85%|███████████████████████████████████████████████████████████████████            | 849/1000 [05:40<00:59,  2.55it/s]"
     ]
    },
    {
     "name": "stdout",
     "output_type": "stream",
     "text": [
      "123.17064666748047\n"
     ]
    },
    {
     "name": "stderr",
     "output_type": "stream",
     "text": [
      "\r",
      " 85%|███████████████████████████████████████████████████████████████████▏           | 850/1000 [05:41<00:58,  2.55it/s]"
     ]
    },
    {
     "name": "stdout",
     "output_type": "stream",
     "text": [
      "120.6474838256836\n"
     ]
    },
    {
     "name": "stderr",
     "output_type": "stream",
     "text": [
      "\r",
      " 85%|███████████████████████████████████████████████████████████████████▏           | 851/1000 [05:41<01:01,  2.43it/s]"
     ]
    },
    {
     "name": "stdout",
     "output_type": "stream",
     "text": [
      "120.1219253540039\n"
     ]
    },
    {
     "name": "stderr",
     "output_type": "stream",
     "text": [
      "\r",
      " 85%|███████████████████████████████████████████████████████████████████▎           | 852/1000 [05:41<01:00,  2.44it/s]"
     ]
    },
    {
     "name": "stdout",
     "output_type": "stream",
     "text": [
      "117.00123596191406\n"
     ]
    },
    {
     "name": "stderr",
     "output_type": "stream",
     "text": [
      "\r",
      " 85%|███████████████████████████████████████████████████████████████████▍           | 853/1000 [05:42<00:59,  2.47it/s]"
     ]
    },
    {
     "name": "stdout",
     "output_type": "stream",
     "text": [
      "118.71205139160156\n"
     ]
    },
    {
     "name": "stderr",
     "output_type": "stream",
     "text": [
      "\r",
      " 85%|███████████████████████████████████████████████████████████████████▍           | 854/1000 [05:42<00:58,  2.50it/s]"
     ]
    },
    {
     "name": "stdout",
     "output_type": "stream",
     "text": [
      "119.6658706665039\n"
     ]
    },
    {
     "name": "stderr",
     "output_type": "stream",
     "text": [
      "\r",
      " 86%|███████████████████████████████████████████████████████████████████▌           | 855/1000 [05:43<00:57,  2.52it/s]"
     ]
    },
    {
     "name": "stdout",
     "output_type": "stream",
     "text": [
      "115.0926284790039\n"
     ]
    },
    {
     "name": "stderr",
     "output_type": "stream",
     "text": [
      "\r",
      " 86%|███████████████████████████████████████████████████████████████████▌           | 856/1000 [05:43<00:57,  2.51it/s]"
     ]
    },
    {
     "name": "stdout",
     "output_type": "stream",
     "text": [
      "115.92892456054688\n"
     ]
    },
    {
     "name": "stderr",
     "output_type": "stream",
     "text": [
      "\r",
      " 86%|███████████████████████████████████████████████████████████████████▋           | 857/1000 [05:43<00:56,  2.54it/s]"
     ]
    },
    {
     "name": "stdout",
     "output_type": "stream",
     "text": [
      "116.57801818847656\n"
     ]
    },
    {
     "name": "stderr",
     "output_type": "stream",
     "text": [
      "\r",
      " 86%|███████████████████████████████████████████████████████████████████▊           | 858/1000 [05:44<00:55,  2.56it/s]"
     ]
    },
    {
     "name": "stdout",
     "output_type": "stream",
     "text": [
      "131.76223754882812\n"
     ]
    },
    {
     "name": "stderr",
     "output_type": "stream",
     "text": [
      "\r",
      " 86%|███████████████████████████████████████████████████████████████████▊           | 859/1000 [05:44<00:56,  2.49it/s]"
     ]
    },
    {
     "name": "stdout",
     "output_type": "stream",
     "text": [
      "124.71910095214844\n"
     ]
    },
    {
     "name": "stderr",
     "output_type": "stream",
     "text": [
      "\r",
      " 86%|███████████████████████████████████████████████████████████████████▉           | 860/1000 [05:45<00:55,  2.51it/s]"
     ]
    },
    {
     "name": "stdout",
     "output_type": "stream",
     "text": [
      "121.44515991210938\n"
     ]
    },
    {
     "name": "stderr",
     "output_type": "stream",
     "text": [
      "\r",
      " 86%|████████████████████████████████████████████████████████████████████           | 861/1000 [05:45<00:54,  2.53it/s]"
     ]
    },
    {
     "name": "stdout",
     "output_type": "stream",
     "text": [
      "121.01103210449219\n"
     ]
    },
    {
     "name": "stderr",
     "output_type": "stream",
     "text": [
      "\r",
      " 86%|████████████████████████████████████████████████████████████████████           | 862/1000 [05:45<00:54,  2.55it/s]"
     ]
    },
    {
     "name": "stdout",
     "output_type": "stream",
     "text": [
      "118.72301483154297\n"
     ]
    },
    {
     "name": "stderr",
     "output_type": "stream",
     "text": [
      "\r",
      " 86%|████████████████████████████████████████████████████████████████████▏          | 863/1000 [05:46<00:53,  2.54it/s]"
     ]
    },
    {
     "name": "stdout",
     "output_type": "stream",
     "text": [
      "117.85789489746094\n"
     ]
    },
    {
     "name": "stderr",
     "output_type": "stream",
     "text": [
      "\r",
      " 86%|████████████████████████████████████████████████████████████████████▎          | 864/1000 [05:46<00:53,  2.55it/s]"
     ]
    },
    {
     "name": "stdout",
     "output_type": "stream",
     "text": [
      "122.04633331298828\n"
     ]
    },
    {
     "name": "stderr",
     "output_type": "stream",
     "text": [
      "\r",
      " 86%|████████████████████████████████████████████████████████████████████▎          | 865/1000 [05:46<00:53,  2.53it/s]"
     ]
    },
    {
     "name": "stdout",
     "output_type": "stream",
     "text": [
      "120.16169738769531\n"
     ]
    },
    {
     "name": "stderr",
     "output_type": "stream",
     "text": [
      "\r",
      " 87%|████████████████████████████████████████████████████████████████████▍          | 866/1000 [05:47<00:53,  2.52it/s]"
     ]
    },
    {
     "name": "stdout",
     "output_type": "stream",
     "text": [
      "116.17444610595703\n"
     ]
    },
    {
     "name": "stderr",
     "output_type": "stream",
     "text": [
      "\r",
      " 87%|████████████████████████████████████████████████████████████████████▍          | 867/1000 [05:47<00:53,  2.47it/s]"
     ]
    },
    {
     "name": "stdout",
     "output_type": "stream",
     "text": [
      "130.573486328125\n"
     ]
    },
    {
     "name": "stderr",
     "output_type": "stream",
     "text": [
      "\r",
      " 87%|████████████████████████████████████████████████████████████████████▌          | 868/1000 [05:48<00:53,  2.47it/s]"
     ]
    },
    {
     "name": "stdout",
     "output_type": "stream",
     "text": [
      "118.3474349975586\n"
     ]
    },
    {
     "name": "stderr",
     "output_type": "stream",
     "text": [
      "\r",
      " 87%|████████████████████████████████████████████████████████████████████▋          | 869/1000 [05:48<00:52,  2.49it/s]"
     ]
    },
    {
     "name": "stdout",
     "output_type": "stream",
     "text": [
      "127.82339477539062\n"
     ]
    },
    {
     "name": "stderr",
     "output_type": "stream",
     "text": [
      "\r",
      " 87%|████████████████████████████████████████████████████████████████████▋          | 870/1000 [05:48<00:51,  2.51it/s]"
     ]
    },
    {
     "name": "stdout",
     "output_type": "stream",
     "text": [
      "114.45466613769531\n"
     ]
    },
    {
     "name": "stderr",
     "output_type": "stream",
     "text": [
      "\r",
      " 87%|████████████████████████████████████████████████████████████████████▊          | 871/1000 [05:49<00:51,  2.53it/s]"
     ]
    },
    {
     "name": "stdout",
     "output_type": "stream",
     "text": [
      "118.44384765625\n"
     ]
    },
    {
     "name": "stderr",
     "output_type": "stream",
     "text": [
      "\r",
      " 87%|████████████████████████████████████████████████████████████████████▉          | 872/1000 [05:49<00:50,  2.54it/s]"
     ]
    },
    {
     "name": "stdout",
     "output_type": "stream",
     "text": [
      "120.04192352294922\n"
     ]
    },
    {
     "name": "stderr",
     "output_type": "stream",
     "text": [
      "\r",
      " 87%|████████████████████████████████████████████████████████████████████▉          | 873/1000 [05:50<00:49,  2.58it/s]"
     ]
    },
    {
     "name": "stdout",
     "output_type": "stream",
     "text": [
      "121.74583435058594\n"
     ]
    },
    {
     "name": "stderr",
     "output_type": "stream",
     "text": [
      "\r",
      " 87%|█████████████████████████████████████████████████████████████████████          | 874/1000 [05:50<00:49,  2.56it/s]"
     ]
    },
    {
     "name": "stdout",
     "output_type": "stream",
     "text": [
      "120.19745635986328\n"
     ]
    },
    {
     "name": "stderr",
     "output_type": "stream",
     "text": [
      "\r",
      " 88%|█████████████████████████████████████████████████████████████████████▏         | 875/1000 [05:50<00:48,  2.56it/s]"
     ]
    },
    {
     "name": "stdout",
     "output_type": "stream",
     "text": [
      "125.01061248779297\n"
     ]
    },
    {
     "name": "stderr",
     "output_type": "stream",
     "text": [
      "\r",
      " 88%|█████████████████████████████████████████████████████████████████████▏         | 876/1000 [05:51<00:48,  2.53it/s]"
     ]
    },
    {
     "name": "stdout",
     "output_type": "stream",
     "text": [
      "115.24822235107422\n"
     ]
    },
    {
     "name": "stderr",
     "output_type": "stream",
     "text": [
      "\r",
      " 88%|█████████████████████████████████████████████████████████████████████▎         | 877/1000 [05:51<00:49,  2.47it/s]"
     ]
    },
    {
     "name": "stdout",
     "output_type": "stream",
     "text": [
      "119.4587173461914\n"
     ]
    },
    {
     "name": "stderr",
     "output_type": "stream",
     "text": [
      "\r",
      " 88%|█████████████████████████████████████████████████████████████████████▎         | 878/1000 [05:52<00:49,  2.48it/s]"
     ]
    },
    {
     "name": "stdout",
     "output_type": "stream",
     "text": [
      "112.3666763305664\n"
     ]
    },
    {
     "name": "stderr",
     "output_type": "stream",
     "text": [
      "\r",
      " 88%|█████████████████████████████████████████████████████████████████████▍         | 879/1000 [05:52<00:49,  2.47it/s]"
     ]
    },
    {
     "name": "stdout",
     "output_type": "stream",
     "text": [
      "114.58052825927734\n"
     ]
    },
    {
     "name": "stderr",
     "output_type": "stream",
     "text": [
      "\r",
      " 88%|█████████████████████████████████████████████████████████████████████▌         | 880/1000 [05:52<00:48,  2.47it/s]"
     ]
    },
    {
     "name": "stdout",
     "output_type": "stream",
     "text": [
      "120.03958892822266\n"
     ]
    },
    {
     "name": "stderr",
     "output_type": "stream",
     "text": [
      "\r",
      " 88%|█████████████████████████████████████████████████████████████████████▌         | 881/1000 [05:53<00:48,  2.46it/s]"
     ]
    },
    {
     "name": "stdout",
     "output_type": "stream",
     "text": [
      "115.56039428710938\n"
     ]
    },
    {
     "name": "stderr",
     "output_type": "stream",
     "text": [
      "\r",
      " 88%|█████████████████████████████████████████████████████████████████████▋         | 882/1000 [05:53<00:48,  2.46it/s]"
     ]
    },
    {
     "name": "stdout",
     "output_type": "stream",
     "text": [
      "115.33646392822266\n"
     ]
    },
    {
     "name": "stderr",
     "output_type": "stream",
     "text": [
      "\r",
      " 88%|█████████████████████████████████████████████████████████████████████▊         | 883/1000 [05:54<00:47,  2.49it/s]"
     ]
    },
    {
     "name": "stdout",
     "output_type": "stream",
     "text": [
      "122.83275604248047\n"
     ]
    },
    {
     "name": "stderr",
     "output_type": "stream",
     "text": [
      "\r",
      " 88%|█████████████████████████████████████████████████████████████████████▊         | 884/1000 [05:54<00:46,  2.51it/s]"
     ]
    },
    {
     "name": "stdout",
     "output_type": "stream",
     "text": [
      "119.93221282958984\n"
     ]
    },
    {
     "name": "stderr",
     "output_type": "stream",
     "text": [
      "\r",
      " 88%|█████████████████████████████████████████████████████████████████████▉         | 885/1000 [05:54<00:45,  2.55it/s]"
     ]
    },
    {
     "name": "stdout",
     "output_type": "stream",
     "text": [
      "121.58921813964844\n"
     ]
    },
    {
     "name": "stderr",
     "output_type": "stream",
     "text": [
      "\r",
      " 89%|█████████████████████████████████████████████████████████████████████▉         | 886/1000 [05:55<00:45,  2.53it/s]"
     ]
    },
    {
     "name": "stdout",
     "output_type": "stream",
     "text": [
      "116.06754302978516\n"
     ]
    },
    {
     "name": "stderr",
     "output_type": "stream",
     "text": [
      "\r",
      " 89%|██████████████████████████████████████████████████████████████████████         | 887/1000 [05:55<00:44,  2.56it/s]"
     ]
    },
    {
     "name": "stdout",
     "output_type": "stream",
     "text": [
      "117.80460357666016\n"
     ]
    },
    {
     "name": "stderr",
     "output_type": "stream",
     "text": [
      "\r",
      " 89%|██████████████████████████████████████████████████████████████████████▏        | 888/1000 [05:56<00:43,  2.58it/s]"
     ]
    },
    {
     "name": "stdout",
     "output_type": "stream",
     "text": [
      "120.55399322509766\n"
     ]
    },
    {
     "name": "stderr",
     "output_type": "stream",
     "text": [
      "\r",
      " 89%|██████████████████████████████████████████████████████████████████████▏        | 889/1000 [05:56<00:43,  2.53it/s]"
     ]
    },
    {
     "name": "stdout",
     "output_type": "stream",
     "text": [
      "118.2992172241211\n"
     ]
    },
    {
     "name": "stderr",
     "output_type": "stream",
     "text": [
      "\r",
      " 89%|██████████████████████████████████████████████████████████████████████▎        | 890/1000 [05:56<00:43,  2.54it/s]"
     ]
    },
    {
     "name": "stdout",
     "output_type": "stream",
     "text": [
      "113.91009521484375\n"
     ]
    },
    {
     "name": "stderr",
     "output_type": "stream",
     "text": [
      "\r",
      " 89%|██████████████████████████████████████████████████████████████████████▍        | 891/1000 [05:57<00:43,  2.52it/s]"
     ]
    },
    {
     "name": "stdout",
     "output_type": "stream",
     "text": [
      "123.62276458740234\n"
     ]
    },
    {
     "name": "stderr",
     "output_type": "stream",
     "text": [
      "\r",
      " 89%|██████████████████████████████████████████████████████████████████████▍        | 892/1000 [05:57<00:42,  2.53it/s]"
     ]
    },
    {
     "name": "stdout",
     "output_type": "stream",
     "text": [
      "126.57439422607422\n"
     ]
    },
    {
     "name": "stderr",
     "output_type": "stream",
     "text": [
      "\r",
      " 89%|██████████████████████████████████████████████████████████████████████▌        | 893/1000 [05:58<00:42,  2.54it/s]"
     ]
    },
    {
     "name": "stdout",
     "output_type": "stream",
     "text": [
      "122.6729736328125\n"
     ]
    },
    {
     "name": "stderr",
     "output_type": "stream",
     "text": [
      "\r",
      " 89%|██████████████████████████████████████████████████████████████████████▋        | 894/1000 [05:58<00:42,  2.51it/s]"
     ]
    },
    {
     "name": "stdout",
     "output_type": "stream",
     "text": [
      "120.37226867675781\n"
     ]
    },
    {
     "name": "stderr",
     "output_type": "stream",
     "text": [
      "\r",
      " 90%|██████████████████████████████████████████████████████████████████████▋        | 895/1000 [05:58<00:41,  2.55it/s]"
     ]
    },
    {
     "name": "stdout",
     "output_type": "stream",
     "text": [
      "114.6521224975586\n"
     ]
    },
    {
     "name": "stderr",
     "output_type": "stream",
     "text": [
      "\r",
      " 90%|██████████████████████████████████████████████████████████████████████▊        | 896/1000 [05:59<00:40,  2.54it/s]"
     ]
    },
    {
     "name": "stdout",
     "output_type": "stream",
     "text": [
      "121.18824005126953\n"
     ]
    },
    {
     "name": "stderr",
     "output_type": "stream",
     "text": [
      "\r",
      " 90%|██████████████████████████████████████████████████████████████████████▊        | 897/1000 [05:59<00:40,  2.55it/s]"
     ]
    },
    {
     "name": "stdout",
     "output_type": "stream",
     "text": [
      "111.93761444091797\n"
     ]
    },
    {
     "name": "stderr",
     "output_type": "stream",
     "text": [
      "\r",
      " 90%|██████████████████████████████████████████████████████████████████████▉        | 898/1000 [06:00<00:39,  2.58it/s]"
     ]
    },
    {
     "name": "stdout",
     "output_type": "stream",
     "text": [
      "110.25277709960938\n"
     ]
    },
    {
     "name": "stderr",
     "output_type": "stream",
     "text": [
      "\r",
      " 90%|███████████████████████████████████████████████████████████████████████        | 899/1000 [06:00<00:38,  2.59it/s]"
     ]
    },
    {
     "name": "stdout",
     "output_type": "stream",
     "text": [
      "122.94147491455078\n"
     ]
    },
    {
     "name": "stderr",
     "output_type": "stream",
     "text": [
      "\r",
      " 90%|███████████████████████████████████████████████████████████████████████        | 900/1000 [06:00<00:38,  2.59it/s]"
     ]
    },
    {
     "name": "stdout",
     "output_type": "stream",
     "text": [
      "124.99720001220703\n"
     ]
    },
    {
     "name": "stderr",
     "output_type": "stream",
     "text": [
      "\r",
      " 90%|███████████████████████████████████████████████████████████████████████▏       | 901/1000 [06:01<00:38,  2.58it/s]"
     ]
    },
    {
     "name": "stdout",
     "output_type": "stream",
     "text": [
      "119.95264434814453\n"
     ]
    },
    {
     "name": "stderr",
     "output_type": "stream",
     "text": [
      "\r",
      " 90%|███████████████████████████████████████████████████████████████████████▎       | 902/1000 [06:01<00:38,  2.57it/s]"
     ]
    },
    {
     "name": "stdout",
     "output_type": "stream",
     "text": [
      "122.95321655273438\n"
     ]
    },
    {
     "name": "stderr",
     "output_type": "stream",
     "text": [
      "\r",
      " 90%|███████████████████████████████████████████████████████████████████████▎       | 903/1000 [06:02<00:37,  2.55it/s]"
     ]
    },
    {
     "name": "stdout",
     "output_type": "stream",
     "text": [
      "112.64366912841797\n"
     ]
    },
    {
     "name": "stderr",
     "output_type": "stream",
     "text": [
      "\r",
      " 90%|███████████████████████████████████████████████████████████████████████▍       | 904/1000 [06:02<00:37,  2.55it/s]"
     ]
    },
    {
     "name": "stdout",
     "output_type": "stream",
     "text": [
      "115.7603988647461\n"
     ]
    },
    {
     "name": "stderr",
     "output_type": "stream",
     "text": [
      "\r",
      " 90%|███████████████████████████████████████████████████████████████████████▍       | 905/1000 [06:02<00:37,  2.55it/s]"
     ]
    },
    {
     "name": "stdout",
     "output_type": "stream",
     "text": [
      "117.92671203613281\n"
     ]
    },
    {
     "name": "stderr",
     "output_type": "stream",
     "text": [
      "\r",
      " 91%|███████████████████████████████████████████████████████████████████████▌       | 906/1000 [06:03<00:37,  2.49it/s]"
     ]
    },
    {
     "name": "stdout",
     "output_type": "stream",
     "text": [
      "111.61103057861328\n"
     ]
    },
    {
     "name": "stderr",
     "output_type": "stream",
     "text": [
      "\r",
      " 91%|███████████████████████████████████████████████████████████████████████▋       | 907/1000 [06:03<00:37,  2.46it/s]"
     ]
    },
    {
     "name": "stdout",
     "output_type": "stream",
     "text": [
      "122.5691146850586\n"
     ]
    },
    {
     "name": "stderr",
     "output_type": "stream",
     "text": [
      "\r",
      " 91%|███████████████████████████████████████████████████████████████████████▋       | 908/1000 [06:04<00:36,  2.51it/s]"
     ]
    },
    {
     "name": "stdout",
     "output_type": "stream",
     "text": [
      "117.78438568115234\n"
     ]
    },
    {
     "name": "stderr",
     "output_type": "stream",
     "text": [
      "\r",
      " 91%|███████████████████████████████████████████████████████████████████████▊       | 909/1000 [06:04<00:36,  2.52it/s]"
     ]
    },
    {
     "name": "stdout",
     "output_type": "stream",
     "text": [
      "115.7706527709961\n"
     ]
    },
    {
     "name": "stderr",
     "output_type": "stream",
     "text": [
      "\r",
      " 91%|███████████████████████████████████████████████████████████████████████▉       | 910/1000 [06:04<00:35,  2.53it/s]"
     ]
    },
    {
     "name": "stdout",
     "output_type": "stream",
     "text": [
      "111.60120391845703\n"
     ]
    },
    {
     "name": "stderr",
     "output_type": "stream",
     "text": [
      "\r",
      " 91%|███████████████████████████████████████████████████████████████████████▉       | 911/1000 [06:05<00:35,  2.54it/s]"
     ]
    },
    {
     "name": "stdout",
     "output_type": "stream",
     "text": [
      "119.36153411865234\n"
     ]
    },
    {
     "name": "stderr",
     "output_type": "stream",
     "text": [
      "\r",
      " 91%|████████████████████████████████████████████████████████████████████████       | 912/1000 [06:05<00:35,  2.51it/s]"
     ]
    },
    {
     "name": "stdout",
     "output_type": "stream",
     "text": [
      "118.08966827392578\n"
     ]
    },
    {
     "name": "stderr",
     "output_type": "stream",
     "text": [
      "\r",
      " 91%|████████████████████████████████████████████████████████████████████████▏      | 913/1000 [06:05<00:34,  2.54it/s]"
     ]
    },
    {
     "name": "stdout",
     "output_type": "stream",
     "text": [
      "118.08428955078125\n"
     ]
    },
    {
     "name": "stderr",
     "output_type": "stream",
     "text": [
      "\r",
      " 91%|████████████████████████████████████████████████████████████████████████▏      | 914/1000 [06:06<00:33,  2.55it/s]"
     ]
    },
    {
     "name": "stdout",
     "output_type": "stream",
     "text": [
      "118.60590362548828\n"
     ]
    },
    {
     "name": "stderr",
     "output_type": "stream",
     "text": [
      "\r",
      " 92%|████████████████████████████████████████████████████████████████████████▎      | 915/1000 [06:06<00:33,  2.57it/s]"
     ]
    },
    {
     "name": "stdout",
     "output_type": "stream",
     "text": [
      "110.939697265625\n"
     ]
    },
    {
     "name": "stderr",
     "output_type": "stream",
     "text": [
      "\r",
      " 92%|████████████████████████████████████████████████████████████████████████▎      | 916/1000 [06:07<00:33,  2.54it/s]"
     ]
    },
    {
     "name": "stdout",
     "output_type": "stream",
     "text": [
      "133.40391540527344\n"
     ]
    },
    {
     "name": "stderr",
     "output_type": "stream",
     "text": [
      "\r",
      " 92%|████████████████████████████████████████████████████████████████████████▍      | 917/1000 [06:07<00:32,  2.55it/s]"
     ]
    },
    {
     "name": "stdout",
     "output_type": "stream",
     "text": [
      "125.05479431152344\n"
     ]
    },
    {
     "name": "stderr",
     "output_type": "stream",
     "text": [
      "\r",
      " 92%|████████████████████████████████████████████████████████████████████████▌      | 918/1000 [06:07<00:32,  2.52it/s]"
     ]
    },
    {
     "name": "stdout",
     "output_type": "stream",
     "text": [
      "115.55530548095703\n"
     ]
    },
    {
     "name": "stderr",
     "output_type": "stream",
     "text": [
      "\r",
      " 92%|████████████████████████████████████████████████████████████████████████▌      | 919/1000 [06:08<00:32,  2.51it/s]"
     ]
    },
    {
     "name": "stdout",
     "output_type": "stream",
     "text": [
      "117.77183532714844\n"
     ]
    },
    {
     "name": "stderr",
     "output_type": "stream",
     "text": [
      "\r",
      " 92%|████████████████████████████████████████████████████████████████████████▋      | 920/1000 [06:08<00:31,  2.51it/s]"
     ]
    },
    {
     "name": "stdout",
     "output_type": "stream",
     "text": [
      "127.35157012939453\n"
     ]
    },
    {
     "name": "stderr",
     "output_type": "stream",
     "text": [
      "\r",
      " 92%|████████████████████████████████████████████████████████████████████████▊      | 921/1000 [06:09<00:31,  2.54it/s]"
     ]
    },
    {
     "name": "stdout",
     "output_type": "stream",
     "text": [
      "120.7704849243164\n"
     ]
    },
    {
     "name": "stderr",
     "output_type": "stream",
     "text": [
      "\r",
      " 92%|████████████████████████████████████████████████████████████████████████▊      | 922/1000 [06:09<00:31,  2.47it/s]"
     ]
    },
    {
     "name": "stdout",
     "output_type": "stream",
     "text": [
      "116.63439178466797\n"
     ]
    },
    {
     "name": "stderr",
     "output_type": "stream",
     "text": [
      "\r",
      " 92%|████████████████████████████████████████████████████████████████████████▉      | 923/1000 [06:09<00:31,  2.47it/s]"
     ]
    },
    {
     "name": "stdout",
     "output_type": "stream",
     "text": [
      "118.17037200927734\n"
     ]
    },
    {
     "name": "stderr",
     "output_type": "stream",
     "text": [
      "\r",
      " 92%|████████████████████████████████████████████████████████████████████████▉      | 924/1000 [06:10<00:30,  2.48it/s]"
     ]
    },
    {
     "name": "stdout",
     "output_type": "stream",
     "text": [
      "113.10768127441406\n"
     ]
    },
    {
     "name": "stderr",
     "output_type": "stream",
     "text": [
      "\r",
      " 92%|█████████████████████████████████████████████████████████████████████████      | 925/1000 [06:10<00:30,  2.50it/s]"
     ]
    },
    {
     "name": "stdout",
     "output_type": "stream",
     "text": [
      "114.97158813476562\n"
     ]
    },
    {
     "name": "stderr",
     "output_type": "stream",
     "text": [
      "\r",
      " 93%|█████████████████████████████████████████████████████████████████████████▏     | 926/1000 [06:11<00:29,  2.50it/s]"
     ]
    },
    {
     "name": "stdout",
     "output_type": "stream",
     "text": [
      "120.24848937988281\n",
      "120.78779602050781\n"
     ]
    },
    {
     "name": "stderr",
     "output_type": "stream",
     "text": [
      " 93%|█████████████████████████████████████████████████████████████████████████▎     | 928/1000 [06:11<00:29,  2.48it/s]"
     ]
    },
    {
     "name": "stdout",
     "output_type": "stream",
     "text": [
      "115.65467834472656\n"
     ]
    },
    {
     "name": "stderr",
     "output_type": "stream",
     "text": [
      "\r",
      " 93%|█████████████████████████████████████████████████████████████████████████▍     | 929/1000 [06:12<00:28,  2.51it/s]"
     ]
    },
    {
     "name": "stdout",
     "output_type": "stream",
     "text": [
      "134.339111328125\n"
     ]
    },
    {
     "name": "stderr",
     "output_type": "stream",
     "text": [
      "\r",
      " 93%|█████████████████████████████████████████████████████████████████████████▍     | 930/1000 [06:12<00:27,  2.53it/s]"
     ]
    },
    {
     "name": "stdout",
     "output_type": "stream",
     "text": [
      "121.46258544921875\n"
     ]
    },
    {
     "name": "stderr",
     "output_type": "stream",
     "text": [
      "\r",
      " 93%|█████████████████████████████████████████████████████████████████████████▌     | 931/1000 [06:13<00:27,  2.55it/s]"
     ]
    },
    {
     "name": "stdout",
     "output_type": "stream",
     "text": [
      "119.29226684570312\n"
     ]
    },
    {
     "name": "stderr",
     "output_type": "stream",
     "text": [
      "\r",
      " 93%|█████████████████████████████████████████████████████████████████████████▋     | 932/1000 [06:13<00:26,  2.54it/s]"
     ]
    },
    {
     "name": "stdout",
     "output_type": "stream",
     "text": [
      "117.43614959716797\n"
     ]
    },
    {
     "name": "stderr",
     "output_type": "stream",
     "text": [
      "\r",
      " 93%|█████████████████████████████████████████████████████████████████████████▋     | 933/1000 [06:13<00:26,  2.52it/s]"
     ]
    },
    {
     "name": "stdout",
     "output_type": "stream",
     "text": [
      "130.21218872070312\n"
     ]
    },
    {
     "name": "stderr",
     "output_type": "stream",
     "text": [
      "\r",
      " 93%|█████████████████████████████████████████████████████████████████████████▊     | 934/1000 [06:14<00:25,  2.56it/s]"
     ]
    },
    {
     "name": "stdout",
     "output_type": "stream",
     "text": [
      "114.37308502197266\n"
     ]
    },
    {
     "name": "stderr",
     "output_type": "stream",
     "text": [
      "\r",
      " 94%|█████████████████████████████████████████████████████████████████████████▊     | 935/1000 [06:14<00:25,  2.52it/s]"
     ]
    },
    {
     "name": "stdout",
     "output_type": "stream",
     "text": [
      "116.50794219970703\n"
     ]
    },
    {
     "name": "stderr",
     "output_type": "stream",
     "text": [
      "\r",
      " 94%|█████████████████████████████████████████████████████████████████████████▉     | 936/1000 [06:15<00:25,  2.55it/s]"
     ]
    },
    {
     "name": "stdout",
     "output_type": "stream",
     "text": [
      "113.7449722290039\n"
     ]
    },
    {
     "name": "stderr",
     "output_type": "stream",
     "text": [
      "\r",
      " 94%|██████████████████████████████████████████████████████████████████████████     | 937/1000 [06:15<00:24,  2.55it/s]"
     ]
    },
    {
     "name": "stdout",
     "output_type": "stream",
     "text": [
      "118.51950073242188\n"
     ]
    },
    {
     "name": "stderr",
     "output_type": "stream",
     "text": [
      "\r",
      " 94%|██████████████████████████████████████████████████████████████████████████     | 938/1000 [06:15<00:24,  2.56it/s]"
     ]
    },
    {
     "name": "stdout",
     "output_type": "stream",
     "text": [
      "115.54004669189453\n"
     ]
    },
    {
     "name": "stderr",
     "output_type": "stream",
     "text": [
      "\r",
      " 94%|██████████████████████████████████████████████████████████████████████████▏    | 939/1000 [06:16<00:23,  2.57it/s]"
     ]
    },
    {
     "name": "stdout",
     "output_type": "stream",
     "text": [
      "118.42243957519531\n"
     ]
    },
    {
     "name": "stderr",
     "output_type": "stream",
     "text": [
      "\r",
      " 94%|██████████████████████████████████████████████████████████████████████████▎    | 940/1000 [06:16<00:23,  2.56it/s]"
     ]
    },
    {
     "name": "stdout",
     "output_type": "stream",
     "text": [
      "107.54834747314453\n"
     ]
    },
    {
     "name": "stderr",
     "output_type": "stream",
     "text": [
      "\r",
      " 94%|██████████████████████████████████████████████████████████████████████████▎    | 941/1000 [06:17<00:23,  2.53it/s]"
     ]
    },
    {
     "name": "stdout",
     "output_type": "stream",
     "text": [
      "116.78935241699219\n"
     ]
    },
    {
     "name": "stderr",
     "output_type": "stream",
     "text": [
      "\r",
      " 94%|██████████████████████████████████████████████████████████████████████████▍    | 942/1000 [06:17<00:23,  2.50it/s]"
     ]
    },
    {
     "name": "stdout",
     "output_type": "stream",
     "text": [
      "114.81896209716797\n"
     ]
    },
    {
     "name": "stderr",
     "output_type": "stream",
     "text": [
      "\r",
      " 94%|██████████████████████████████████████████████████████████████████████████▍    | 943/1000 [06:17<00:22,  2.51it/s]"
     ]
    },
    {
     "name": "stdout",
     "output_type": "stream",
     "text": [
      "123.32381439208984\n"
     ]
    },
    {
     "name": "stderr",
     "output_type": "stream",
     "text": [
      "\r",
      " 94%|██████████████████████████████████████████████████████████████████████████▌    | 944/1000 [06:18<00:22,  2.54it/s]"
     ]
    },
    {
     "name": "stdout",
     "output_type": "stream",
     "text": [
      "118.28545379638672\n"
     ]
    },
    {
     "name": "stderr",
     "output_type": "stream",
     "text": [
      "\r",
      " 94%|██████████████████████████████████████████████████████████████████████████▋    | 945/1000 [06:18<00:21,  2.55it/s]"
     ]
    },
    {
     "name": "stdout",
     "output_type": "stream",
     "text": [
      "117.00897979736328\n"
     ]
    },
    {
     "name": "stderr",
     "output_type": "stream",
     "text": [
      "\r",
      " 95%|██████████████████████████████████████████████████████████████████████████▋    | 946/1000 [06:19<00:21,  2.54it/s]"
     ]
    },
    {
     "name": "stdout",
     "output_type": "stream",
     "text": [
      "121.28990936279297\n",
      "114.67433166503906\n"
     ]
    },
    {
     "name": "stderr",
     "output_type": "stream",
     "text": [
      "\r",
      " 95%|██████████████████████████████████████████████████████████████████████████▊    | 947/1000 [06:19<00:21,  2.43it/s]"
     ]
    },
    {
     "name": "stdout",
     "output_type": "stream",
     "text": [
      "122.6135025024414\n"
     ]
    },
    {
     "name": "stderr",
     "output_type": "stream",
     "text": [
      "\r",
      " 95%|██████████████████████████████████████████████████████████████████████████▉    | 948/1000 [06:19<00:22,  2.31it/s]"
     ]
    },
    {
     "name": "stdout",
     "output_type": "stream",
     "text": [
      "113.08448791503906\n"
     ]
    },
    {
     "name": "stderr",
     "output_type": "stream",
     "text": [
      "\r",
      " 95%|██████████████████████████████████████████████████████████████████████████▉    | 949/1000 [06:20<00:24,  2.08it/s]"
     ]
    },
    {
     "name": "stdout",
     "output_type": "stream",
     "text": [
      "118.28392791748047\n"
     ]
    },
    {
     "name": "stderr",
     "output_type": "stream",
     "text": [
      " 95%|███████████████████████████████████████████████████████████████████████████▏   | 951/1000 [06:21<00:25,  1.94it/s]"
     ]
    },
    {
     "name": "stdout",
     "output_type": "stream",
     "text": [
      "118.6456069946289\n"
     ]
    },
    {
     "name": "stderr",
     "output_type": "stream",
     "text": [
      "\r",
      " 95%|███████████████████████████████████████████████████████████████████████████▏   | 952/1000 [06:22<00:22,  2.09it/s]"
     ]
    },
    {
     "name": "stdout",
     "output_type": "stream",
     "text": [
      "116.72380828857422\n"
     ]
    },
    {
     "name": "stderr",
     "output_type": "stream",
     "text": [
      "\r",
      " 95%|███████████████████████████████████████████████████████████████████████████▎   | 953/1000 [06:22<00:21,  2.22it/s]"
     ]
    },
    {
     "name": "stdout",
     "output_type": "stream",
     "text": [
      "117.25064849853516\n"
     ]
    },
    {
     "name": "stderr",
     "output_type": "stream",
     "text": [
      "\r",
      " 95%|███████████████████████████████████████████████████████████████████████████▎   | 954/1000 [06:22<00:20,  2.27it/s]"
     ]
    },
    {
     "name": "stdout",
     "output_type": "stream",
     "text": [
      "117.09366607666016\n"
     ]
    },
    {
     "name": "stderr",
     "output_type": "stream",
     "text": [
      "\r",
      " 96%|███████████████████████████████████████████████████████████████████████████▍   | 955/1000 [06:23<00:19,  2.34it/s]"
     ]
    },
    {
     "name": "stdout",
     "output_type": "stream",
     "text": [
      "121.34481811523438\n"
     ]
    },
    {
     "name": "stderr",
     "output_type": "stream",
     "text": [
      "\r",
      " 96%|███████████████████████████████████████████████████████████████████████████▌   | 956/1000 [06:23<00:18,  2.42it/s]"
     ]
    },
    {
     "name": "stdout",
     "output_type": "stream",
     "text": [
      "113.45381927490234\n"
     ]
    },
    {
     "name": "stderr",
     "output_type": "stream",
     "text": [
      "\r",
      " 96%|███████████████████████████████████████████████████████████████████████████▌   | 957/1000 [06:24<00:17,  2.47it/s]"
     ]
    },
    {
     "name": "stdout",
     "output_type": "stream",
     "text": [
      "117.45338439941406\n"
     ]
    },
    {
     "name": "stderr",
     "output_type": "stream",
     "text": [
      "\r",
      " 96%|███████████████████████████████████████████████████████████████████████████▋   | 958/1000 [06:24<00:16,  2.51it/s]"
     ]
    },
    {
     "name": "stdout",
     "output_type": "stream",
     "text": [
      "122.01502990722656\n"
     ]
    },
    {
     "name": "stderr",
     "output_type": "stream",
     "text": [
      "\r",
      " 96%|███████████████████████████████████████████████████████████████████████████▊   | 959/1000 [06:24<00:16,  2.50it/s]"
     ]
    },
    {
     "name": "stdout",
     "output_type": "stream",
     "text": [
      "120.54110717773438\n"
     ]
    },
    {
     "name": "stderr",
     "output_type": "stream",
     "text": [
      "\r",
      " 96%|███████████████████████████████████████████████████████████████████████████▊   | 960/1000 [06:25<00:15,  2.51it/s]"
     ]
    },
    {
     "name": "stdout",
     "output_type": "stream",
     "text": [
      "117.64593505859375\n"
     ]
    },
    {
     "name": "stderr",
     "output_type": "stream",
     "text": [
      "\r",
      " 96%|███████████████████████████████████████████████████████████████████████████▉   | 961/1000 [06:25<00:15,  2.47it/s]"
     ]
    },
    {
     "name": "stdout",
     "output_type": "stream",
     "text": [
      "117.22740173339844\n"
     ]
    },
    {
     "name": "stderr",
     "output_type": "stream",
     "text": [
      "\r",
      " 96%|███████████████████████████████████████████████████████████████████████████▉   | 962/1000 [06:26<00:15,  2.50it/s]"
     ]
    },
    {
     "name": "stdout",
     "output_type": "stream",
     "text": [
      "124.72443389892578\n"
     ]
    },
    {
     "name": "stderr",
     "output_type": "stream",
     "text": [
      "\r",
      " 96%|████████████████████████████████████████████████████████████████████████████   | 963/1000 [06:26<00:14,  2.54it/s]"
     ]
    },
    {
     "name": "stdout",
     "output_type": "stream",
     "text": [
      "119.0862808227539\n"
     ]
    },
    {
     "name": "stderr",
     "output_type": "stream",
     "text": [
      "\r",
      " 96%|████████████████████████████████████████████████████████████████████████████▏  | 964/1000 [06:26<00:14,  2.55it/s]"
     ]
    },
    {
     "name": "stdout",
     "output_type": "stream",
     "text": [
      "120.74346160888672\n"
     ]
    },
    {
     "name": "stderr",
     "output_type": "stream",
     "text": [
      "\r",
      " 96%|████████████████████████████████████████████████████████████████████████████▏  | 965/1000 [06:27<00:13,  2.55it/s]"
     ]
    },
    {
     "name": "stdout",
     "output_type": "stream",
     "text": [
      "122.79917907714844\n"
     ]
    },
    {
     "name": "stderr",
     "output_type": "stream",
     "text": [
      "\r",
      " 97%|████████████████████████████████████████████████████████████████████████████▎  | 966/1000 [06:27<00:13,  2.47it/s]"
     ]
    },
    {
     "name": "stdout",
     "output_type": "stream",
     "text": [
      "116.54812622070312\n"
     ]
    },
    {
     "name": "stderr",
     "output_type": "stream",
     "text": [
      "\r",
      " 97%|████████████████████████████████████████████████████████████████████████████▍  | 967/1000 [06:28<00:13,  2.49it/s]"
     ]
    },
    {
     "name": "stdout",
     "output_type": "stream",
     "text": [
      "125.76461029052734\n"
     ]
    },
    {
     "name": "stderr",
     "output_type": "stream",
     "text": [
      "\r",
      " 97%|████████████████████████████████████████████████████████████████████████████▍  | 968/1000 [06:28<00:12,  2.50it/s]"
     ]
    },
    {
     "name": "stdout",
     "output_type": "stream",
     "text": [
      "114.07061004638672\n"
     ]
    },
    {
     "name": "stderr",
     "output_type": "stream",
     "text": [
      "\r",
      " 97%|████████████████████████████████████████████████████████████████████████████▌  | 969/1000 [06:28<00:12,  2.46it/s]"
     ]
    },
    {
     "name": "stdout",
     "output_type": "stream",
     "text": [
      "112.99075317382812\n"
     ]
    },
    {
     "name": "stderr",
     "output_type": "stream",
     "text": [
      "\r",
      " 97%|████████████████████████████████████████████████████████████████████████████▋  | 970/1000 [06:29<00:11,  2.52it/s]"
     ]
    },
    {
     "name": "stdout",
     "output_type": "stream",
     "text": [
      "126.1559066772461\n"
     ]
    },
    {
     "name": "stderr",
     "output_type": "stream",
     "text": [
      "\r",
      " 97%|████████████████████████████████████████████████████████████████████████████▋  | 971/1000 [06:29<00:11,  2.52it/s]"
     ]
    },
    {
     "name": "stdout",
     "output_type": "stream",
     "text": [
      "115.38134765625\n"
     ]
    },
    {
     "name": "stderr",
     "output_type": "stream",
     "text": [
      "\r",
      " 97%|████████████████████████████████████████████████████████████████████████████▊  | 972/1000 [06:30<00:11,  2.53it/s]"
     ]
    },
    {
     "name": "stdout",
     "output_type": "stream",
     "text": [
      "114.74732971191406\n"
     ]
    },
    {
     "name": "stderr",
     "output_type": "stream",
     "text": [
      "\r",
      " 97%|████████████████████████████████████████████████████████████████████████████▊  | 973/1000 [06:30<00:10,  2.51it/s]"
     ]
    },
    {
     "name": "stdout",
     "output_type": "stream",
     "text": [
      "117.69657135009766\n"
     ]
    },
    {
     "name": "stderr",
     "output_type": "stream",
     "text": [
      "\r",
      " 97%|████████████████████████████████████████████████████████████████████████████▉  | 974/1000 [06:30<00:10,  2.52it/s]"
     ]
    },
    {
     "name": "stdout",
     "output_type": "stream",
     "text": [
      "111.97088623046875\n"
     ]
    },
    {
     "name": "stderr",
     "output_type": "stream",
     "text": [
      "\r",
      " 98%|█████████████████████████████████████████████████████████████████████████████  | 975/1000 [06:31<00:09,  2.53it/s]"
     ]
    },
    {
     "name": "stdout",
     "output_type": "stream",
     "text": [
      "116.31828308105469\n"
     ]
    },
    {
     "name": "stderr",
     "output_type": "stream",
     "text": [
      "\r",
      " 98%|█████████████████████████████████████████████████████████████████████████████  | 976/1000 [06:31<00:09,  2.44it/s]"
     ]
    },
    {
     "name": "stdout",
     "output_type": "stream",
     "text": [
      "113.21205139160156\n"
     ]
    },
    {
     "name": "stderr",
     "output_type": "stream",
     "text": [
      "\r",
      " 98%|█████████████████████████████████████████████████████████████████████████████▏ | 977/1000 [06:32<00:09,  2.46it/s]"
     ]
    },
    {
     "name": "stdout",
     "output_type": "stream",
     "text": [
      "121.37989807128906\n"
     ]
    },
    {
     "name": "stderr",
     "output_type": "stream",
     "text": [
      "\r",
      " 98%|█████████████████████████████████████████████████████████████████████████████▎ | 978/1000 [06:32<00:08,  2.50it/s]"
     ]
    },
    {
     "name": "stdout",
     "output_type": "stream",
     "text": [
      "117.41503143310547\n"
     ]
    },
    {
     "name": "stderr",
     "output_type": "stream",
     "text": [
      "\r",
      " 98%|█████████████████████████████████████████████████████████████████████████████▎ | 979/1000 [06:32<00:08,  2.53it/s]"
     ]
    },
    {
     "name": "stdout",
     "output_type": "stream",
     "text": [
      "126.5233154296875\n"
     ]
    },
    {
     "name": "stderr",
     "output_type": "stream",
     "text": [
      "\r",
      " 98%|█████████████████████████████████████████████████████████████████████████████▍ | 980/1000 [06:33<00:07,  2.56it/s]"
     ]
    },
    {
     "name": "stdout",
     "output_type": "stream",
     "text": [
      "120.56869506835938\n"
     ]
    },
    {
     "name": "stderr",
     "output_type": "stream",
     "text": [
      "\r",
      " 98%|█████████████████████████████████████████████████████████████████████████████▍ | 981/1000 [06:33<00:07,  2.52it/s]"
     ]
    },
    {
     "name": "stdout",
     "output_type": "stream",
     "text": [
      "118.003662109375\n"
     ]
    },
    {
     "name": "stderr",
     "output_type": "stream",
     "text": [
      "\r",
      " 98%|█████████████████████████████████████████████████████████████████████████████▌ | 982/1000 [06:34<00:07,  2.54it/s]"
     ]
    },
    {
     "name": "stdout",
     "output_type": "stream",
     "text": [
      "121.14073181152344\n",
      "119.70427703857422\n"
     ]
    },
    {
     "name": "stderr",
     "output_type": "stream",
     "text": [
      " 98%|█████████████████████████████████████████████████████████████████████████████▋ | 984/1000 [06:34<00:06,  2.37it/s]"
     ]
    },
    {
     "name": "stdout",
     "output_type": "stream",
     "text": [
      "114.41596984863281\n",
      "119.90705871582031\n"
     ]
    },
    {
     "name": "stderr",
     "output_type": "stream",
     "text": [
      " 99%|█████████████████████████████████████████████████████████████████████████████▉ | 986/1000 [06:35<00:06,  2.29it/s]"
     ]
    },
    {
     "name": "stdout",
     "output_type": "stream",
     "text": [
      "116.2044677734375\n"
     ]
    },
    {
     "name": "stderr",
     "output_type": "stream",
     "text": [
      "\r",
      " 99%|█████████████████████████████████████████████████████████████████████████████▉ | 987/1000 [06:36<00:05,  2.38it/s]"
     ]
    },
    {
     "name": "stdout",
     "output_type": "stream",
     "text": [
      "111.78230285644531\n"
     ]
    },
    {
     "name": "stderr",
     "output_type": "stream",
     "text": [
      "\r",
      " 99%|██████████████████████████████████████████████████████████████████████████████ | 988/1000 [06:36<00:04,  2.43it/s]"
     ]
    },
    {
     "name": "stdout",
     "output_type": "stream",
     "text": [
      "122.24347686767578\n"
     ]
    },
    {
     "name": "stderr",
     "output_type": "stream",
     "text": [
      "\r",
      " 99%|██████████████████████████████████████████████████████████████████████████████▏| 989/1000 [06:36<00:04,  2.49it/s]"
     ]
    },
    {
     "name": "stdout",
     "output_type": "stream",
     "text": [
      "110.72879028320312\n"
     ]
    },
    {
     "name": "stderr",
     "output_type": "stream",
     "text": [
      "\r",
      " 99%|██████████████████████████████████████████████████████████████████████████████▏| 990/1000 [06:37<00:03,  2.51it/s]"
     ]
    },
    {
     "name": "stdout",
     "output_type": "stream",
     "text": [
      "121.20081329345703\n"
     ]
    },
    {
     "name": "stderr",
     "output_type": "stream",
     "text": [
      "\r",
      " 99%|██████████████████████████████████████████████████████████████████████████████▎| 991/1000 [06:37<00:03,  2.52it/s]"
     ]
    },
    {
     "name": "stdout",
     "output_type": "stream",
     "text": [
      "123.72245788574219\n"
     ]
    },
    {
     "name": "stderr",
     "output_type": "stream",
     "text": [
      "\r",
      " 99%|██████████████████████████████████████████████████████████████████████████████▎| 992/1000 [06:38<00:03,  2.57it/s]"
     ]
    },
    {
     "name": "stdout",
     "output_type": "stream",
     "text": [
      "115.45309448242188\n"
     ]
    },
    {
     "name": "stderr",
     "output_type": "stream",
     "text": [
      "\r",
      " 99%|██████████████████████████████████████████████████████████████████████████████▍| 993/1000 [06:38<00:02,  2.56it/s]"
     ]
    },
    {
     "name": "stdout",
     "output_type": "stream",
     "text": [
      "119.089599609375\n"
     ]
    },
    {
     "name": "stderr",
     "output_type": "stream",
     "text": [
      "\r",
      " 99%|██████████████████████████████████████████████████████████████████████████████▌| 994/1000 [06:38<00:02,  2.55it/s]"
     ]
    },
    {
     "name": "stdout",
     "output_type": "stream",
     "text": [
      "120.35301971435547\n"
     ]
    },
    {
     "name": "stderr",
     "output_type": "stream",
     "text": [
      "\r",
      "100%|██████████████████████████████████████████████████████████████████████████████▌| 995/1000 [06:39<00:01,  2.55it/s]"
     ]
    },
    {
     "name": "stdout",
     "output_type": "stream",
     "text": [
      "124.51078033447266\n"
     ]
    },
    {
     "name": "stderr",
     "output_type": "stream",
     "text": [
      "\r",
      "100%|██████████████████████████████████████████████████████████████████████████████▋| 996/1000 [06:39<00:01,  2.53it/s]"
     ]
    },
    {
     "name": "stdout",
     "output_type": "stream",
     "text": [
      "121.25489807128906\n"
     ]
    },
    {
     "name": "stderr",
     "output_type": "stream",
     "text": [
      "\r",
      "100%|██████████████████████████████████████████████████████████████████████████████▊| 997/1000 [06:40<00:01,  2.58it/s]"
     ]
    },
    {
     "name": "stdout",
     "output_type": "stream",
     "text": [
      "122.00442504882812\n"
     ]
    },
    {
     "name": "stderr",
     "output_type": "stream",
     "text": [
      "\r",
      "100%|██████████████████████████████████████████████████████████████████████████████▊| 998/1000 [06:40<00:00,  2.56it/s]"
     ]
    },
    {
     "name": "stdout",
     "output_type": "stream",
     "text": [
      "116.02072143554688\n"
     ]
    },
    {
     "name": "stderr",
     "output_type": "stream",
     "text": [
      "\r",
      "100%|██████████████████████████████████████████████████████████████████████████████▉| 999/1000 [06:40<00:00,  2.57it/s]"
     ]
    },
    {
     "name": "stdout",
     "output_type": "stream",
     "text": [
      "111.20012664794922\n"
     ]
    },
    {
     "name": "stderr",
     "output_type": "stream",
     "text": [
      "100%|██████████████████████████████████████████████████████████████████████████████| 1000/1000 [06:41<00:00,  2.49it/s]"
     ]
    },
    {
     "name": "stdout",
     "output_type": "stream",
     "text": [
      "113.15792083740234\n"
     ]
    },
    {
     "name": "stderr",
     "output_type": "stream",
     "text": [
      "\n"
     ]
    }
   ],
   "source": [
    "EMDEDDING_DIM = 32\n",
    "#BATCH_SIZE = 350\n",
    "\n",
    "model = CBOW(vocab_size, EMDEDDING_DIM).to(device)\n",
    "\n",
    "loss_function = nn.NLLLoss()\n",
    "optimizer = torch.optim.SGD(model.parameters(), lr=0.001)\n",
    "loss_plot = []\n",
    "\n",
    "batch_index=0\n",
    "for i in tqdm(range(1000)):\n",
    "    total_loss = 0\n",
    "    batch = data[batch_index:batch_index+351]\n",
    "    batch_index +=351\n",
    "    for context, target in batch:\n",
    "        context_vector = make_context_vector(context, word_to_ix)  \n",
    "        log_probs = model(context_vector)\n",
    "        total_loss += loss_function(log_probs, torch.tensor([word_to_ix[target]]).to(device))\n",
    "        \n",
    "    loss_plot.append(total_loss.item())\n",
    "    optimizer.zero_grad()\n",
    "    total_loss.backward()\n",
    "    optimizer.step()"
   ]
  },
  {
   "cell_type": "code",
   "execution_count": 11,
   "metadata": {},
   "outputs": [
    {
     "data": {
      "text/plain": [
       "[<matplotlib.lines.Line2D at 0x273028c8730>]"
      ]
     },
     "execution_count": 11,
     "metadata": {},
     "output_type": "execute_result"
    },
    {
     "data": {
      "image/png": "[encoded data removed]",
      "text/plain": [
       "<Figure size 432x288 with 1 Axes>"
      ]
     },
     "metadata": {
      "needs_background": "light"
     },
     "output_type": "display_data"
    }
   ],
   "source": [
    "plt.plot(loss_plot)"
   ]
  },
  {
   "cell_type": "markdown",
   "metadata": {},
   "source": [
    "Check the cosine similarity of Poliwag and Squirtle, two identical pokemon."
   ]
  },
  {
   "cell_type": "code",
   "execution_count": 12,
   "metadata": {},
   "outputs": [
    {
     "name": "stdout",
     "output_type": "stream",
     "text": [
      "tensor([[ -8.1211, -20.2651, -16.4221, -10.1697, -13.0607, -11.0649, -17.4139,\n",
      "         -10.8680, -19.2964, -13.6906,  -0.5353, -11.1847,  -7.9252, -16.7776,\n",
      "         -12.5692, -18.4066, -10.3447, -15.8397, -12.2175, -16.3796, -11.8842,\n",
      "          -0.8839, -13.3404, -15.6293, -11.2635, -13.1165,  -7.5440]],\n",
      "       device='cuda:0', grad_fn=<LogSoftmaxBackward>)\n",
      "10\n",
      "Context: ['Poliwag', 'Squirtle']\n",
      "\n",
      "Prediction: Poliwag\n"
     ]
    }
   ],
   "source": [
    "#TESTING\n",
    "context = ['Poliwag','Squirtle']\n",
    "context_vector = make_context_vector(context, word_to_ix)\n",
    "a = model(context_vector)\n",
    "print(a)\n",
    "print(torch.argmax(a[0]).item())\n",
    "#Print result\n",
    "print(f'Context: {context}\\n')\n",
    "print(f'Prediction: {ix_to_word[torch.argmax(a[0]).item()]}')"
   ]
  },
  {
   "cell_type": "code",
   "execution_count": 13,
   "metadata": {},
   "outputs": [
    {
     "name": "stdout",
     "output_type": "stream",
     "text": [
      "10\n"
     ]
    }
   ],
   "source": [
    "print(word_to_ix['Poliwag'])"
   ]
  },
  {
   "cell_type": "code",
   "execution_count": 14,
   "metadata": {},
   "outputs": [
    {
     "name": "stdout",
     "output_type": "stream",
     "text": [
      "21\n"
     ]
    }
   ],
   "source": [
    "print(word_to_ix['Squirtle'])"
   ]
  },
  {
   "cell_type": "markdown",
   "metadata": {},
   "source": [
    "Get cosine similarity for all Pokemon."
   ]
  },
  {
   "cell_type": "code",
   "execution_count": 15,
   "metadata": {
    "scrolled": false
   },
   "outputs": [],
   "source": [
    "import itertools\n",
    "from collections import defaultdict\n",
    "\n",
    "d = defaultdict(lambda: [])\n",
    "\n",
    "pokemon_list = list(itertools.permutations(vocab, 2))\n",
    "for pool in pokemon_list:\n",
    "    input1 = model.get_word_embedding(pool[0])\n",
    "    input2 = model.get_word_embedding(pool[1])\n",
    "    cos = nn.CosineSimilarity(dim=1, eps=1e-6)\n",
    "    output = cos(input1, input2).item()\n",
    "    d[pool[0]].append((pool[1],output))"
   ]
  },
  {
   "cell_type": "markdown",
   "metadata": {},
   "source": [
    "Check which Pokemon Poliwag is most similar to."
   ]
  },
  {
   "cell_type": "code",
   "execution_count": 16,
   "metadata": {},
   "outputs": [
    {
     "data": {
      "text/plain": [
       "[('Bulbasaur', 0.46741974353790283),\n",
       " ('Horsea', -0.19772279262542725),\n",
       " ('Diglett', 0.019868826493620872),\n",
       " ('Machop', -0.09364822506904602),\n",
       " ('Jynx', 0.29593735933303833),\n",
       " ('Ekans', -0.14527802169322968),\n",
       " ('Omanyte', 0.19598719477653503),\n",
       " ('Dratini', -0.2777375876903534),\n",
       " ('Sandshrew', -0.017771689221262932),\n",
       " ('Gastly', 0.05930817499756813),\n",
       " ('Meowth', -0.19986580312252045),\n",
       " ('Slowpoke', 0.3746568560600281),\n",
       " ('Charmander', -0.16343793272972107),\n",
       " ('Rattata', 0.34981614351272583),\n",
       " ('Cubone', -0.15358136594295502),\n",
       " ('Mankey', 0.15166813135147095),\n",
       " ('Lapras', -0.24561935663223267),\n",
       " ('Tauros', 0.19125878810882568),\n",
       " ('Grimer', -0.04380637779831886),\n",
       " ('Jigglypuff', -0.1111891120672226),\n",
       " ('Squirtle', 0.06919104605913162),\n",
       " ('Pidgey', -0.26204830408096313),\n",
       " ('Clefairy', 0.07253571599721909),\n",
       " ('Abra', 0.2262534499168396),\n",
       " ('Zubat', 0.13980484008789062),\n",
       " ('Pikachu', 0.04191960394382477)]"
      ]
     },
     "execution_count": 16,
     "metadata": {},
     "output_type": "execute_result"
    }
   ],
   "source": [
    "d['Poliwag']"
   ]
  },
  {
   "cell_type": "markdown",
   "metadata": {},
   "source": [
    "Check which Pokemon Squirtle is most similar to."
   ]
  },
  {
   "cell_type": "code",
   "execution_count": 17,
   "metadata": {},
   "outputs": [
    {
     "data": {
      "text/plain": [
       "[('Bulbasaur', -0.17644058167934418),\n",
       " ('Horsea', -0.008482929319143295),\n",
       " ('Diglett', 0.3172948658466339),\n",
       " ('Machop', 0.1876491904258728),\n",
       " ('Jynx', -0.04209582135081291),\n",
       " ('Ekans', 0.20868359506130219),\n",
       " ('Omanyte', 0.19707587361335754),\n",
       " ('Dratini', 0.05371731147170067),\n",
       " ('Sandshrew', 0.1350208967924118),\n",
       " ('Gastly', -0.205365851521492),\n",
       " ('Poliwag', 0.06919104605913162),\n",
       " ('Meowth', 0.19091461598873138),\n",
       " ('Slowpoke', -0.03554027900099754),\n",
       " ('Charmander', -0.071806900203228),\n",
       " ('Rattata', -0.0350104421377182),\n",
       " ('Cubone', -0.27781569957733154),\n",
       " ('Mankey', -0.016107924282550812),\n",
       " ('Lapras', 0.14693118631839752),\n",
       " ('Tauros', -0.25619545578956604),\n",
       " ('Grimer', 0.009475565515458584),\n",
       " ('Jigglypuff', -0.15009190142154694),\n",
       " ('Pidgey', 0.25785040855407715),\n",
       " ('Clefairy', 0.026455240324139595),\n",
       " ('Abra', 0.07621937990188599),\n",
       " ('Zubat', -0.20727607607841492),\n",
       " ('Pikachu', 0.05987247824668884)]"
      ]
     },
     "execution_count": 17,
     "metadata": {},
     "output_type": "execute_result"
    }
   ],
   "source": [
    "d['Squirtle']"
   ]
  },
  {
   "cell_type": "markdown",
   "metadata": {},
   "source": [
    "Record embeddings in .csv file."
   ]
  },
  {
   "cell_type": "code",
   "execution_count": 18,
   "metadata": {},
   "outputs": [],
   "source": [
    "#torch.save(model.state_dict(), 'pokemon2vec_weights.pth')"
   ]
  },
  {
   "cell_type": "code",
   "execution_count": 19,
   "metadata": {},
   "outputs": [
    {
     "data": {
      "text/plain": [
       "[array(['Bulbasaur', '0.17687559', '0.024490204', '-0.50628775',\n",
       "        '-1.2525038', '-1.4793936', '1.0133803', '1.1863556', '-1.3092211',\n",
       "        '1.224058', '-1.0880578', '-1.3456604', '-0.61366725',\n",
       "        '0.32769594', '-0.16522121', '-0.91608244', '1.53605', '0.7345229',\n",
       "        '0.8887723', '1.9196557', '0.6975681', '0.15914339', '0.23050259',\n",
       "        '-1.3241771', '0.8347122', '0.2915816', '-1.0201617',\n",
       "        '-0.13914987', '2.1263063', '0.67592746', '1.2042753',\n",
       "        '-0.11000679', '0.995182'], dtype='<U32'),\n",
       " array(['Horsea', '0.50160503', '-0.052333716', '-0.72162235',\n",
       "        '-0.2844305', '0.9227157', '-1.268923', '-1.893838', '1.7991768',\n",
       "        '0.07110891', '0.27383822', '-0.6757641', '0.26708892',\n",
       "        '-0.3325172', '1.9583511', '0.51440513', '0.25338376',\n",
       "        '-1.4846404', '-0.67387795', '1.3754283', '-0.04043962',\n",
       "        '-0.21647489', '0.15765844', '-1.8538722', '-1.1090361',\n",
       "        '-0.51688725', '0.94767845', '0.3200832', '-0.53993887',\n",
       "        '-1.2173096', '1.3094885', '-0.14725831', '-0.549346'],\n",
       "       dtype='<U32'),\n",
       " array(['Diglett', '1.8617153', '0.6258642', '-0.37693298', '-0.962984',\n",
       "        '0.4031467', '0.96387386', '-1.2150754', '0.21703443',\n",
       "        '-1.5315976', '-0.5321689', '-0.43168068', '-0.11674396',\n",
       "        '-0.8862881', '-0.6293167', '0.26990116', '-0.88397986',\n",
       "        '-0.44027153', '-0.71111447', '0.12981948', '0.09344249',\n",
       "        '0.49651128', '-0.94244', '-0.855032', '-1.204082', '2.021872',\n",
       "        '-1.172745', '1.0385303', '0.75971794', '0.5892226', '0.21744387',\n",
       "        '0.83093077', '-0.65067315'], dtype='<U32'),\n",
       " array(['Machop', '-1.734448', '0.9112116', '-0.0103130555', '-1.1500183',\n",
       "        '1.8228387', '-0.35708907', '0.69031984', '1.0048807',\n",
       "        '-1.3362563', '1.3303369', '-0.4250254', '1.3502808', '0.36430737',\n",
       "        '0.8756453', '0.8958499', '-0.50088245', '-1.4151739',\n",
       "        '0.29578125', '2.4092479', '0.48637477', '-2.2087092', '0.4869626',\n",
       "        '1.8215848', '-0.9245115', '-0.58110285', '0.38813654',\n",
       "        '0.5421947', '0.44924128', '-0.308982', '-0.5190005', '0.8954896',\n",
       "        '0.8528619'], dtype='<U32'),\n",
       " array(['Jynx', '0.16977404', '-0.31782755', '2.0838876', '-0.10405868',\n",
       "        '-0.441825', '0.4825044', '-1.4839125', '0.65666497', '1.0133198',\n",
       "        '0.2975664', '0.7090038', '1.0416726', '0.9002053', '-0.27779555',\n",
       "        '1.2226862', '2.097347', '0.41249317', '1.1724101', '-0.48271722',\n",
       "        '-0.3544504', '-1.3131586', '-0.7347887', '0.25001767',\n",
       "        '-0.5713662', '-1.2754053', '0.9463739', '0.116124585',\n",
       "        '-1.3456299', '0.9362266', '1.057473', '0.4868618', '-1.238626'],\n",
       "       dtype='<U32'),\n",
       " array(['Ekans', '0.9169523', '0.57527965', '0.17755954', '-1.0212435',\n",
       "        '-0.63317186', '0.6748327', '-0.40157053', '-0.6756476',\n",
       "        '0.48767412', '1.3021747', '2.188278', '-0.16052751',\n",
       "        '-0.29756436', '0.69013596', '-0.23704025', '0.62370586',\n",
       "        '-0.21147765', '-0.20320746', '0.28629008', '-2.3998406',\n",
       "        '-1.2144576', '-1.3670732', '0.20240839', '-1.1831149',\n",
       "        '1.4030733', '-1.1696807', '0.019143026', '-2.2963057',\n",
       "        '-1.3410696', '-0.4034059', '0.2714479', '0.4763996'], dtype='<U32'),\n",
       " array(['Omanyte', '-1.2017866', '-1.3865502', '0.010524895', '0.8308205',\n",
       "        '-0.98774487', '2.2829974', '-0.85838646', '0.5336561',\n",
       "        '-0.89318746', '-0.67799073', '0.070083074', '1.109989',\n",
       "        '1.7798218', '-0.30427137', '-0.07035625', '-0.8361094',\n",
       "        '0.31353647', '0.8589151', '-0.7084106', '1.175522', '0.90319824',\n",
       "        '-1.172612', '0.3078906', '-0.8083978', '1.1069069', '-0.044499',\n",
       "        '0.9760075', '0.08651217', '1.859705', '-1.0822778', '0.14737391',\n",
       "        '0.5174232'], dtype='<U32'),\n",
       " array(['Dratini', '0.9619821', '0.8289142', '0.44197032', '0.1157149',\n",
       "        '-1.0347346', '-1.8266635', '-1.5952253', '0.391958',\n",
       "        '-0.63300747', '1.0078955', '-0.80962235', '0.7476644',\n",
       "        '-2.0774739', '1.3238585', '-0.5756699', '-0.85390335',\n",
       "        '0.43338424', '-0.18024193', '1.7747543', '-1.1713473',\n",
       "        '-1.0833304', '0.32848173', '-0.044398014', '-0.6738184',\n",
       "        '-1.8889769', '-1.4793231', '0.22182064', '-1.7202965',\n",
       "        '-0.6081212', '0.4508679', '-0.35451972', '0.52672637'],\n",
       "       dtype='<U32'),\n",
       " array(['Sandshrew', '0.59780735', '1.0638479', '-1.5356622', '0.83801603',\n",
       "        '2.042189', '1.102815', '1.8964504', '-0.026394224', '0.4598154',\n",
       "        '0.8674155', '-0.81216735', '0.6282465', '1.1998597', '1.1836898',\n",
       "        '0.6360869', '-0.92688185', '0.6590849', '1.629602', '0.4779041',\n",
       "        '-1.1012323', '0.7096698', '0.16613352', '0.25026536',\n",
       "        '0.12917332', '0.42590457', '1.1426245', '1.6240981', '0.43540448',\n",
       "        '1.7825011', '2.1881428', '-0.087539114', '0.88699275'],\n",
       "       dtype='<U32'),\n",
       " array(['Gastly', '1.0762061', '0.19005162', '-0.4748596', '-0.6033796',\n",
       "        '-1.1889092', '0.1027327', '-1.0556252', '0.17379014', '-1.482441',\n",
       "        '-1.010714', '-1.2703849', '1.6560197', '0.8910144', '-1.0819606',\n",
       "        '0.946408', '0.5567149', '-2.1795137', '-0.6317392', '0.3839978',\n",
       "        '-2.5570102', '-0.38135397', '-1.3607094', '-1.3821144',\n",
       "        '-0.08625781', '-1.4989439', '0.36263296', '1.5551361',\n",
       "        '-1.6186142', '-0.20949243', '1.4200637', '-0.7795878',\n",
       "        '0.13535424'], dtype='<U32'),\n",
       " array(['Poliwag', '-0.37125742', '-1.4916725', '0.9659796', '-0.8601303',\n",
       "        '-1.5138841', '1.6202813', '1.7761354', '0.58012456',\n",
       "        '-0.78179586', '-3.357804', '-0.26371434', '0.17175467',\n",
       "        '-0.3616956', '-1.0387964', '1.5998372', '3.2347777', '0.8155262',\n",
       "        '2.1732876', '0.997845', '1.9305319', '0.44678915', '-0.9227545',\n",
       "        '0.56253064', '0.64184916', '0.6375585', '-0.6157403',\n",
       "        '-0.31847614', '-0.37403002', '0.023415409', '2.695661',\n",
       "        '1.5629156', '0.21839151'], dtype='<U32'),\n",
       " array(['Meowth', '0.34559482', '0.12310427', '-0.4082616', '-0.08713963',\n",
       "        '-1.4277438', '-0.9544706', '-2.2178555', '0.31473437',\n",
       "        '-0.245194', '2.5361812', '0.8075155', '-0.5951712', '0.2762981',\n",
       "        '1.0302395', '-0.8863557', '0.53186697', '-0.52242535',\n",
       "        '-1.1514702', '-0.51074183', '1.4924192', '0.33289158',\n",
       "        '-0.2061186', '-0.5407653', '0.61464405', '1.5282265', '1.5190033',\n",
       "        '-0.2869417', '-1.302833', '1.3359457', '0.80175716', '0.9549588',\n",
       "        '0.54740304'], dtype='<U32'),\n",
       " array(['Slowpoke', '0.17736122', '-0.3965285', '-1.0970916', '-0.8600239',\n",
       "        '0.9644214', '-0.8578567', '0.728908', '0.47099006', '-1.6538222',\n",
       "        '-2.5447547', '0.31369933', '0.44720522', '1.2470891',\n",
       "        '-0.8314774', '0.23070925', '1.2251734', '-0.58863336',\n",
       "        '-1.3415705', '-0.24664478', '1.519642', '1.5182987',\n",
       "        '-0.86457396', '0.1754587', '0.9595963', '0.9308552', '1.190663',\n",
       "        '-0.5507732', '1.7380623', '-1.4496232', '1.0592273', '0.48631653',\n",
       "        '-1.0231308'], dtype='<U32'),\n",
       " array(['Charmander', '-2.1695962', '-0.3979155', '0.24832188',\n",
       "        '0.3915601', '-0.14565863', '0.40288204', '0.8655652', '1.435693',\n",
       "        '-1.6343083', '0.89899665', '0.32694134', '-1.3262198',\n",
       "        '1.0274559', '2.0095952', '-0.77587837', '-0.17899373',\n",
       "        '-0.2341534', '0.85998523', '-1.028552', '-1.6425875', '0.9021361',\n",
       "        '0.42045608', '-0.80087656', '-0.28238294', '1.8985442',\n",
       "        '0.97767204', '-0.36665705', '-0.60911894', '0.76844823',\n",
       "        '-0.10975302', '-2.0941045', '-1.3700213'], dtype='<U32'),\n",
       " array(['Rattata', '0.63156176', '0.540774', '-5.99882e-05', '1.2023705',\n",
       "        '0.70228434', '2.3683105', '0.0935168', '-1.1949658',\n",
       "        '-0.019744786', '-2.3140316', '0.79474133', '0.35785085',\n",
       "        '1.0636474', '-1.3511362', '1.1901946', '0.43609825', '0.40367642',\n",
       "        '1.0285565', '0.52890337', '-1.1796597', '-0.79342085',\n",
       "        '0.22727682', '0.9924966', '0.4422957', '-0.9025131', '1.0271602',\n",
       "        '1.3185273', '-0.83548975', '0.11298313', '1.3799134',\n",
       "        '-0.18408136', '-0.049567908'], dtype='<U32'),\n",
       " array(['Cubone', '0.13731681', '0.78035563', '0.4434512', '-0.45325166',\n",
       "        '-1.9533792', '0.40458855', '-0.41580224', '0.06810712',\n",
       "        '-1.1852697', '1.2975204', '1.3302528', '0.6042668', '0.16614027',\n",
       "        '0.048444547', '-0.81309813', '0.5161003', '0.8177619',\n",
       "        '0.59500283', '0.3133516', '0.29726157', '-1.181019', '1.6753818',\n",
       "        '-1.8375388', '-1.269695', '0.92644763', '-1.0224274',\n",
       "        '-0.5079418', '0.88753736', '-1.3944767', '-1.1354717',\n",
       "        '-1.8138498', '0.49113986'], dtype='<U32'),\n",
       " array(['Mankey', '0.3218434', '1.1830454', '0.6061453', '-0.6616999',\n",
       "        '-1.117924', '-0.719454', '0.15207897', '0.14978607', '0.42215163',\n",
       "        '-0.76889074', '-2.6665056', '-0.46476892', '-0.6196341',\n",
       "        '0.8789936', '0.79013085', '0.34575135', '-1.1296518', '1.2900294',\n",
       "        '2.6457853', '-1.3401145', '0.0031363112', '1.732541', '1.1731802',\n",
       "        '-1.2699945', '0.63674974', '-0.13451119', '-0.5639483',\n",
       "        '0.91742134', '-0.62174517', '-0.109530084', '1.4575919',\n",
       "        '-0.3090423'], dtype='<U32'),\n",
       " array(['Lapras', '-1.638478', '0.36087346', '-1.3956323', '0.47378406',\n",
       "        '0.8838819', '2.4230065', '-0.92905897', '-0.25388572', '0.673229',\n",
       "        '1.4896418', '-1.9681461', '-2.1745944', '-0.22054273',\n",
       "        '-0.47034496', '0.7504851', '-1.4162759', '-3.168043',\n",
       "        '-1.0646734', '-1.5666739', '0.574882', '-1.390189', '-1.7166704',\n",
       "        '-0.614376', '0.18502058', '0.72296315', '0.41478088', '-1.466864',\n",
       "        '-0.9268933', '0.67128813', '-2.733398', '2.8700604', '-1.5890986'],\n",
       "       dtype='<U32'),\n",
       " array(['Tauros', '1.1344376', '-0.10572074', '-0.7689436', '-0.56776404',\n",
       "        '-0.77039313', '-1.1726149', '1.4894007', '1.0036805', '0.5383515',\n",
       "        '-2.7980254', '-0.16951083', '-0.4130564', '0.79281396',\n",
       "        '-1.4756964', '-0.59842694', '-0.14139692', '0.13998015',\n",
       "        '-0.6921217', '0.01944716', '0.12352089', '0.636087', '0.6496474',\n",
       "        '-0.7674477', '0.46295634', '0.6324071', '1.9382565', '0.44037127',\n",
       "        '-2.6165578', '-0.30927804', '0.7737272', '-1.5061389',\n",
       "        '2.0120943'], dtype='<U32'),\n",
       " array(['Grimer', '0.81400174', '0.2709388', '-0.87474257', '0.59370255',\n",
       "        '-1.3940386', '0.814188', '0.4824944', '0.8047437', '-0.07600975',\n",
       "        '0.03612549', '0.6314041', '0.6397622', '0.061497215', '1.656281',\n",
       "        '-0.47179452', '0.04346943', '0.090022534', '-0.2976022',\n",
       "        '-0.99517787', '-1.1985426', '0.33594385', '-2.0267475',\n",
       "        '1.487539', '-0.5340778', '-1.048346', '-1.686041', '0.61144185',\n",
       "        '2.5109746', '-0.30542833', '-0.00021290513', '0.12672418',\n",
       "        '-0.6409484'], dtype='<U32'),\n",
       " array(['Jigglypuff', '0.012248228', '-0.29784027', '-0.12115964',\n",
       "        '-1.0542692', '0.3623377', '-1.9780408', '1.7840546', '0.14289209',\n",
       "        '-1.3508688', '0.2619317', '1.8601356', '-2.8930774', '0.64168566',\n",
       "        '-0.7626762', '-0.908664', '-0.3208338', '-0.15023571',\n",
       "        '-1.5316732', '0.6684752', '-0.026860638', '0.5216773',\n",
       "        '-0.71927536', '-0.9699697', '0.35929444', '-0.23616593',\n",
       "        '0.46097195', '1.2400489', '-1.0489743', '-0.8250047',\n",
       "        '-0.35909483', '0.49815482', '-0.35876524'], dtype='<U32'),\n",
       " array(['Squirtle', '-0.70449066', '0.5226152', '0.52037406', '0.40242833',\n",
       "        '1.6210052', '1.095229', '-0.9136724', '-0.7136383',\n",
       "        '-0.055083577', '0.91677856', '-0.7689788', '0.39740047',\n",
       "        '-0.9112556', '1.0439159', '0.3347238', '-0.02394464',\n",
       "        '0.66805595', '-1.319179', '0.679372', '1.3868294', '0.99306667',\n",
       "        '-1.5330167', '2.2784595', '-0.7421647', '2.1839583', '-1.1524825',\n",
       "        '0.8615641', '-1.3992288', '0.008121856', '0.8386317', '0.6035251',\n",
       "        '0.11272836'], dtype='<U32'),\n",
       " array(['Pidgey', '-0.48917177', '1.9478629', '-0.608208', '0.6925402',\n",
       "        '0.2769832', '-0.34133285', '-0.08622376', '-0.051412906',\n",
       "        '2.1727467', '-0.5482239', '0.16235924', '-1.7491472',\n",
       "        '-1.0247815', '1.1986761', '-0.63760006', '-0.77039796',\n",
       "        '0.38751763', '-1.203473', '-0.71975493', '-0.2627446',\n",
       "        '1.3392748', '0.4277261', '0.43036607', '2.0214536', '0.9657928',\n",
       "        '-0.2927167', '1.2408783', '-1.8540484', '-1.1437551',\n",
       "        '0.098825485', '-1.1873556', '0.066672124'], dtype='<U32'),\n",
       " array(['Clefairy', '1.8678567', '-0.29103643', '-0.35497016', '0.5338022',\n",
       "        '0.41883644', '-0.657561', '0.6173084', '1.6350528', '0.70298254',\n",
       "        '-0.34542066', '0.12611754', '-0.18424042', '2.8706112',\n",
       "        '0.53808045', '0.6970816', '0.17681806', '0.095789656',\n",
       "        '-0.5961676', '-1.2165301', '0.061257016', '-0.5979803',\n",
       "        '-0.62965083', '1.8623236', '0.8446569', '0.019083373',\n",
       "        '-0.88783765', '0.38521776', '0.060447056', '0.75435615',\n",
       "        '1.155341', '-0.11751961', '0.40831238'], dtype='<U32'),\n",
       " array(['Abra', '-0.2084278', '-0.42981556', '-1.7286899', '-0.62809247',\n",
       "        '0.7991308', '0.9439086', '-0.5800927', '-0.06486237',\n",
       "        '0.43111566', '-0.63796043', '3.4029174', '0.28120545',\n",
       "        '-0.12786902', '-1.3131154', '-0.36422765', '-0.22871512',\n",
       "        '1.5196778', '1.7471087', '0.6524625', '0.5968096', '0.3454818',\n",
       "        '-0.45346376', '0.78629684', '-0.095037', '0.19166662',\n",
       "        '-1.077229', '-0.18426555', '-0.35728976', '1.0061041',\n",
       "        '0.34222212', '-0.058313936', '0.5952563'], dtype='<U32'),\n",
       " array(['Zubat', '-1.1850871', '-0.048679143', '-0.15724267', '1.5009458',\n",
       "        '-1.2434347', '0.33347726', '-1.1006733', '1.7240994',\n",
       "        '-0.43291986', '0.045495544', '-0.27241454', '0.08309796',\n",
       "        '0.40797237', '0.12493329', '0.4127216', '0.76354223', '1.1951407',\n",
       "        '1.6199851', '0.48547465', '0.20005462', '0.34164777',\n",
       "        '-1.5337511', '-0.10690716', '-0.91340727', '-1.8792161',\n",
       "        '0.5358849', '-1.184887', '1.1871511', '-0.93336797', '-0.4188791',\n",
       "        '-0.78563863', '-0.99565417'], dtype='<U32'),\n",
       " array(['Pikachu', '-1.2717611', '0.4319823', '0.4047225', '-0.6796325',\n",
       "        '0.7803267', '0.81683195', '0.07314189', '1.773654', '-0.14654204',\n",
       "        '-1.2864239', '-1.6126196', '1.006647', '-0.31537533',\n",
       "        '-0.8887407', '-0.5328435', '-0.34073672', '0.82814014',\n",
       "        '-0.531656', '-0.31549662', '-1.6622382', '-0.6034', '0.63817286',\n",
       "        '-0.41346884', '0.06350315', '0.6353053', '-1.6056614',\n",
       "        '-0.9452363', '-1.725072', '0.59906703', '-0.07278243',\n",
       "        '-0.8042739', '-1.4707578'], dtype='<U32')]"
      ]
     },
     "execution_count": 19,
     "metadata": {},
     "output_type": "execute_result"
    }
   ],
   "source": [
    "embed_data = []\n",
    "\n",
    "for pokemon in vocab:\n",
    "    pokemon_embedding = np.concatenate(([pokemon], model.get_word_embedding(pokemon).cpu().detach().numpy()[0]))\n",
    "    embed_data.append(pokemon_embedding)\n",
    "embed_data"
   ]
  },
  {
   "cell_type": "code",
   "execution_count": 20,
   "metadata": {},
   "outputs": [
    {
     "data": {
      "text/html": [
       "<div>\n",
       "<style scoped>\n",
       "    .dataframe tbody tr th:only-of-type {\n",
       "        vertical-align: middle;\n",
       "    }\n",
       "\n",
       "    .dataframe tbody tr th {\n",
       "        vertical-align: top;\n",
       "    }\n",
       "\n",
       "    .dataframe thead th {\n",
       "        text-align: right;\n",
       "    }\n",
       "</style>\n",
       "<table border=\"1\" class=\"dataframe\">\n",
       "  <thead>\n",
       "    <tr style=\"text-align: right;\">\n",
       "      <th></th>\n",
       "      <th>Pokemon</th>\n",
       "      <th>feature0</th>\n",
       "      <th>feature1</th>\n",
       "      <th>feature2</th>\n",
       "      <th>feature3</th>\n",
       "      <th>feature4</th>\n",
       "      <th>feature5</th>\n",
       "      <th>feature6</th>\n",
       "      <th>feature7</th>\n",
       "      <th>feature8</th>\n",
       "      <th>...</th>\n",
       "      <th>feature22</th>\n",
       "      <th>feature23</th>\n",
       "      <th>feature24</th>\n",
       "      <th>feature25</th>\n",
       "      <th>feature26</th>\n",
       "      <th>feature27</th>\n",
       "      <th>feature28</th>\n",
       "      <th>feature29</th>\n",
       "      <th>feature30</th>\n",
       "      <th>feature31</th>\n",
       "    </tr>\n",
       "  </thead>\n",
       "  <tbody>\n",
       "    <tr>\n",
       "      <th>0</th>\n",
       "      <td>Bulbasaur</td>\n",
       "      <td>0.17687559</td>\n",
       "      <td>0.024490204</td>\n",
       "      <td>-0.50628775</td>\n",
       "      <td>-1.2525038</td>\n",
       "      <td>-1.4793936</td>\n",
       "      <td>1.0133803</td>\n",
       "      <td>1.1863556</td>\n",
       "      <td>-1.3092211</td>\n",
       "      <td>1.224058</td>\n",
       "      <td>...</td>\n",
       "      <td>-1.3241771</td>\n",
       "      <td>0.8347122</td>\n",
       "      <td>0.2915816</td>\n",
       "      <td>-1.0201617</td>\n",
       "      <td>-0.13914987</td>\n",
       "      <td>2.1263063</td>\n",
       "      <td>0.67592746</td>\n",
       "      <td>1.2042753</td>\n",
       "      <td>-0.11000679</td>\n",
       "      <td>0.995182</td>\n",
       "    </tr>\n",
       "    <tr>\n",
       "      <th>1</th>\n",
       "      <td>Horsea</td>\n",
       "      <td>0.50160503</td>\n",
       "      <td>-0.052333716</td>\n",
       "      <td>-0.72162235</td>\n",
       "      <td>-0.2844305</td>\n",
       "      <td>0.9227157</td>\n",
       "      <td>-1.268923</td>\n",
       "      <td>-1.893838</td>\n",
       "      <td>1.7991768</td>\n",
       "      <td>0.07110891</td>\n",
       "      <td>...</td>\n",
       "      <td>-1.8538722</td>\n",
       "      <td>-1.1090361</td>\n",
       "      <td>-0.51688725</td>\n",
       "      <td>0.94767845</td>\n",
       "      <td>0.3200832</td>\n",
       "      <td>-0.53993887</td>\n",
       "      <td>-1.2173096</td>\n",
       "      <td>1.3094885</td>\n",
       "      <td>-0.14725831</td>\n",
       "      <td>-0.549346</td>\n",
       "    </tr>\n",
       "    <tr>\n",
       "      <th>2</th>\n",
       "      <td>Diglett</td>\n",
       "      <td>1.8617153</td>\n",
       "      <td>0.6258642</td>\n",
       "      <td>-0.37693298</td>\n",
       "      <td>-0.962984</td>\n",
       "      <td>0.4031467</td>\n",
       "      <td>0.96387386</td>\n",
       "      <td>-1.2150754</td>\n",
       "      <td>0.21703443</td>\n",
       "      <td>-1.5315976</td>\n",
       "      <td>...</td>\n",
       "      <td>-0.855032</td>\n",
       "      <td>-1.204082</td>\n",
       "      <td>2.021872</td>\n",
       "      <td>-1.172745</td>\n",
       "      <td>1.0385303</td>\n",
       "      <td>0.75971794</td>\n",
       "      <td>0.5892226</td>\n",
       "      <td>0.21744387</td>\n",
       "      <td>0.83093077</td>\n",
       "      <td>-0.65067315</td>\n",
       "    </tr>\n",
       "    <tr>\n",
       "      <th>3</th>\n",
       "      <td>Machop</td>\n",
       "      <td>-1.734448</td>\n",
       "      <td>0.9112116</td>\n",
       "      <td>-0.0103130555</td>\n",
       "      <td>-1.1500183</td>\n",
       "      <td>1.8228387</td>\n",
       "      <td>-0.35708907</td>\n",
       "      <td>0.69031984</td>\n",
       "      <td>1.0048807</td>\n",
       "      <td>-1.3362563</td>\n",
       "      <td>...</td>\n",
       "      <td>1.8215848</td>\n",
       "      <td>-0.9245115</td>\n",
       "      <td>-0.58110285</td>\n",
       "      <td>0.38813654</td>\n",
       "      <td>0.5421947</td>\n",
       "      <td>0.44924128</td>\n",
       "      <td>-0.308982</td>\n",
       "      <td>-0.5190005</td>\n",
       "      <td>0.8954896</td>\n",
       "      <td>0.8528619</td>\n",
       "    </tr>\n",
       "    <tr>\n",
       "      <th>4</th>\n",
       "      <td>Jynx</td>\n",
       "      <td>0.16977404</td>\n",
       "      <td>-0.31782755</td>\n",
       "      <td>2.0838876</td>\n",
       "      <td>-0.10405868</td>\n",
       "      <td>-0.441825</td>\n",
       "      <td>0.4825044</td>\n",
       "      <td>-1.4839125</td>\n",
       "      <td>0.65666497</td>\n",
       "      <td>1.0133198</td>\n",
       "      <td>...</td>\n",
       "      <td>0.25001767</td>\n",
       "      <td>-0.5713662</td>\n",
       "      <td>-1.2754053</td>\n",
       "      <td>0.9463739</td>\n",
       "      <td>0.116124585</td>\n",
       "      <td>-1.3456299</td>\n",
       "      <td>0.9362266</td>\n",
       "      <td>1.057473</td>\n",
       "      <td>0.4868618</td>\n",
       "      <td>-1.238626</td>\n",
       "    </tr>\n",
       "    <tr>\n",
       "      <th>5</th>\n",
       "      <td>Ekans</td>\n",
       "      <td>0.9169523</td>\n",
       "      <td>0.57527965</td>\n",
       "      <td>0.17755954</td>\n",
       "      <td>-1.0212435</td>\n",
       "      <td>-0.63317186</td>\n",
       "      <td>0.6748327</td>\n",
       "      <td>-0.40157053</td>\n",
       "      <td>-0.6756476</td>\n",
       "      <td>0.48767412</td>\n",
       "      <td>...</td>\n",
       "      <td>0.20240839</td>\n",
       "      <td>-1.1831149</td>\n",
       "      <td>1.4030733</td>\n",
       "      <td>-1.1696807</td>\n",
       "      <td>0.019143026</td>\n",
       "      <td>-2.2963057</td>\n",
       "      <td>-1.3410696</td>\n",
       "      <td>-0.4034059</td>\n",
       "      <td>0.2714479</td>\n",
       "      <td>0.4763996</td>\n",
       "    </tr>\n",
       "    <tr>\n",
       "      <th>6</th>\n",
       "      <td>Omanyte</td>\n",
       "      <td>-1.2017866</td>\n",
       "      <td>-1.3865502</td>\n",
       "      <td>0.010524895</td>\n",
       "      <td>0.8308205</td>\n",
       "      <td>-0.98774487</td>\n",
       "      <td>2.2829974</td>\n",
       "      <td>-0.85838646</td>\n",
       "      <td>0.5336561</td>\n",
       "      <td>-0.89318746</td>\n",
       "      <td>...</td>\n",
       "      <td>0.3078906</td>\n",
       "      <td>-0.8083978</td>\n",
       "      <td>1.1069069</td>\n",
       "      <td>-0.044499</td>\n",
       "      <td>0.9760075</td>\n",
       "      <td>0.08651217</td>\n",
       "      <td>1.859705</td>\n",
       "      <td>-1.0822778</td>\n",
       "      <td>0.14737391</td>\n",
       "      <td>0.5174232</td>\n",
       "    </tr>\n",
       "    <tr>\n",
       "      <th>7</th>\n",
       "      <td>Dratini</td>\n",
       "      <td>0.9619821</td>\n",
       "      <td>0.8289142</td>\n",
       "      <td>0.44197032</td>\n",
       "      <td>0.1157149</td>\n",
       "      <td>-1.0347346</td>\n",
       "      <td>-1.8266635</td>\n",
       "      <td>-1.5952253</td>\n",
       "      <td>0.391958</td>\n",
       "      <td>-0.63300747</td>\n",
       "      <td>...</td>\n",
       "      <td>-0.044398014</td>\n",
       "      <td>-0.6738184</td>\n",
       "      <td>-1.8889769</td>\n",
       "      <td>-1.4793231</td>\n",
       "      <td>0.22182064</td>\n",
       "      <td>-1.7202965</td>\n",
       "      <td>-0.6081212</td>\n",
       "      <td>0.4508679</td>\n",
       "      <td>-0.35451972</td>\n",
       "      <td>0.52672637</td>\n",
       "    </tr>\n",
       "    <tr>\n",
       "      <th>8</th>\n",
       "      <td>Sandshrew</td>\n",
       "      <td>0.59780735</td>\n",
       "      <td>1.0638479</td>\n",
       "      <td>-1.5356622</td>\n",
       "      <td>0.83801603</td>\n",
       "      <td>2.042189</td>\n",
       "      <td>1.102815</td>\n",
       "      <td>1.8964504</td>\n",
       "      <td>-0.026394224</td>\n",
       "      <td>0.4598154</td>\n",
       "      <td>...</td>\n",
       "      <td>0.25026536</td>\n",
       "      <td>0.12917332</td>\n",
       "      <td>0.42590457</td>\n",
       "      <td>1.1426245</td>\n",
       "      <td>1.6240981</td>\n",
       "      <td>0.43540448</td>\n",
       "      <td>1.7825011</td>\n",
       "      <td>2.1881428</td>\n",
       "      <td>-0.087539114</td>\n",
       "      <td>0.88699275</td>\n",
       "    </tr>\n",
       "    <tr>\n",
       "      <th>9</th>\n",
       "      <td>Gastly</td>\n",
       "      <td>1.0762061</td>\n",
       "      <td>0.19005162</td>\n",
       "      <td>-0.4748596</td>\n",
       "      <td>-0.6033796</td>\n",
       "      <td>-1.1889092</td>\n",
       "      <td>0.1027327</td>\n",
       "      <td>-1.0556252</td>\n",
       "      <td>0.17379014</td>\n",
       "      <td>-1.482441</td>\n",
       "      <td>...</td>\n",
       "      <td>-1.3821144</td>\n",
       "      <td>-0.08625781</td>\n",
       "      <td>-1.4989439</td>\n",
       "      <td>0.36263296</td>\n",
       "      <td>1.5551361</td>\n",
       "      <td>-1.6186142</td>\n",
       "      <td>-0.20949243</td>\n",
       "      <td>1.4200637</td>\n",
       "      <td>-0.7795878</td>\n",
       "      <td>0.13535424</td>\n",
       "    </tr>\n",
       "    <tr>\n",
       "      <th>10</th>\n",
       "      <td>Poliwag</td>\n",
       "      <td>-0.37125742</td>\n",
       "      <td>-1.4916725</td>\n",
       "      <td>0.9659796</td>\n",
       "      <td>-0.8601303</td>\n",
       "      <td>-1.5138841</td>\n",
       "      <td>1.6202813</td>\n",
       "      <td>1.7761354</td>\n",
       "      <td>0.58012456</td>\n",
       "      <td>-0.78179586</td>\n",
       "      <td>...</td>\n",
       "      <td>0.56253064</td>\n",
       "      <td>0.64184916</td>\n",
       "      <td>0.6375585</td>\n",
       "      <td>-0.6157403</td>\n",
       "      <td>-0.31847614</td>\n",
       "      <td>-0.37403002</td>\n",
       "      <td>0.023415409</td>\n",
       "      <td>2.695661</td>\n",
       "      <td>1.5629156</td>\n",
       "      <td>0.21839151</td>\n",
       "    </tr>\n",
       "    <tr>\n",
       "      <th>11</th>\n",
       "      <td>Meowth</td>\n",
       "      <td>0.34559482</td>\n",
       "      <td>0.12310427</td>\n",
       "      <td>-0.4082616</td>\n",
       "      <td>-0.08713963</td>\n",
       "      <td>-1.4277438</td>\n",
       "      <td>-0.9544706</td>\n",
       "      <td>-2.2178555</td>\n",
       "      <td>0.31473437</td>\n",
       "      <td>-0.245194</td>\n",
       "      <td>...</td>\n",
       "      <td>-0.5407653</td>\n",
       "      <td>0.61464405</td>\n",
       "      <td>1.5282265</td>\n",
       "      <td>1.5190033</td>\n",
       "      <td>-0.2869417</td>\n",
       "      <td>-1.302833</td>\n",
       "      <td>1.3359457</td>\n",
       "      <td>0.80175716</td>\n",
       "      <td>0.9549588</td>\n",
       "      <td>0.54740304</td>\n",
       "    </tr>\n",
       "    <tr>\n",
       "      <th>12</th>\n",
       "      <td>Slowpoke</td>\n",
       "      <td>0.17736122</td>\n",
       "      <td>-0.3965285</td>\n",
       "      <td>-1.0970916</td>\n",
       "      <td>-0.8600239</td>\n",
       "      <td>0.9644214</td>\n",
       "      <td>-0.8578567</td>\n",
       "      <td>0.728908</td>\n",
       "      <td>0.47099006</td>\n",
       "      <td>-1.6538222</td>\n",
       "      <td>...</td>\n",
       "      <td>0.1754587</td>\n",
       "      <td>0.9595963</td>\n",
       "      <td>0.9308552</td>\n",
       "      <td>1.190663</td>\n",
       "      <td>-0.5507732</td>\n",
       "      <td>1.7380623</td>\n",
       "      <td>-1.4496232</td>\n",
       "      <td>1.0592273</td>\n",
       "      <td>0.48631653</td>\n",
       "      <td>-1.0231308</td>\n",
       "    </tr>\n",
       "    <tr>\n",
       "      <th>13</th>\n",
       "      <td>Charmander</td>\n",
       "      <td>-2.1695962</td>\n",
       "      <td>-0.3979155</td>\n",
       "      <td>0.24832188</td>\n",
       "      <td>0.3915601</td>\n",
       "      <td>-0.14565863</td>\n",
       "      <td>0.40288204</td>\n",
       "      <td>0.8655652</td>\n",
       "      <td>1.435693</td>\n",
       "      <td>-1.6343083</td>\n",
       "      <td>...</td>\n",
       "      <td>-0.80087656</td>\n",
       "      <td>-0.28238294</td>\n",
       "      <td>1.8985442</td>\n",
       "      <td>0.97767204</td>\n",
       "      <td>-0.36665705</td>\n",
       "      <td>-0.60911894</td>\n",
       "      <td>0.76844823</td>\n",
       "      <td>-0.10975302</td>\n",
       "      <td>-2.0941045</td>\n",
       "      <td>-1.3700213</td>\n",
       "    </tr>\n",
       "    <tr>\n",
       "      <th>14</th>\n",
       "      <td>Rattata</td>\n",
       "      <td>0.63156176</td>\n",
       "      <td>0.540774</td>\n",
       "      <td>-5.99882e-05</td>\n",
       "      <td>1.2023705</td>\n",
       "      <td>0.70228434</td>\n",
       "      <td>2.3683105</td>\n",
       "      <td>0.0935168</td>\n",
       "      <td>-1.1949658</td>\n",
       "      <td>-0.019744786</td>\n",
       "      <td>...</td>\n",
       "      <td>0.9924966</td>\n",
       "      <td>0.4422957</td>\n",
       "      <td>-0.9025131</td>\n",
       "      <td>1.0271602</td>\n",
       "      <td>1.3185273</td>\n",
       "      <td>-0.83548975</td>\n",
       "      <td>0.11298313</td>\n",
       "      <td>1.3799134</td>\n",
       "      <td>-0.18408136</td>\n",
       "      <td>-0.049567908</td>\n",
       "    </tr>\n",
       "    <tr>\n",
       "      <th>15</th>\n",
       "      <td>Cubone</td>\n",
       "      <td>0.13731681</td>\n",
       "      <td>0.78035563</td>\n",
       "      <td>0.4434512</td>\n",
       "      <td>-0.45325166</td>\n",
       "      <td>-1.9533792</td>\n",
       "      <td>0.40458855</td>\n",
       "      <td>-0.41580224</td>\n",
       "      <td>0.06810712</td>\n",
       "      <td>-1.1852697</td>\n",
       "      <td>...</td>\n",
       "      <td>-1.8375388</td>\n",
       "      <td>-1.269695</td>\n",
       "      <td>0.92644763</td>\n",
       "      <td>-1.0224274</td>\n",
       "      <td>-0.5079418</td>\n",
       "      <td>0.88753736</td>\n",
       "      <td>-1.3944767</td>\n",
       "      <td>-1.1354717</td>\n",
       "      <td>-1.8138498</td>\n",
       "      <td>0.49113986</td>\n",
       "    </tr>\n",
       "    <tr>\n",
       "      <th>16</th>\n",
       "      <td>Mankey</td>\n",
       "      <td>0.3218434</td>\n",
       "      <td>1.1830454</td>\n",
       "      <td>0.6061453</td>\n",
       "      <td>-0.6616999</td>\n",
       "      <td>-1.117924</td>\n",
       "      <td>-0.719454</td>\n",
       "      <td>0.15207897</td>\n",
       "      <td>0.14978607</td>\n",
       "      <td>0.42215163</td>\n",
       "      <td>...</td>\n",
       "      <td>1.1731802</td>\n",
       "      <td>-1.2699945</td>\n",
       "      <td>0.63674974</td>\n",
       "      <td>-0.13451119</td>\n",
       "      <td>-0.5639483</td>\n",
       "      <td>0.91742134</td>\n",
       "      <td>-0.62174517</td>\n",
       "      <td>-0.109530084</td>\n",
       "      <td>1.4575919</td>\n",
       "      <td>-0.3090423</td>\n",
       "    </tr>\n",
       "    <tr>\n",
       "      <th>17</th>\n",
       "      <td>Lapras</td>\n",
       "      <td>-1.638478</td>\n",
       "      <td>0.36087346</td>\n",
       "      <td>-1.3956323</td>\n",
       "      <td>0.47378406</td>\n",
       "      <td>0.8838819</td>\n",
       "      <td>2.4230065</td>\n",
       "      <td>-0.92905897</td>\n",
       "      <td>-0.25388572</td>\n",
       "      <td>0.673229</td>\n",
       "      <td>...</td>\n",
       "      <td>-0.614376</td>\n",
       "      <td>0.18502058</td>\n",
       "      <td>0.72296315</td>\n",
       "      <td>0.41478088</td>\n",
       "      <td>-1.466864</td>\n",
       "      <td>-0.9268933</td>\n",
       "      <td>0.67128813</td>\n",
       "      <td>-2.733398</td>\n",
       "      <td>2.8700604</td>\n",
       "      <td>-1.5890986</td>\n",
       "    </tr>\n",
       "    <tr>\n",
       "      <th>18</th>\n",
       "      <td>Tauros</td>\n",
       "      <td>1.1344376</td>\n",
       "      <td>-0.10572074</td>\n",
       "      <td>-0.7689436</td>\n",
       "      <td>-0.56776404</td>\n",
       "      <td>-0.77039313</td>\n",
       "      <td>-1.1726149</td>\n",
       "      <td>1.4894007</td>\n",
       "      <td>1.0036805</td>\n",
       "      <td>0.5383515</td>\n",
       "      <td>...</td>\n",
       "      <td>-0.7674477</td>\n",
       "      <td>0.46295634</td>\n",
       "      <td>0.6324071</td>\n",
       "      <td>1.9382565</td>\n",
       "      <td>0.44037127</td>\n",
       "      <td>-2.6165578</td>\n",
       "      <td>-0.30927804</td>\n",
       "      <td>0.7737272</td>\n",
       "      <td>-1.5061389</td>\n",
       "      <td>2.0120943</td>\n",
       "    </tr>\n",
       "    <tr>\n",
       "      <th>19</th>\n",
       "      <td>Grimer</td>\n",
       "      <td>0.81400174</td>\n",
       "      <td>0.2709388</td>\n",
       "      <td>-0.87474257</td>\n",
       "      <td>0.59370255</td>\n",
       "      <td>-1.3940386</td>\n",
       "      <td>0.814188</td>\n",
       "      <td>0.4824944</td>\n",
       "      <td>0.8047437</td>\n",
       "      <td>-0.07600975</td>\n",
       "      <td>...</td>\n",
       "      <td>1.487539</td>\n",
       "      <td>-0.5340778</td>\n",
       "      <td>-1.048346</td>\n",
       "      <td>-1.686041</td>\n",
       "      <td>0.61144185</td>\n",
       "      <td>2.5109746</td>\n",
       "      <td>-0.30542833</td>\n",
       "      <td>-0.00021290513</td>\n",
       "      <td>0.12672418</td>\n",
       "      <td>-0.6409484</td>\n",
       "    </tr>\n",
       "    <tr>\n",
       "      <th>20</th>\n",
       "      <td>Jigglypuff</td>\n",
       "      <td>0.012248228</td>\n",
       "      <td>-0.29784027</td>\n",
       "      <td>-0.12115964</td>\n",
       "      <td>-1.0542692</td>\n",
       "      <td>0.3623377</td>\n",
       "      <td>-1.9780408</td>\n",
       "      <td>1.7840546</td>\n",
       "      <td>0.14289209</td>\n",
       "      <td>-1.3508688</td>\n",
       "      <td>...</td>\n",
       "      <td>-0.9699697</td>\n",
       "      <td>0.35929444</td>\n",
       "      <td>-0.23616593</td>\n",
       "      <td>0.46097195</td>\n",
       "      <td>1.2400489</td>\n",
       "      <td>-1.0489743</td>\n",
       "      <td>-0.8250047</td>\n",
       "      <td>-0.35909483</td>\n",
       "      <td>0.49815482</td>\n",
       "      <td>-0.35876524</td>\n",
       "    </tr>\n",
       "    <tr>\n",
       "      <th>21</th>\n",
       "      <td>Squirtle</td>\n",
       "      <td>-0.70449066</td>\n",
       "      <td>0.5226152</td>\n",
       "      <td>0.52037406</td>\n",
       "      <td>0.40242833</td>\n",
       "      <td>1.6210052</td>\n",
       "      <td>1.095229</td>\n",
       "      <td>-0.9136724</td>\n",
       "      <td>-0.7136383</td>\n",
       "      <td>-0.055083577</td>\n",
       "      <td>...</td>\n",
       "      <td>2.2784595</td>\n",
       "      <td>-0.7421647</td>\n",
       "      <td>2.1839583</td>\n",
       "      <td>-1.1524825</td>\n",
       "      <td>0.8615641</td>\n",
       "      <td>-1.3992288</td>\n",
       "      <td>0.008121856</td>\n",
       "      <td>0.8386317</td>\n",
       "      <td>0.6035251</td>\n",
       "      <td>0.11272836</td>\n",
       "    </tr>\n",
       "    <tr>\n",
       "      <th>22</th>\n",
       "      <td>Pidgey</td>\n",
       "      <td>-0.48917177</td>\n",
       "      <td>1.9478629</td>\n",
       "      <td>-0.608208</td>\n",
       "      <td>0.6925402</td>\n",
       "      <td>0.2769832</td>\n",
       "      <td>-0.34133285</td>\n",
       "      <td>-0.08622376</td>\n",
       "      <td>-0.051412906</td>\n",
       "      <td>2.1727467</td>\n",
       "      <td>...</td>\n",
       "      <td>0.43036607</td>\n",
       "      <td>2.0214536</td>\n",
       "      <td>0.9657928</td>\n",
       "      <td>-0.2927167</td>\n",
       "      <td>1.2408783</td>\n",
       "      <td>-1.8540484</td>\n",
       "      <td>-1.1437551</td>\n",
       "      <td>0.098825485</td>\n",
       "      <td>-1.1873556</td>\n",
       "      <td>0.066672124</td>\n",
       "    </tr>\n",
       "    <tr>\n",
       "      <th>23</th>\n",
       "      <td>Clefairy</td>\n",
       "      <td>1.8678567</td>\n",
       "      <td>-0.29103643</td>\n",
       "      <td>-0.35497016</td>\n",
       "      <td>0.5338022</td>\n",
       "      <td>0.41883644</td>\n",
       "      <td>-0.657561</td>\n",
       "      <td>0.6173084</td>\n",
       "      <td>1.6350528</td>\n",
       "      <td>0.70298254</td>\n",
       "      <td>...</td>\n",
       "      <td>1.8623236</td>\n",
       "      <td>0.8446569</td>\n",
       "      <td>0.019083373</td>\n",
       "      <td>-0.88783765</td>\n",
       "      <td>0.38521776</td>\n",
       "      <td>0.060447056</td>\n",
       "      <td>0.75435615</td>\n",
       "      <td>1.155341</td>\n",
       "      <td>-0.11751961</td>\n",
       "      <td>0.40831238</td>\n",
       "    </tr>\n",
       "    <tr>\n",
       "      <th>24</th>\n",
       "      <td>Abra</td>\n",
       "      <td>-0.2084278</td>\n",
       "      <td>-0.42981556</td>\n",
       "      <td>-1.7286899</td>\n",
       "      <td>-0.62809247</td>\n",
       "      <td>0.7991308</td>\n",
       "      <td>0.9439086</td>\n",
       "      <td>-0.5800927</td>\n",
       "      <td>-0.06486237</td>\n",
       "      <td>0.43111566</td>\n",
       "      <td>...</td>\n",
       "      <td>0.78629684</td>\n",
       "      <td>-0.095037</td>\n",
       "      <td>0.19166662</td>\n",
       "      <td>-1.077229</td>\n",
       "      <td>-0.18426555</td>\n",
       "      <td>-0.35728976</td>\n",
       "      <td>1.0061041</td>\n",
       "      <td>0.34222212</td>\n",
       "      <td>-0.058313936</td>\n",
       "      <td>0.5952563</td>\n",
       "    </tr>\n",
       "    <tr>\n",
       "      <th>25</th>\n",
       "      <td>Zubat</td>\n",
       "      <td>-1.1850871</td>\n",
       "      <td>-0.048679143</td>\n",
       "      <td>-0.15724267</td>\n",
       "      <td>1.5009458</td>\n",
       "      <td>-1.2434347</td>\n",
       "      <td>0.33347726</td>\n",
       "      <td>-1.1006733</td>\n",
       "      <td>1.7240994</td>\n",
       "      <td>-0.43291986</td>\n",
       "      <td>...</td>\n",
       "      <td>-0.10690716</td>\n",
       "      <td>-0.91340727</td>\n",
       "      <td>-1.8792161</td>\n",
       "      <td>0.5358849</td>\n",
       "      <td>-1.184887</td>\n",
       "      <td>1.1871511</td>\n",
       "      <td>-0.93336797</td>\n",
       "      <td>-0.4188791</td>\n",
       "      <td>-0.78563863</td>\n",
       "      <td>-0.99565417</td>\n",
       "    </tr>\n",
       "    <tr>\n",
       "      <th>26</th>\n",
       "      <td>Pikachu</td>\n",
       "      <td>-1.2717611</td>\n",
       "      <td>0.4319823</td>\n",
       "      <td>0.4047225</td>\n",
       "      <td>-0.6796325</td>\n",
       "      <td>0.7803267</td>\n",
       "      <td>0.81683195</td>\n",
       "      <td>0.07314189</td>\n",
       "      <td>1.773654</td>\n",
       "      <td>-0.14654204</td>\n",
       "      <td>...</td>\n",
       "      <td>-0.41346884</td>\n",
       "      <td>0.06350315</td>\n",
       "      <td>0.6353053</td>\n",
       "      <td>-1.6056614</td>\n",
       "      <td>-0.9452363</td>\n",
       "      <td>-1.725072</td>\n",
       "      <td>0.59906703</td>\n",
       "      <td>-0.07278243</td>\n",
       "      <td>-0.8042739</td>\n",
       "      <td>-1.4707578</td>\n",
       "    </tr>\n",
       "  </tbody>\n",
       "</table>\n",
       "<p>27 rows × 33 columns</p>\n",
       "</div>"
      ],
      "text/plain": [
       "       Pokemon     feature0      feature1       feature2     feature3  \\\n",
       "0    Bulbasaur   0.17687559   0.024490204    -0.50628775   -1.2525038   \n",
       "1       Horsea   0.50160503  -0.052333716    -0.72162235   -0.2844305   \n",
       "2      Diglett    1.8617153     0.6258642    -0.37693298    -0.962984   \n",
       "3       Machop    -1.734448     0.9112116  -0.0103130555   -1.1500183   \n",
       "4         Jynx   0.16977404   -0.31782755      2.0838876  -0.10405868   \n",
       "5        Ekans    0.9169523    0.57527965     0.17755954   -1.0212435   \n",
       "6      Omanyte   -1.2017866    -1.3865502    0.010524895    0.8308205   \n",
       "7      Dratini    0.9619821     0.8289142     0.44197032    0.1157149   \n",
       "8    Sandshrew   0.59780735     1.0638479     -1.5356622   0.83801603   \n",
       "9       Gastly    1.0762061    0.19005162     -0.4748596   -0.6033796   \n",
       "10     Poliwag  -0.37125742    -1.4916725      0.9659796   -0.8601303   \n",
       "11      Meowth   0.34559482    0.12310427     -0.4082616  -0.08713963   \n",
       "12    Slowpoke   0.17736122    -0.3965285     -1.0970916   -0.8600239   \n",
       "13  Charmander   -2.1695962    -0.3979155     0.24832188    0.3915601   \n",
       "14     Rattata   0.63156176      0.540774   -5.99882e-05    1.2023705   \n",
       "15      Cubone   0.13731681    0.78035563      0.4434512  -0.45325166   \n",
       "16      Mankey    0.3218434     1.1830454      0.6061453   -0.6616999   \n",
       "17      Lapras    -1.638478    0.36087346     -1.3956323   0.47378406   \n",
       "18      Tauros    1.1344376   -0.10572074     -0.7689436  -0.56776404   \n",
       "19      Grimer   0.81400174     0.2709388    -0.87474257   0.59370255   \n",
       "20  Jigglypuff  0.012248228   -0.29784027    -0.12115964   -1.0542692   \n",
       "21    Squirtle  -0.70449066     0.5226152     0.52037406   0.40242833   \n",
       "22      Pidgey  -0.48917177     1.9478629      -0.608208    0.6925402   \n",
       "23    Clefairy    1.8678567   -0.29103643    -0.35497016    0.5338022   \n",
       "24        Abra   -0.2084278   -0.42981556     -1.7286899  -0.62809247   \n",
       "25       Zubat   -1.1850871  -0.048679143    -0.15724267    1.5009458   \n",
       "26     Pikachu   -1.2717611     0.4319823      0.4047225   -0.6796325   \n",
       "\n",
       "       feature4     feature5     feature6      feature7      feature8  ...  \\\n",
       "0    -1.4793936    1.0133803    1.1863556    -1.3092211      1.224058  ...   \n",
       "1     0.9227157    -1.268923    -1.893838     1.7991768    0.07110891  ...   \n",
       "2     0.4031467   0.96387386   -1.2150754    0.21703443    -1.5315976  ...   \n",
       "3     1.8228387  -0.35708907   0.69031984     1.0048807    -1.3362563  ...   \n",
       "4     -0.441825    0.4825044   -1.4839125    0.65666497     1.0133198  ...   \n",
       "5   -0.63317186    0.6748327  -0.40157053    -0.6756476    0.48767412  ...   \n",
       "6   -0.98774487    2.2829974  -0.85838646     0.5336561   -0.89318746  ...   \n",
       "7    -1.0347346   -1.8266635   -1.5952253      0.391958   -0.63300747  ...   \n",
       "8      2.042189     1.102815    1.8964504  -0.026394224     0.4598154  ...   \n",
       "9    -1.1889092    0.1027327   -1.0556252    0.17379014     -1.482441  ...   \n",
       "10   -1.5138841    1.6202813    1.7761354    0.58012456   -0.78179586  ...   \n",
       "11   -1.4277438   -0.9544706   -2.2178555    0.31473437     -0.245194  ...   \n",
       "12    0.9644214   -0.8578567     0.728908    0.47099006    -1.6538222  ...   \n",
       "13  -0.14565863   0.40288204    0.8655652      1.435693    -1.6343083  ...   \n",
       "14   0.70228434    2.3683105    0.0935168    -1.1949658  -0.019744786  ...   \n",
       "15   -1.9533792   0.40458855  -0.41580224    0.06810712    -1.1852697  ...   \n",
       "16    -1.117924    -0.719454   0.15207897    0.14978607    0.42215163  ...   \n",
       "17    0.8838819    2.4230065  -0.92905897   -0.25388572      0.673229  ...   \n",
       "18  -0.77039313   -1.1726149    1.4894007     1.0036805     0.5383515  ...   \n",
       "19   -1.3940386     0.814188    0.4824944     0.8047437   -0.07600975  ...   \n",
       "20    0.3623377   -1.9780408    1.7840546    0.14289209    -1.3508688  ...   \n",
       "21    1.6210052     1.095229   -0.9136724    -0.7136383  -0.055083577  ...   \n",
       "22    0.2769832  -0.34133285  -0.08622376  -0.051412906     2.1727467  ...   \n",
       "23   0.41883644    -0.657561    0.6173084     1.6350528    0.70298254  ...   \n",
       "24    0.7991308    0.9439086   -0.5800927   -0.06486237    0.43111566  ...   \n",
       "25   -1.2434347   0.33347726   -1.1006733     1.7240994   -0.43291986  ...   \n",
       "26    0.7803267   0.81683195   0.07314189      1.773654   -0.14654204  ...   \n",
       "\n",
       "       feature22    feature23    feature24    feature25    feature26  \\\n",
       "0     -1.3241771    0.8347122    0.2915816   -1.0201617  -0.13914987   \n",
       "1     -1.8538722   -1.1090361  -0.51688725   0.94767845    0.3200832   \n",
       "2      -0.855032    -1.204082     2.021872    -1.172745    1.0385303   \n",
       "3      1.8215848   -0.9245115  -0.58110285   0.38813654    0.5421947   \n",
       "4     0.25001767   -0.5713662   -1.2754053    0.9463739  0.116124585   \n",
       "5     0.20240839   -1.1831149    1.4030733   -1.1696807  0.019143026   \n",
       "6      0.3078906   -0.8083978    1.1069069    -0.044499    0.9760075   \n",
       "7   -0.044398014   -0.6738184   -1.8889769   -1.4793231   0.22182064   \n",
       "8     0.25026536   0.12917332   0.42590457    1.1426245    1.6240981   \n",
       "9     -1.3821144  -0.08625781   -1.4989439   0.36263296    1.5551361   \n",
       "10    0.56253064   0.64184916    0.6375585   -0.6157403  -0.31847614   \n",
       "11    -0.5407653   0.61464405    1.5282265    1.5190033   -0.2869417   \n",
       "12     0.1754587    0.9595963    0.9308552     1.190663   -0.5507732   \n",
       "13   -0.80087656  -0.28238294    1.8985442   0.97767204  -0.36665705   \n",
       "14     0.9924966    0.4422957   -0.9025131    1.0271602    1.3185273   \n",
       "15    -1.8375388    -1.269695   0.92644763   -1.0224274   -0.5079418   \n",
       "16     1.1731802   -1.2699945   0.63674974  -0.13451119   -0.5639483   \n",
       "17     -0.614376   0.18502058   0.72296315   0.41478088    -1.466864   \n",
       "18    -0.7674477   0.46295634    0.6324071    1.9382565   0.44037127   \n",
       "19      1.487539   -0.5340778    -1.048346    -1.686041   0.61144185   \n",
       "20    -0.9699697   0.35929444  -0.23616593   0.46097195    1.2400489   \n",
       "21     2.2784595   -0.7421647    2.1839583   -1.1524825    0.8615641   \n",
       "22    0.43036607    2.0214536    0.9657928   -0.2927167    1.2408783   \n",
       "23     1.8623236    0.8446569  0.019083373  -0.88783765   0.38521776   \n",
       "24    0.78629684    -0.095037   0.19166662    -1.077229  -0.18426555   \n",
       "25   -0.10690716  -0.91340727   -1.8792161    0.5358849    -1.184887   \n",
       "26   -0.41346884   0.06350315    0.6353053   -1.6056614   -0.9452363   \n",
       "\n",
       "      feature27    feature28       feature29     feature30     feature31  \n",
       "0     2.1263063   0.67592746       1.2042753   -0.11000679      0.995182  \n",
       "1   -0.53993887   -1.2173096       1.3094885   -0.14725831     -0.549346  \n",
       "2    0.75971794    0.5892226      0.21744387    0.83093077   -0.65067315  \n",
       "3    0.44924128    -0.308982      -0.5190005     0.8954896     0.8528619  \n",
       "4    -1.3456299    0.9362266        1.057473     0.4868618     -1.238626  \n",
       "5    -2.2963057   -1.3410696      -0.4034059     0.2714479     0.4763996  \n",
       "6    0.08651217     1.859705      -1.0822778    0.14737391     0.5174232  \n",
       "7    -1.7202965   -0.6081212       0.4508679   -0.35451972    0.52672637  \n",
       "8    0.43540448    1.7825011       2.1881428  -0.087539114    0.88699275  \n",
       "9    -1.6186142  -0.20949243       1.4200637    -0.7795878    0.13535424  \n",
       "10  -0.37403002  0.023415409        2.695661     1.5629156    0.21839151  \n",
       "11    -1.302833    1.3359457      0.80175716     0.9549588    0.54740304  \n",
       "12    1.7380623   -1.4496232       1.0592273    0.48631653    -1.0231308  \n",
       "13  -0.60911894   0.76844823     -0.10975302    -2.0941045    -1.3700213  \n",
       "14  -0.83548975   0.11298313       1.3799134   -0.18408136  -0.049567908  \n",
       "15   0.88753736   -1.3944767      -1.1354717    -1.8138498    0.49113986  \n",
       "16   0.91742134  -0.62174517    -0.109530084     1.4575919    -0.3090423  \n",
       "17   -0.9268933   0.67128813       -2.733398     2.8700604    -1.5890986  \n",
       "18   -2.6165578  -0.30927804       0.7737272    -1.5061389     2.0120943  \n",
       "19    2.5109746  -0.30542833  -0.00021290513    0.12672418    -0.6409484  \n",
       "20   -1.0489743   -0.8250047     -0.35909483    0.49815482   -0.35876524  \n",
       "21   -1.3992288  0.008121856       0.8386317     0.6035251    0.11272836  \n",
       "22   -1.8540484   -1.1437551     0.098825485    -1.1873556   0.066672124  \n",
       "23  0.060447056   0.75435615        1.155341   -0.11751961    0.40831238  \n",
       "24  -0.35728976    1.0061041      0.34222212  -0.058313936     0.5952563  \n",
       "25    1.1871511  -0.93336797      -0.4188791   -0.78563863   -0.99565417  \n",
       "26    -1.725072   0.59906703     -0.07278243    -0.8042739    -1.4707578  \n",
       "\n",
       "[27 rows x 33 columns]"
      ]
     },
     "execution_count": 20,
     "metadata": {},
     "output_type": "execute_result"
    }
   ],
   "source": [
    "columns = ['Pokemon']\n",
    "for i in range(EMDEDDING_DIM):\n",
    "    columns.append('feature'+str(i))\n",
    "df_embed = pd.DataFrame(embed_data, columns = columns)\n",
    "df_embed"
   ]
  },
  {
   "cell_type": "code",
   "execution_count": 21,
   "metadata": {},
   "outputs": [],
   "source": [
    "df_embed.to_csv(r'Data/pokemon_small_embeddings.csv', index=False)"
   ]
  },
  {
   "cell_type": "code",
   "execution_count": null,
   "metadata": {},
   "outputs": [],
   "source": []
  }
 ],
 "metadata": {
  "kernelspec": {
   "display_name": "Python 3",
   "language": "python",
   "name": "python3"
  },
  "language_info": {
   "codemirror_mode": {
    "name": "ipython",
    "version": 3
   },
   "file_extension": ".py",
   "mimetype": "text/x-python",
   "name": "python",
   "nbconvert_exporter": "python",
   "pygments_lexer": "ipython3",
   "version": "3.8.5"
  }
 },
 "nbformat": 4,
 "nbformat_minor": 4
}
